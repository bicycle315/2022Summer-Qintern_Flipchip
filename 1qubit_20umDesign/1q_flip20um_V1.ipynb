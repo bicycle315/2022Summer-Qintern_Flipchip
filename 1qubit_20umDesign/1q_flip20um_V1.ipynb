{
 "cells": [
  {
   "cell_type": "code",
   "execution_count": 1,
   "metadata": {},
   "outputs": [],
   "source": [
    "import warnings\n",
    "warnings.filterwarnings(\"ignore\")\n",
    "%load_ext autoreload\n",
    "%autoreload 2\n",
    "from qiskit_metal import Dict, MetalGUI, designs\n",
    "from qiskit_metal.qlibrary.qubits.transmon_pocket import TransmonPocket\n",
    "from qiskit_metal.qlibrary.qubits.transmon_pocket_6 import TransmonPocket6\n",
    "from qiskit_metal.qlibrary.tlines.meandered import RouteMeander\n",
    "from qiskit_metal.qlibrary.tlines.straight_path import RouteStraight\n",
    "from qiskit_metal.qlibrary.terminations.launchpad_wb_coupled import LaunchpadWirebondCoupled\n",
    "from qiskit_metal.qlibrary.couplers.coupled_line_tee import CoupledLineTee\n",
    "from qiskit_metal.qlibrary.user_components.left_coupler import LeftCoupler\n",
    "from qiskit_metal.qlibrary.user_components.right_coupler import RightCoupler\n",
    "from qiskit_metal.qlibrary.user_components.straightdown_coupler import StraightDownCoupler\n",
    "from qiskit_metal.qlibrary.user_components.straightup_coupler import StraightUpCoupler"
   ]
  },
  {
   "cell_type": "code",
   "execution_count": 2,
   "metadata": {},
   "outputs": [],
   "source": [
    "design = designs.DesignFlipChip({}, overwrite_enabled=True)\n",
    "gui = MetalGUI(design)"
   ]
  },
  {
   "cell_type": "code",
   "execution_count": 3,
   "metadata": {},
   "outputs": [],
   "source": [
    "design.delete_all_components()"
   ]
  },
  {
   "cell_type": "code",
   "execution_count": 30,
   "metadata": {},
   "outputs": [
    {
     "data": {
      "text/plain": [
       "'5um'"
      ]
     },
     "execution_count": 30,
     "metadata": {},
     "output_type": "execute_result"
    }
   ],
   "source": [
    "design.get_chip_z('Q_chip')"
   ]
  },
  {
   "cell_type": "code",
   "execution_count": 3,
   "metadata": {},
   "outputs": [],
   "source": [
    "design.chips['C_chip'].size['size_x']='8mm'\n",
    "design.chips['C_chip'].size['size_y']='8mm'\n",
    "design.chips['Q_chip'].size['size_x']='8mm'\n",
    "design.chips['Q_chip'].size['size_y']='8mm'\n",
    "design.chips['Q_chip'].size['center_z']='20um'"
   ]
  },
  {
   "cell_type": "markdown",
   "metadata": {},
   "source": [
    "# Resonator length"
   ]
  },
  {
   "cell_type": "code",
   "execution_count": 4,
   "metadata": {},
   "outputs": [],
   "source": [
    "from qiskit_metal.analyses.em.cpw_calculations import guided_wavelength\n",
    "\n",
    "def find_resonator_length(frequency, line_width, line_gap, N): \n",
    "    #frequency in GHz\n",
    "    #line_width/line_gap in um\n",
    "    #N -> 2 for lambda/2, 4 for lambda/4\n",
    "    \n",
    "    [lambdaG, etfSqrt, q] = guided_wavelength(frequency*10**9, line_width*10**-6,\n",
    "                                              line_gap*10**-6, 750*10**-6, 200*10**-9)\n",
    "    return str(lambdaG/N*10**3)+\" mm\""
   ]
  },
  {
   "cell_type": "code",
   "execution_count": 24,
   "metadata": {},
   "outputs": [
    {
     "name": "stdout",
     "output_type": "stream",
     "text": [
      "[8.973254683870284, 8.74478833984142, 8.52834654020913]\n"
     ]
    }
   ],
   "source": [
    "resonator_length_2=[]\n",
    "for i in range(3):\n",
    "    a=find_resonator_length(7.2+i*0.2,10,6,2)\n",
    "    a=a.strip('mm')\n",
    "    a=float(a)-0.35\n",
    "    resonator_length_2.append(a)\n",
    "print(resonator_length_2)\n"
   ]
  },
  {
   "cell_type": "markdown",
   "metadata": {},
   "source": [
    "# Flipchip"
   ]
  },
  {
   "cell_type": "code",
   "execution_count": 16,
   "metadata": {},
   "outputs": [],
   "source": [
    "cp0 = dict(down = dict(loc_W=1, loc_H=-1, pad_width='120um'))\n",
    "\n",
    "# q0=[TransmonPocket6(design, 'Q0', options=dict(pos_x='-2000um',\n",
    "#                                             pos_y='-2000um',\n",
    "#                                             chip='Q_chip',\n",
    "#                                             connection_pads=cp0))]\n",
    "q0=[TransmonPocket6(design, 'Q0', options=dict(pos_x='-2000um',\n",
    "                                            pos_y='-2000um',\n",
    "                                            chip='Q_chip'))]\n",
    "\n",
    "qubits=q0\n",
    "\n",
    "q0x=float(qubits[0].options.pos_x.strip('um'))\n",
    "q0y=float(qubits[0].options.pos_y.strip('um'))\n",
    "\n",
    "\n",
    "c0 = LeftCoupler(design, \"c0\", options=dict(pos_x=f\"{q0x-150}um\",\n",
    "                                              pos_y=f\"{q0y+140}um\",\n",
    "                                              pad_width=\"150um\",\n",
    "                                              pad_height=\"30um\",\n",
    "                                              cpw_stub_height=\"200um\",\n",
    "                                              chip=\"C_chip\"))\n",
    "\n",
    "design.rebuild()\n",
    "gui.rebuild()\n",
    "gui.autoscale()"
   ]
  },
  {
   "cell_type": "code",
   "execution_count": 17,
   "metadata": {},
   "outputs": [],
   "source": [
    "lpL=LaunchpadWirebondCoupled(design, 'lpL',\n",
    "                                         options = dict(chip=\"C_chip\",\n",
    "                                         pos_x = '-3000um',\n",
    "                                         pos_y = '2000um',\n",
    "                                         lead_length = '30um'))\n",
    "lpR=LaunchpadWirebondCoupled(design, 'lpR',\n",
    "                                         options = dict(chip=\"C_chip\",\n",
    "                                         pos_x = '3000um',\n",
    "                                         pos_y = '2000um',\n",
    "                                         orientation='180',\n",
    "                                         lead_length = '30um'))"
   ]
  },
  {
   "cell_type": "code",
   "execution_count": 18,
   "metadata": {},
   "outputs": [],
   "source": [
    "clt0 = CoupledLineTee(design, \"clt0\", \n",
    "                        options=dict(pos_x='-2000um',\n",
    "                                    pos_y='2000um', \n",
    "                                    coupling_length='300um',\n",
    "                                    chip=\"C_chip\",\n",
    "                                    down_length='300um',\n",
    "                                    fillet='99um',\n",
    "                                    coupling_space='5um',\n",
    "                                    mirror=True,\n",
    "                                    open_termination=True))\n",
    "\n"
   ]
  },
  {
   "cell_type": "code",
   "execution_count": 19,
   "metadata": {},
   "outputs": [],
   "source": [
    "fl0=RouteStraight(design, 'fl0',options=Dict(chip=\"C_chip\", pin_inputs=Dict(start_pin=Dict(\n",
    "                                                            component='lpL',\n",
    "                                                            pin='tie'),\n",
    "                                                            end_pin=Dict(\n",
    "                                                            component='clt0',\n",
    "                                                            pin='prime_start'))))\n",
    "fl1=RouteStraight(design, 'fl1',options=Dict(chip=\"C_chip\",pin_inputs=Dict(start_pin=Dict(\n",
    "                                                            component='clt0',\n",
    "                                                            pin='prime_end'),\n",
    "                                                            end_pin=Dict(\n",
    "                                                            component='lpR',\n",
    "                                                            pin='tie'))))\n"
   ]
  },
  {
   "cell_type": "markdown",
   "metadata": {},
   "source": [
    "# Readout resonator"
   ]
  },
  {
   "cell_type": "code",
   "execution_count": 20,
   "metadata": {},
   "outputs": [],
   "source": [
    "from collections import OrderedDict\n",
    "jogs=OrderedDict()\n",
    "def connect(component_name: str, component1: str, pin1: str, component2: str, pin2: str,\n",
    "            length: str, start_jogged_extension: OrderedDict, end_jogged_extension: OrderedDict,\n",
    "            spacing: str, asymmetry='0 um',  start_straight='0 um', end_straight='0 um', flip=False):\n",
    "    \"\"\"Connect two pins with a CPW.\"\"\"\n",
    "    myoptions = Dict(\n",
    "        chip=\"C_chip\",\n",
    "        pin_inputs=Dict(\n",
    "            start_pin=Dict(\n",
    "                component=component1,\n",
    "                pin=pin1),\n",
    "            end_pin=Dict(\n",
    "                component=component2,\n",
    "                pin=pin2)),\n",
    "        lead=Dict(\n",
    "            start_straight=start_straight,\n",
    "            end_straight=end_straight,\n",
    "            start_jogged_extension=start_jogged_extension,\n",
    "            end_jogged_extension=end_jogged_extension),\n",
    "        total_length=length,\n",
    "        fillet = '99.9um',\n",
    "        meander=dict(asymmetry=asymmetry,\n",
    "                     spacing=spacing))\n",
    "    myoptions.meander.lead_direction_inverted = 'true' if flip else 'false'\n",
    "    return RouteMeander(design, component_name, myoptions)"
   ]
  },
  {
   "cell_type": "code",
   "execution_count": 21,
   "metadata": {},
   "outputs": [],
   "source": [
    "rr0=connect('rr0', 'clt0', 'second_end', 'c0', 'in',\n",
    "            resonator_length_2[1],jogs,jogs, \n",
    "            '400um','0um', '100um', '100um')"
   ]
  },
  {
   "cell_type": "markdown",
   "metadata": {},
   "source": [
    "# EPR Analysis"
   ]
  },
  {
   "cell_type": "code",
   "execution_count": 13,
   "metadata": {},
   "outputs": [],
   "source": [
    "from qiskit_metal.analyses.quantization import EPRanalysis\n",
    "eig_rd = EPRanalysis(design, \"hfss\")\n",
    "hfss = eig_rd.sim.renderer"
   ]
  },
  {
   "cell_type": "code",
   "execution_count": 14,
   "metadata": {},
   "outputs": [
    {
     "name": "stderr",
     "output_type": "stream",
     "text": [
      "INFO 11:15AM [connect_project]: Connecting to Ansys Desktop API...\n",
      "INFO 11:15AM [load_ansys_project]: \tOpened Ansys App\n",
      "INFO 11:15AM [load_ansys_project]: \tOpened Ansys Desktop v2018.0.0\n",
      "INFO 11:15AM [load_ansys_project]: \tOpened Ansys Project\n",
      "\tFolder:    C:/Users/kimje/Documents/Ansoft/\n",
      "\tProject:   Project25\n",
      "INFO 11:15AM [connect_design]: No active design found (or error getting active design).\n",
      "INFO 11:15AM [connect]: \t Connected to project \"Project25\". No design detected\n"
     ]
    },
    {
     "data": {
      "text/plain": [
       "True"
      ]
     },
     "execution_count": 14,
     "metadata": {},
     "output_type": "execute_result"
    }
   ],
   "source": [
    "hfss.start()"
   ]
  },
  {
   "cell_type": "code",
   "execution_count": 22,
   "metadata": {},
   "outputs": [
    {
     "name": "stderr",
     "output_type": "stream",
     "text": [
      "11:19AM 27s WARNING [activate_ansys_design]: The design_name=flip20_res_coup was not in active project.  Designs in active project are: \n",
      "[].  A new design will be added to the project.  \n",
      "INFO 11:19AM [connect_design]: \tOpened active design\n",
      "\tDesign:    flip20_res_coup [Solution type: Eigenmode]\n",
      "WARNING 11:19AM [connect_setup]: \tNo design setup detected.\n",
      "WARNING 11:19AM [connect_setup]: \tCreating eigenmode default setup.\n",
      "INFO 11:19AM [get_setup]: \tOpened setup `Setup`  (<class 'pyEPR.ansys.HfssEMSetup'>)\n"
     ]
    }
   ],
   "source": [
    "hfss.activate_ansys_design(\"flip20_res_coup\", 'eigenmode')\n",
    "hfss.render_design(['Q0','c0','lpL','lpR','clt0','rr0','fl0','fl1'],\n",
    "                    [('clt0','prime_end')],\n",
    "                    box_plus_buffer=False)"
   ]
  },
  {
   "cell_type": "code",
   "execution_count": 21,
   "metadata": {},
   "outputs": [
    {
     "ename": "NameError",
     "evalue": "name 'hfss' is not defined",
     "output_type": "error",
     "traceback": [
      "\u001b[1;31m---------------------------------------------------------------------------\u001b[0m",
      "\u001b[1;31mNameError\u001b[0m                                 Traceback (most recent call last)",
      "\u001b[1;32mc:\\Users\\kimje\\Desktop\\Project\\Qintern\\1q_flip5um_V1.ipynb 셀 21\u001b[0m in \u001b[0;36m<module>\u001b[1;34m\u001b[0m\n\u001b[1;32m----> <a href='vscode-notebook-cell:/c%3A/Users/kimje/Desktop/Project/Qintern/1q_flip5um_V1.ipynb#X26sZmlsZQ%3D%3D?line=0'>1</a>\u001b[0m hfss\u001b[39m.\u001b[39mclose()\n",
      "\u001b[1;31mNameError\u001b[0m: name 'hfss' is not defined"
     ]
    }
   ],
   "source": [
    "hfss.close()"
   ]
  },
  {
   "cell_type": "markdown",
   "metadata": {},
   "source": [
    "# LOM Analysis"
   ]
  },
  {
   "cell_type": "code",
   "execution_count": 22,
   "metadata": {},
   "outputs": [],
   "source": [
    "from qiskit_metal.analyses.quantization import LOManalysis\n",
    "c1 = LOManalysis(design, \"q3d\")\n"
   ]
  },
  {
   "cell_type": "code",
   "execution_count": 23,
   "metadata": {},
   "outputs": [
    {
     "data": {
      "text/plain": [
       "{'name': 'Setup',\n",
       " 'reuse_selected_design': True,\n",
       " 'reuse_setup': True,\n",
       " 'freq_ghz': '5.49',\n",
       " 'save_fields': False,\n",
       " 'enabled': True,\n",
       " 'max_passes': 10,\n",
       " 'min_passes': 2,\n",
       " 'min_converged_passes': 2,\n",
       " 'percent_error': 0.5,\n",
       " 'percent_refinement': 30,\n",
       " 'auto_increase_solution_order': 'False',\n",
       " 'solution_order': 'Medium',\n",
       " 'solver_type': 'Iterative'}"
      ]
     },
     "execution_count": 23,
     "metadata": {},
     "output_type": "execute_result"
    }
   ],
   "source": [
    "c1.sim.setup.max_passes = 10\n",
    "c1.sim.setup_update(freq_ghz='5.49',solution_order = 'Medium', auto_increase_solution_order = 'False')\n",
    "c1.sim.setup"
   ]
  },
  {
   "cell_type": "code",
   "execution_count": 25,
   "metadata": {},
   "outputs": [
    {
     "name": "stderr",
     "output_type": "stream",
     "text": [
      "INFO 11:27PM [get_matrix]: Exporting matrix data to (C:\\Users\\kimje\\AppData\\Local\\Temp\\tmp0am9fdnd.txt, C, , Setup:LastAdaptive, \"Original\", \"ohm\", \"nH\", \"fF\", \"mSie\", 5490000000, Maxwell, 1, False\n",
      "INFO 11:27PM [get_matrix]: Exporting matrix data to (C:\\Users\\kimje\\AppData\\Local\\Temp\\tmp9ijvi1v0.txt, C, , Setup:AdaptivePass, \"Original\", \"ohm\", \"nH\", \"fF\", \"mSie\", 5490000000, Maxwell, 1, False\n",
      "INFO 11:27PM [get_matrix]: Exporting matrix data to (C:\\Users\\kimje\\AppData\\Local\\Temp\\tmp1ry6z8bo.txt, C, , Setup:AdaptivePass, \"Original\", \"ohm\", \"nH\", \"fF\", \"mSie\", 5490000000, Maxwell, 2, False\n",
      "INFO 11:27PM [get_matrix]: Exporting matrix data to (C:\\Users\\kimje\\AppData\\Local\\Temp\\tmplcimro6f.txt, C, , Setup:AdaptivePass, \"Original\", \"ohm\", \"nH\", \"fF\", \"mSie\", 5490000000, Maxwell, 3, False\n",
      "INFO 11:27PM [get_matrix]: Exporting matrix data to (C:\\Users\\kimje\\AppData\\Local\\Temp\\tmpg3lxir9e.txt, C, , Setup:AdaptivePass, \"Original\", \"ohm\", \"nH\", \"fF\", \"mSie\", 5490000000, Maxwell, 4, False\n",
      "INFO 11:27PM [get_matrix]: Exporting matrix data to (C:\\Users\\kimje\\AppData\\Local\\Temp\\tmp87nlbz5t.txt, C, , Setup:AdaptivePass, \"Original\", \"ohm\", \"nH\", \"fF\", \"mSie\", 5490000000, Maxwell, 5, False\n",
      "INFO 11:27PM [get_matrix]: Exporting matrix data to (C:\\Users\\kimje\\AppData\\Local\\Temp\\tmpwfnnzd2n.txt, C, , Setup:AdaptivePass, \"Original\", \"ohm\", \"nH\", \"fF\", \"mSie\", 5490000000, Maxwell, 6, False\n",
      "INFO 11:27PM [get_matrix]: Exporting matrix data to (C:\\Users\\kimje\\AppData\\Local\\Temp\\tmpn0h5dhm2.txt, C, , Setup:AdaptivePass, \"Original\", \"ohm\", \"nH\", \"fF\", \"mSie\", 5490000000, Maxwell, 7, False\n",
      "INFO 11:27PM [get_matrix]: Exporting matrix data to (C:\\Users\\kimje\\AppData\\Local\\Temp\\tmpal7hb4xz.txt, C, , Setup:AdaptivePass, \"Original\", \"ohm\", \"nH\", \"fF\", \"mSie\", 5490000000, Maxwell, 8, False\n",
      "INFO 11:27PM [get_matrix]: Exporting matrix data to (C:\\Users\\kimje\\AppData\\Local\\Temp\\tmp0q47_kwa.txt, C, , Setup:AdaptivePass, \"Original\", \"ohm\", \"nH\", \"fF\", \"mSie\", 5490000000, Maxwell, 9, False\n"
     ]
    },
    {
     "data": {
      "text/html": [
       "<div>\n",
       "<style scoped>\n",
       "    .dataframe tbody tr th:only-of-type {\n",
       "        vertical-align: middle;\n",
       "    }\n",
       "\n",
       "    .dataframe tbody tr th {\n",
       "        vertical-align: top;\n",
       "    }\n",
       "\n",
       "    .dataframe thead th {\n",
       "        text-align: right;\n",
       "    }\n",
       "</style>\n",
       "<table border=\"1\" class=\"dataframe\">\n",
       "  <thead>\n",
       "    <tr style=\"text-align: right;\">\n",
       "      <th></th>\n",
       "      <th>ground</th>\n",
       "      <th>pad_bot_Q0</th>\n",
       "      <th>pad_top_Q0</th>\n",
       "      <th>quad_coupler_c0</th>\n",
       "    </tr>\n",
       "  </thead>\n",
       "  <tbody>\n",
       "    <tr>\n",
       "      <th>ground</th>\n",
       "      <td>291.470</td>\n",
       "      <td>-73.13100</td>\n",
       "      <td>-70.7980</td>\n",
       "      <td>-80.83900</td>\n",
       "    </tr>\n",
       "    <tr>\n",
       "      <th>pad_bot_Q0</th>\n",
       "      <td>-73.131</td>\n",
       "      <td>105.99000</td>\n",
       "      <td>-32.0920</td>\n",
       "      <td>-0.16105</td>\n",
       "    </tr>\n",
       "    <tr>\n",
       "      <th>pad_top_Q0</th>\n",
       "      <td>-70.798</td>\n",
       "      <td>-32.09200</td>\n",
       "      <td>105.7400</td>\n",
       "      <td>-2.15620</td>\n",
       "    </tr>\n",
       "    <tr>\n",
       "      <th>quad_coupler_c0</th>\n",
       "      <td>-80.839</td>\n",
       "      <td>-0.16105</td>\n",
       "      <td>-2.1562</td>\n",
       "      <td>83.49600</td>\n",
       "    </tr>\n",
       "  </tbody>\n",
       "</table>\n",
       "</div>"
      ],
      "text/plain": [
       "                  ground  pad_bot_Q0  pad_top_Q0  quad_coupler_c0\n",
       "ground           291.470   -73.13100    -70.7980        -80.83900\n",
       "pad_bot_Q0       -73.131   105.99000    -32.0920         -0.16105\n",
       "pad_top_Q0       -70.798   -32.09200    105.7400         -2.15620\n",
       "quad_coupler_c0  -80.839    -0.16105     -2.1562         83.49600"
      ]
     },
     "execution_count": 25,
     "metadata": {},
     "output_type": "execute_result"
    }
   ],
   "source": [
    "#c1.sim.run(components=['Q0','c0'], open_terminations=[('c0', 'in')])\n",
    "c1.sim._get_results_from_renderer()\n",
    "c1.sim.capacitance_matrix"
   ]
  },
  {
   "cell_type": "code",
   "execution_count": 26,
   "metadata": {},
   "outputs": [
    {
     "name": "stdout",
     "output_type": "stream",
     "text": [
      "[1, 2] [3]\n",
      "Predicted Values\n",
      "\n",
      "Transmon Properties\n",
      "f_Q 5.419612 [GHz]\n",
      "EC 274.158597 [MHz]\n",
      "EJ 14.854145 [GHz]\n",
      "alpha -312.742707 [MHz]\n",
      "dispersion 5.293163 [KHz]\n",
      "Lq 10.995564 [nH]\n",
      "Cq 70.653367 [fF]\n",
      "T1 624.274788 [us]\n",
      "\n",
      "**Coupling Properties**\n",
      "\n",
      "tCqbus1 -1.000252 [fF]\n",
      "gbus1_in_MHz -12.386594 [MHz]\n",
      "χ_bus1 -0.191271 [MHz]\n",
      "1/T1bus1 254.943730 [Hz]\n",
      "T1bus1 624.274788 [us]\n",
      "Bus-Bus Couplings\n"
     ]
    },
    {
     "data": {
      "text/html": [
       "<div>\n",
       "<style scoped>\n",
       "    .dataframe tbody tr th:only-of-type {\n",
       "        vertical-align: middle;\n",
       "    }\n",
       "\n",
       "    .dataframe tbody tr th {\n",
       "        vertical-align: top;\n",
       "    }\n",
       "\n",
       "    .dataframe thead th {\n",
       "        text-align: right;\n",
       "    }\n",
       "</style>\n",
       "<table border=\"1\" class=\"dataframe\">\n",
       "  <thead>\n",
       "    <tr style=\"text-align: right;\">\n",
       "      <th></th>\n",
       "      <th>fQ</th>\n",
       "      <th>EC</th>\n",
       "      <th>EJ</th>\n",
       "      <th>alpha</th>\n",
       "      <th>dispersion</th>\n",
       "      <th>gbus</th>\n",
       "      <th>chi_in_MHz</th>\n",
       "      <th>χr MHz</th>\n",
       "      <th>gr MHz</th>\n",
       "    </tr>\n",
       "  </thead>\n",
       "  <tbody>\n",
       "    <tr>\n",
       "      <th>1</th>\n",
       "      <td>5.655493</td>\n",
       "      <td>300.119251</td>\n",
       "      <td>14.854145</td>\n",
       "      <td>-345.009143</td>\n",
       "      <td>12.888569</td>\n",
       "      <td>[-52.685736103712884]</td>\n",
       "      <td>[-8.440936264931429]</td>\n",
       "      <td>8.440936</td>\n",
       "      <td>52.685736</td>\n",
       "    </tr>\n",
       "    <tr>\n",
       "      <th>2</th>\n",
       "      <td>5.685177</td>\n",
       "      <td>303.480801</td>\n",
       "      <td>14.854145</td>\n",
       "      <td>-349.218944</td>\n",
       "      <td>14.339471</td>\n",
       "      <td>[-25.28956895237742]</td>\n",
       "      <td>[-2.2439400745562135]</td>\n",
       "      <td>2.243940</td>\n",
       "      <td>25.289569</td>\n",
       "    </tr>\n",
       "    <tr>\n",
       "      <th>3</th>\n",
       "      <td>5.587028</td>\n",
       "      <td>292.44706</td>\n",
       "      <td>14.854145</td>\n",
       "      <td>-335.428276</td>\n",
       "      <td>10.033276</td>\n",
       "      <td>[-19.64141527304513]</td>\n",
       "      <td>[-0.8717683442970101]</td>\n",
       "      <td>0.871768</td>\n",
       "      <td>19.641415</td>\n",
       "    </tr>\n",
       "    <tr>\n",
       "      <th>4</th>\n",
       "      <td>5.574523</td>\n",
       "      <td>291.057877</td>\n",
       "      <td>14.854145</td>\n",
       "      <td>-333.69755</td>\n",
       "      <td>9.578196</td>\n",
       "      <td>[-13.332809385348677]</td>\n",
       "      <td>[-0.3820642273427684]</td>\n",
       "      <td>0.382064</td>\n",
       "      <td>13.332809</td>\n",
       "    </tr>\n",
       "    <tr>\n",
       "      <th>5</th>\n",
       "      <td>5.522541</td>\n",
       "      <td>285.323349</td>\n",
       "      <td>14.854145</td>\n",
       "      <td>-326.566273</td>\n",
       "      <td>7.879348</td>\n",
       "      <td>[-12.003902383975744]</td>\n",
       "      <td>[-0.2542834057903478]</td>\n",
       "      <td>0.254283</td>\n",
       "      <td>12.003902</td>\n",
       "    </tr>\n",
       "    <tr>\n",
       "      <th>6</th>\n",
       "      <td>5.4643</td>\n",
       "      <td>278.975011</td>\n",
       "      <td>14.854145</td>\n",
       "      <td>-318.696316</td>\n",
       "      <td>6.3029</td>\n",
       "      <td>[-11.956418825250873]</td>\n",
       "      <td>[-0.2059840998423562]</td>\n",
       "      <td>0.205984</td>\n",
       "      <td>11.956419</td>\n",
       "    </tr>\n",
       "    <tr>\n",
       "      <th>7</th>\n",
       "      <td>5.435507</td>\n",
       "      <td>275.866301</td>\n",
       "      <td>14.854145</td>\n",
       "      <td>-314.851913</td>\n",
       "      <td>5.634175</td>\n",
       "      <td>[-12.2691975995339]</td>\n",
       "      <td>[-0.19739048227100658]</td>\n",
       "      <td>0.197390</td>\n",
       "      <td>12.269198</td>\n",
       "    </tr>\n",
       "    <tr>\n",
       "      <th>8</th>\n",
       "      <td>5.419612</td>\n",
       "      <td>274.158597</td>\n",
       "      <td>14.854145</td>\n",
       "      <td>-312.742707</td>\n",
       "      <td>5.293163</td>\n",
       "      <td>[-12.386594098471784]</td>\n",
       "      <td>[-0.19127135406641982]</td>\n",
       "      <td>0.191271</td>\n",
       "      <td>12.386594</td>\n",
       "    </tr>\n",
       "  </tbody>\n",
       "</table>\n",
       "</div>"
      ],
      "text/plain": [
       "         fQ          EC         EJ       alpha dispersion  \\\n",
       "1  5.655493  300.119251  14.854145 -345.009143  12.888569   \n",
       "2  5.685177  303.480801  14.854145 -349.218944  14.339471   \n",
       "3  5.587028   292.44706  14.854145 -335.428276  10.033276   \n",
       "4  5.574523  291.057877  14.854145  -333.69755   9.578196   \n",
       "5  5.522541  285.323349  14.854145 -326.566273   7.879348   \n",
       "6    5.4643  278.975011  14.854145 -318.696316     6.3029   \n",
       "7  5.435507  275.866301  14.854145 -314.851913   5.634175   \n",
       "8  5.419612  274.158597  14.854145 -312.742707   5.293163   \n",
       "\n",
       "                    gbus              chi_in_MHz    χr MHz     gr MHz  \n",
       "1  [-52.685736103712884]    [-8.440936264931429]  8.440936  52.685736  \n",
       "2   [-25.28956895237742]   [-2.2439400745562135]  2.243940  25.289569  \n",
       "3   [-19.64141527304513]   [-0.8717683442970101]  0.871768  19.641415  \n",
       "4  [-13.332809385348677]   [-0.3820642273427684]  0.382064  13.332809  \n",
       "5  [-12.003902383975744]   [-0.2542834057903478]  0.254283  12.003902  \n",
       "6  [-11.956418825250873]   [-0.2059840998423562]  0.205984  11.956419  \n",
       "7    [-12.2691975995339]  [-0.19739048227100658]  0.197390  12.269198  \n",
       "8  [-12.386594098471784]  [-0.19127135406641982]  0.191271  12.386594  "
      ]
     },
     "execution_count": 26,
     "metadata": {},
     "output_type": "execute_result"
    }
   ],
   "source": [
    "c1.setup.junctions = Dict({'Lj': 11, 'Cj': 2})\n",
    "c1.setup.freq_readout = 5.99\n",
    "c1.setup.freq_bus = []\n",
    "c1.run_lom()\n",
    "c1.lumped_oscillator_all"
   ]
  },
  {
   "cell_type": "code",
   "execution_count": 27,
   "metadata": {},
   "outputs": [
    {
     "name": "stdout",
     "output_type": "stream",
     "text": [
      "Warning! 6 COM references still alive\n",
      "Ansys will likely refuse to shut down\n"
     ]
    }
   ],
   "source": [
    "c1.sim.close()"
   ]
  },
  {
   "cell_type": "code",
   "execution_count": null,
   "metadata": {},
   "outputs": [],
   "source": []
  }
 ],
 "metadata": {
  "kernelspec": {
   "display_name": "Python 3.9.10 ('metal')",
   "language": "python",
   "name": "python3"
  },
  "language_info": {
   "codemirror_mode": {
    "name": "ipython",
    "version": 3
   },
   "file_extension": ".py",
   "mimetype": "text/x-python",
   "name": "python",
   "nbconvert_exporter": "python",
   "pygments_lexer": "ipython3",
   "version": "3.9.10"
  },
  "orig_nbformat": 4,
  "vscode": {
   "interpreter": {
    "hash": "ac951534856e2c23f9f162419ca8ae29ffbc7967cf243c458d1cebaa12df0b5c"
   }
  }
 },
 "nbformat": 4,
 "nbformat_minor": 2
}
