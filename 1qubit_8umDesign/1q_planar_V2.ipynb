{
 "cells": [
  {
   "cell_type": "code",
   "execution_count": 1,
   "metadata": {},
   "outputs": [],
   "source": [
    "import warnings\n",
    "warnings.filterwarnings(\"ignore\")\n",
    "%load_ext autoreload\n",
    "%autoreload 2\n",
    "from qiskit_metal import Dict, MetalGUI, designs\n",
    "\n",
    "from qiskit_metal.qlibrary.qubits.transmon_pocket import TransmonPocket\n",
    "from qiskit_metal.qlibrary.qubits.transmon_pocket_6 import TransmonPocket6\n",
    "from qiskit_metal.qlibrary.tlines.meandered import RouteMeander\n",
    "from qiskit_metal.qlibrary.tlines.straight_path import RouteStraight\n",
    "from qiskit_metal.qlibrary.terminations.launchpad_wb_coupled import LaunchpadWirebondCoupled\n",
    "from qiskit_metal.qlibrary.terminations.short_to_ground import ShortToGround\n",
    "from qiskit_metal.qlibrary.couplers.coupled_line_tee import CoupledLineTee\n",
    "from qiskit_metal.qlibrary.user_components.left_coupler import LeftCoupler\n",
    "from qiskit_metal.qlibrary.user_components.right_coupler import RightCoupler\n",
    "from qiskit_metal.qlibrary.user_components.straightdown_coupler import StraightDownCoupler\n",
    "from qiskit_metal.qlibrary.user_components.straightup_coupler import StraightUpCoupler"
   ]
  },
  {
   "cell_type": "code",
   "execution_count": 36,
   "metadata": {},
   "outputs": [],
   "source": [
    "design = designs.DesignPlanar({}, overwrite_enabled=True)\n",
    "gui = MetalGUI(design)\n",
    "design.chips.main.size['size_x']='6mm'\n",
    "design.chips.main.size['size_y']='6mm'"
   ]
  },
  {
   "cell_type": "code",
   "execution_count": 3,
   "metadata": {},
   "outputs": [
    {
     "data": {
      "text/plain": [
       "{'main': {'material': 'silicon',\n",
       "  'layer_start': '0',\n",
       "  'layer_end': '2048',\n",
       "  'size': {'center_x': '0.0mm',\n",
       "   'center_y': '0.0mm',\n",
       "   'center_z': '0.0mm',\n",
       "   'size_x': '6mm',\n",
       "   'size_y': '6mm',\n",
       "   'size_z': '-750um',\n",
       "   'sample_holder_top': '890um',\n",
       "   'sample_holder_bottom': '1650um'}}}"
      ]
     },
     "execution_count": 3,
     "metadata": {},
     "output_type": "execute_result"
    }
   ],
   "source": [
    "design.chips"
   ]
  },
  {
   "cell_type": "code",
   "execution_count": 37,
   "metadata": {},
   "outputs": [],
   "source": [
    "\n",
    "cp0 = dict(down = dict(loc_W=1, loc_H=-1, pad_width='120um'))\n",
    "\n",
    "\n",
    "# q0=[TransmonPocket6(design, 'Q0', options=dict(pos_x='-2000um',\n",
    "#                                             pos_y='-2000um',\n",
    "#                                             chip='main',\n",
    "#                                             connection_pads=cp0))]\n",
    "q0=[TransmonPocket6(design, 'Q0', options=dict(pos_x='-1300um',\n",
    "                                            pos_y='-470um',\n",
    "                                            chip='main'))]\n",
    "                                            \n",
    "qubits=q0\n",
    "q0x=float(qubits[0].options.pos_x.strip('um'))\n",
    "q0y=float(qubits[0].options.pos_y.strip('um'))\n",
    "\n",
    "\n",
    "c0 = StraightUpCoupler(design, \"c0\", options=dict(pos_x=f\"{q0x-150}um\",\n",
    "                                              pos_y=f\"{q0y+140}um\",\n",
    "                                              pad_width=\"150um\",\n",
    "                                              pad_height=\"50um\",\n",
    "                                              cpw_stub_height=\"200um\",\n",
    "                                              chip=\"main\"))\n",
    "design.rebuild()\n",
    "gui.rebuild()\n",
    "gui.autoscale()"
   ]
  },
  {
   "cell_type": "code",
   "execution_count": 38,
   "metadata": {},
   "outputs": [],
   "source": [
    "lpL=LaunchpadWirebondCoupled(design, 'lpL',\n",
    "                                         options = dict(chip=\"main\",\n",
    "                                         pos_x = '-1700um',\n",
    "                                         pos_y = '1300um',\n",
    "                                         lead_length = '30um'))\n",
    "lpR=LaunchpadWirebondCoupled(design, 'lpR',\n",
    "                                         options = dict(chip=\"main\",\n",
    "                                         pos_x = '1700um',\n",
    "                                         pos_y = '1300um',\n",
    "                                         orientation='180',\n",
    "                                         lead_length = '30um'))                                        "
   ]
  },
  {
   "cell_type": "code",
   "execution_count": 39,
   "metadata": {},
   "outputs": [],
   "source": [
    "stg=ShortToGround(design, 'stg', options=Dict(chip=\"main\",\n",
    "                                                pos_x='-0.585mm',\n",
    "                                                pos_y='0mm',\n",
    "                                                orientation='270'))"
   ]
  },
  {
   "cell_type": "code",
   "execution_count": 40,
   "metadata": {},
   "outputs": [],
   "source": [
    "fl0=RouteStraight(design, 'fl0',options=Dict(chip=\"main\", pin_inputs=Dict(start_pin=Dict(\n",
    "                                                            component='lpL',\n",
    "                                                            pin='tie'),\n",
    "                                                            end_pin=Dict(\n",
    "                                                            component='lpR',\n",
    "                                                            pin='tie'))))\n"
   ]
  },
  {
   "cell_type": "markdown",
   "metadata": {},
   "source": [
    "# Readout resonator"
   ]
  },
  {
   "cell_type": "code",
   "execution_count": 26,
   "metadata": {},
   "outputs": [],
   "source": [
    "from collections import OrderedDict\n",
    "jogs=OrderedDict()\n",
    "def connect(component_name: str, component1: str, pin1: str, component2: str, pin2: str,\n",
    "            length: str, start_jogged_extension: OrderedDict, end_jogged_extension: OrderedDict,\n",
    "            spacing: str, asymmetry='0 um',  start_straight='0 um', end_straight='0 um', flip=False):\n",
    "    \"\"\"Connect two pins with a CPW.\"\"\"\n",
    "    myoptions = Dict(\n",
    "        chip=\"main\",\n",
    "        pin_inputs=Dict(\n",
    "            start_pin=Dict(\n",
    "                component=component1,\n",
    "                pin=pin1),\n",
    "            end_pin=Dict(\n",
    "                component=component2,\n",
    "                pin=pin2)),\n",
    "        lead=Dict(\n",
    "            start_straight=start_straight,\n",
    "            end_straight=end_straight,\n",
    "            start_jogged_extension=start_jogged_extension,\n",
    "            end_jogged_extension=end_jogged_extension),\n",
    "        total_length=length,\n",
    "        fillet = '99.9um',\n",
    "        meander=dict(asymmetry=asymmetry,\n",
    "                     spacing=spacing))\n",
    "    myoptions.meander.lead_direction_inverted = 'true' if flip else 'false'\n",
    "    return RouteMeander(design, component_name, myoptions)"
   ]
  },
  {
   "cell_type": "markdown",
   "metadata": {},
   "source": [
    "# Resonator length"
   ]
  },
  {
   "cell_type": "code",
   "execution_count": 27,
   "metadata": {},
   "outputs": [],
   "source": [
    "from qiskit_metal.analyses.em.cpw_calculations import guided_wavelength\n",
    "\n",
    "def find_resonator_length(frequency, line_width, line_gap, N): \n",
    "    #frequency in GHz\n",
    "    #line_width/line_gap in um\n",
    "    #N -> 2 for lambda/2, 4 for lambda/4\n",
    "    \n",
    "    [lambdaG, etfSqrt, q] = guided_wavelength(frequency*10**9, line_width*10**-6,\n",
    "                                              line_gap*10**-6, 750*10**-6, 200*10**-9)\n",
    "    return str(lambdaG/N*10**3)+\" mm\""
   ]
  },
  {
   "cell_type": "code",
   "execution_count": 41,
   "metadata": {},
   "outputs": [
    {
     "name": "stdout",
     "output_type": "stream",
     "text": [
      "[3.876627341935142, 3.7623941699207104, 3.654173270104565]\n"
     ]
    }
   ],
   "source": [
    "resonator_length_4=[]\n",
    "for i in range(3):\n",
    "    a=find_resonator_length(7.2+i*0.2,10,6,4)\n",
    "    a=a.strip('mm')\n",
    "    a=float(a)-0.35\n",
    "    resonator_length_4.append(a)\n",
    "print(resonator_length_4)\n"
   ]
  },
  {
   "cell_type": "code",
   "execution_count": 42,
   "metadata": {},
   "outputs": [],
   "source": [
    "jogs1=OrderedDict()\n",
    "jogs1[0]=['R','350um']\n",
    "jogs1[1]=['R', '400um']\n",
    "jogs1[2]=['L','515um']\n"
   ]
  },
  {
   "cell_type": "code",
   "execution_count": 45,
   "metadata": {},
   "outputs": [],
   "source": [
    "rr0=connect('rr0', 'c0', 'in','stg', 'short',\n",
    "            resonator_length_4[1],jogs1,jogs, \n",
    "            '400um','0um', '1388um', '100um')\n",
    "            "
   ]
  },
  {
   "cell_type": "markdown",
   "metadata": {},
   "source": [
    "# EPR Analysis"
   ]
  },
  {
   "cell_type": "code",
   "execution_count": 46,
   "metadata": {},
   "outputs": [],
   "source": [
    "from qiskit_metal.analyses.quantization import EPRanalysis\n",
    "eig_rd = EPRanalysis(design, \"hfss\")\n",
    "hfss = eig_rd.sim.renderer"
   ]
  },
  {
   "cell_type": "code",
   "execution_count": 47,
   "metadata": {},
   "outputs": [
    {
     "name": "stderr",
     "output_type": "stream",
     "text": [
      "INFO 04:05PM [connect_project]: Connecting to Ansys Desktop API...\n",
      "INFO 04:05PM [load_ansys_project]: \tOpened Ansys App\n",
      "INFO 04:05PM [load_ansys_project]: \tOpened Ansys Desktop v2018.0.0\n",
      "INFO 04:05PM [load_ansys_project]: \tOpened Ansys Project\n",
      "\tFolder:    C:/Users/kimje/Documents/Ansoft/\n",
      "\tProject:   Project2\n",
      "INFO 04:05PM [connect_design]: No active design found (or error getting active design).\n",
      "INFO 04:05PM [connect]: \t Connected to project \"Project2\". No design detected\n"
     ]
    },
    {
     "data": {
      "text/plain": [
       "True"
      ]
     },
     "execution_count": 47,
     "metadata": {},
     "output_type": "execute_result"
    }
   ],
   "source": [
    "hfss.start()"
   ]
  },
  {
   "cell_type": "code",
   "execution_count": 48,
   "metadata": {},
   "outputs": [
    {
     "name": "stderr",
     "output_type": "stream",
     "text": [
      "04:05PM 05s WARNING [activate_ansys_design]: The design_name=Planar_V2 was not in active project.  Designs in active project are: \n",
      "[].  A new design will be added to the project.  \n",
      "INFO 04:05PM [connect_design]: \tOpened active design\n",
      "\tDesign:    Planar_V2 [Solution type: Eigenmode]\n",
      "WARNING 04:05PM [connect_setup]: \tNo design setup detected.\n",
      "WARNING 04:05PM [connect_setup]: \tCreating eigenmode default setup.\n",
      "INFO 04:05PM [get_setup]: \tOpened setup `Setup`  (<class 'pyEPR.ansys.HfssEMSetup'>)\n"
     ]
    }
   ],
   "source": [
    "hfss.activate_ansys_design(\"Planar_V2\", 'eigenmode')\n",
    "hfss.render_design(['Q0','c0','lpL','lpR','stg','rr0','fl0'],[],\n",
    "                    box_plus_buffer=False)"
   ]
  },
  {
   "cell_type": "code",
   "execution_count": 49,
   "metadata": {},
   "outputs": [
    {
     "data": {
      "text/plain": [
       "True"
      ]
     },
     "execution_count": 49,
     "metadata": {},
     "output_type": "execute_result"
    }
   ],
   "source": [
    "hfss.close()\n"
   ]
  },
  {
   "cell_type": "markdown",
   "metadata": {},
   "source": [
    "# LOM Analysis"
   ]
  },
  {
   "cell_type": "code",
   "execution_count": 50,
   "metadata": {},
   "outputs": [],
   "source": [
    "from qiskit_metal.analyses.quantization import LOManalysis\n",
    "c1 = LOManalysis(design, \"q3d\")"
   ]
  },
  {
   "cell_type": "code",
   "execution_count": 51,
   "metadata": {},
   "outputs": [
    {
     "data": {
      "text/plain": [
       "{'name': 'Setup',\n",
       " 'reuse_selected_design': True,\n",
       " 'reuse_setup': True,\n",
       " 'freq_ghz': '5.83',\n",
       " 'save_fields': False,\n",
       " 'enabled': True,\n",
       " 'max_passes': 10,\n",
       " 'min_passes': 2,\n",
       " 'min_converged_passes': 2,\n",
       " 'percent_error': 0.5,\n",
       " 'percent_refinement': 30,\n",
       " 'auto_increase_solution_order': 'False',\n",
       " 'solution_order': 'Medium',\n",
       " 'solver_type': 'Iterative'}"
      ]
     },
     "execution_count": 51,
     "metadata": {},
     "output_type": "execute_result"
    }
   ],
   "source": [
    "c1.sim.setup.max_passes = 10\n",
    "c1.sim.setup_update(freq_ghz='5.83',solution_order = 'Medium', auto_increase_solution_order = 'False')\n",
    "c1.sim.setup"
   ]
  },
  {
   "cell_type": "code",
   "execution_count": 52,
   "metadata": {},
   "outputs": [
    {
     "name": "stderr",
     "output_type": "stream",
     "text": [
      "INFO 04:47PM [connect_project]: Connecting to Ansys Desktop API...\n",
      "INFO 04:47PM [load_ansys_project]: \tOpened Ansys App\n",
      "INFO 04:47PM [load_ansys_project]: \tOpened Ansys Desktop v2018.0.0\n",
      "INFO 04:47PM [load_ansys_project]: \tOpened Ansys Project\n",
      "\tFolder:    C:/Users/kimje/Documents/Ansoft/\n",
      "\tProject:   planarV2\n",
      "INFO 04:47PM [connect_design]: \tOpened active design\n",
      "\tDesign:    Planar_V2 [Solution type: Eigenmode]\n",
      "INFO 04:47PM [get_setup]: \tOpened setup `Setup`  (<class 'pyEPR.ansys.HfssEMSetup'>)\n",
      "INFO 04:47PM [connect]: \tConnected to project \"planarV2\" and design \"Planar_V2\" 😀 \n",
      "\n",
      "INFO 04:47PM [connect_design]: \tOpened active design\n",
      "\tDesign:    Design_q3d [Solution type: Q3D]\n",
      "WARNING 04:47PM [connect_setup]: \tNo design setup detected.\n",
      "WARNING 04:47PM [connect_setup]: \tCreating Q3D default setup.\n",
      "INFO 04:47PM [get_setup]: \tOpened setup `Setup`  (<class 'pyEPR.ansys.AnsysQ3DSetup'>)\n",
      "INFO 04:47PM [get_setup]: \tOpened setup `Setup`  (<class 'pyEPR.ansys.AnsysQ3DSetup'>)\n",
      "INFO 04:47PM [analyze]: Analyzing setup Setup\n",
      "INFO 04:48PM [get_matrix]: Exporting matrix data to (C:\\Users\\kimje\\AppData\\Local\\Temp\\tmp1izl27ck.txt, C, , Setup:LastAdaptive, \"Original\", \"ohm\", \"nH\", \"fF\", \"mSie\", 5830000000, Maxwell, 1, False\n",
      "INFO 04:48PM [get_matrix]: Exporting matrix data to (C:\\Users\\kimje\\AppData\\Local\\Temp\\tmpiys_84he.txt, C, , Setup:AdaptivePass, \"Original\", \"ohm\", \"nH\", \"fF\", \"mSie\", 5830000000, Maxwell, 1, False\n",
      "INFO 04:48PM [get_matrix]: Exporting matrix data to (C:\\Users\\kimje\\AppData\\Local\\Temp\\tmp28e7jxt6.txt, C, , Setup:AdaptivePass, \"Original\", \"ohm\", \"nH\", \"fF\", \"mSie\", 5830000000, Maxwell, 2, False\n",
      "INFO 04:48PM [get_matrix]: Exporting matrix data to (C:\\Users\\kimje\\AppData\\Local\\Temp\\tmpcedc5aa8.txt, C, , Setup:AdaptivePass, \"Original\", \"ohm\", \"nH\", \"fF\", \"mSie\", 5830000000, Maxwell, 3, False\n",
      "INFO 04:48PM [get_matrix]: Exporting matrix data to (C:\\Users\\kimje\\AppData\\Local\\Temp\\tmph8_haq84.txt, C, , Setup:AdaptivePass, \"Original\", \"ohm\", \"nH\", \"fF\", \"mSie\", 5830000000, Maxwell, 4, False\n",
      "INFO 04:48PM [get_matrix]: Exporting matrix data to (C:\\Users\\kimje\\AppData\\Local\\Temp\\tmpmsqunh7v.txt, C, , Setup:AdaptivePass, \"Original\", \"ohm\", \"nH\", \"fF\", \"mSie\", 5830000000, Maxwell, 5, False\n",
      "INFO 04:48PM [get_matrix]: Exporting matrix data to (C:\\Users\\kimje\\AppData\\Local\\Temp\\tmpwt8ko4by.txt, C, , Setup:AdaptivePass, \"Original\", \"ohm\", \"nH\", \"fF\", \"mSie\", 5830000000, Maxwell, 6, False\n",
      "INFO 04:48PM [get_matrix]: Exporting matrix data to (C:\\Users\\kimje\\AppData\\Local\\Temp\\tmpjd27kfnx.txt, C, , Setup:AdaptivePass, \"Original\", \"ohm\", \"nH\", \"fF\", \"mSie\", 5830000000, Maxwell, 7, False\n",
      "INFO 04:48PM [get_matrix]: Exporting matrix data to (C:\\Users\\kimje\\AppData\\Local\\Temp\\tmp2p2t9odf.txt, C, , Setup:AdaptivePass, \"Original\", \"ohm\", \"nH\", \"fF\", \"mSie\", 5830000000, Maxwell, 8, False\n",
      "INFO 04:48PM [get_matrix]: Exporting matrix data to (C:\\Users\\kimje\\AppData\\Local\\Temp\\tmpbv3ehleb.txt, C, , Setup:AdaptivePass, \"Original\", \"ohm\", \"nH\", \"fF\", \"mSie\", 5830000000, Maxwell, 9, False\n",
      "INFO 04:48PM [get_matrix]: Exporting matrix data to (C:\\Users\\kimje\\AppData\\Local\\Temp\\tmpso9hvvh7.txt, C, , Setup:AdaptivePass, \"Original\", \"ohm\", \"nH\", \"fF\", \"mSie\", 5830000000, Maxwell, 10, False\n",
      "INFO 04:48PM [get_matrix]: Exporting matrix data to (C:\\Users\\kimje\\AppData\\Local\\Temp\\tmppsrs9pxc.txt, C, , Setup:LastAdaptive, \"Original\", \"ohm\", \"nH\", \"fF\", \"mSie\", 5830000000, Maxwell, 1, False\n",
      "INFO 04:48PM [get_matrix]: Exporting matrix data to (C:\\Users\\kimje\\AppData\\Local\\Temp\\tmptjgauioy.txt, C, , Setup:AdaptivePass, \"Original\", \"ohm\", \"nH\", \"fF\", \"mSie\", 5830000000, Maxwell, 1, False\n",
      "INFO 04:48PM [get_matrix]: Exporting matrix data to (C:\\Users\\kimje\\AppData\\Local\\Temp\\tmpf6p4192s.txt, C, , Setup:AdaptivePass, \"Original\", \"ohm\", \"nH\", \"fF\", \"mSie\", 5830000000, Maxwell, 2, False\n",
      "INFO 04:48PM [get_matrix]: Exporting matrix data to (C:\\Users\\kimje\\AppData\\Local\\Temp\\tmpvzsww5uv.txt, C, , Setup:AdaptivePass, \"Original\", \"ohm\", \"nH\", \"fF\", \"mSie\", 5830000000, Maxwell, 3, False\n",
      "INFO 04:48PM [get_matrix]: Exporting matrix data to (C:\\Users\\kimje\\AppData\\Local\\Temp\\tmp267vq3eu.txt, C, , Setup:AdaptivePass, \"Original\", \"ohm\", \"nH\", \"fF\", \"mSie\", 5830000000, Maxwell, 4, False\n",
      "INFO 04:48PM [get_matrix]: Exporting matrix data to (C:\\Users\\kimje\\AppData\\Local\\Temp\\tmpv7bm127v.txt, C, , Setup:AdaptivePass, \"Original\", \"ohm\", \"nH\", \"fF\", \"mSie\", 5830000000, Maxwell, 5, False\n",
      "INFO 04:48PM [get_matrix]: Exporting matrix data to (C:\\Users\\kimje\\AppData\\Local\\Temp\\tmpmthe3g9f.txt, C, , Setup:AdaptivePass, \"Original\", \"ohm\", \"nH\", \"fF\", \"mSie\", 5830000000, Maxwell, 6, False\n",
      "INFO 04:48PM [get_matrix]: Exporting matrix data to (C:\\Users\\kimje\\AppData\\Local\\Temp\\tmpoiuotpd1.txt, C, , Setup:AdaptivePass, \"Original\", \"ohm\", \"nH\", \"fF\", \"mSie\", 5830000000, Maxwell, 7, False\n",
      "INFO 04:48PM [get_matrix]: Exporting matrix data to (C:\\Users\\kimje\\AppData\\Local\\Temp\\tmpi8j94b4i.txt, C, , Setup:AdaptivePass, \"Original\", \"ohm\", \"nH\", \"fF\", \"mSie\", 5830000000, Maxwell, 8, False\n",
      "INFO 04:48PM [get_matrix]: Exporting matrix data to (C:\\Users\\kimje\\AppData\\Local\\Temp\\tmptt2i_y0j.txt, C, , Setup:AdaptivePass, \"Original\", \"ohm\", \"nH\", \"fF\", \"mSie\", 5830000000, Maxwell, 9, False\n",
      "INFO 04:48PM [get_matrix]: Exporting matrix data to (C:\\Users\\kimje\\AppData\\Local\\Temp\\tmpy239e33n.txt, C, , Setup:AdaptivePass, \"Original\", \"ohm\", \"nH\", \"fF\", \"mSie\", 5830000000, Maxwell, 10, False\n"
     ]
    },
    {
     "data": {
      "text/html": [
       "<div>\n",
       "<style scoped>\n",
       "    .dataframe tbody tr th:only-of-type {\n",
       "        vertical-align: middle;\n",
       "    }\n",
       "\n",
       "    .dataframe tbody tr th {\n",
       "        vertical-align: top;\n",
       "    }\n",
       "\n",
       "    .dataframe thead th {\n",
       "        text-align: right;\n",
       "    }\n",
       "</style>\n",
       "<table border=\"1\" class=\"dataframe\">\n",
       "  <thead>\n",
       "    <tr style=\"text-align: right;\">\n",
       "      <th></th>\n",
       "      <th>ground_main_plane</th>\n",
       "      <th>pad_bot_Q0</th>\n",
       "      <th>pad_top_Q0</th>\n",
       "      <th>quad_coupler_c0</th>\n",
       "    </tr>\n",
       "  </thead>\n",
       "  <tbody>\n",
       "    <tr>\n",
       "      <th>ground_main_plane</th>\n",
       "      <td>173.980</td>\n",
       "      <td>-47.0270</td>\n",
       "      <td>-41.044</td>\n",
       "      <td>-28.2990</td>\n",
       "    </tr>\n",
       "    <tr>\n",
       "      <th>pad_bot_Q0</th>\n",
       "      <td>-47.027</td>\n",
       "      <td>87.5790</td>\n",
       "      <td>-34.769</td>\n",
       "      <td>-2.1893</td>\n",
       "    </tr>\n",
       "    <tr>\n",
       "      <th>pad_top_Q0</th>\n",
       "      <td>-41.044</td>\n",
       "      <td>-34.7690</td>\n",
       "      <td>97.840</td>\n",
       "      <td>-18.9260</td>\n",
       "    </tr>\n",
       "    <tr>\n",
       "      <th>quad_coupler_c0</th>\n",
       "      <td>-28.299</td>\n",
       "      <td>-2.1893</td>\n",
       "      <td>-18.926</td>\n",
       "      <td>50.6100</td>\n",
       "    </tr>\n",
       "  </tbody>\n",
       "</table>\n",
       "</div>"
      ],
      "text/plain": [
       "                   ground_main_plane  pad_bot_Q0  pad_top_Q0  quad_coupler_c0\n",
       "ground_main_plane            173.980    -47.0270     -41.044         -28.2990\n",
       "pad_bot_Q0                   -47.027     87.5790     -34.769          -2.1893\n",
       "pad_top_Q0                   -41.044    -34.7690      97.840         -18.9260\n",
       "quad_coupler_c0              -28.299     -2.1893     -18.926          50.6100"
      ]
     },
     "execution_count": 52,
     "metadata": {},
     "output_type": "execute_result"
    }
   ],
   "source": [
    "c1.sim.run(components=['Q0','c0'], open_terminations=[('c0', 'in')])\n",
    "c1.sim._get_results_from_renderer()\n",
    "c1.sim.capacitance_matrix"
   ]
  },
  {
   "cell_type": "code",
   "execution_count": 53,
   "metadata": {},
   "outputs": [
    {
     "name": "stdout",
     "output_type": "stream",
     "text": [
      "[1, 2] [3]\n",
      "Predicted Values\n",
      "\n",
      "Transmon Properties\n",
      "f_Q 5.686268 [GHz]\n",
      "EC 303.604815 [MHz]\n",
      "EJ 14.854145 [GHz]\n",
      "alpha -349.374392 [MHz]\n",
      "dispersion 14.395518 [KHz]\n",
      "Lq 10.995564 [nH]\n",
      "Cq 63.800793 [fF]\n",
      "T1 41.695062 [us]\n",
      "\n",
      "**Coupling Properties**\n",
      "\n",
      "tCqbus1 -7.328533 [fF]\n",
      "gbus1_in_MHz -115.711202 [MHz]\n",
      "χ_bus1 -3.860641 [MHz]\n",
      "1/T1bus1 3817.117313 [Hz]\n",
      "T1bus1 41.695062 [us]\n",
      "Bus-Bus Couplings\n"
     ]
    },
    {
     "data": {
      "text/html": [
       "<div>\n",
       "<style scoped>\n",
       "    .dataframe tbody tr th:only-of-type {\n",
       "        vertical-align: middle;\n",
       "    }\n",
       "\n",
       "    .dataframe tbody tr th {\n",
       "        vertical-align: top;\n",
       "    }\n",
       "\n",
       "    .dataframe thead th {\n",
       "        text-align: right;\n",
       "    }\n",
       "</style>\n",
       "<table border=\"1\" class=\"dataframe\">\n",
       "  <thead>\n",
       "    <tr style=\"text-align: right;\">\n",
       "      <th></th>\n",
       "      <th>fQ</th>\n",
       "      <th>EC</th>\n",
       "      <th>EJ</th>\n",
       "      <th>alpha</th>\n",
       "      <th>dispersion</th>\n",
       "      <th>gbus</th>\n",
       "      <th>chi_in_MHz</th>\n",
       "      <th>χr MHz</th>\n",
       "      <th>gr MHz</th>\n",
       "    </tr>\n",
       "  </thead>\n",
       "  <tbody>\n",
       "    <tr>\n",
       "      <th>1</th>\n",
       "      <td>6.080523</td>\n",
       "      <td>350.304387</td>\n",
       "      <td>14.854145</td>\n",
       "      <td>-408.623621</td>\n",
       "      <td>53.667055</td>\n",
       "      <td>[-93.02906726368401]</td>\n",
       "      <td>[-4.982767851232566]</td>\n",
       "      <td>4.982768</td>\n",
       "      <td>93.029067</td>\n",
       "    </tr>\n",
       "    <tr>\n",
       "      <th>2</th>\n",
       "      <td>6.061672</td>\n",
       "      <td>347.983968</td>\n",
       "      <td>14.854145</td>\n",
       "      <td>-405.645758</td>\n",
       "      <td>50.594621</td>\n",
       "      <td>[-109.10844292851404]</td>\n",
       "      <td>[-6.6073028520605686]</td>\n",
       "      <td>6.607303</td>\n",
       "      <td>109.108443</td>\n",
       "    </tr>\n",
       "    <tr>\n",
       "      <th>3</th>\n",
       "      <td>5.979658</td>\n",
       "      <td>337.992017</td>\n",
       "      <td>14.854145</td>\n",
       "      <td>-392.86356</td>\n",
       "      <td>38.976439</td>\n",
       "      <td>[-107.98543621843154]</td>\n",
       "      <td>[-5.544727150128193]</td>\n",
       "      <td>5.544727</td>\n",
       "      <td>107.985436</td>\n",
       "    </tr>\n",
       "    <tr>\n",
       "      <th>4</th>\n",
       "      <td>5.903114</td>\n",
       "      <td>328.816965</td>\n",
       "      <td>14.854145</td>\n",
       "      <td>-381.184373</td>\n",
       "      <td>30.350375</td>\n",
       "      <td>[-112.70245644554512]</td>\n",
       "      <td>[-5.262136930901238]</td>\n",
       "      <td>5.262137</td>\n",
       "      <td>112.702456</td>\n",
       "    </tr>\n",
       "    <tr>\n",
       "      <th>5</th>\n",
       "      <td>5.809223</td>\n",
       "      <td>317.759522</td>\n",
       "      <td>14.854145</td>\n",
       "      <td>-367.182334</td>\n",
       "      <td>22.127096</td>\n",
       "      <td>[-114.53457326450693]</td>\n",
       "      <td>[-4.623797590306809]</td>\n",
       "      <td>4.623798</td>\n",
       "      <td>114.534573</td>\n",
       "    </tr>\n",
       "    <tr>\n",
       "      <th>6</th>\n",
       "      <td>5.76884</td>\n",
       "      <td>313.07006</td>\n",
       "      <td>14.854145</td>\n",
       "      <td>-361.268146</td>\n",
       "      <td>19.253038</td>\n",
       "      <td>[-113.85926309833472]</td>\n",
       "      <td>[-4.272385586866052]</td>\n",
       "      <td>4.272386</td>\n",
       "      <td>113.859263</td>\n",
       "    </tr>\n",
       "    <tr>\n",
       "      <th>7</th>\n",
       "      <td>5.723583</td>\n",
       "      <td>307.861687</td>\n",
       "      <td>14.854145</td>\n",
       "      <td>-354.716269</td>\n",
       "      <td>16.434209</td>\n",
       "      <td>[-115.32060419663661]</td>\n",
       "      <td>[-4.070785798119941]</td>\n",
       "      <td>4.070786</td>\n",
       "      <td>115.320604</td>\n",
       "    </tr>\n",
       "    <tr>\n",
       "      <th>8</th>\n",
       "      <td>5.70427</td>\n",
       "      <td>305.654236</td>\n",
       "      <td>14.854145</td>\n",
       "      <td>-351.944711</td>\n",
       "      <td>15.348743</td>\n",
       "      <td>[-115.59463585704192]</td>\n",
       "      <td>[-3.965086647756785]</td>\n",
       "      <td>3.965087</td>\n",
       "      <td>115.594636</td>\n",
       "    </tr>\n",
       "    <tr>\n",
       "      <th>9</th>\n",
       "      <td>5.686268</td>\n",
       "      <td>303.604815</td>\n",
       "      <td>14.854145</td>\n",
       "      <td>-349.374392</td>\n",
       "      <td>14.395518</td>\n",
       "      <td>[-115.71120233932909]</td>\n",
       "      <td>[-3.860641139203433]</td>\n",
       "      <td>3.860641</td>\n",
       "      <td>115.711202</td>\n",
       "    </tr>\n",
       "  </tbody>\n",
       "</table>\n",
       "</div>"
      ],
      "text/plain": [
       "         fQ          EC         EJ       alpha dispersion  \\\n",
       "1  6.080523  350.304387  14.854145 -408.623621  53.667055   \n",
       "2  6.061672  347.983968  14.854145 -405.645758  50.594621   \n",
       "3  5.979658  337.992017  14.854145  -392.86356  38.976439   \n",
       "4  5.903114  328.816965  14.854145 -381.184373  30.350375   \n",
       "5  5.809223  317.759522  14.854145 -367.182334  22.127096   \n",
       "6   5.76884   313.07006  14.854145 -361.268146  19.253038   \n",
       "7  5.723583  307.861687  14.854145 -354.716269  16.434209   \n",
       "8   5.70427  305.654236  14.854145 -351.944711  15.348743   \n",
       "9  5.686268  303.604815  14.854145 -349.374392  14.395518   \n",
       "\n",
       "                    gbus             chi_in_MHz    χr MHz      gr MHz  \n",
       "1   [-93.02906726368401]   [-4.982767851232566]  4.982768   93.029067  \n",
       "2  [-109.10844292851404]  [-6.6073028520605686]  6.607303  109.108443  \n",
       "3  [-107.98543621843154]   [-5.544727150128193]  5.544727  107.985436  \n",
       "4  [-112.70245644554512]   [-5.262136930901238]  5.262137  112.702456  \n",
       "5  [-114.53457326450693]   [-4.623797590306809]  4.623798  114.534573  \n",
       "6  [-113.85926309833472]   [-4.272385586866052]  4.272386  113.859263  \n",
       "7  [-115.32060419663661]   [-4.070785798119941]  4.070786  115.320604  \n",
       "8  [-115.59463585704192]   [-3.965086647756785]  3.965087  115.594636  \n",
       "9  [-115.71120233932909]   [-3.860641139203433]  3.860641  115.711202  "
      ]
     },
     "execution_count": 53,
     "metadata": {},
     "output_type": "execute_result"
    }
   ],
   "source": [
    "c1.setup.junctions = Dict({'Lj': 11, 'Cj': 2})\n",
    "c1.setup.freq_readout = 7.09\n",
    "c1.setup.freq_bus = []\n",
    "c1.run_lom()\n",
    "c1.lumped_oscillator_all"
   ]
  },
  {
   "cell_type": "code",
   "execution_count": 30,
   "metadata": {},
   "outputs": [],
   "source": [
    "c1.sim.close()"
   ]
  },
  {
   "cell_type": "code",
   "execution_count": null,
   "metadata": {},
   "outputs": [],
   "source": []
  }
 ],
 "metadata": {
  "kernelspec": {
   "display_name": "Python 3.9.10 ('metal')",
   "language": "python",
   "name": "python3"
  },
  "language_info": {
   "codemirror_mode": {
    "name": "ipython",
    "version": 3
   },
   "file_extension": ".py",
   "mimetype": "text/x-python",
   "name": "python",
   "nbconvert_exporter": "python",
   "pygments_lexer": "ipython3",
   "version": "3.9.10"
  },
  "orig_nbformat": 4,
  "vscode": {
   "interpreter": {
    "hash": "ac951534856e2c23f9f162419ca8ae29ffbc7967cf243c458d1cebaa12df0b5c"
   }
  }
 },
 "nbformat": 4,
 "nbformat_minor": 2
}
