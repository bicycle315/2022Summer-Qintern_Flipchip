{
 "cells": [
  {
   "cell_type": "code",
   "execution_count": 1,
   "metadata": {},
   "outputs": [],
   "source": [
    "import warnings\n",
    "warnings.filterwarnings(\"ignore\")\n",
    "%load_ext autoreload\n",
    "%autoreload 2\n",
    "from qiskit_metal import Dict, MetalGUI, designs\n",
    "\n",
    "from qiskit_metal.qlibrary.qubits.transmon_pocket import TransmonPocket\n",
    "from qiskit_metal.qlibrary.qubits.transmon_pocket_6 import TransmonPocket6\n",
    "from qiskit_metal.qlibrary.tlines.meandered import RouteMeander\n",
    "from qiskit_metal.qlibrary.tlines.straight_path import RouteStraight\n",
    "from qiskit_metal.qlibrary.terminations.launchpad_wb_coupled import LaunchpadWirebondCoupled\n",
    "from qiskit_metal.qlibrary.terminations.short_to_ground import ShortToGround\n",
    "from qiskit_metal.qlibrary.couplers.coupled_line_tee import CoupledLineTee\n",
    "from qiskit_metal.qlibrary.user_components.left_coupler import LeftCoupler\n",
    "from qiskit_metal.qlibrary.user_components.right_coupler import RightCoupler\n",
    "from qiskit_metal.qlibrary.user_components.straightdown_coupler import StraightDownCoupler\n",
    "from qiskit_metal.qlibrary.user_components.straightup_coupler import StraightUpCoupler"
   ]
  },
  {
   "cell_type": "code",
   "execution_count": 2,
   "metadata": {},
   "outputs": [],
   "source": [
    "design = designs.DesignFlipChip({}, overwrite_enabled=True)\n",
    "gui = MetalGUI(design)"
   ]
  },
  {
   "cell_type": "code",
   "execution_count": 3,
   "metadata": {},
   "outputs": [],
   "source": [
    "design.chips['C_chip'].size['size_x']='3mm'\n",
    "design.chips['C_chip'].size['size_y']='3mm'\n",
    "design.chips['Q_chip'].size['size_x']='2mm'\n",
    "design.chips['Q_chip'].size['size_y']='2mm'\n",
    "design.chips['Q_chip'].size['center_z']='7um'"
   ]
  },
  {
   "cell_type": "code",
   "execution_count": 4,
   "metadata": {},
   "outputs": [
    {
     "data": {
      "text/plain": [
       "'7um'"
      ]
     },
     "execution_count": 4,
     "metadata": {},
     "output_type": "execute_result"
    }
   ],
   "source": [
    "design.get_chip_z('Q_chip')"
   ]
  },
  {
   "cell_type": "code",
   "execution_count": 9,
   "metadata": {},
   "outputs": [
    {
     "data": {
      "text/plain": [
       "[\u001b[95m\u001b[1mname:    \u001b[94m\u001b[1mQ0\u001b[0m\n",
       " \u001b[95m\u001b[1mclass:   \u001b[94m\u001b[1mTransmonPocket6       \u001b[0m\n",
       " \u001b[95m\u001b[1moptions: \u001b[0m\n",
       "   'pos_x'             : '-300um',                     \n",
       "   'pos_y'             : '-500um',                     \n",
       "   'orientation'       : '0.0',                        \n",
       "   'chip'              : 'Q_chip',                     \n",
       "   'layer'             : '1',                          \n",
       "   \u001b[1m'connection_pads'   \u001b[0m: {\n",
       "                         },\n",
       "   'pad_gap'           : '70um',                       \n",
       "   'inductor_width'    : '20um',                       \n",
       "   'pad_width'         : '400um',                      \n",
       "   'pad_height'        : '100um',                      \n",
       "   'pocket_width'      : '650um',                      \n",
       "   'pocket_height'     : '650um',                      \n",
       "   'hfss_wire_bonds'   : False,                        \n",
       "   'q3d_wire_bonds'    : False,                        \n",
       "   'hfss_inductance'   : '10nH',                       \n",
       "   'hfss_capacitance'  : 0,                            \n",
       "   'hfss_resistance'   : 0,                            \n",
       "   'hfss_mesh_kw_jj'   : 7e-06,                        \n",
       "   'q3d_inductance'    : '10nH',                       \n",
       "   'q3d_capacitance'   : 0,                            \n",
       "   'q3d_resistance'    : 0,                            \n",
       "   'q3d_mesh_kw_jj'    : 7e-06,                        \n",
       "   'gds_cell_name'     : 'my_other_junction',          \n",
       " \u001b[95m\u001b[1mmodule:  \u001b[94m\u001b[1mqiskit_metal.qlibrary.qubits.transmon_pocket_6\u001b[0m\n",
       " \u001b[95m\u001b[1mid:      \u001b[94m\u001b[1m7\u001b[0m]"
      ]
     },
     "execution_count": 9,
     "metadata": {},
     "output_type": "execute_result"
    }
   ],
   "source": [
    "q0"
   ]
  },
  {
   "cell_type": "code",
   "execution_count": 4,
   "metadata": {},
   "outputs": [],
   "source": [
    "\n",
    "cp0 = dict(down = dict(loc_W=1, loc_H=-1, pad_width='120um'))\n",
    "q0=[TransmonPocket6(design, 'Q0', options=dict(pos_x='-300um',\n",
    "                                            pos_y='-500um',\n",
    "                                            chip='Q_chip',\n",
    "                                            pad_width='370um',\n",
    "                                            pad_height='100um',\n",
    "                                            pad_gap='80um',\n",
    "                                            pocket_width='680um',\n",
    "                                            pocket_height='680um'))]\n",
    "                                            \n",
    "qubits=q0\n",
    "q0x=float(qubits[0].options.pos_x.strip('um'))\n",
    "q0y=float(qubits[0].options.pos_y.strip('um'))\n",
    "\n",
    "\n",
    "c0 = StraightUpCoupler(design, \"c0\", options=dict(pos_x=f\"{q0x-120}um\",\n",
    "                                              pos_y=f\"{q0y+90}um\",\n",
    "                                              pad_width=\"132um\",\n",
    "                                              pad_height=\"100um\",\n",
    "                                              cpw_stub_height=\"200um\",\n",
    "                                              chip=\"C_chip\"))\n",
    "design.rebuild()\n",
    "gui.rebuild()\n",
    "gui.autoscale()"
   ]
  },
  {
   "cell_type": "code",
   "execution_count": 5,
   "metadata": {},
   "outputs": [],
   "source": [
    "lpL=LaunchpadWirebondCoupled(design, 'lpL',\n",
    "                                         options = dict(chip=\"C_chip\",\n",
    "                                         pos_x = '-700um',\n",
    "                                         pos_y = '800um',\n",
    "                                         lead_length = '30um'))\n",
    "lpR=LaunchpadWirebondCoupled(design, 'lpR',\n",
    "                                         options = dict(chip=\"C_chip\",\n",
    "                                         pos_x = '700um',\n",
    "                                         pos_y = '800um',\n",
    "                                         orientation='180',\n",
    "                                         lead_length = '30um'))                                        "
   ]
  },
  {
   "cell_type": "code",
   "execution_count": 6,
   "metadata": {},
   "outputs": [],
   "source": [
    "stg=ShortToGround(design, 'stg', options=Dict(chip=\"C_chip\",\n",
    "                                                pos_x='0.65mm',\n",
    "                                                pos_y='-0.2mm',\n",
    "                                                orientation='270'))"
   ]
  },
  {
   "cell_type": "code",
   "execution_count": 7,
   "metadata": {},
   "outputs": [],
   "source": [
    "fl0=RouteStraight(design, 'fl0',options=Dict(chip=\"C_chip\", pin_inputs=Dict(start_pin=Dict(\n",
    "                                                            component='lpL',\n",
    "                                                            pin='tie'),\n",
    "                                                            end_pin=Dict(\n",
    "                                                            component='lpR',\n",
    "                                                            pin='tie'))))\n"
   ]
  },
  {
   "cell_type": "markdown",
   "metadata": {},
   "source": [
    "# Readout resonator"
   ]
  },
  {
   "cell_type": "code",
   "execution_count": 8,
   "metadata": {},
   "outputs": [],
   "source": [
    "from collections import OrderedDict\n",
    "jogs=OrderedDict()\n",
    "def connect(component_name: str, component1: str, pin1: str, component2: str, pin2: str,\n",
    "            length: str, start_jogged_extension: OrderedDict, end_jogged_extension: OrderedDict,\n",
    "            spacing: str, asymmetry='0 um',  start_straight='0 um', end_straight='0 um', flip=False):\n",
    "    \"\"\"Connect two pins with a CPW.\"\"\"\n",
    "    myoptions = Dict(\n",
    "        chip=\"C_chip\",\n",
    "        pin_inputs=Dict(\n",
    "            start_pin=Dict(\n",
    "                component=component1,\n",
    "                pin=pin1),\n",
    "            end_pin=Dict(\n",
    "                component=component2,\n",
    "                pin=pin2)),\n",
    "        lead=Dict(\n",
    "            start_straight=start_straight,\n",
    "            end_straight=end_straight,\n",
    "            start_jogged_extension=start_jogged_extension,\n",
    "            end_jogged_extension=end_jogged_extension),\n",
    "        total_length=length,\n",
    "        fillet = '99.9um',\n",
    "        meander=dict(asymmetry=asymmetry,\n",
    "                     spacing=spacing))\n",
    "    myoptions.meander.lead_direction_inverted = 'true' if flip else 'false'\n",
    "    return RouteMeander(design, component_name, myoptions)"
   ]
  },
  {
   "cell_type": "markdown",
   "metadata": {},
   "source": [
    "# Resonator length\n",
    "4.29mm"
   ]
  },
  {
   "cell_type": "code",
   "execution_count": 9,
   "metadata": {},
   "outputs": [],
   "source": [
    "from qiskit_metal.analyses.em.cpw_calculations import guided_wavelength\n",
    "\n",
    "def find_resonator_length(frequency, line_width, line_gap, N): \n",
    "    [lambdaG, etfSqrt, q] = guided_wavelength(frequency*10**9, line_width*10**-6,\n",
    "                                              line_gap*10**-6, 750*10**-6, 200*10**-9)\n",
    "    return str(lambdaG/N*10**3)+\" mm\""
   ]
  },
  {
   "cell_type": "code",
   "execution_count": 10,
   "metadata": {},
   "outputs": [
    {
     "name": "stdout",
     "output_type": "stream",
     "text": [
      "[4.077562247348839]\n"
     ]
    }
   ],
   "source": [
    "resonator_length_4=[]\n",
    "a=find_resonator_length(7.5,10,6,4)\n",
    "a=a.strip('mm')\n",
    "a=float(a)-0.25 +0.5-0.23# subtract coupler length, for +0.5Ghz, coupler length\n",
    "resonator_length_4.append(a)\n",
    "print(resonator_length_4)\n"
   ]
  },
  {
   "cell_type": "code",
   "execution_count": 20,
   "metadata": {},
   "outputs": [],
   "source": [
    "jogs1=OrderedDict()\n",
    "jogs1[0]=['R','300um']\n",
    "jogs1[1]=['R', '300um']\n",
    "jogs1[2]=['L','700um']\n",
    "jogs1[3]=['R','200um']\n",
    "jogs1[4]=['R','700um']\n",
    "jogs1[5]=['L','200um']\n",
    "jogs1[6]=['L','770um']\n"
   ]
  },
  {
   "cell_type": "code",
   "execution_count": 21,
   "metadata": {},
   "outputs": [],
   "source": [
    "rr0=connect('rr0', 'c0', 'in','stg', 'short',\n",
    "            resonator_length_4[0],jogs1,jogs, \n",
    "            '100um','0um', '944um', '100um')\n",
    "            "
   ]
  },
  {
   "cell_type": "markdown",
   "metadata": {},
   "source": [
    "# EPR Analysis"
   ]
  },
  {
   "cell_type": "code",
   "execution_count": 22,
   "metadata": {},
   "outputs": [],
   "source": [
    "from qiskit_metal.analyses.quantization import EPRanalysis\n",
    "eig_rd = EPRanalysis(design, \"hfss\")\n",
    "hfss = eig_rd.sim.renderer"
   ]
  },
  {
   "cell_type": "code",
   "execution_count": 24,
   "metadata": {},
   "outputs": [
    {
     "name": "stderr",
     "output_type": "stream",
     "text": [
      "INFO 05:13PM [connect_project]: Connecting to Ansys Desktop API...\n",
      "INFO 05:13PM [load_ansys_project]: \tOpened Ansys App\n",
      "INFO 05:13PM [load_ansys_project]: \tOpened Ansys Desktop v2018.0.0\n",
      "INFO 05:13PM [load_ansys_project]: \tOpened Ansys Project\n",
      "\tFolder:    C:/Users/kimje/Documents/Ansoft/\n",
      "\tProject:   KPS\n",
      "INFO 05:13PM [connect_design]: \tOpened active design\n",
      "\tDesign:    Planar [Solution type: Eigenmode]\n",
      "INFO 05:13PM [get_setup]: \tOpened setup `Setup`  (<class 'pyEPR.ansys.HfssEMSetup'>)\n",
      "INFO 05:13PM [connect]: \tConnected to project \"KPS\" and design \"Planar\" 😀 \n",
      "\n"
     ]
    },
    {
     "data": {
      "text/plain": [
       "True"
      ]
     },
     "execution_count": 24,
     "metadata": {},
     "output_type": "execute_result"
    }
   ],
   "source": [
    "hfss.start()"
   ]
  },
  {
   "cell_type": "code",
   "execution_count": 25,
   "metadata": {},
   "outputs": [
    {
     "name": "stderr",
     "output_type": "stream",
     "text": [
      "05:13PM 20s WARNING [activate_ansys_design]: The design_name=flip7um_V4- was not in active project.  Designs in active project are: \n",
      "['Planar', 'Design_q3d', 'flip7um_PlanarDesign', 'flip7um_V2', 'bump', 'flip7um_V3'].  A new design will be added to the project.  \n",
      "INFO 05:13PM [connect_design]: \tOpened active design\n",
      "\tDesign:    flip7um_V4- [Solution type: Eigenmode]\n",
      "WARNING 05:13PM [connect_setup]: \tNo design setup detected.\n",
      "WARNING 05:13PM [connect_setup]: \tCreating eigenmode default setup.\n",
      "INFO 05:13PM [get_setup]: \tOpened setup `Setup`  (<class 'pyEPR.ansys.HfssEMSetup'>)\n"
     ]
    }
   ],
   "source": [
    "hfss.activate_ansys_design(\"flip7um_V4-\", 'eigenmode')\n",
    "hfss.render_design(['Q0','c0','lpL','lpR','stg','rr0','fl0'],[],\n",
    "                    box_plus_buffer=False)"
   ]
  },
  {
   "cell_type": "code",
   "execution_count": 27,
   "metadata": {},
   "outputs": [
    {
     "data": {
      "text/plain": [
       "True"
      ]
     },
     "execution_count": 27,
     "metadata": {},
     "output_type": "execute_result"
    }
   ],
   "source": [
    "hfss.close()\n"
   ]
  },
  {
   "cell_type": "markdown",
   "metadata": {},
   "source": [
    "# LOM Analysis"
   ]
  },
  {
   "cell_type": "code",
   "execution_count": 30,
   "metadata": {},
   "outputs": [],
   "source": [
    "from qiskit_metal.analyses.quantization import LOManalysis\n",
    "c1 = LOManalysis(design, \"q3d\")"
   ]
  },
  {
   "cell_type": "code",
   "execution_count": 31,
   "metadata": {},
   "outputs": [
    {
     "data": {
      "text/plain": [
       "{'name': 'Setup',\n",
       " 'reuse_selected_design': True,\n",
       " 'reuse_setup': True,\n",
       " 'freq_ghz': '4.8',\n",
       " 'save_fields': False,\n",
       " 'enabled': True,\n",
       " 'max_passes': 10,\n",
       " 'min_passes': 2,\n",
       " 'min_converged_passes': 2,\n",
       " 'percent_error': 0.5,\n",
       " 'percent_refinement': 30,\n",
       " 'auto_increase_solution_order': 'False',\n",
       " 'solution_order': 'Medium',\n",
       " 'solver_type': 'Iterative'}"
      ]
     },
     "execution_count": 31,
     "metadata": {},
     "output_type": "execute_result"
    }
   ],
   "source": [
    "c1.sim.setup.max_passes = 10\n",
    "c1.sim.setup_update(freq_ghz='4.8',solution_order = 'Medium', auto_increase_solution_order = 'False')\n",
    "c1.sim.setup"
   ]
  },
  {
   "cell_type": "code",
   "execution_count": 33,
   "metadata": {},
   "outputs": [
    {
     "name": "stderr",
     "output_type": "stream",
     "text": [
      "INFO 04:23PM [get_matrix]: Exporting matrix data to (C:\\Users\\kimje\\AppData\\Local\\Temp\\tmpfktp5g1o.txt, C, , Setup:LastAdaptive, \"Original\", \"ohm\", \"nH\", \"fF\", \"mSie\", 4800000000, Maxwell, 1, False\n",
      "INFO 04:23PM [get_matrix]: Exporting matrix data to (C:\\Users\\kimje\\AppData\\Local\\Temp\\tmph6fdtun2.txt, C, , Setup:AdaptivePass, \"Original\", \"ohm\", \"nH\", \"fF\", \"mSie\", 4800000000, Maxwell, 1, False\n",
      "INFO 04:23PM [get_matrix]: Exporting matrix data to (C:\\Users\\kimje\\AppData\\Local\\Temp\\tmpq9kqk2c9.txt, C, , Setup:AdaptivePass, \"Original\", \"ohm\", \"nH\", \"fF\", \"mSie\", 4800000000, Maxwell, 2, False\n",
      "INFO 04:23PM [get_matrix]: Exporting matrix data to (C:\\Users\\kimje\\AppData\\Local\\Temp\\tmpt4k_7jxa.txt, C, , Setup:AdaptivePass, \"Original\", \"ohm\", \"nH\", \"fF\", \"mSie\", 4800000000, Maxwell, 3, False\n",
      "INFO 04:23PM [get_matrix]: Exporting matrix data to (C:\\Users\\kimje\\AppData\\Local\\Temp\\tmpz9rsu8y8.txt, C, , Setup:AdaptivePass, \"Original\", \"ohm\", \"nH\", \"fF\", \"mSie\", 4800000000, Maxwell, 4, False\n",
      "INFO 04:23PM [get_matrix]: Exporting matrix data to (C:\\Users\\kimje\\AppData\\Local\\Temp\\tmpjcq6xfy9.txt, C, , Setup:AdaptivePass, \"Original\", \"ohm\", \"nH\", \"fF\", \"mSie\", 4800000000, Maxwell, 5, False\n",
      "INFO 04:23PM [get_matrix]: Exporting matrix data to (C:\\Users\\kimje\\AppData\\Local\\Temp\\tmpielot_jd.txt, C, , Setup:AdaptivePass, \"Original\", \"ohm\", \"nH\", \"fF\", \"mSie\", 4800000000, Maxwell, 6, False\n",
      "INFO 04:23PM [get_matrix]: Exporting matrix data to (C:\\Users\\kimje\\AppData\\Local\\Temp\\tmpjewxz5vw.txt, C, , Setup:AdaptivePass, \"Original\", \"ohm\", \"nH\", \"fF\", \"mSie\", 4800000000, Maxwell, 7, False\n",
      "INFO 04:23PM [get_matrix]: Exporting matrix data to (C:\\Users\\kimje\\AppData\\Local\\Temp\\tmpqs2ksoc5.txt, C, , Setup:AdaptivePass, \"Original\", \"ohm\", \"nH\", \"fF\", \"mSie\", 4800000000, Maxwell, 8, False\n"
     ]
    },
    {
     "data": {
      "text/html": [
       "<div>\n",
       "<style scoped>\n",
       "    .dataframe tbody tr th:only-of-type {\n",
       "        vertical-align: middle;\n",
       "    }\n",
       "\n",
       "    .dataframe tbody tr th {\n",
       "        vertical-align: top;\n",
       "    }\n",
       "\n",
       "    .dataframe thead th {\n",
       "        text-align: right;\n",
       "    }\n",
       "</style>\n",
       "<table border=\"1\" class=\"dataframe\">\n",
       "  <thead>\n",
       "    <tr style=\"text-align: right;\">\n",
       "      <th></th>\n",
       "      <th>ground</th>\n",
       "      <th>pad_bot_Q0</th>\n",
       "      <th>pad_top_Q0</th>\n",
       "      <th>quad_coupler_c0</th>\n",
       "    </tr>\n",
       "  </thead>\n",
       "  <tbody>\n",
       "    <tr>\n",
       "      <th>ground</th>\n",
       "      <td>370.320</td>\n",
       "      <td>-122.820000</td>\n",
       "      <td>-107.020</td>\n",
       "      <td>-75.308000</td>\n",
       "    </tr>\n",
       "    <tr>\n",
       "      <th>pad_bot_Q0</th>\n",
       "      <td>-122.820</td>\n",
       "      <td>139.040000</td>\n",
       "      <td>-14.837</td>\n",
       "      <td>-0.097944</td>\n",
       "    </tr>\n",
       "    <tr>\n",
       "      <th>pad_top_Q0</th>\n",
       "      <td>-107.020</td>\n",
       "      <td>-14.837000</td>\n",
       "      <td>139.060</td>\n",
       "      <td>-15.702000</td>\n",
       "    </tr>\n",
       "    <tr>\n",
       "      <th>quad_coupler_c0</th>\n",
       "      <td>-75.308</td>\n",
       "      <td>-0.097944</td>\n",
       "      <td>-15.702</td>\n",
       "      <td>91.174000</td>\n",
       "    </tr>\n",
       "  </tbody>\n",
       "</table>\n",
       "</div>"
      ],
      "text/plain": [
       "                  ground  pad_bot_Q0  pad_top_Q0  quad_coupler_c0\n",
       "ground           370.320 -122.820000    -107.020       -75.308000\n",
       "pad_bot_Q0      -122.820  139.040000     -14.837        -0.097944\n",
       "pad_top_Q0      -107.020  -14.837000     139.060       -15.702000\n",
       "quad_coupler_c0  -75.308   -0.097944     -15.702        91.174000"
      ]
     },
     "execution_count": 33,
     "metadata": {},
     "output_type": "execute_result"
    }
   ],
   "source": [
    "#c1.sim.run(components=['Q0','c0'], open_terminations=[('c0', 'in')])\n",
    "c1.sim._get_results_from_renderer()\n",
    "c1.sim.capacitance_matrix"
   ]
  },
  {
   "cell_type": "code",
   "execution_count": 34,
   "metadata": {},
   "outputs": [
    {
     "name": "stdout",
     "output_type": "stream",
     "text": [
      "[1, 2] [3]\n",
      "Predicted Values\n",
      "\n",
      "Transmon Properties\n",
      "f_Q 5.164396 [GHz]\n",
      "EC 247.552510 [MHz]\n",
      "EJ 14.854145 [GHz]\n",
      "alpha -280.122062 [MHz]\n",
      "dispersion 1.841278 [KHz]\n",
      "Lq 10.995564 [nH]\n",
      "Cq 78.246947 [fF]\n",
      "T1 94.356370 [us]\n",
      "\n",
      "**Coupling Properties**\n",
      "\n",
      "tCqbus1 -7.808330 [fF]\n",
      "gbus1_in_MHz -103.173825 [MHz]\n",
      "χ_bus1 -1.658406 [MHz]\n",
      "1/T1bus1 1686.742967 [Hz]\n",
      "T1bus1 94.356370 [us]\n",
      "Bus-Bus Couplings\n"
     ]
    },
    {
     "data": {
      "text/html": [
       "<div>\n",
       "<style scoped>\n",
       "    .dataframe tbody tr th:only-of-type {\n",
       "        vertical-align: middle;\n",
       "    }\n",
       "\n",
       "    .dataframe tbody tr th {\n",
       "        vertical-align: top;\n",
       "    }\n",
       "\n",
       "    .dataframe thead th {\n",
       "        text-align: right;\n",
       "    }\n",
       "</style>\n",
       "<table border=\"1\" class=\"dataframe\">\n",
       "  <thead>\n",
       "    <tr style=\"text-align: right;\">\n",
       "      <th></th>\n",
       "      <th>fQ</th>\n",
       "      <th>EC</th>\n",
       "      <th>EJ</th>\n",
       "      <th>alpha</th>\n",
       "      <th>dispersion</th>\n",
       "      <th>gbus</th>\n",
       "      <th>chi_in_MHz</th>\n",
       "      <th>χr MHz</th>\n",
       "      <th>gr MHz</th>\n",
       "    </tr>\n",
       "  </thead>\n",
       "  <tbody>\n",
       "    <tr>\n",
       "      <th>1</th>\n",
       "      <td>5.552002</td>\n",
       "      <td>288.565483</td>\n",
       "      <td>14.854145</td>\n",
       "      <td>-330.59549</td>\n",
       "      <td>8.805326</td>\n",
       "      <td>[-205.72618478214446]</td>\n",
       "      <td>[-11.76385197695549]</td>\n",
       "      <td>11.763852</td>\n",
       "      <td>205.726185</td>\n",
       "    </tr>\n",
       "    <tr>\n",
       "      <th>2</th>\n",
       "      <td>5.335569</td>\n",
       "      <td>265.22844</td>\n",
       "      <td>14.854145</td>\n",
       "      <td>-301.743362</td>\n",
       "      <td>3.781098</td>\n",
       "      <td>[-114.29860977336497]</td>\n",
       "      <td>[-2.6021103986687595]</td>\n",
       "      <td>2.602110</td>\n",
       "      <td>114.298610</td>\n",
       "    </tr>\n",
       "    <tr>\n",
       "      <th>3</th>\n",
       "      <td>5.227271</td>\n",
       "      <td>253.965821</td>\n",
       "      <td>14.854145</td>\n",
       "      <td>-287.943797</td>\n",
       "      <td>2.41169</td>\n",
       "      <td>[-108.24069198557233]</td>\n",
       "      <td>[-1.9944757863675664]</td>\n",
       "      <td>1.994476</td>\n",
       "      <td>108.240692</td>\n",
       "    </tr>\n",
       "    <tr>\n",
       "      <th>4</th>\n",
       "      <td>5.158315</td>\n",
       "      <td>246.937105</td>\n",
       "      <td>14.854145</td>\n",
       "      <td>-279.372889</td>\n",
       "      <td>1.793205</td>\n",
       "      <td>[-107.08590624356997]</td>\n",
       "      <td>[-1.7714665646597878]</td>\n",
       "      <td>1.771467</td>\n",
       "      <td>107.085906</td>\n",
       "    </tr>\n",
       "    <tr>\n",
       "      <th>5</th>\n",
       "      <td>5.138238</td>\n",
       "      <td>244.911449</td>\n",
       "      <td>14.854145</td>\n",
       "      <td>-276.908632</td>\n",
       "      <td>1.64249</td>\n",
       "      <td>[-103.937421636224]</td>\n",
       "      <td>[-1.6229299632867906]</td>\n",
       "      <td>1.622930</td>\n",
       "      <td>103.937422</td>\n",
       "    </tr>\n",
       "    <tr>\n",
       "      <th>6</th>\n",
       "      <td>5.17655</td>\n",
       "      <td>248.785037</td>\n",
       "      <td>14.854145</td>\n",
       "      <td>-281.623226</td>\n",
       "      <td>1.940885</td>\n",
       "      <td>[-104.44198454463124]</td>\n",
       "      <td>[-1.7285590789201177]</td>\n",
       "      <td>1.728559</td>\n",
       "      <td>104.441985</td>\n",
       "    </tr>\n",
       "    <tr>\n",
       "      <th>7</th>\n",
       "      <td>5.164396</td>\n",
       "      <td>247.55251</td>\n",
       "      <td>14.854145</td>\n",
       "      <td>-280.122062</td>\n",
       "      <td>1.841278</td>\n",
       "      <td>[-103.17382472930872]</td>\n",
       "      <td>[-1.6584056689733948]</td>\n",
       "      <td>1.658406</td>\n",
       "      <td>103.173825</td>\n",
       "    </tr>\n",
       "  </tbody>\n",
       "</table>\n",
       "</div>"
      ],
      "text/plain": [
       "         fQ          EC         EJ       alpha dispersion  \\\n",
       "1  5.552002  288.565483  14.854145  -330.59549   8.805326   \n",
       "2  5.335569   265.22844  14.854145 -301.743362   3.781098   \n",
       "3  5.227271  253.965821  14.854145 -287.943797    2.41169   \n",
       "4  5.158315  246.937105  14.854145 -279.372889   1.793205   \n",
       "5  5.138238  244.911449  14.854145 -276.908632    1.64249   \n",
       "6   5.17655  248.785037  14.854145 -281.623226   1.940885   \n",
       "7  5.164396   247.55251  14.854145 -280.122062   1.841278   \n",
       "\n",
       "                    gbus             chi_in_MHz     χr MHz      gr MHz  \n",
       "1  [-205.72618478214446]   [-11.76385197695549]  11.763852  205.726185  \n",
       "2  [-114.29860977336497]  [-2.6021103986687595]   2.602110  114.298610  \n",
       "3  [-108.24069198557233]  [-1.9944757863675664]   1.994476  108.240692  \n",
       "4  [-107.08590624356997]  [-1.7714665646597878]   1.771467  107.085906  \n",
       "5    [-103.937421636224]  [-1.6229299632867906]   1.622930  103.937422  \n",
       "6  [-104.44198454463124]  [-1.7285590789201177]   1.728559  104.441985  \n",
       "7  [-103.17382472930872]  [-1.6584056689733948]   1.658406  103.173825  "
      ]
     },
     "execution_count": 34,
     "metadata": {},
     "output_type": "execute_result"
    }
   ],
   "source": [
    "c1.setup.junctions = Dict({'Lj': 11, 'Cj': 2})\n",
    "c1.setup.freq_readout = 6.95\n",
    "c1.setup.freq_bus = []\n",
    "c1.run_lom()\n",
    "c1.lumped_oscillator_all"
   ]
  },
  {
   "cell_type": "code",
   "execution_count": 35,
   "metadata": {},
   "outputs": [
    {
     "name": "stdout",
     "output_type": "stream",
     "text": [
      "Warning! 3 COM references still alive\n",
      "Ansys will likely refuse to shut down\n"
     ]
    }
   ],
   "source": [
    "c1.sim.close()"
   ]
  },
  {
   "cell_type": "code",
   "execution_count": null,
   "metadata": {},
   "outputs": [],
   "source": []
  }
 ],
 "metadata": {
  "kernelspec": {
   "display_name": "Python 3.9.10 ('metal')",
   "language": "python",
   "name": "python3"
  },
  "language_info": {
   "codemirror_mode": {
    "name": "ipython",
    "version": 3
   },
   "file_extension": ".py",
   "mimetype": "text/x-python",
   "name": "python",
   "nbconvert_exporter": "python",
   "pygments_lexer": "ipython3",
   "version": "3.9.10"
  },
  "orig_nbformat": 4,
  "vscode": {
   "interpreter": {
    "hash": "ac951534856e2c23f9f162419ca8ae29ffbc7967cf243c458d1cebaa12df0b5c"
   }
  }
 },
 "nbformat": 4,
 "nbformat_minor": 2
}
