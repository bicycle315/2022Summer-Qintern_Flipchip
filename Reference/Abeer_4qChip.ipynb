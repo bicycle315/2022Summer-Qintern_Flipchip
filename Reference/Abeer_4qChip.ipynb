{
 "cells": [
  {
   "cell_type": "code",
   "execution_count": 1,
   "metadata": {},
   "outputs": [],
   "source": [
    "import warnings\n",
    "warnings.filterwarnings('ignore')"
   ]
  },
  {
   "cell_type": "code",
   "execution_count": 2,
   "metadata": {},
   "outputs": [],
   "source": [
    "from qiskit_metal import designs, MetalGUI\n",
    "\n",
    "design = designs.DesignPlanar()\n",
    "design.overwrite_enabled = True\n",
    "design.chips.main.size_x = '12mm'\n",
    "design.chips.main.size_y = '10mm'"
   ]
  },
  {
   "cell_type": "code",
   "execution_count": 3,
   "metadata": {},
   "outputs": [],
   "source": [
    "gui = MetalGUI(design)"
   ]
  },
  {
   "cell_type": "markdown",
   "metadata": {},
   "source": [
    "# Transmons"
   ]
  },
  {
   "cell_type": "code",
   "execution_count": 4,
   "metadata": {},
   "outputs": [],
   "source": [
    "from qiskit_metal.qlibrary.qubits.transmon_pocket_cl import TransmonPocketCL\n",
    "\n",
    "design.delete_all_components()\n",
    "\n",
    "# Some local variables to modularize the deesign\n",
    "design_span_x = 5\n",
    "design_span_y = 3\n",
    "\n",
    "half_chip_width = design_span_x / 2\n",
    "half_chip_height = design_span_y / 2\n",
    "\n",
    "connection_pads_options = dict(\n",
    "    a = dict(loc_W=1, loc_H=-1),\n",
    "    b = dict(loc_W=1, loc_H=1),\n",
    "    c = dict(loc_W=-1, loc_H=-1)\n",
    ")\n",
    "\n",
    "transmons = []\n",
    "\n",
    "transmons.append(TransmonPocketCL(design, 'Q1',\n",
    "                      options=dict(pos_x=f'-{half_chip_width}mm',\n",
    "                                   pos_y=f'{-half_chip_height}mm',\n",
    "                                   connection_pads=dict(**connection_pads_options))))\n",
    "\n",
    "transmons.append(TransmonPocketCL(design, 'Q2',\n",
    "                      options=dict(pos_x=f'0mm',\n",
    "                                   pos_y=f'{half_chip_height}mm',\n",
    "                                   orientation=-90,\n",
    "                                   connection_pads=dict(d=dict(loc_W=-1, loc_H=1), **connection_pads_options))))\n",
    "\n",
    "transmons.append(TransmonPocketCL(design, 'Q3',\n",
    "                      options=dict(pos_x=f'0mm',\n",
    "                                   pos_y=f'{-half_chip_height}mm',\n",
    "                                   orientation=90,\n",
    "                                   connection_pads=dict(d=dict(loc_W=-1, loc_H=1), **connection_pads_options))))\n",
    "\n",
    "transmons.append(TransmonPocketCL(design, 'Q4',\n",
    "                      options=dict(pos_x=f'{half_chip_width}mm',\n",
    "                                   pos_y=f'{half_chip_height}mm',\n",
    "                                   orientation=180,\n",
    "                                   connection_pads=dict(**connection_pads_options))))\n",
    "\n",
    "# gui.rebuild()\n",
    "# gui.autoscale()"
   ]
  },
  {
   "cell_type": "markdown",
   "metadata": {},
   "source": [
    "# Connect"
   ]
  },
  {
   "cell_type": "code",
   "execution_count": 5,
   "metadata": {},
   "outputs": [],
   "source": [
    "from qiskit_metal.qlibrary.tlines.meandered import RouteMeander\n",
    "from qiskit_metal import Dict\n",
    "\n",
    "# Options for the meaders\n",
    "fillet='99.99um'\n",
    "options = Dict(\n",
    "    meander=Dict(\n",
    "        lead_start='0.1mm',\n",
    "        lead_end='0.1mm',\n",
    "        asymmetry='0 um')\n",
    ")\n",
    "\n",
    "# Helper function to connect thee meandered routes\n",
    "def connect(component_name: str, component1: str, pin1: str, component2: str, pin2: str,\n",
    "            length: str,\n",
    "            asymmetry='0 um', start_strght='0 um', end_strght='0 um', flip=False):\n",
    "    \"\"\"Connect two pins with a CPW.\"\"\"\n",
    "    myoptions = Dict(\n",
    "        pin_inputs=Dict(\n",
    "            start_pin=Dict(\n",
    "                component=component1,\n",
    "                pin=pin1),\n",
    "            end_pin=Dict(\n",
    "                component=component2,\n",
    "                pin=pin2)),\n",
    "        lead=Dict(\n",
    "            start_straight=start_strght,\n",
    "            end_straight=end_strght\n",
    "        ),\n",
    "        total_length=length,\n",
    "    fillet = '99.9um')\n",
    "    myoptions.update(options)\n",
    "    myoptions.meander.asymmetry = asymmetry\n",
    "    myoptions.meander.lead_direction_inverted = 'true' if flip else 'false'\n",
    "    return RouteMeander(design, component_name, myoptions)\n",
    "\n",
    "\n",
    "# Define asymmetry (itrative process)\n",
    "asym_h = 100\n",
    "asym_v = 100\n",
    "cpw = []\n",
    "\n",
    "# Connect CPW coulers between qubits (with some arbitrary length initially)\n",
    "cpw.append(connect('cpw1', 'Q1', 'b', 'Q2', 'a', '8 mm', f'+{asym_h}um', '0.1mm', '0.1mm'))\n",
    "cpw.append(connect('cpw2', 'Q3', 'b', 'Q2', 'b', '8 mm', f'-{asym_v}um', '0.6mm', '0.4mm'))\n",
    "cpw.append(connect('cpw3', 'Q4', 'b', 'Q3', 'a', '8 mm', f'+{asym_h}um', '0.1mm', '0.1mm'))\n",
    "cpw.append(connect('cpw4', 'Q3', 'd', 'Q1', 'a', '8 mm', f'-{asym_h}um', '0.1mm', '0.1mm'))\n",
    "cpw.append(connect('cpw5', 'Q2', 'd', 'Q4', 'a', '8 mm', f'-{asym_h}um', '0.1mm', '0.1mm'))\n",
    "\n",
    "\n",
    "gui.rebuild()\n",
    "gui.autoscale()"
   ]
  },
  {
   "cell_type": "code",
   "execution_count": 29,
   "metadata": {},
   "outputs": [],
   "source": [
    "from qiskit_metal.analyses.em.cpw_calculations import guided_wavelength\n",
    "\n",
    "def find_resonator_length(frequency, line_width, line_gap, N): \n",
    "    #frequency in GHz\n",
    "    #line_width/line_gap in um\n",
    "    #N -> 2 for lambda/2, 4 for lambda/4\n",
    "    \n",
    "    [lambdaG, etfSqrt, q] = guided_wavelength(frequency*10**9, line_width*10**-6,\n",
    "                                              line_gap*10**-6, 750*10**-6, 200*10**-9)\n",
    "    return str(lambdaG/N*10**3)+\" mm\""
   ]
  },
  {
   "cell_type": "code",
   "execution_count": 30,
   "metadata": {},
   "outputs": [
    {
     "data": {
      "text/plain": [
       "'8.694776247529553 mm'"
      ]
     },
     "execution_count": 30,
     "metadata": {},
     "output_type": "execute_result"
    }
   ],
   "source": [
    "find_resonator_length(7, 10, 6, 2)"
   ]
  },
  {
   "cell_type": "markdown",
   "metadata": {},
   "source": [
    "# Launchpad"
   ]
  },
  {
   "cell_type": "code",
   "execution_count": 6,
   "metadata": {},
   "outputs": [],
   "source": [
    "from qiskit_metal.qlibrary.terminations.launchpad_wb_coupled import LaunchpadWirebondCoupled\n",
    "\n",
    "readouts_lwc = []\n",
    "cl_lwc = []\n",
    "\n",
    "offset_x = 0\n",
    "offset_y = 1\n",
    "\n",
    "\n",
    "#Readouts\n",
    "readouts_lwc.append(LaunchpadWirebondCoupled(design, 'R1',\n",
    "                                         options = dict(\n",
    "                                         pos_x = '-5mm',\n",
    "                                         pos_y = f'-{half_chip_height+offset_y}mm',\n",
    "                                         lead_length = '30um')))\n",
    "\n",
    "readouts_lwc.append(LaunchpadWirebondCoupled(design, 'R2',\n",
    "                                         options = dict(\n",
    "                                         pos_x = '-1mm',\n",
    "                                         pos_y = '4mm',\n",
    "                                         orientation = -90,\n",
    "                                         lead_length = '30um')))\n",
    "\n",
    "readouts_lwc.append(LaunchpadWirebondCoupled(design, 'R3',\n",
    "                                         options = dict(\n",
    "                                         pos_x = '1mm',\n",
    "                                         pos_y = '-4mm',\n",
    "                                         orientation = 90,\n",
    "                                         lead_length = '30um')))\n",
    "\n",
    "readouts_lwc.append(LaunchpadWirebondCoupled(design, 'R4',\n",
    "                                         options = dict(\n",
    "                                         pos_x = '5mm',\n",
    "                                         pos_y = f'{half_chip_height+offset_y}mm',\n",
    "                                         orientation = 180,\n",
    "                                         lead_length = '30um')))\n",
    "\n",
    "#Controls\n",
    "cl_lwc.append(LaunchpadWirebondCoupled(design, 'CL1',\n",
    "                                         options = dict(\n",
    "                                         pos_x = '-5mm',\n",
    "                                         pos_y = '2mm',\n",
    "                                         lead_length = '30um')))\n",
    "\n",
    "cl_lwc.append(LaunchpadWirebondCoupled(design, 'CL2',\n",
    "                                         options = dict(\n",
    "                                         pos_x = '4mm',\n",
    "                                         pos_y = '4mm',\n",
    "                                         orientation = -90,\n",
    "                                         lead_length = '30um')))\n",
    "\n",
    "cl_lwc.append(LaunchpadWirebondCoupled(design, 'CL3',\n",
    "                                         options = dict(\n",
    "                                         pos_x = '-4mm',\n",
    "                                         pos_y = '-4mm',\n",
    "                                         orientation = 90,\n",
    "                                         lead_length = '30um')))\n",
    "\n",
    "cl_lwc.append(LaunchpadWirebondCoupled(design, 'CL4',\n",
    "                                         options = dict(\n",
    "                                         pos_x = '5mm',\n",
    "                                         pos_y = '-2mm',\n",
    "                                         orientation = 180,\n",
    "                                         lead_length = '30um')))\n",
    "\n",
    "# gui.rebuild()\n",
    "# gui.autoscale()"
   ]
  },
  {
   "cell_type": "markdown",
   "metadata": {},
   "source": [
    "# Connect Readouts"
   ]
  },
  {
   "cell_type": "code",
   "execution_count": 7,
   "metadata": {},
   "outputs": [],
   "source": [
    "readout_lines = []\n",
    "\n",
    "asym_14 = 700\n",
    "asym_23 = 700\n",
    "options = Dict(\n",
    "    lead=Dict(\n",
    "        start_straight='430um',\n",
    "        end_straight='0um'),\n",
    "    fillet='99.99um')\n",
    "\n",
    "readout_lines.append(connect('ol1', 'Q1', 'c', 'R1', 'tie', '8 mm', f'{asym_14}um'))\n",
    "readout_lines.append(connect('ol2', 'Q2', 'c', 'R2', 'tie', '8 mm', f'{asym_23}um'))\n",
    "readout_lines.append(connect('ol3', 'Q3', 'c', 'R3', 'tie', '8 mm', f'{asym_23}um'))\n",
    "readout_lines.append(connect('ol4', 'Q4', 'c', 'R4', 'tie', '8 mm', f'{asym_14}um'))\n",
    "\n",
    "# gui.rebuild()\n",
    "# gui.autoscale()"
   ]
  },
  {
   "cell_type": "markdown",
   "metadata": {},
   "source": [
    "# Connect Charge lines"
   ]
  },
  {
   "cell_type": "code",
   "execution_count": 8,
   "metadata": {},
   "outputs": [],
   "source": [
    "from qiskit_metal.qlibrary.tlines.anchored_path import RouteAnchors\n",
    "from collections import OrderedDict\n",
    "import numpy as np\n",
    "\n",
    "control_lines = []\n",
    "\n",
    "def connectRouteAnchor(name: str,\n",
    "                       component1: str, pin1: str, component2: str, pin2: str,\n",
    "                       anchor_points: OrderedDict) -> RouteAnchors:\n",
    "\n",
    "    options_line_cl = dict(\n",
    "        pin_inputs = dict(start_pin = dict(component = component1, pin = pin1),\n",
    "                          end_pin = dict(component = component2, pin = pin2)),\n",
    "        anchors = anchor_points,\n",
    "        lead = dict(start_straight = '200um',\n",
    "                    end_straight = '225um'),\n",
    "        fillet = fillet\n",
    "    )\n",
    "    \n",
    "    return RouteAnchors(design, name, options_line_cl)\n",
    "\n",
    "\n",
    "\n",
    "anchors1c = OrderedDict()\n",
    "anchors1c[0] = np.array([-4, -1.42])\n",
    "anchors1c[1] = np.array([-4, 2])\n",
    "\n",
    "control_lines.append(connectRouteAnchor('line_cl1', 'Q1', 'Charge_Line', 'CL1', 'tie', anchors1c))\n",
    "\n",
    "\n",
    "anchors2c = OrderedDict()\n",
    "anchors2c[0] = np.array([0.08, 3.25])\n",
    "anchors2c[1] = np.array([4, 3.25])\n",
    "\n",
    "control_lines.append(connectRouteAnchor('line_cl2', 'Q2', 'Charge_Line', 'CL2', 'tie', anchors2c))\n",
    "\n",
    "anchors3c = OrderedDict()\n",
    "anchors3c[0] = np.array([-0.08, -3.25])\n",
    "anchors3c[1] = np.array([-4, -3.25])\n",
    "\n",
    "control_lines.append(connectRouteAnchor('line_cl3', 'Q3', 'Charge_Line', 'CL3', 'tie', anchors3c))\n",
    "\n",
    "anchors4c = OrderedDict()\n",
    "anchors4c[0] = np.array([4, 1.42])\n",
    "anchors4c[1] = np.array([4, -2])\n",
    "\n",
    "control_lines.append(connectRouteAnchor('line_cl4', 'Q4', 'Charge_Line', 'CL4', 'tie', anchors4c))\n",
    "\n",
    "gui.rebuild()\n",
    "gui.autoscale()"
   ]
  },
  {
   "cell_type": "code",
   "execution_count": null,
   "metadata": {},
   "outputs": [],
   "source": []
  }
 ],
 "metadata": {
  "kernelspec": {
   "display_name": "Python 3.9.10 ('metal')",
   "language": "python",
   "name": "python3"
  },
  "language_info": {
   "codemirror_mode": {
    "name": "ipython",
    "version": 3
   },
   "file_extension": ".py",
   "mimetype": "text/x-python",
   "name": "python",
   "nbconvert_exporter": "python",
   "pygments_lexer": "ipython3",
   "version": "3.9.10"
  },
  "orig_nbformat": 4,
  "vscode": {
   "interpreter": {
    "hash": "ac951534856e2c23f9f162419ca8ae29ffbc7967cf243c458d1cebaa12df0b5c"
   }
  }
 },
 "nbformat": 4,
 "nbformat_minor": 2
}
