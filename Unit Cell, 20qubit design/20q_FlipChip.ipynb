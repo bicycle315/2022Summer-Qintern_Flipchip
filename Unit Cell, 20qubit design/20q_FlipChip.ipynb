{
 "cells": [
  {
   "cell_type": "code",
   "execution_count": 1,
   "metadata": {},
   "outputs": [],
   "source": [
    "import warnings\n",
    "warnings.filterwarnings(\"ignore\")\n",
    "\n",
    "%load_ext autoreload\n",
    "%autoreload 2"
   ]
  },
  {
   "cell_type": "code",
   "execution_count": 2,
   "metadata": {},
   "outputs": [],
   "source": [
    "from qiskit_metal import Dict, MetalGUI, designs\n",
    "from qiskit_metal.qlibrary.qubits.transmon_pocket import TransmonPocket\n",
    "from qiskit_metal.qlibrary.tlines.meandered import RouteMeander\n",
    "from qiskit_metal.qlibrary.tlines.straight_path import RouteStraight\n",
    "from qiskit_metal.qlibrary.terminations.launchpad_wb_coupled import LaunchpadWirebondCoupled\n",
    "from qiskit_metal.qlibrary.couplers.coupled_line_tee import CoupledLineTee"
   ]
  },
  {
   "cell_type": "code",
   "execution_count": 3,
   "metadata": {},
   "outputs": [],
   "source": [
    "design = designs.DesignFlipChip({}, overwrite_enabled=True)\n",
    "gui = MetalGUI(design)"
   ]
  },
  {
   "cell_type": "code",
   "execution_count": 4,
   "metadata": {},
   "outputs": [],
   "source": [
    "# Design variables\n",
    "center_x =0\n",
    "center_y =0\n",
    "x = 0.6875+0.650 # qubit x spacing\n",
    "y = 0.8+0.650 # qubit y spacing\n",
    "offset = x//2\n",
    "\n",
    "feed_x = x*1.5"
   ]
  },
  {
   "cell_type": "code",
   "execution_count": 5,
   "metadata": {},
   "outputs": [],
   "source": [
    "design.delete_all_components()"
   ]
  },
  {
   "cell_type": "code",
   "execution_count": 7,
   "metadata": {},
   "outputs": [],
   "source": [
    "# Qubits\n",
    "connection_pads = dict(B0 = dict(loc_W=-1, loc_H=-1, pad_width='120um'),\n",
    "                       B1  = dict(loc_W=-1, loc_H=+1, pad_width='120um'),\n",
    "                       B2  = dict(loc_W=+1, loc_H=-1, pad_width='120um'),\n",
    "                       B3 = dict(loc_w = +1, loc_H = +1, pad_width='120um'))\n",
    "\n",
    "space=[y/2,-y/2,-3*y/2]                           \n",
    "q0 = TransmonPocket(design, \"Q0\", options=dict(pos_x=f\"{center_x-2*x}mm\",\n",
    "                                               pos_y=f\"{center_y+2*y}mm\",\n",
    "                                               chip=\"Q_chip\",\n",
    "                                               connection_pads=connection_pads))\n",
    "for i,j in zip(range(1,4), space):\n",
    "    a=[TransmonPocket(design,'Q'+str(i), options=dict(pos_x=f\"{center_x-2*x}mm\",\n",
    "                                                    pos_y=f\"{center_y+j*y}\",\n",
    "                                                    chip=\"Q_chip\",\n",
    "                                               connection_pads=connection_pads))]\n",
    "\n",
    "q4 = TransmonPocket(design, \"Q4\", options=dict(pos_x=f\"{center_x-x}mm\",\n",
    "                                               pos_y=f\"{center_y+2*y}mm\",\n",
    "                                               chip=\"Q_chip\",\n",
    "                                               connection_pads=connection_pads))\n",
    "for i,j in zip(range(1,4),space) :\n",
    "    a=[TransmonPocket(design,'Q'+str(i+4), options=dict(pos_x=f\"{center_x-x}mm\",\n",
    "                                                    pos_y=f\"{center_y+j*y}\",\n",
    "                                                    chip=\"Q_chip\",\n",
    "                                               connection_pads=connection_pads))]                                               \n",
    "q8 = TransmonPocket(design, \"Q8\", options=dict(pos_x=f\"{center_x}mm\",\n",
    "                                               pos_y=f\"{center_y+2*y}mm\",\n",
    "                                               chip=\"Q_chip\",\n",
    "                                               connection_pads=connection_pads))\n",
    "for i,j in zip(range(1,4),space) :\n",
    "    a=[TransmonPocket(design,'Q'+str(i+8), options=dict(pos_x=f\"{center_x}mm\",\n",
    "                                                    pos_y=f\"{center_y+j*y}\",\n",
    "                                                    chip=\"Q_chip\",\n",
    "                                               connection_pads=connection_pads))]\n",
    "q12 = TransmonPocket(design, \"Q12\", options=dict(pos_x=f\"{center_x+x}mm\",\n",
    "                                               pos_y=f\"{center_y+2*y}mm\",\n",
    "                                               chip=\"Q_chip\",\n",
    "                                               connection_pads=connection_pads))\n",
    "for i,j in zip(range(1,4),space) :\n",
    "    a=[TransmonPocket(design,'Q'+str(i+12), options=dict(pos_x=f\"{center_x+x}mm\",\n",
    "                                                    pos_y=f\"{center_y+j*y}\",\n",
    "                                                    chip=\"Q_chip\",\n",
    "                                               connection_pads=connection_pads))]                                               \n",
    "q16 = TransmonPocket(design, \"Q16\", options=dict(pos_x=f\"{center_x+2*x}mm\",\n",
    "                                               pos_y=f\"{center_y+2*y}mm\",\n",
    "                                               chip=\"Q_chip\",\n",
    "                                               connection_pads=connection_pads))\n",
    "for i,j in zip(range(1,4),space) :\n",
    "    a=[TransmonPocket(design,'Q'+str(i+16), options=dict(pos_x=f\"{center_x+2*x}mm\",\n",
    "                                                    pos_y=f\"{center_y+j*y}\",\n",
    "                                                    chip=\"Q_chip\",\n",
    "                                               connection_pads=connection_pads))]\n",
    "\n",
    "design.rebuild()\n",
    "gui.rebuild()\n",
    "gui.autoscale()"
   ]
  },
  {
   "cell_type": "code",
   "execution_count": 16,
   "metadata": {},
   "outputs": [],
   "source": [
    "# Feedline Launchpads\n",
    "q0_xpos=float(q0.options.pos_x.strip('mm'))\n",
    "q0_ypos=float(q0.options.pos_y.strip('mm'))\n",
    "q16_xpos=float(q16.options.pos_x.strip('mm'))\n",
    "q16_ypos=float(q16.options.pos_y.strip('mm'))\n",
    "flpad1 = LaunchpadWirebondCoupled(design, \"L1\",\n",
    "                                    options=dict(pos_x=f'{q0_xpos-1}mm',\n",
    "                                                 pos_y=f'{q0_ypos+-(y/2)}mm',\n",
    "                                                 chip=\"C_chip\",\n",
    "                                                 orientation=\"0\"))\n",
    "\n",
    "flpad2 = LaunchpadWirebondCoupled(design, \"L2\",\n",
    "                                     options=dict(pos_x=f'{q16_xpos+1}mm',\n",
    "                                                  pos_y=f'{q16_ypos+-(y/2)}mm',\n",
    "                                                  chip=\"C_chip\",\n",
    "                                                  orientation=\"180\"))\n",
    "flpad3 = LaunchpadWirebondCoupled(design, \"L3\",\n",
    "                                    options=dict(pos_x=f'{q0_xpos-1}mm',\n",
    "                                                 pos_y=f'{q0_ypos-7+0.35}mm',\n",
    "                                                 chip=\"C_chip\",\n",
    "                                                 orientation=\"90\"))\n",
    "\n",
    "flpad4 = LaunchpadWirebondCoupled(design, \"L4\",\n",
    "                                     options=dict(pos_x=f'{q16_xpos+1}mm',\n",
    "                                                  pos_y=f'{q16_ypos-7+0.35}mm',\n",
    "                                                  chip=\"C_chip\",\n",
    "                                                  orientation=\"90\"))\n",
    "\n",
    "\n",
    "design.rebuild()\n",
    "gui.rebuild()\n",
    "gui.autoscale()"
   ]
  },
  {
   "cell_type": "code",
   "execution_count": null,
   "metadata": {},
   "outputs": [],
   "source": []
  },
  {
   "cell_type": "code",
   "execution_count": 10,
   "metadata": {},
   "outputs": [],
   "source": [
    "# Feedline\n",
    "pin_opt1 = Dict(pin_inputs=Dict(start_pin=Dict(\n",
    "                                    component='L1',\n",
    "                                    pin='tie'),\n",
    "                                end_pin=Dict(\n",
    "                                    component='L2',\n",
    "                                    pin='tie')),\n",
    "                                    chip=\"C_chip\",\n",
    "                                    fillet='99um')\n",
    "pin_opt1.lead.start_straight = '1.975mm'\n",
    "pin_opt1.lead.end_straight = '1.975mm'\n",
    "pin_opt2 = Dict(pin_inputs=Dict(start_pin=Dict(\n",
    "                                    component='L3',\n",
    "                                    pin='tie'),\n",
    "                                end_pin=Dict(\n",
    "                                    component='L4',\n",
    "                                    pin='tie')),\n",
    "                                    chip=\"C_chip\",\n",
    "                                    fillet='99um')\n",
    "pin_opt2.lead.start_straight = '1.975mm'\n",
    "pin_opt2.lead.end_straight = '1.975mm'\n",
    "fl1 = RouteStraight(design, \"fl1\", pin_opt1)\n",
    "fl1 = RouteStraight(design, \"fl2\", pin_opt2)\n",
    "design.rebuild()\n",
    "gui.rebuild()\n",
    "gui.autoscale()                   \n"
   ]
  },
  {
   "cell_type": "code",
   "execution_count": 40,
   "metadata": {},
   "outputs": [
    {
     "data": {
      "text/plain": [
       "{'pin_inputs': {'start_pin': {'component': '', 'pin': ''},\n",
       "  'end_pin': {'component': '', 'pin': ''}},\n",
       " 'fillet': '0',\n",
       " 'lead': {'start_straight': '0mm',\n",
       "  'end_straight': '0mm',\n",
       "  'start_jogged_extension': '',\n",
       "  'end_jogged_extension': ''},\n",
       " 'total_length': '7mm',\n",
       " 'trace_width': 'cpw_width'}"
      ]
     },
     "execution_count": 40,
     "metadata": {},
     "output_type": "execute_result"
    }
   ],
   "source": [
    "fl1.default_options"
   ]
  },
  {
   "cell_type": "code",
   "execution_count": 13,
   "metadata": {},
   "outputs": [],
   "source": [
    "cp1top = LaunchpadWirebondCoupled(design, \"cp1\",\n",
    "                                    options=dict(pos_x=f'{q0_xpos-0.3}mm',\n",
    "                                                 pos_y=f'{q0_ypos+1-0.15}mm',\n",
    "                                                 chip=\"C_chip\",\n",
    "                                                 orientation=\"270\"))\n",
    "\n",
    "cp2top = LaunchpadWirebondCoupled(design, \"cp2\",\n",
    "                                     options=dict(pos_x=f'{q0_xpos-0.3+x}mm',\n",
    "                                                  pos_y=f'{q16_ypos+1-0.15}mm',\n",
    "                                                  chip=\"C_chip\",\n",
    "                                                  orientation=\"270\"))\n",
    "cp3top = LaunchpadWirebondCoupled(design, \"cp3\",\n",
    "                                    options=dict(pos_x=f'{q0_xpos+0.3+3*x}mm',\n",
    "                                                 pos_y=f'{q0_ypos+1-0.15}mm',\n",
    "                                                 chip=\"C_chip\",\n",
    "                                                 orientation=\"270\"))\n",
    "\n",
    "cp4top = LaunchpadWirebondCoupled(design, \"cp4\",\n",
    "                                     options=dict(pos_x=f'{q0_xpos+0.3+4*x}mm',\n",
    "                                                  pos_y=f'{q16_ypos+1-0.15}mm',\n",
    "                                                  chip=\"C_chip\",\n",
    "                                                  orientation=\"270\"))\n",
    "design.rebuild()\n",
    "gui.rebuild()\n",
    "gui.autoscale()                   \n"
   ]
  },
  {
   "cell_type": "code",
   "execution_count": null,
   "metadata": {},
   "outputs": [],
   "source": []
  },
  {
   "cell_type": "code",
   "execution_count": 26,
   "metadata": {},
   "outputs": [],
   "source": [
    "cp5bot = LaunchpadWirebondCoupled(design, \"cp1\",\n",
    "                                    options=dict(pos_x=f'{q0_xpos-0.3}mm',\n",
    "                                                 pos_y=f'{q0_ypos-7}mm',\n",
    "                                                 chip=\"C_chip\",\n",
    "                                                 orientation=\"90\"))\n",
    "\n",
    "cp6bot= LaunchpadWirebondCoupled(design, \"cp6\",\n",
    "                                     options=dict(pos_x=f'{q0_xpos-0.3+x}mm',\n",
    "                                                  pos_y=f'{q16_ypos-7}mm',\n",
    "                                                  chip=\"C_chip\",\n",
    "                                                  orientation=\"90\"))\n",
    "cp7bot = LaunchpadWirebondCoupled(design, \"cp7\",\n",
    "                                    options=dict(pos_x=f'{q0_xpos+0.3+3*x}mm',\n",
    "                                                 pos_y=f'{q0_ypos+-7}mm',\n",
    "                                                 chip=\"C_chip\",\n",
    "                                                 orientation=\"90\"))\n",
    "\n",
    "cp8bot = LaunchpadWirebondCoupled(design, \"cp8\",\n",
    "                                     options=dict(pos_x=f'{q0_xpos+0.3+4*x}mm',\n",
    "                                                  pos_y=f'{q16_ypos+-7}mm',\n",
    "                                                  chip=\"C_chip\",\n",
    "                                                  orientation=\"90\"))\n",
    "design.rebuild()\n",
    "gui.rebuild()\n",
    "gui.autoscale()                   \n"
   ]
  },
  {
   "cell_type": "code",
   "execution_count": 34,
   "metadata": {},
   "outputs": [
    {
     "name": "stderr",
     "output_type": "stream",
     "text": [
      "10:05PM 43s WARNING [check_lengths]: For path table, component=cl1, key=trace has short segments that could cause issues with fillet. Values in (1-5)  are index(es) in shapely geometry.\n",
      "10:05PM 43s WARNING [check_lengths]: For path table, component=cl1, key=cut has short segments that could cause issues with fillet. Values in (1-5)  are index(es) in shapely geometry.\n",
      "10:05PM 43s WARNING [check_lengths]: For path table, component=cl2, key=trace has short segments that could cause issues with fillet. Values in (1-5)  are index(es) in shapely geometry.\n",
      "10:05PM 43s WARNING [check_lengths]: For path table, component=cl2, key=cut has short segments that could cause issues with fillet. Values in (1-5)  are index(es) in shapely geometry.\n",
      "10:05PM 43s WARNING [check_lengths]: For path table, component=cl3, key=trace has short segments that could cause issues with fillet. Values in (1-6)  are index(es) in shapely geometry.\n",
      "10:05PM 43s WARNING [check_lengths]: For path table, component=cl3, key=cut has short segments that could cause issues with fillet. Values in (1-6)  are index(es) in shapely geometry.\n",
      "10:05PM 43s WARNING [check_lengths]: For path table, component=cl4, key=trace has short segments that could cause issues with fillet. Values in (1-6)  are index(es) in shapely geometry.\n",
      "10:05PM 43s WARNING [check_lengths]: For path table, component=cl4, key=cut has short segments that could cause issues with fillet. Values in (1-6)  are index(es) in shapely geometry.\n",
      "10:05PM 52s WARNING [check_lengths]: For path table, component=cl1, key=trace has short segments that could cause issues with fillet. Values in (1-5)  are index(es) in shapely geometry.\n",
      "10:05PM 52s WARNING [check_lengths]: For path table, component=cl1, key=cut has short segments that could cause issues with fillet. Values in (1-5)  are index(es) in shapely geometry.\n",
      "10:05PM 52s WARNING [check_lengths]: For path table, component=cl2, key=trace has short segments that could cause issues with fillet. Values in (1-5)  are index(es) in shapely geometry.\n",
      "10:05PM 52s WARNING [check_lengths]: For path table, component=cl2, key=cut has short segments that could cause issues with fillet. Values in (1-5)  are index(es) in shapely geometry.\n",
      "10:05PM 52s WARNING [check_lengths]: For path table, component=cl3, key=trace has short segments that could cause issues with fillet. Values in (1-6)  are index(es) in shapely geometry.\n",
      "10:05PM 52s WARNING [check_lengths]: For path table, component=cl3, key=cut has short segments that could cause issues with fillet. Values in (1-6)  are index(es) in shapely geometry.\n",
      "10:05PM 52s WARNING [check_lengths]: For path table, component=cl4, key=trace has short segments that could cause issues with fillet. Values in (1-6)  are index(es) in shapely geometry.\n",
      "10:05PM 52s WARNING [check_lengths]: For path table, component=cl4, key=cut has short segments that could cause issues with fillet. Values in (1-6)  are index(es) in shapely geometry.\n",
      "10:06PM 00s WARNING [check_lengths]: For path table, component=cl1, key=trace has short segments that could cause issues with fillet. Values in (1-5)  are index(es) in shapely geometry.\n",
      "10:06PM 00s WARNING [check_lengths]: For path table, component=cl1, key=cut has short segments that could cause issues with fillet. Values in (1-5)  are index(es) in shapely geometry.\n",
      "10:06PM 01s WARNING [check_lengths]: For path table, component=cl2, key=trace has short segments that could cause issues with fillet. Values in (1-5)  are index(es) in shapely geometry.\n",
      "10:06PM 01s WARNING [check_lengths]: For path table, component=cl2, key=cut has short segments that could cause issues with fillet. Values in (1-5)  are index(es) in shapely geometry.\n",
      "10:06PM 01s WARNING [check_lengths]: For path table, component=cl3, key=trace has short segments that could cause issues with fillet. Values in (1-6)  are index(es) in shapely geometry.\n",
      "10:06PM 01s WARNING [check_lengths]: For path table, component=cl3, key=cut has short segments that could cause issues with fillet. Values in (1-6)  are index(es) in shapely geometry.\n",
      "10:06PM 01s WARNING [check_lengths]: For path table, component=cl4, key=trace has short segments that could cause issues with fillet. Values in (1-6)  are index(es) in shapely geometry.\n",
      "10:06PM 01s WARNING [check_lengths]: For path table, component=cl4, key=cut has short segments that could cause issues with fillet. Values in (1-6)  are index(es) in shapely geometry.\n"
     ]
    },
    {
     "ename": "",
     "evalue": "",
     "output_type": "error",
     "traceback": [
      "\u001b[1;31m현재 셀 또는 이전 셀에서 코드를 실행하는 동안 Kernel이 충돌했습니다. 셀의 코드를 검토하여 오류의 가능한 원인을 식별하세요. 자세한 내용을 보려면 <a href='https://aka.ms/vscodeJupyterKernelCrash'> 여기 </a> 를 클릭하세요. 자세한 내용은 Jupyter <a href='command:jupyter.viewOutput'>로그</a>를 참조하세요."
     ]
    }
   ],
   "source": [
    "pin_opt1 = Dict(pin_inputs=Dict(start_pin=Dict(\n",
    "                                    component='cp1',\n",
    "                                    pin='tie'),\n",
    "                                end_pin=Dict(\n",
    "                                    component='Q0',\n",
    "                                    pin='B1')),\n",
    "                                    chip=\"C_chip\",\n",
    "                                    total_length='0.5mm',\n",
    "                                    fillet='99um')\n",
    "\n",
    "pin_opt2 = Dict(pin_inputs=Dict(start_pin=Dict(\n",
    "                                    component='cp2',\n",
    "                                    pin='tie'),\n",
    "                                end_pin=Dict(\n",
    "                                    component='Q4',\n",
    "                                    pin='B1')),\n",
    "                                    chip=\"C_chip\",\n",
    "                                    total_length='0.5mm',\n",
    "                                    fillet='99um')\n",
    "pin_opt3 = Dict(pin_inputs=Dict(start_pin=Dict(\n",
    "                                    component='cp3',\n",
    "                                    pin='tie'),\n",
    "                                end_pin=Dict(\n",
    "                                    component='Q12',\n",
    "                                    pin='B3')),\n",
    "                                    chip=\"C_chip\",\n",
    "                                    total_length='0.5mm',\n",
    "                                    fillet='99um')\n",
    "\n",
    "pin_opt4 = Dict(pin_inputs=Dict(start_pin=Dict(\n",
    "                                    component='cp4',\n",
    "                                    pin='tie'),\n",
    "                                end_pin=Dict(\n",
    "                                    component='Q16',\n",
    "                                    pin='B3')),\n",
    "                                    chip=\"C_chip\",\n",
    "                                    total_length='0.5mm',\n",
    "                                    fillet='99um')                                    \n",
    "\n",
    "cl1 = RouteMeander(design, \"cl1\", pin_opt1)\n",
    "cl2 = RouteMeander(design, \"cl2\", pin_opt2)\n",
    "cl3 = RouteMeander(design, \"cl3\", pin_opt3)\n",
    "cl4 = RouteMeander(design, \"cl4\", pin_opt4)\n",
    "design.rebuild()\n",
    "gui.rebuild()\n",
    "gui.autoscale()                   \n"
   ]
  },
  {
   "cell_type": "code",
   "execution_count": null,
   "metadata": {},
   "outputs": [],
   "source": [
    "q0 = TransmonPocket(design, \"Q0\", options=dict(pos_x=f\"{center_x-2*x}mm\",\n",
    "                                               pos_y=f\"{center_y+2*y}mm\",\n",
    "                                               chip=\"Q_chip\",\n",
    "                                               connection_pads=connection_pads))"
   ]
  },
  {
   "cell_type": "code",
   "execution_count": 31,
   "metadata": {},
   "outputs": [
    {
     "data": {
      "text/plain": [
       "{'chip': 'C_chip',\n",
       " 'layer': '1',\n",
       " 'pin_inputs': {'start_pin': {'component': 'cp1', 'pin': 'tie'},\n",
       "  'end_pin': {'component': 'Q0', 'pin': 'B1'}},\n",
       " 'fillet': '0',\n",
       " 'lead': {'start_straight': '0mm',\n",
       "  'end_straight': '0mm',\n",
       "  'start_jogged_extension': '',\n",
       "  'end_jogged_extension': ''},\n",
       " 'total_length': '7mm',\n",
       " 'trace_width': 'cpw_width',\n",
       " 'meander': {'spacing': '200um', 'asymmetry': '0um'},\n",
       " 'snap': 'true',\n",
       " 'prevent_short_edges': 'true',\n",
       " 'hfss_wire_bonds': False,\n",
       " 'q3d_wire_bonds': False,\n",
       " 'trace_gap': 'cpw_gap',\n",
       " '_actual_length': '7.000000000000004 mm'}"
      ]
     },
     "execution_count": 31,
     "metadata": {},
     "output_type": "execute_result"
    }
   ],
   "source": [
    "cl1.options"
   ]
  },
  {
   "cell_type": "code",
   "execution_count": 49,
   "metadata": {},
   "outputs": [],
   "source": [
    "from qiskit_metal.analyses.quantization import LOManalysis\n",
    "c1 = LOManalysis(design, \"q3d\")"
   ]
  },
  {
   "cell_type": "code",
   "execution_count": 50,
   "metadata": {},
   "outputs": [
    {
     "data": {
      "text/plain": [
       "{'name': 'LOM',\n",
       " 'reuse_selected_design': True,\n",
       " 'reuse_setup': True,\n",
       " 'freq_ghz': 5.0,\n",
       " 'save_fields': False,\n",
       " 'enabled': True,\n",
       " 'max_passes': 14,\n",
       " 'min_passes': 2,\n",
       " 'min_converged_passes': 2,\n",
       " 'percent_error': 0.5,\n",
       " 'percent_refinement': 30,\n",
       " 'auto_increase_solution_order': True,\n",
       " 'solution_order': 'High',\n",
       " 'solver_type': 'Iterative'}"
      ]
     },
     "execution_count": 50,
     "metadata": {},
     "output_type": "execute_result"
    }
   ],
   "source": [
    "c1.sim.setup.name = 'LOM'\n",
    "c1.sim.setup.max_passes = 14\n",
    "c1.sim.setup\n"
   ]
  },
  {
   "cell_type": "code",
   "execution_count": 51,
   "metadata": {},
   "outputs": [
    {
     "name": "stderr",
     "output_type": "stream",
     "text": [
      "INFO 11:20AM [connect_project]: Connecting to Ansys Desktop API...\n",
      "INFO 11:20AM [load_ansys_project]: \tOpened Ansys App\n",
      "INFO 11:20AM [load_ansys_project]: \tOpened Ansys Desktop v2018.0.0\n",
      "INFO 11:20AM [load_ansys_project]: \tOpened Ansys Project\n",
      "\tFolder:    C:/Users/kimje/Documents/Ansoft/\n",
      "\tProject:   Project11\n",
      "INFO 11:20AM [connect_design]: No active design found (or error getting active design).\n",
      "INFO 11:20AM [connect]: \t Connected to project \"Project11\". No design detected\n",
      "INFO 11:20AM [connect_design]: \tOpened active design\n",
      "\tDesign:    Design_q3d [Solution type: Q3D]\n",
      "WARNING 11:20AM [connect_setup]: \tNo design setup detected.\n",
      "WARNING 11:20AM [connect_setup]: \tCreating Q3D default setup.\n",
      "INFO 11:20AM [get_setup]: \tOpened setup `Setup`  (<class 'pyEPR.ansys.AnsysQ3DSetup'>)\n",
      "INFO 11:20AM [get_setup]: \tOpened setup `LOM`  (<class 'pyEPR.ansys.AnsysQ3DSetup'>)\n",
      "INFO 11:20AM [analyze]: Analyzing setup LOM\n",
      "INFO 11:22AM [get_matrix]: Exporting matrix data to (C:\\Users\\kimje\\AppData\\Local\\Temp\\tmp5u5jptsb.txt, C, , LOM:LastAdaptive, \"Original\", \"ohm\", \"nH\", \"fF\", \"mSie\", 5000000000, Maxwell, 1, False\n",
      "INFO 11:22AM [get_matrix]: Exporting matrix data to (C:\\Users\\kimje\\AppData\\Local\\Temp\\tmptfdo4u54.txt, C, , LOM:AdaptivePass, \"Original\", \"ohm\", \"nH\", \"fF\", \"mSie\", 5000000000, Maxwell, 1, False\n",
      "INFO 11:22AM [get_matrix]: Exporting matrix data to (C:\\Users\\kimje\\AppData\\Local\\Temp\\tmpna3vm2_n.txt, C, , LOM:AdaptivePass, \"Original\", \"ohm\", \"nH\", \"fF\", \"mSie\", 5000000000, Maxwell, 2, False\n",
      "INFO 11:22AM [get_matrix]: Exporting matrix data to (C:\\Users\\kimje\\AppData\\Local\\Temp\\tmpudgt7120.txt, C, , LOM:AdaptivePass, \"Original\", \"ohm\", \"nH\", \"fF\", \"mSie\", 5000000000, Maxwell, 3, False\n",
      "INFO 11:22AM [get_matrix]: Exporting matrix data to (C:\\Users\\kimje\\AppData\\Local\\Temp\\tmpj0er34md.txt, C, , LOM:AdaptivePass, \"Original\", \"ohm\", \"nH\", \"fF\", \"mSie\", 5000000000, Maxwell, 4, False\n",
      "INFO 11:22AM [get_matrix]: Exporting matrix data to (C:\\Users\\kimje\\AppData\\Local\\Temp\\tmpfj1pgzzl.txt, C, , LOM:AdaptivePass, \"Original\", \"ohm\", \"nH\", \"fF\", \"mSie\", 5000000000, Maxwell, 5, False\n",
      "INFO 11:22AM [get_matrix]: Exporting matrix data to (C:\\Users\\kimje\\AppData\\Local\\Temp\\tmpun8tgk_7.txt, C, , LOM:AdaptivePass, \"Original\", \"ohm\", \"nH\", \"fF\", \"mSie\", 5000000000, Maxwell, 6, False\n",
      "INFO 11:22AM [get_matrix]: Exporting matrix data to (C:\\Users\\kimje\\AppData\\Local\\Temp\\tmpkpkp_aj3.txt, C, , LOM:AdaptivePass, \"Original\", \"ohm\", \"nH\", \"fF\", \"mSie\", 5000000000, Maxwell, 7, False\n",
      "INFO 11:22AM [get_matrix]: Exporting matrix data to (C:\\Users\\kimje\\AppData\\Local\\Temp\\tmpfet1923x.txt, C, , LOM:AdaptivePass, \"Original\", \"ohm\", \"nH\", \"fF\", \"mSie\", 5000000000, Maxwell, 8, False\n",
      "INFO 11:22AM [get_matrix]: Exporting matrix data to (C:\\Users\\kimje\\AppData\\Local\\Temp\\tmpqw9wpi1q.txt, C, , LOM:AdaptivePass, \"Original\", \"ohm\", \"nH\", \"fF\", \"mSie\", 5000000000, Maxwell, 9, False\n",
      "INFO 11:22AM [get_matrix]: Exporting matrix data to (C:\\Users\\kimje\\AppData\\Local\\Temp\\tmpyykw6mnk.txt, C, , LOM:AdaptivePass, \"Original\", \"ohm\", \"nH\", \"fF\", \"mSie\", 5000000000, Maxwell, 10, False\n"
     ]
    }
   ],
   "source": [
    "c1.sim.run(components=['Q1'])"
   ]
  },
  {
   "cell_type": "code",
   "execution_count": 7,
   "metadata": {},
   "outputs": [
    {
     "ename": "NameError",
     "evalue": "name 'c1' is not defined",
     "output_type": "error",
     "traceback": [
      "\u001b[1;31m---------------------------------------------------------------------------\u001b[0m",
      "\u001b[1;31mNameError\u001b[0m                                 Traceback (most recent call last)",
      "\u001b[1;32mUntitled-1.ipynb 셀 10\u001b[0m in \u001b[0;36m<module>\u001b[1;34m\u001b[0m\n\u001b[1;32m----> <a href='vscode-notebook-cell:Untitled-1.ipynb?jupyter-notebook#ch0000026untitled?line=0'>1</a>\u001b[0m c1\u001b[39m.\u001b[39mclose\n",
      "\u001b[1;31mNameError\u001b[0m: name 'c1' is not defined"
     ]
    }
   ],
   "source": [
    "c1.close"
   ]
  },
  {
   "cell_type": "code",
   "execution_count": 52,
   "metadata": {},
   "outputs": [
    {
     "ename": "ValueError",
     "evalue": "Capacitance matrix is not the right size",
     "output_type": "error",
     "traceback": [
      "\u001b[1;31m---------------------------------------------------------------------------\u001b[0m",
      "\u001b[1;31mValueError\u001b[0m                                Traceback (most recent call last)",
      "\u001b[1;32mUntitled-1.ipynb 셀 10\u001b[0m in \u001b[0;36m<module>\u001b[1;34m\u001b[0m\n\u001b[0;32m      <a href='vscode-notebook-cell:Untitled-1.ipynb?jupyter-notebook#ch0000025untitled?line=1'>2</a>\u001b[0m c1\u001b[39m.\u001b[39msetup\u001b[39m.\u001b[39mfreq_readout \u001b[39m=\u001b[39m \u001b[39m6.6\u001b[39m\n\u001b[0;32m      <a href='vscode-notebook-cell:Untitled-1.ipynb?jupyter-notebook#ch0000025untitled?line=2'>3</a>\u001b[0m \u001b[39m#c1.setup.freq_bus = [6.0, 6.2,6.4]\u001b[39;00m\n\u001b[1;32m----> <a href='vscode-notebook-cell:Untitled-1.ipynb?jupyter-notebook#ch0000025untitled?line=3'>4</a>\u001b[0m c1\u001b[39m.\u001b[39;49mrun_lom()\n",
      "File \u001b[1;32mc:\\users\\kimje\\qiskit-metal\\qiskit_metal\\analyses\\quantization\\lumped_oscillator_model.py:171\u001b[0m, in \u001b[0;36mLOManalysis.run_lom\u001b[1;34m(self)\u001b[0m\n\u001b[0;32m    169\u001b[0m all_res \u001b[39m=\u001b[39m {}\n\u001b[0;32m    170\u001b[0m \u001b[39mfor\u001b[39;00m idx_cmat, df_cmat \u001b[39min\u001b[39;00m \u001b[39mself\u001b[39m\u001b[39m.\u001b[39msim\u001b[39m.\u001b[39mcapacitance_all_passes\u001b[39m.\u001b[39mitems():\n\u001b[1;32m--> 171\u001b[0m     res \u001b[39m=\u001b[39m extract_transmon_coupled_Noscillator(\n\u001b[0;32m    172\u001b[0m         df_cmat,\n\u001b[0;32m    173\u001b[0m         ic_amps,\n\u001b[0;32m    174\u001b[0m         cj,\n\u001b[0;32m    175\u001b[0m         num_cpads,\n\u001b[0;32m    176\u001b[0m         fbus,\n\u001b[0;32m    177\u001b[0m         fread,\n\u001b[0;32m    178\u001b[0m         g_scale\u001b[39m=\u001b[39;49m\u001b[39m1\u001b[39;49m,\n\u001b[0;32m    179\u001b[0m         print_info\u001b[39m=\u001b[39;49m\u001b[39mbool\u001b[39;49m(\n\u001b[0;32m    180\u001b[0m             idx_cmat \u001b[39m==\u001b[39;49m \u001b[39mlen\u001b[39;49m(\u001b[39mself\u001b[39;49m\u001b[39m.\u001b[39;49msim\u001b[39m.\u001b[39;49mcapacitance_all_passes)))\n\u001b[0;32m    181\u001b[0m     all_res[idx_cmat] \u001b[39m=\u001b[39m res\n\u001b[0;32m    182\u001b[0m \u001b[39mself\u001b[39m\u001b[39m.\u001b[39mlumped_oscillator \u001b[39m=\u001b[39m all_res[\u001b[39mlen\u001b[39m(\u001b[39mself\u001b[39m\u001b[39m.\u001b[39msim\u001b[39m.\u001b[39mcapacitance_all_passes)]\n",
      "File \u001b[1;32mc:\\users\\kimje\\qiskit-metal\\qiskit_metal\\analyses\\quantization\\lumped_capacitive.py:198\u001b[0m, in \u001b[0;36mextract_transmon_coupled_Noscillator\u001b[1;34m(capMatrix, Ic, CJ, N, fb, fr, res_L4_corr, g_scale, print_info)\u001b[0m\n\u001b[0;32m    196\u001b[0m     \u001b[39mraise\u001b[39;00m \u001b[39mValueError\u001b[39;00m(\u001b[39m'\u001b[39m\u001b[39mN must positive\u001b[39m\u001b[39m'\u001b[39m)\n\u001b[0;32m    197\u001b[0m \u001b[39mif\u001b[39;00m \u001b[39mlen\u001b[39m(capMatrix) \u001b[39m!=\u001b[39m (N \u001b[39m+\u001b[39m \u001b[39m3\u001b[39m):\n\u001b[1;32m--> 198\u001b[0m     \u001b[39mraise\u001b[39;00m \u001b[39mValueError\u001b[39;00m(\u001b[39m'\u001b[39m\u001b[39mCapacitance matrix is not the right size\u001b[39m\u001b[39m'\u001b[39m)\n\u001b[0;32m    200\u001b[0m \u001b[39m# make list of angular frequencies of resonators\u001b[39;00m\n\u001b[0;32m    201\u001b[0m wr \u001b[39m=\u001b[39m np\u001b[39m.\u001b[39mzeros(N)  \u001b[39m# angular freq of resonators (GHz-rad)\u001b[39;00m\n",
      "\u001b[1;31mValueError\u001b[0m: Capacitance matrix is not the right size"
     ]
    }
   ],
   "source": [
    "c1.setup.junctions = Dict({'Lj': 12.31, 'Cj': 2})\n",
    "c1.setup.freq_readout = 6.6\n",
    "#c1.setup.freq_bus = [6.0, 6.2,6.4]\n",
    "c1.run_lom()"
   ]
  },
  {
   "cell_type": "code",
   "execution_count": 45,
   "metadata": {},
   "outputs": [
    {
     "ename": "ModuleNotFoundError",
     "evalue": "No module named 'qiskit_metal.renderers.renderer_gmsh'",
     "output_type": "error",
     "traceback": [
      "\u001b[1;31m---------------------------------------------------------------------------\u001b[0m",
      "\u001b[1;31mModuleNotFoundError\u001b[0m                       Traceback (most recent call last)",
      "\u001b[1;32mUntitled-1.ipynb 셀 9\u001b[0m in \u001b[0;36m<module>\u001b[1;34m\u001b[0m\n\u001b[1;32m----> <a href='vscode-notebook-cell:Untitled-1.ipynb?jupyter-notebook#ch0000018untitled?line=0'>1</a>\u001b[0m \u001b[39mfrom\u001b[39;00m \u001b[39mqiskit_metal\u001b[39;00m\u001b[39m.\u001b[39;00m\u001b[39mrenderers\u001b[39;00m\u001b[39m.\u001b[39;00m\u001b[39mrenderer_gmsh\u001b[39;00m\u001b[39m.\u001b[39;00m\u001b[39mgmsh_renderer\u001b[39;00m \u001b[39mimport\u001b[39;00m QGmshRenderer\n",
      "\u001b[1;31mModuleNotFoundError\u001b[0m: No module named 'qiskit_metal.renderers.renderer_gmsh'"
     ]
    }
   ],
   "source": [
    "from qiskit_metal.renderers.renderer_gmsh.gmsh_renderer import QGmshRenderer\n"
   ]
  },
  {
   "cell_type": "code",
   "execution_count": 2,
   "metadata": {},
   "outputs": [],
   "source": [
    "design = designs.DesignPlanar({}, True)\n",
    "design.chips.main.size.size_x = '8mm'\n",
    "design.chips.main.size.size_y = '8mm'\n",
    "design.chips.main.material = 'Silicon'\n",
    "gui = MetalGUI(design)"
   ]
  },
  {
   "cell_type": "code",
   "execution_count": 5,
   "metadata": {},
   "outputs": [],
   "source": [
    "N_x =4\n",
    "N_y =3"
   ]
  },
  {
   "cell_type": "code",
   "execution_count": 7,
   "metadata": {},
   "outputs": [],
   "source": [
    "#Loop to generate and draw the qubits\n",
    "for x in range(N_x):\n",
    "    for y in range(N_y):\n",
    "        options = dict(pos_x= str(x*3000)+'um', pos_y = str(y*3000 + (x%2)*1500)+'um', orientation = \"-90\",\n",
    "                      connection_pads = dict(\n",
    "                            B0 = dict(loc_W=-1, loc_H=-1, pad_width='75um'),\n",
    "                            B1  = dict(loc_W=-1, loc_H=+1, pad_width='120um'),\n",
    "                            B2  = dict(loc_W=+1, loc_H=-1, pad_width='120um'),\n",
    "                            B3 = dict(loc_w = +1, loc_H = +1, pad_width='90um')))\n",
    "\n",
    "\n",
    "        obj=TransmonPocket6(design,'Q_'+str(x)+'_'+str(y),options)\n",
    "\n",
    "\n",
    "gui.rebuild()\n",
    "gui.autoscale()"
   ]
  },
  {
   "cell_type": "code",
   "execution_count": 12,
   "metadata": {},
   "outputs": [],
   "source": [
    "for x in range(N_x):\n",
    "    for y in range(N_y):\n",
    "        #\"upward\" connection, avoids drawing connectors for 'top' row. Changes connector length by +/-50um to avoid frequency collisions\n",
    "        if y<(N_y-1):\n",
    "            connectorAD = RouteMeander(design,'CU_'+str(x)+'_'+str(y),options = dict(total_length = str(7+(y%2)*0.5)+'mm',\n",
    "                                                                                    fillet = \"99um\",lead=dict(\n",
    "                                                                                    start_straight='0.5mm',\n",
    "                                                                                    end_straight='0.25mm'),\n",
    "                                                                                    meander = dict(asymmetry='-700um'),\n",
    "                                                                                    pin_inputs = dict(\n",
    "                                                                                        start_pin=dict(\n",
    "                                                                                            component ='Q_'+str(x)+'_'+str(y),\n",
    "                                                                                            pin = 'B0'),\n",
    "                                                                                        end_pin=dict(\n",
    "                                                                                            component='Q_'+str(x)+'_'+str(y+1),\n",
    "                                                                                            pin='B3'))))\n",
    "\n",
    "        #\"sideways\" connection, avoids drawing for far right col, and for top qubit in odd col. Changes connector length by +/- 25um\n",
    "        #to avoid frequency collisions\n",
    "        if x<(N_x-1) and (not(x%2 and y==(N_y-1))):\n",
    "            connectorBC = RouteMeander(design,'CS_'+str(x)+'_'+str(y),options= dict(total_length = str(6+(y%2)*0.5)+'mm',\n",
    "                                                                                    fillet = \"99um\",lead=Dict(\n",
    "                                                                                        start_straight='0.3mm',\n",
    "                                                                                        end_straight='0.25mm'),\n",
    "                                                                                    meander = Dict(asymmetry='-200um'),\n",
    "                                                                                    pin_inputs = Dict(\n",
    "                                                                                        start_pin=Dict(\n",
    "                                                                                            component ='Q_'+str(x)+'_'+str(y),\n",
    "                                                                                            pin = 'B1'),\n",
    "                                                                                        end_pin=Dict(\n",
    "                                                                                            component='Q_'+str(x+1)+'_'+str(y+(x%2)),\n",
    "                                                                                             pin='B2'))))\n",
    "\n",
    "\n",
    "gui.rebuild()\n",
    "gui.autoscale()"
   ]
  },
  {
   "cell_type": "code",
   "execution_count": 13,
   "metadata": {},
   "outputs": [],
   "source": [
    "from qiskit_metal.analyses.quantization import LOManalysis\n",
    "c1 = LOManalysis(design, \"q3d\")"
   ]
  },
  {
   "cell_type": "code",
   "execution_count": 14,
   "metadata": {},
   "outputs": [
    {
     "data": {
      "text/plain": [
       "{'name': 'LOM',\n",
       " 'reuse_selected_design': True,\n",
       " 'reuse_setup': True,\n",
       " 'freq_ghz': 5.0,\n",
       " 'save_fields': False,\n",
       " 'enabled': True,\n",
       " 'max_passes': 14,\n",
       " 'min_passes': 2,\n",
       " 'min_converged_passes': 2,\n",
       " 'percent_error': 0.5,\n",
       " 'percent_refinement': 30,\n",
       " 'auto_increase_solution_order': True,\n",
       " 'solution_order': 'High',\n",
       " 'solver_type': 'Iterative'}"
      ]
     },
     "execution_count": 14,
     "metadata": {},
     "output_type": "execute_result"
    }
   ],
   "source": [
    "c1.sim.setup.name = 'LOM'\n",
    "c1.sim.setup.max_passes = 14\n",
    "\n",
    "#To change multiple settings use the following method:\n",
    "#c1.sim.setup_update(name = 'LOM', max_passes = 14)\n",
    "\n",
    "c1.sim.setup"
   ]
  },
  {
   "cell_type": "code",
   "execution_count": 15,
   "metadata": {},
   "outputs": [
    {
     "name": "stderr",
     "output_type": "stream",
     "text": [
      "INFO 12:19PM [connect_project]: Connecting to Ansys Desktop API...\n",
      "INFO 12:19PM [load_ansys_project]: \tOpened Ansys App\n",
      "INFO 12:19PM [load_ansys_project]: \tOpened Ansys Desktop v2018.0.0\n",
      "INFO 12:19PM [load_ansys_project]: \tOpened Ansys Project\n",
      "\tFolder:    C:/Users/kimje/Documents/Ansoft/\n",
      "\tProject:   Project10\n",
      "INFO 12:19PM [connect_design]: No active design found (or error getting active design).\n",
      "INFO 12:19PM [connect]: \t Connected to project \"Project10\". No design detected\n",
      "INFO 12:19PM [connect_design]: \tOpened active design\n",
      "\tDesign:    Design_q3d [Solution type: Q3D]\n",
      "WARNING 12:19PM [connect_setup]: \tNo design setup detected.\n",
      "WARNING 12:19PM [connect_setup]: \tCreating Q3D default setup.\n",
      "INFO 12:19PM [get_setup]: \tOpened setup `Setup`  (<class 'pyEPR.ansys.AnsysQ3DSetup'>)\n",
      "INFO 12:19PM [get_setup]: \tOpened setup `LOM`  (<class 'pyEPR.ansys.AnsysQ3DSetup'>)\n",
      "INFO 12:19PM [analyze]: Analyzing setup LOM\n",
      "INFO 12:20PM [get_matrix]: Exporting matrix data to (C:\\Users\\kimje\\AppData\\Local\\Temp\\tmpm3bn5dss.txt, C, , LOM:LastAdaptive, \"Original\", \"ohm\", \"nH\", \"fF\", \"mSie\", 5000000000, Maxwell, 1, False\n",
      "INFO 12:20PM [get_matrix]: Exporting matrix data to (C:\\Users\\kimje\\AppData\\Local\\Temp\\tmpjs_7ecqd.txt, C, , LOM:AdaptivePass, \"Original\", \"ohm\", \"nH\", \"fF\", \"mSie\", 5000000000, Maxwell, 1, False\n",
      "INFO 12:20PM [get_matrix]: Exporting matrix data to (C:\\Users\\kimje\\AppData\\Local\\Temp\\tmp1bz5rolx.txt, C, , LOM:AdaptivePass, \"Original\", \"ohm\", \"nH\", \"fF\", \"mSie\", 5000000000, Maxwell, 2, False\n",
      "INFO 12:20PM [get_matrix]: Exporting matrix data to (C:\\Users\\kimje\\AppData\\Local\\Temp\\tmp1pe6mc0d.txt, C, , LOM:AdaptivePass, \"Original\", \"ohm\", \"nH\", \"fF\", \"mSie\", 5000000000, Maxwell, 3, False\n",
      "INFO 12:20PM [get_matrix]: Exporting matrix data to (C:\\Users\\kimje\\AppData\\Local\\Temp\\tmpxspnjha3.txt, C, , LOM:AdaptivePass, \"Original\", \"ohm\", \"nH\", \"fF\", \"mSie\", 5000000000, Maxwell, 4, False\n",
      "INFO 12:20PM [get_matrix]: Exporting matrix data to (C:\\Users\\kimje\\AppData\\Local\\Temp\\tmp4bqr4hsa.txt, C, , LOM:AdaptivePass, \"Original\", \"ohm\", \"nH\", \"fF\", \"mSie\", 5000000000, Maxwell, 5, False\n",
      "INFO 12:20PM [get_matrix]: Exporting matrix data to (C:\\Users\\kimje\\AppData\\Local\\Temp\\tmpzlz6h8ep.txt, C, , LOM:AdaptivePass, \"Original\", \"ohm\", \"nH\", \"fF\", \"mSie\", 5000000000, Maxwell, 6, False\n",
      "INFO 12:20PM [get_matrix]: Exporting matrix data to (C:\\Users\\kimje\\AppData\\Local\\Temp\\tmpwkx04mx8.txt, C, , LOM:AdaptivePass, \"Original\", \"ohm\", \"nH\", \"fF\", \"mSie\", 5000000000, Maxwell, 7, False\n",
      "INFO 12:20PM [get_matrix]: Exporting matrix data to (C:\\Users\\kimje\\AppData\\Local\\Temp\\tmpkqu5p2j9.txt, C, , LOM:AdaptivePass, \"Original\", \"ohm\", \"nH\", \"fF\", \"mSie\", 5000000000, Maxwell, 8, False\n",
      "INFO 12:20PM [get_matrix]: Exporting matrix data to (C:\\Users\\kimje\\AppData\\Local\\Temp\\tmpb7zoxx1z.txt, C, , LOM:AdaptivePass, \"Original\", \"ohm\", \"nH\", \"fF\", \"mSie\", 5000000000, Maxwell, 9, False\n",
      "INFO 12:20PM [get_matrix]: Exporting matrix data to (C:\\Users\\kimje\\AppData\\Local\\Temp\\tmplipsoux9.txt, C, , LOM:AdaptivePass, \"Original\", \"ohm\", \"nH\", \"fF\", \"mSie\", 5000000000, Maxwell, 10, False\n",
      "INFO 12:20PM [get_matrix]: Exporting matrix data to (C:\\Users\\kimje\\AppData\\Local\\Temp\\tmp8flp8pcf.txt, C, , LOM:AdaptivePass, \"Original\", \"ohm\", \"nH\", \"fF\", \"mSie\", 5000000000, Maxwell, 11, False\n"
     ]
    }
   ],
   "source": [
    "c1.sim.run(components=['Q_0_0'], open_terminations=[('Q_0_0', 'B0'), ('Q_0_0', 'B1'), ('Q_0_0', 'B2'), ('Q_0_0', 'B3')])"
   ]
  },
  {
   "cell_type": "code",
   "execution_count": 16,
   "metadata": {},
   "outputs": [
    {
     "name": "stdout",
     "output_type": "stream",
     "text": [
      "[4, 5] [6 0 1 2]\n",
      "Predicted Values\n",
      "\n",
      "Transmon Properties\n",
      "f_Q 4.754584 [GHz]\n",
      "EC 235.617680 [MHz]\n",
      "EJ 13.273404 [GHz]\n",
      "alpha -267.930318 [MHz]\n",
      "dispersion 3.181384 [KHz]\n",
      "Lq 12.305036 [nH]\n",
      "Cq 82.210418 [fF]\n",
      "T1 41.892238 [us]\n",
      "\n",
      "**Coupling Properties**\n",
      "\n",
      "tCqbus1 -14.168944 [fF]\n",
      "gbus1_in_MHz -163.900064 [MHz]\n",
      "χ_bus1 -3.805361 [MHz]\n",
      "1/T1bus1 3651.373801 [Hz]\n",
      "T1bus1 43.587688 [us]\n",
      "\n",
      "tCqbus2 0.996945 [fF]\n",
      "gbus2_in_MHz 10.593391 [MHz]\n",
      "χ_bus2 -0.032439 [MHz]\n",
      "1/T1bus2 3.393832 [Hz]\n",
      "T1bus2 46895.349811 [us]\n",
      "\n",
      "tCqbus3 7.265566 [fF]\n",
      "gbus3_in_MHz 79.562015 [MHz]\n",
      "χ_bus3 -1.398675 [MHz]\n",
      "1/T1bus3 141.550333 [Hz]\n",
      "T1bus3 1124.369963 [us]\n",
      "\n",
      "tCqbus4 -1.135063 [fF]\n",
      "gbus4_in_MHz -12.841880 [MHz]\n",
      "χ_bus4 -0.028798 [MHz]\n",
      "1/T1bus4 2.833115 [Hz]\n",
      "T1bus4 56176.667488 [us]\n",
      "Bus-Bus Couplings\n",
      "gbus1_2 30.395446 [MHz]\n",
      "gbus1_3 54.018528 [MHz]\n",
      "gbus1_4 37.602545 [MHz]\n",
      "gbus2_3 12.735149 [MHz]\n",
      "gbus2_4 17.547679 [MHz]\n",
      "gbus3_4 15.159161 [MHz]\n"
     ]
    },
    {
     "data": {
      "text/html": [
       "<div>\n",
       "<style scoped>\n",
       "    .dataframe tbody tr th:only-of-type {\n",
       "        vertical-align: middle;\n",
       "    }\n",
       "\n",
       "    .dataframe tbody tr th {\n",
       "        vertical-align: top;\n",
       "    }\n",
       "\n",
       "    .dataframe thead th {\n",
       "        text-align: right;\n",
       "    }\n",
       "</style>\n",
       "<table border=\"1\" class=\"dataframe\">\n",
       "  <thead>\n",
       "    <tr style=\"text-align: right;\">\n",
       "      <th></th>\n",
       "      <th>fQ</th>\n",
       "      <th>EC</th>\n",
       "      <th>EJ</th>\n",
       "      <th>alpha</th>\n",
       "      <th>dispersion</th>\n",
       "      <th>gbus</th>\n",
       "      <th>chi_in_MHz</th>\n",
       "      <th>χr MHz</th>\n",
       "      <th>gr MHz</th>\n",
       "    </tr>\n",
       "  </thead>\n",
       "  <tbody>\n",
       "    <tr>\n",
       "      <th>1</th>\n",
       "      <td>5.067386</td>\n",
       "      <td>269.734507</td>\n",
       "      <td>13.273404</td>\n",
       "      <td>-310.238448</td>\n",
       "      <td>12.172869</td>\n",
       "      <td>[-152.6813549370898, 7.884817440873428, 69.643...</td>\n",
       "      <td>[-5.230385414450512, -0.03360430526167508, -1....</td>\n",
       "      <td>5.230385</td>\n",
       "      <td>152.681355</td>\n",
       "    </tr>\n",
       "    <tr>\n",
       "      <th>2</th>\n",
       "      <td>4.978952</td>\n",
       "      <td>259.82427</td>\n",
       "      <td>13.273404</td>\n",
       "      <td>-297.862565</td>\n",
       "      <td>8.475755</td>\n",
       "      <td>[-138.64426863269293, 4.5331404478046675, 71.5...</td>\n",
       "      <td>[-3.7689499205004067, -0.009194793777363161, -...</td>\n",
       "      <td>3.768950</td>\n",
       "      <td>138.644269</td>\n",
       "    </tr>\n",
       "    <tr>\n",
       "      <th>3</th>\n",
       "      <td>4.892896</td>\n",
       "      <td>250.381742</td>\n",
       "      <td>13.273404</td>\n",
       "      <td>-286.136558</td>\n",
       "      <td>5.883582</td>\n",
       "      <td>[-146.88367486844987, 7.4375764026439155, 73.1...</td>\n",
       "      <td>[-3.7243908417064624, -0.020797507589197, -1.4...</td>\n",
       "      <td>3.724391</td>\n",
       "      <td>146.883675</td>\n",
       "    </tr>\n",
       "    <tr>\n",
       "      <th>4</th>\n",
       "      <td>4.866873</td>\n",
       "      <td>247.56522</td>\n",
       "      <td>13.273404</td>\n",
       "      <td>-282.651319</td>\n",
       "      <td>5.255073</td>\n",
       "      <td>[-152.11652111536472, 6.9265321076437525, 74.3...</td>\n",
       "      <td>[-3.846208966429142, -0.01714172085390088, -1....</td>\n",
       "      <td>3.846209</td>\n",
       "      <td>152.116521</td>\n",
       "    </tr>\n",
       "    <tr>\n",
       "      <th>5</th>\n",
       "      <td>4.829861</td>\n",
       "      <td>243.590335</td>\n",
       "      <td>13.273404</td>\n",
       "      <td>-277.74237</td>\n",
       "      <td>4.465526</td>\n",
       "      <td>[-154.92585342951307, 8.309105352795504, 75.98...</td>\n",
       "      <td>[-3.782563866916498, -0.0229721453783535, -1.4...</td>\n",
       "      <td>3.782564</td>\n",
       "      <td>154.925853</td>\n",
       "    </tr>\n",
       "    <tr>\n",
       "      <th>6</th>\n",
       "      <td>4.803601</td>\n",
       "      <td>240.792178</td>\n",
       "      <td>13.273404</td>\n",
       "      <td>-274.293459</td>\n",
       "      <td>3.972245</td>\n",
       "      <td>[-157.31217332018088, 9.226811897601223, 76.86...</td>\n",
       "      <td>[-3.756625064730378, -0.02695363248825837, -1....</td>\n",
       "      <td>3.756625</td>\n",
       "      <td>157.312173</td>\n",
       "    </tr>\n",
       "    <tr>\n",
       "      <th>7</th>\n",
       "      <td>4.788301</td>\n",
       "      <td>239.170225</td>\n",
       "      <td>13.273404</td>\n",
       "      <td>-272.296862</td>\n",
       "      <td>3.70813</td>\n",
       "      <td>[-160.47986285976032, 9.960968235448897, 77.93...</td>\n",
       "      <td>[-3.8255528890029233, -0.030526566325938972, -...</td>\n",
       "      <td>3.825553</td>\n",
       "      <td>160.479863</td>\n",
       "    </tr>\n",
       "    <tr>\n",
       "      <th>8</th>\n",
       "      <td>4.772932</td>\n",
       "      <td>237.547206</td>\n",
       "      <td>13.273404</td>\n",
       "      <td>-270.300838</td>\n",
       "      <td>3.458947</td>\n",
       "      <td>[-161.27108680950445, 9.751667401738398, 78.53...</td>\n",
       "      <td>[-3.7804634905817007, -0.028433738604866796, -...</td>\n",
       "      <td>3.780463</td>\n",
       "      <td>161.271087</td>\n",
       "    </tr>\n",
       "    <tr>\n",
       "      <th>9</th>\n",
       "      <td>4.763217</td>\n",
       "      <td>236.524421</td>\n",
       "      <td>13.273404</td>\n",
       "      <td>-269.043963</td>\n",
       "      <td>3.309358</td>\n",
       "      <td>[-162.37247327663806, 10.002730529373782, 78.9...</td>\n",
       "      <td>[-3.7802650968333644, -0.029384903013254006, -...</td>\n",
       "      <td>3.780265</td>\n",
       "      <td>162.372473</td>\n",
       "    </tr>\n",
       "    <tr>\n",
       "      <th>10</th>\n",
       "      <td>4.754584</td>\n",
       "      <td>235.61768</td>\n",
       "      <td>13.273404</td>\n",
       "      <td>-267.930318</td>\n",
       "      <td>3.181384</td>\n",
       "      <td>[-163.9000635746779, 10.59339149645099, 79.562...</td>\n",
       "      <td>[-3.805360546965784, -0.0324389720895161, -1.3...</td>\n",
       "      <td>3.805361</td>\n",
       "      <td>163.900064</td>\n",
       "    </tr>\n",
       "  </tbody>\n",
       "</table>\n",
       "</div>"
      ],
      "text/plain": [
       "          fQ          EC         EJ       alpha dispersion  \\\n",
       "1   5.067386  269.734507  13.273404 -310.238448  12.172869   \n",
       "2   4.978952   259.82427  13.273404 -297.862565   8.475755   \n",
       "3   4.892896  250.381742  13.273404 -286.136558   5.883582   \n",
       "4   4.866873   247.56522  13.273404 -282.651319   5.255073   \n",
       "5   4.829861  243.590335  13.273404  -277.74237   4.465526   \n",
       "6   4.803601  240.792178  13.273404 -274.293459   3.972245   \n",
       "7   4.788301  239.170225  13.273404 -272.296862    3.70813   \n",
       "8   4.772932  237.547206  13.273404 -270.300838   3.458947   \n",
       "9   4.763217  236.524421  13.273404 -269.043963   3.309358   \n",
       "10  4.754584   235.61768  13.273404 -267.930318   3.181384   \n",
       "\n",
       "                                                 gbus  \\\n",
       "1   [-152.6813549370898, 7.884817440873428, 69.643...   \n",
       "2   [-138.64426863269293, 4.5331404478046675, 71.5...   \n",
       "3   [-146.88367486844987, 7.4375764026439155, 73.1...   \n",
       "4   [-152.11652111536472, 6.9265321076437525, 74.3...   \n",
       "5   [-154.92585342951307, 8.309105352795504, 75.98...   \n",
       "6   [-157.31217332018088, 9.226811897601223, 76.86...   \n",
       "7   [-160.47986285976032, 9.960968235448897, 77.93...   \n",
       "8   [-161.27108680950445, 9.751667401738398, 78.53...   \n",
       "9   [-162.37247327663806, 10.002730529373782, 78.9...   \n",
       "10  [-163.9000635746779, 10.59339149645099, 79.562...   \n",
       "\n",
       "                                           chi_in_MHz    χr MHz      gr MHz  \n",
       "1   [-5.230385414450512, -0.03360430526167508, -1....  5.230385  152.681355  \n",
       "2   [-3.7689499205004067, -0.009194793777363161, -...  3.768950  138.644269  \n",
       "3   [-3.7243908417064624, -0.020797507589197, -1.4...  3.724391  146.883675  \n",
       "4   [-3.846208966429142, -0.01714172085390088, -1....  3.846209  152.116521  \n",
       "5   [-3.782563866916498, -0.0229721453783535, -1.4...  3.782564  154.925853  \n",
       "6   [-3.756625064730378, -0.02695363248825837, -1....  3.756625  157.312173  \n",
       "7   [-3.8255528890029233, -0.030526566325938972, -...  3.825553  160.479863  \n",
       "8   [-3.7804634905817007, -0.028433738604866796, -...  3.780463  161.271087  \n",
       "9   [-3.7802650968333644, -0.029384903013254006, -...  3.780265  162.372473  \n",
       "10  [-3.805360546965784, -0.0324389720895161, -1.3...  3.805361  163.900064  "
      ]
     },
     "execution_count": 16,
     "metadata": {},
     "output_type": "execute_result"
    }
   ],
   "source": [
    "c1.setup.junctions = Dict({'Lj': 12.31, 'Cj': 2})\n",
    "c1.setup.freq_readout = 6.6\n",
    "c1.setup.freq_bus = [6.0, 6.2,6.4]\n",
    "\n",
    "c1.run_lom()"
   ]
  },
  {
   "cell_type": "code",
   "execution_count": null,
   "metadata": {},
   "outputs": [],
   "source": []
  }
 ],
 "metadata": {
  "kernelspec": {
   "display_name": "Python 3.9.10 ('metal')",
   "language": "python",
   "name": "python3"
  },
  "language_info": {
   "codemirror_mode": {
    "name": "ipython",
    "version": 3
   },
   "file_extension": ".py",
   "mimetype": "text/x-python",
   "name": "python",
   "nbconvert_exporter": "python",
   "pygments_lexer": "ipython3",
   "version": "3.9.10"
  },
  "orig_nbformat": 4,
  "vscode": {
   "interpreter": {
    "hash": "ac951534856e2c23f9f162419ca8ae29ffbc7967cf243c458d1cebaa12df0b5c"
   }
  }
 },
 "nbformat": 4,
 "nbformat_minor": 2
}
