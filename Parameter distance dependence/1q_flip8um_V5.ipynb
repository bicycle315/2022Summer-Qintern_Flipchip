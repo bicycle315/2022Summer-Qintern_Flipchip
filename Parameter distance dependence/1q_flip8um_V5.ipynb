{
 "cells": [
  {
   "cell_type": "code",
   "execution_count": 1,
   "metadata": {},
   "outputs": [],
   "source": [
    "import warnings\n",
    "warnings.filterwarnings(\"ignore\")\n",
    "%load_ext autoreload\n",
    "%autoreload 2\n",
    "from qiskit_metal import Dict, MetalGUI, designs\n",
    "from qiskit_metal.qlibrary.qubits.transmon_pocket import TransmonPocket\n",
    "from qiskit_metal.qlibrary.qubits.transmon_pocket_6 import TransmonPocket6\n",
    "from qiskit_metal.qlibrary.tlines.meandered import RouteMeander\n",
    "from qiskit_metal.qlibrary.tlines.straight_path import RouteStraight\n",
    "from qiskit_metal.qlibrary.terminations.launchpad_wb_coupled import LaunchpadWirebondCoupled\n",
    "from qiskit_metal.qlibrary.terminations.short_to_ground import ShortToGround\n",
    "from qiskit_metal.qlibrary.couplers.coupled_line_tee import CoupledLineTee\n",
    "from qiskit_metal.qlibrary.user_components.left_coupler import LeftCoupler\n",
    "from qiskit_metal.qlibrary.user_components.right_coupler import RightCoupler\n",
    "from qiskit_metal.qlibrary.user_components.straightdown_coupler import StraightDownCoupler\n",
    "from qiskit_metal.qlibrary.user_components.straightup_coupler import StraightUpCoupler"
   ]
  },
  {
   "cell_type": "code",
   "execution_count": 2,
   "metadata": {},
   "outputs": [],
   "source": [
    "design = designs.DesignFlipChip({}, overwrite_enabled=True)\n",
    "gui = MetalGUI(design)"
   ]
  },
  {
   "cell_type": "code",
   "execution_count": 5,
   "metadata": {},
   "outputs": [],
   "source": [
    "design.delete_all_components()"
   ]
  },
  {
   "cell_type": "code",
   "execution_count": 17,
   "metadata": {},
   "outputs": [
    {
     "data": {
      "text/plain": [
       "'6um'"
      ]
     },
     "execution_count": 17,
     "metadata": {},
     "output_type": "execute_result"
    }
   ],
   "source": [
    "design.get_chip_z('Q_chip')"
   ]
  },
  {
   "cell_type": "code",
   "execution_count": 3,
   "metadata": {},
   "outputs": [],
   "source": [
    "design.chips['C_chip'].size['size_x']='6mm'\n",
    "design.chips['C_chip'].size['size_y']='6mm'\n",
    "design.chips['Q_chip'].size['size_x']='4mm'\n",
    "design.chips['Q_chip'].size['size_y']='4mm'\n",
    "design.chips['Q_chip'].size['center_z']='8um'"
   ]
  },
  {
   "cell_type": "markdown",
   "metadata": {},
   "source": [
    "# Resonator length"
   ]
  },
  {
   "cell_type": "code",
   "execution_count": 4,
   "metadata": {},
   "outputs": [],
   "source": [
    "from qiskit_metal.analyses.em.cpw_calculations import guided_wavelength\n",
    "\n",
    "def find_resonator_length(frequency, line_width, line_gap, N): \n",
    "    #frequency in GHz\n",
    "    #line_width/line_gap in um\n",
    "    #N -> 2 for lambda/2, 4 for lambda/4\n",
    "    \n",
    "    [lambdaG, etfSqrt, q] = guided_wavelength(frequency*10**9, line_width*10**-6,\n",
    "                                              line_gap*10**-6, 750*10**-6, 200*10**-9)\n",
    "    return str(lambdaG/N*10**3)+\" mm\""
   ]
  },
  {
   "cell_type": "code",
   "execution_count": 5,
   "metadata": {},
   "outputs": [
    {
     "name": "stdout",
     "output_type": "stream",
     "text": [
      "[4.386627341935143, 4.2723941699207115, 4.164173270104566]\n"
     ]
    }
   ],
   "source": [
    "resonator_length_4=[]\n",
    "for i in range(3):\n",
    "    a=find_resonator_length(7.2+i*0.2,10,6,4)\n",
    "    a=a.strip('mm')\n",
    "    a=float(a)-0.35+0.51-0.1+0.4-0.2-0.1\n",
    "    \n",
    "    resonator_length_4.append(a)\n",
    "print(resonator_length_4)\n"
   ]
  },
  {
   "cell_type": "markdown",
   "metadata": {},
   "source": [
    "# Flipchip"
   ]
  },
  {
   "cell_type": "code",
   "execution_count": 6,
   "metadata": {},
   "outputs": [],
   "source": [
    "cp0 = dict(down = dict(loc_W=1, loc_H=-1, pad_width='120um'))\n",
    "\n",
    "# q0=[TransmonPocket6(design, 'Q0', options=dict(pos_x='-2000um',\n",
    "#                                             pos_y='-2000um',\n",
    "#                                             chip='Q_chip',\n",
    "#                                             connection_pads=cp0))]\n",
    "q0=[TransmonPocket6(design, 'Q0', options=dict(pos_x='-1300um',\n",
    "                                            pos_y='-470um',\n",
    "                                            chip='Q_chip',\n",
    "                                            pad_width='355um',\n",
    "                                            pad_height='65um',\n",
    "                                            pad_gap='50um',\n",
    "                                            pocket_width='650um',\n",
    "                                            pocket_height='650um'))]\n",
    "\n",
    "qubits=q0\n",
    "\n",
    "q0x=float(qubits[0].options.pos_x.strip('um'))\n",
    "q0y=float(qubits[0].options.pos_y.strip('um'))\n",
    "\n",
    "\n",
    "c0 = StraightUpCoupler(design, \"c0\", options=dict(pos_x=f\"{q0x-100}um\",\n",
    "                                              pos_y=f\"{q0y+60}um\",\n",
    "                                              pad_width=\"150um\",\n",
    "                                              pad_height=\"65um\",\n",
    "                                              cpw_stub_height=\"200um\",\n",
    "                                              chip=\"C_chip\"))\n",
    "\n",
    "design.rebuild()\n",
    "gui.rebuild()\n",
    "gui.autoscale()"
   ]
  },
  {
   "cell_type": "code",
   "execution_count": 7,
   "metadata": {},
   "outputs": [],
   "source": [
    "lpL=LaunchpadWirebondCoupled(design, 'lpL',\n",
    "                                         options = dict(chip=\"C_chip\",\n",
    "                                         pos_x = '-1700um',\n",
    "                                         pos_y = '1300um',\n",
    "                                         lead_length = '30um'))\n",
    "lpR=LaunchpadWirebondCoupled(design, 'lpR',\n",
    "                                         options = dict(chip=\"C_chip\",\n",
    "                                         pos_x = '1700um',\n",
    "                                         pos_y = '1300um',\n",
    "                                         orientation='180',\n",
    "                                         lead_length = '30um'))"
   ]
  },
  {
   "cell_type": "code",
   "execution_count": 8,
   "metadata": {},
   "outputs": [],
   "source": [
    "\n",
    "\n",
    "stg=ShortToGround(design, 'stg', options=Dict(chip=\"C_chip\",\n",
    "                                                pos_x='-0.585mm',\n",
    "                                                pos_y='0mm',\n",
    "                                                orientation='270'))"
   ]
  },
  {
   "cell_type": "code",
   "execution_count": 9,
   "metadata": {},
   "outputs": [],
   "source": [
    "fl0=RouteStraight(design, 'fl0',options=Dict(chip=\"C_chip\", pin_inputs=Dict(start_pin=Dict(\n",
    "                                                            component='lpL',\n",
    "                                                            pin='tie'),\n",
    "                                                            end_pin=Dict(\n",
    "                                                            component='lpR',\n",
    "                                                            pin='tie'))))\n"
   ]
  },
  {
   "cell_type": "markdown",
   "metadata": {},
   "source": [
    "# Readout resonator"
   ]
  },
  {
   "cell_type": "code",
   "execution_count": 10,
   "metadata": {},
   "outputs": [],
   "source": [
    "from collections import OrderedDict\n",
    "jogs=OrderedDict()\n",
    "def connect(component_name: str, component1: str, pin1: str, component2: str, pin2: str,\n",
    "            length: str, start_jogged_extension: OrderedDict, end_jogged_extension: OrderedDict,\n",
    "            spacing: str, asymmetry='0 um',  start_straight='0 um', end_straight='0 um', flip=False):\n",
    "    \"\"\"Connect two pins with a CPW.\"\"\"\n",
    "    myoptions = Dict(\n",
    "        chip=\"C_chip\",\n",
    "        pin_inputs=Dict(\n",
    "            start_pin=Dict(\n",
    "                component=component1,\n",
    "                pin=pin1),\n",
    "            end_pin=Dict(\n",
    "                component=component2,\n",
    "                pin=pin2)),\n",
    "        lead=Dict(\n",
    "            start_straight=start_straight,\n",
    "            end_straight=end_straight,\n",
    "            start_jogged_extension=start_jogged_extension,\n",
    "            end_jogged_extension=end_jogged_extension),\n",
    "        total_length=length,\n",
    "        fillet = '99.9um',\n",
    "        meander=dict(asymmetry=asymmetry,\n",
    "                     spacing=spacing))\n",
    "    myoptions.meander.lead_direction_inverted = 'true' if flip else 'false'\n",
    "    return RouteMeander(design, component_name, myoptions)"
   ]
  },
  {
   "cell_type": "code",
   "execution_count": 11,
   "metadata": {},
   "outputs": [],
   "source": [
    "jogs1=OrderedDict()\n",
    "jogs1[0]=['R','350um']\n",
    "jogs1[1]=['R', '400um']\n",
    "jogs1[2]=['L','465um']\n"
   ]
  },
  {
   "cell_type": "code",
   "execution_count": 12,
   "metadata": {},
   "outputs": [],
   "source": [
    "#3.91mm\n",
    "rr0=connect('rr0', 'c0', 'in','stg', 'short', \n",
    "            resonator_length_4[1],jogs1,jogs, \n",
    "            '400um','0um', '1460um', '100um')"
   ]
  },
  {
   "cell_type": "markdown",
   "metadata": {},
   "source": [
    "# EPR Analysis"
   ]
  },
  {
   "cell_type": "code",
   "execution_count": 13,
   "metadata": {},
   "outputs": [],
   "source": [
    "from qiskit_metal.analyses.quantization import EPRanalysis\n",
    "eig_rd = EPRanalysis(design, \"hfss\")\n",
    "hfss = eig_rd.sim.renderer"
   ]
  },
  {
   "cell_type": "code",
   "execution_count": 14,
   "metadata": {},
   "outputs": [
    {
     "name": "stderr",
     "output_type": "stream",
     "text": [
      "INFO 06:20PM [connect_project]: Connecting to Ansys Desktop API...\n",
      "INFO 06:20PM [load_ansys_project]: \tOpened Ansys App\n",
      "INFO 06:20PM [load_ansys_project]: \tOpened Ansys Desktop v2018.0.0\n",
      "INFO 06:20PM [load_ansys_project]: \tOpened Ansys Project\n",
      "\tFolder:    C:/Users/kimje/Documents/Ansoft/\n",
      "\tProject:   flipchip_distance\n",
      "INFO 06:20PM [connect_design]: \tOpened active design\n",
      "\tDesign:    Design_q3d [Solution type: Q3D]\n",
      "INFO 06:20PM [get_setup]: \tOpened setup `Setup`  (<class 'pyEPR.ansys.AnsysQ3DSetup'>)\n",
      "INFO 06:20PM [connect]: \tConnected to project \"flipchip_distance\" and design \"Design_q3d\" 😀 \n",
      "\n"
     ]
    },
    {
     "data": {
      "text/plain": [
       "True"
      ]
     },
     "execution_count": 14,
     "metadata": {},
     "output_type": "execute_result"
    }
   ],
   "source": [
    "hfss.start()"
   ]
  },
  {
   "cell_type": "code",
   "execution_count": 15,
   "metadata": {},
   "outputs": [
    {
     "name": "stderr",
     "output_type": "stream",
     "text": [
      "06:20PM 31s WARNING [activate_ansys_design]: The design_name=flip8um_V5 was not in active project.  Designs in active project are: \n",
      "['flip6um_V5', 'flip7um_V5-1', 'Design_q3d'].  A new design will be added to the project.  \n",
      "INFO 06:20PM [connect_design]: \tOpened active design\n",
      "\tDesign:    flip8um_V5 [Solution type: Eigenmode]\n",
      "WARNING 06:20PM [connect_setup]: \tNo design setup detected.\n",
      "WARNING 06:20PM [connect_setup]: \tCreating eigenmode default setup.\n",
      "INFO 06:20PM [get_setup]: \tOpened setup `Setup`  (<class 'pyEPR.ansys.HfssEMSetup'>)\n"
     ]
    }
   ],
   "source": [
    "hfss.activate_ansys_design(\"flip8um_V5\", 'eigenmode')\n",
    "hfss.render_design(['Q0','c0','lpL','lpR','stg','rr0','fl0'],[],\n",
    "                    box_plus_buffer=False)"
   ]
  },
  {
   "cell_type": "code",
   "execution_count": 16,
   "metadata": {},
   "outputs": [
    {
     "data": {
      "text/plain": [
       "True"
      ]
     },
     "execution_count": 16,
     "metadata": {},
     "output_type": "execute_result"
    }
   ],
   "source": [
    "hfss.close()"
   ]
  },
  {
   "cell_type": "markdown",
   "metadata": {},
   "source": [
    "# LOM Analysis"
   ]
  },
  {
   "cell_type": "code",
   "execution_count": 17,
   "metadata": {},
   "outputs": [],
   "source": [
    "from qiskit_metal.analyses.quantization import LOManalysis\n",
    "c1 = LOManalysis(design, \"q3d\")\n"
   ]
  },
  {
   "cell_type": "code",
   "execution_count": 18,
   "metadata": {},
   "outputs": [
    {
     "data": {
      "text/plain": [
       "{'name': 'Setup',\n",
       " 'reuse_selected_design': True,\n",
       " 'reuse_setup': True,\n",
       " 'freq_ghz': '5.64',\n",
       " 'save_fields': False,\n",
       " 'enabled': True,\n",
       " 'max_passes': 10,\n",
       " 'min_passes': 2,\n",
       " 'min_converged_passes': 2,\n",
       " 'percent_error': 0.5,\n",
       " 'percent_refinement': 30,\n",
       " 'auto_increase_solution_order': 'False',\n",
       " 'solution_order': 'Medium',\n",
       " 'solver_type': 'Iterative'}"
      ]
     },
     "execution_count": 18,
     "metadata": {},
     "output_type": "execute_result"
    }
   ],
   "source": [
    "c1.sim.setup.max_passes = 10\n",
    "c1.sim.setup_update(freq_ghz='5.64',solution_order = 'Medium', auto_increase_solution_order = 'False')\n",
    "c1.sim.setup"
   ]
  },
  {
   "cell_type": "code",
   "execution_count": 20,
   "metadata": {},
   "outputs": [
    {
     "name": "stderr",
     "output_type": "stream",
     "text": [
      "INFO 06:28PM [get_matrix]: Exporting matrix data to (C:\\Users\\kimje\\AppData\\Local\\Temp\\tmpjwkotzjx.txt, C, , Setup:LastAdaptive, \"Original\", \"ohm\", \"nH\", \"fF\", \"mSie\", 5640000000, Maxwell, 1, False\n",
      "INFO 06:28PM [get_matrix]: Exporting matrix data to (C:\\Users\\kimje\\AppData\\Local\\Temp\\tmpbvo90sk_.txt, C, , Setup:AdaptivePass, \"Original\", \"ohm\", \"nH\", \"fF\", \"mSie\", 5640000000, Maxwell, 1, False\n",
      "INFO 06:28PM [get_matrix]: Exporting matrix data to (C:\\Users\\kimje\\AppData\\Local\\Temp\\tmpnoaklgsv.txt, C, , Setup:AdaptivePass, \"Original\", \"ohm\", \"nH\", \"fF\", \"mSie\", 5640000000, Maxwell, 2, False\n",
      "INFO 06:28PM [get_matrix]: Exporting matrix data to (C:\\Users\\kimje\\AppData\\Local\\Temp\\tmpgjdcr1mp.txt, C, , Setup:AdaptivePass, \"Original\", \"ohm\", \"nH\", \"fF\", \"mSie\", 5640000000, Maxwell, 3, False\n",
      "INFO 06:28PM [get_matrix]: Exporting matrix data to (C:\\Users\\kimje\\AppData\\Local\\Temp\\tmpdbekkxvt.txt, C, , Setup:AdaptivePass, \"Original\", \"ohm\", \"nH\", \"fF\", \"mSie\", 5640000000, Maxwell, 4, False\n",
      "INFO 06:28PM [get_matrix]: Exporting matrix data to (C:\\Users\\kimje\\AppData\\Local\\Temp\\tmph46_rya5.txt, C, , Setup:AdaptivePass, \"Original\", \"ohm\", \"nH\", \"fF\", \"mSie\", 5640000000, Maxwell, 5, False\n",
      "INFO 06:28PM [get_matrix]: Exporting matrix data to (C:\\Users\\kimje\\AppData\\Local\\Temp\\tmpnhpo5lbq.txt, C, , Setup:AdaptivePass, \"Original\", \"ohm\", \"nH\", \"fF\", \"mSie\", 5640000000, Maxwell, 6, False\n",
      "INFO 06:28PM [get_matrix]: Exporting matrix data to (C:\\Users\\kimje\\AppData\\Local\\Temp\\tmpps1fixwc.txt, C, , Setup:AdaptivePass, \"Original\", \"ohm\", \"nH\", \"fF\", \"mSie\", 5640000000, Maxwell, 7, False\n",
      "INFO 06:28PM [get_matrix]: Exporting matrix data to (C:\\Users\\kimje\\AppData\\Local\\Temp\\tmpcqzg4h1t.txt, C, , Setup:AdaptivePass, \"Original\", \"ohm\", \"nH\", \"fF\", \"mSie\", 5640000000, Maxwell, 8, False\n",
      "INFO 06:28PM [get_matrix]: Exporting matrix data to (C:\\Users\\kimje\\AppData\\Local\\Temp\\tmppqbvsqaz.txt, C, , Setup:AdaptivePass, \"Original\", \"ohm\", \"nH\", \"fF\", \"mSie\", 5640000000, Maxwell, 9, False\n",
      "INFO 06:28PM [get_matrix]: Exporting matrix data to (C:\\Users\\kimje\\AppData\\Local\\Temp\\tmproyxbi46.txt, C, , Setup:AdaptivePass, \"Original\", \"ohm\", \"nH\", \"fF\", \"mSie\", 5640000000, Maxwell, 10, False\n"
     ]
    },
    {
     "data": {
      "text/html": [
       "<div>\n",
       "<style scoped>\n",
       "    .dataframe tbody tr th:only-of-type {\n",
       "        vertical-align: middle;\n",
       "    }\n",
       "\n",
       "    .dataframe tbody tr th {\n",
       "        vertical-align: top;\n",
       "    }\n",
       "\n",
       "    .dataframe thead th {\n",
       "        text-align: right;\n",
       "    }\n",
       "</style>\n",
       "<table border=\"1\" class=\"dataframe\">\n",
       "  <thead>\n",
       "    <tr style=\"text-align: right;\">\n",
       "      <th></th>\n",
       "      <th>ground</th>\n",
       "      <th>pad_bot_Q0</th>\n",
       "      <th>pad_top_Q0</th>\n",
       "      <th>quad_coupler_c0</th>\n",
       "    </tr>\n",
       "  </thead>\n",
       "  <tbody>\n",
       "    <tr>\n",
       "      <th>ground</th>\n",
       "      <td>284.660</td>\n",
       "      <td>-78.47100</td>\n",
       "      <td>-65.855</td>\n",
       "      <td>-78.16500</td>\n",
       "    </tr>\n",
       "    <tr>\n",
       "      <th>pad_bot_Q0</th>\n",
       "      <td>-78.471</td>\n",
       "      <td>93.49100</td>\n",
       "      <td>-14.062</td>\n",
       "      <td>-0.13402</td>\n",
       "    </tr>\n",
       "    <tr>\n",
       "      <th>pad_top_Q0</th>\n",
       "      <td>-65.855</td>\n",
       "      <td>-14.06200</td>\n",
       "      <td>93.451</td>\n",
       "      <td>-12.64200</td>\n",
       "    </tr>\n",
       "    <tr>\n",
       "      <th>quad_coupler_c0</th>\n",
       "      <td>-78.165</td>\n",
       "      <td>-0.13402</td>\n",
       "      <td>-12.642</td>\n",
       "      <td>91.12800</td>\n",
       "    </tr>\n",
       "  </tbody>\n",
       "</table>\n",
       "</div>"
      ],
      "text/plain": [
       "                  ground  pad_bot_Q0  pad_top_Q0  quad_coupler_c0\n",
       "ground           284.660   -78.47100     -65.855        -78.16500\n",
       "pad_bot_Q0       -78.471    93.49100     -14.062         -0.13402\n",
       "pad_top_Q0       -65.855   -14.06200      93.451        -12.64200\n",
       "quad_coupler_c0  -78.165    -0.13402     -12.642         91.12800"
      ]
     },
     "execution_count": 20,
     "metadata": {},
     "output_type": "execute_result"
    }
   ],
   "source": [
    "#c1.sim.run(components=['Q0','c0'], open_terminations=[('c0', 'in')])\n",
    "c1.sim._get_results_from_renderer()\n",
    "c1.sim.capacitance_matrix"
   ]
  },
  {
   "cell_type": "code",
   "execution_count": 22,
   "metadata": {},
   "outputs": [
    {
     "name": "stdout",
     "output_type": "stream",
     "text": [
      "[1, 2] [3]\n",
      "Predicted Values\n",
      "\n",
      "Transmon Properties\n",
      "f_Q 6.078363 [GHz]\n",
      "EC 350.038091 [MHz]\n",
      "EJ 14.854145 [GHz]\n",
      "alpha -408.281693 [MHz]\n",
      "dispersion 53.306802 [KHz]\n",
      "Lq 10.995564 [nH]\n",
      "Cq 55.337486 [fF]\n",
      "T1 17.312245 [us]\n",
      "\n",
      "**Coupling Properties**\n",
      "\n",
      "tCqbus1 -6.258382 [fF]\n",
      "gbus1_in_MHz -108.673784 [MHz]\n",
      "χ_bus1 -8.538401 [MHz]\n",
      "1/T1bus1 9193.200638 [Hz]\n",
      "T1bus1 17.312245 [us]\n",
      "Bus-Bus Couplings\n"
     ]
    },
    {
     "data": {
      "text/html": [
       "<div>\n",
       "<style scoped>\n",
       "    .dataframe tbody tr th:only-of-type {\n",
       "        vertical-align: middle;\n",
       "    }\n",
       "\n",
       "    .dataframe tbody tr th {\n",
       "        vertical-align: top;\n",
       "    }\n",
       "\n",
       "    .dataframe thead th {\n",
       "        text-align: right;\n",
       "    }\n",
       "</style>\n",
       "<table border=\"1\" class=\"dataframe\">\n",
       "  <thead>\n",
       "    <tr style=\"text-align: right;\">\n",
       "      <th></th>\n",
       "      <th>fQ</th>\n",
       "      <th>EC</th>\n",
       "      <th>EJ</th>\n",
       "      <th>alpha</th>\n",
       "      <th>dispersion</th>\n",
       "      <th>gbus</th>\n",
       "      <th>chi_in_MHz</th>\n",
       "      <th>χr MHz</th>\n",
       "      <th>gr MHz</th>\n",
       "    </tr>\n",
       "  </thead>\n",
       "  <tbody>\n",
       "    <tr>\n",
       "      <th>1</th>\n",
       "      <td>6.275934</td>\n",
       "      <td>374.88373</td>\n",
       "      <td>14.854145</td>\n",
       "      <td>-440.388251</td>\n",
       "      <td>96.801139</td>\n",
       "      <td>[-66.73484385653578]</td>\n",
       "      <td>[-5.122704480925721]</td>\n",
       "      <td>5.122704</td>\n",
       "      <td>66.734844</td>\n",
       "    </tr>\n",
       "    <tr>\n",
       "      <th>2</th>\n",
       "      <td>6.093459</td>\n",
       "      <td>351.901831</td>\n",
       "      <td>14.854145</td>\n",
       "      <td>-410.675751</td>\n",
       "      <td>55.870662</td>\n",
       "      <td>[-129.10156314594278]</td>\n",
       "      <td>[-12.452064878693868]</td>\n",
       "      <td>12.452065</td>\n",
       "      <td>129.101563</td>\n",
       "    </tr>\n",
       "    <tr>\n",
       "      <th>3</th>\n",
       "      <td>6.087297</td>\n",
       "      <td>351.14029</td>\n",
       "      <td>14.854145</td>\n",
       "      <td>-409.697237</td>\n",
       "      <td>54.810996</td>\n",
       "      <td>[-120.92757985478572]</td>\n",
       "      <td>[-10.779313355648197]</td>\n",
       "      <td>10.779313</td>\n",
       "      <td>120.927580</td>\n",
       "    </tr>\n",
       "    <tr>\n",
       "      <th>4</th>\n",
       "      <td>6.071949</td>\n",
       "      <td>349.247901</td>\n",
       "      <td>14.854145</td>\n",
       "      <td>-407.267357</td>\n",
       "      <td>52.249574</td>\n",
       "      <td>[-117.37853370165767]</td>\n",
       "      <td>[-9.824228921718841]</td>\n",
       "      <td>9.824229</td>\n",
       "      <td>117.378534</td>\n",
       "    </tr>\n",
       "    <tr>\n",
       "      <th>5</th>\n",
       "      <td>6.098117</td>\n",
       "      <td>352.478003</td>\n",
       "      <td>14.854145</td>\n",
       "      <td>-411.416337</td>\n",
       "      <td>56.683601</td>\n",
       "      <td>[-114.00268270341391]</td>\n",
       "      <td>[-9.809326951159148]</td>\n",
       "      <td>9.809327</td>\n",
       "      <td>114.002683</td>\n",
       "    </tr>\n",
       "    <tr>\n",
       "      <th>6</th>\n",
       "      <td>6.097531</td>\n",
       "      <td>352.40551</td>\n",
       "      <td>14.854145</td>\n",
       "      <td>-411.323146</td>\n",
       "      <td>56.580783</td>\n",
       "      <td>[-112.40523916526774]</td>\n",
       "      <td>[-9.524102416389553]</td>\n",
       "      <td>9.524102</td>\n",
       "      <td>112.405239</td>\n",
       "    </tr>\n",
       "    <tr>\n",
       "      <th>7</th>\n",
       "      <td>6.089374</td>\n",
       "      <td>351.396879</td>\n",
       "      <td>14.854145</td>\n",
       "      <td>-410.026889</td>\n",
       "      <td>55.16616</td>\n",
       "      <td>[-110.74393933304167]</td>\n",
       "      <td>[-9.081237570833316]</td>\n",
       "      <td>9.081238</td>\n",
       "      <td>110.743939</td>\n",
       "    </tr>\n",
       "    <tr>\n",
       "      <th>8</th>\n",
       "      <td>6.082127</td>\n",
       "      <td>350.502251</td>\n",
       "      <td>14.854145</td>\n",
       "      <td>-408.877711</td>\n",
       "      <td>53.936032</td>\n",
       "      <td>[-109.48964450224787]</td>\n",
       "      <td>[-8.737978638001909]</td>\n",
       "      <td>8.737979</td>\n",
       "      <td>109.489645</td>\n",
       "    </tr>\n",
       "    <tr>\n",
       "      <th>9</th>\n",
       "      <td>6.078363</td>\n",
       "      <td>350.038091</td>\n",
       "      <td>14.854145</td>\n",
       "      <td>-408.281693</td>\n",
       "      <td>53.306802</td>\n",
       "      <td>[-108.67378395665627]</td>\n",
       "      <td>[-8.538401313132436]</td>\n",
       "      <td>8.538401</td>\n",
       "      <td>108.673784</td>\n",
       "    </tr>\n",
       "  </tbody>\n",
       "</table>\n",
       "</div>"
      ],
      "text/plain": [
       "         fQ          EC         EJ       alpha dispersion  \\\n",
       "1  6.275934   374.88373  14.854145 -440.388251  96.801139   \n",
       "2  6.093459  351.901831  14.854145 -410.675751  55.870662   \n",
       "3  6.087297   351.14029  14.854145 -409.697237  54.810996   \n",
       "4  6.071949  349.247901  14.854145 -407.267357  52.249574   \n",
       "5  6.098117  352.478003  14.854145 -411.416337  56.683601   \n",
       "6  6.097531   352.40551  14.854145 -411.323146  56.580783   \n",
       "7  6.089374  351.396879  14.854145 -410.026889   55.16616   \n",
       "8  6.082127  350.502251  14.854145 -408.877711  53.936032   \n",
       "9  6.078363  350.038091  14.854145 -408.281693  53.306802   \n",
       "\n",
       "                    gbus             chi_in_MHz     χr MHz      gr MHz  \n",
       "1   [-66.73484385653578]   [-5.122704480925721]   5.122704   66.734844  \n",
       "2  [-129.10156314594278]  [-12.452064878693868]  12.452065  129.101563  \n",
       "3  [-120.92757985478572]  [-10.779313355648197]  10.779313  120.927580  \n",
       "4  [-117.37853370165767]   [-9.824228921718841]   9.824229  117.378534  \n",
       "5  [-114.00268270341391]   [-9.809326951159148]   9.809327  114.002683  \n",
       "6  [-112.40523916526774]   [-9.524102416389553]   9.524102  112.405239  \n",
       "7  [-110.74393933304167]   [-9.081237570833316]   9.081238  110.743939  \n",
       "8  [-109.48964450224787]   [-8.737978638001909]   8.737979  109.489645  \n",
       "9  [-108.67378395665627]   [-8.538401313132436]   8.538401  108.673784  "
      ]
     },
     "execution_count": 22,
     "metadata": {},
     "output_type": "execute_result"
    }
   ],
   "source": [
    "c1.setup.junctions = Dict({'Lj': 11, 'Cj': 2})\n",
    "c1.setup.freq_readout = 6.96\n",
    "c1.setup.freq_bus = []\n",
    "c1.run_lom()\n",
    "c1.lumped_oscillator_all"
   ]
  },
  {
   "cell_type": "code",
   "execution_count": 23,
   "metadata": {},
   "outputs": [
    {
     "name": "stdout",
     "output_type": "stream",
     "text": [
      "Warning! 3 COM references still alive\n",
      "Ansys will likely refuse to shut down\n"
     ]
    }
   ],
   "source": [
    "c1.sim.close()"
   ]
  },
  {
   "cell_type": "code",
   "execution_count": null,
   "metadata": {},
   "outputs": [],
   "source": []
  }
 ],
 "metadata": {
  "kernelspec": {
   "display_name": "Python 3.9.10 ('metal')",
   "language": "python",
   "name": "python3"
  },
  "language_info": {
   "codemirror_mode": {
    "name": "ipython",
    "version": 3
   },
   "file_extension": ".py",
   "mimetype": "text/x-python",
   "name": "python",
   "nbconvert_exporter": "python",
   "pygments_lexer": "ipython3",
   "version": "3.9.10"
  },
  "orig_nbformat": 4,
  "vscode": {
   "interpreter": {
    "hash": "ac951534856e2c23f9f162419ca8ae29ffbc7967cf243c458d1cebaa12df0b5c"
   }
  }
 },
 "nbformat": 4,
 "nbformat_minor": 2
}
