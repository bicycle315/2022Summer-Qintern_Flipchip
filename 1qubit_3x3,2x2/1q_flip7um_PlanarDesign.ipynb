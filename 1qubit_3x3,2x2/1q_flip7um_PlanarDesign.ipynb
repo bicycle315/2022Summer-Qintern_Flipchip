{
 "cells": [
  {
   "cell_type": "code",
   "execution_count": 1,
   "metadata": {},
   "outputs": [],
   "source": [
    "import warnings\n",
    "warnings.filterwarnings(\"ignore\")\n",
    "%load_ext autoreload\n",
    "%autoreload 2\n",
    "from qiskit_metal import Dict, MetalGUI, designs\n",
    "\n",
    "from qiskit_metal.qlibrary.qubits.transmon_pocket import TransmonPocket\n",
    "from qiskit_metal.qlibrary.qubits.transmon_pocket_6 import TransmonPocket6\n",
    "from qiskit_metal.qlibrary.tlines.meandered import RouteMeander\n",
    "from qiskit_metal.qlibrary.tlines.straight_path import RouteStraight\n",
    "from qiskit_metal.qlibrary.terminations.launchpad_wb_coupled import LaunchpadWirebondCoupled\n",
    "from qiskit_metal.qlibrary.terminations.short_to_ground import ShortToGround\n",
    "from qiskit_metal.qlibrary.couplers.coupled_line_tee import CoupledLineTee\n",
    "from qiskit_metal.qlibrary.user_components.left_coupler import LeftCoupler\n",
    "from qiskit_metal.qlibrary.user_components.right_coupler import RightCoupler\n",
    "from qiskit_metal.qlibrary.user_components.straightdown_coupler import StraightDownCoupler\n",
    "from qiskit_metal.qlibrary.user_components.straightup_coupler import StraightUpCoupler"
   ]
  },
  {
   "cell_type": "code",
   "execution_count": 2,
   "metadata": {},
   "outputs": [],
   "source": [
    "design = designs.DesignFlipChip({}, overwrite_enabled=True)\n",
    "gui = MetalGUI(design)"
   ]
  },
  {
   "cell_type": "code",
   "execution_count": 3,
   "metadata": {},
   "outputs": [],
   "source": [
    "design.chips['C_chip'].size['size_x']='3mm'\n",
    "design.chips['C_chip'].size['size_y']='3mm'\n",
    "design.chips['Q_chip'].size['size_x']='2mm'\n",
    "design.chips['Q_chip'].size['size_y']='2mm'\n",
    "design.chips['Q_chip'].size['center_z']='7um'"
   ]
  },
  {
   "cell_type": "code",
   "execution_count": 4,
   "metadata": {},
   "outputs": [
    {
     "data": {
      "text/plain": [
       "'7um'"
      ]
     },
     "execution_count": 4,
     "metadata": {},
     "output_type": "execute_result"
    }
   ],
   "source": [
    "design.get_chip_z('Q_chip')"
   ]
  },
  {
   "cell_type": "code",
   "execution_count": 5,
   "metadata": {},
   "outputs": [],
   "source": [
    "\n",
    "cp0 = dict(down = dict(loc_W=1, loc_H=-1, pad_width='120um'))\n",
    "q0=[TransmonPocket6(design, 'Q0', options=dict(pos_x='-300um',\n",
    "                                            pos_y='-500um',\n",
    "                                            chip='Q_chip'))]\n",
    "                                            \n",
    "qubits=q0\n",
    "q0x=float(qubits[0].options.pos_x.strip('um'))\n",
    "q0y=float(qubits[0].options.pos_y.strip('um'))\n",
    "\n",
    "\n",
    "c0 = StraightUpCoupler(design, \"c0\", options=dict(pos_x=f\"{q0x-150}um\",\n",
    "                                              pos_y=f\"{q0y+140}um\",\n",
    "                                              pad_width=\"150um\",\n",
    "                                              pad_height=\"50um\",\n",
    "                                              cpw_stub_height=\"200um\",\n",
    "                                              chip=\"C_chip\"))\n",
    "design.rebuild()\n",
    "gui.rebuild()\n",
    "gui.autoscale()"
   ]
  },
  {
   "cell_type": "code",
   "execution_count": 6,
   "metadata": {},
   "outputs": [],
   "source": [
    "lpL=LaunchpadWirebondCoupled(design, 'lpL',\n",
    "                                         options = dict(chip=\"C_chip\",\n",
    "                                         pos_x = '-700um',\n",
    "                                         pos_y = '800um',\n",
    "                                         lead_length = '30um'))\n",
    "lpR=LaunchpadWirebondCoupled(design, 'lpR',\n",
    "                                         options = dict(chip=\"C_chip\",\n",
    "                                         pos_x = '700um',\n",
    "                                         pos_y = '800um',\n",
    "                                         orientation='180',\n",
    "                                         lead_length = '30um'))                                        "
   ]
  },
  {
   "cell_type": "code",
   "execution_count": 7,
   "metadata": {},
   "outputs": [],
   "source": [
    "stg=ShortToGround(design, 'stg', options=Dict(chip=\"C_chip\",\n",
    "                                                pos_x='0.65mm',\n",
    "                                                pos_y='-0.2mm',\n",
    "                                                orientation='270'))"
   ]
  },
  {
   "cell_type": "code",
   "execution_count": 8,
   "metadata": {},
   "outputs": [],
   "source": [
    "fl0=RouteStraight(design, 'fl0',options=Dict(chip=\"C_chip\", pin_inputs=Dict(start_pin=Dict(\n",
    "                                                            component='lpL',\n",
    "                                                            pin='tie'),\n",
    "                                                            end_pin=Dict(\n",
    "                                                            component='lpR',\n",
    "                                                            pin='tie'))))\n"
   ]
  },
  {
   "cell_type": "markdown",
   "metadata": {},
   "source": [
    "# Readout resonator"
   ]
  },
  {
   "cell_type": "code",
   "execution_count": 9,
   "metadata": {},
   "outputs": [],
   "source": [
    "from collections import OrderedDict\n",
    "jogs=OrderedDict()\n",
    "def connect(component_name: str, component1: str, pin1: str, component2: str, pin2: str,\n",
    "            length: str, start_jogged_extension: OrderedDict, end_jogged_extension: OrderedDict,\n",
    "            spacing: str, asymmetry='0 um',  start_straight='0 um', end_straight='0 um', flip=False):\n",
    "    \"\"\"Connect two pins with a CPW.\"\"\"\n",
    "    myoptions = Dict(\n",
    "        chip=\"C_chip\",\n",
    "        pin_inputs=Dict(\n",
    "            start_pin=Dict(\n",
    "                component=component1,\n",
    "                pin=pin1),\n",
    "            end_pin=Dict(\n",
    "                component=component2,\n",
    "                pin=pin2)),\n",
    "        lead=Dict(\n",
    "            start_straight=start_straight,\n",
    "            end_straight=end_straight,\n",
    "            start_jogged_extension=start_jogged_extension,\n",
    "            end_jogged_extension=end_jogged_extension),\n",
    "        total_length=length,\n",
    "        fillet = '99.9um',\n",
    "        meander=dict(asymmetry=asymmetry,\n",
    "                     spacing=spacing))\n",
    "    myoptions.meander.lead_direction_inverted = 'true' if flip else 'false'\n",
    "    return RouteMeander(design, component_name, myoptions)"
   ]
  },
  {
   "cell_type": "markdown",
   "metadata": {},
   "source": [
    "# Resonator length"
   ]
  },
  {
   "cell_type": "code",
   "execution_count": 10,
   "metadata": {},
   "outputs": [],
   "source": [
    "from qiskit_metal.analyses.em.cpw_calculations import guided_wavelength\n",
    "\n",
    "def find_resonator_length(frequency, line_width, line_gap, N): \n",
    "    [lambdaG, etfSqrt, q] = guided_wavelength(frequency*10**9, line_width*10**-6,\n",
    "                                              line_gap*10**-6, 750*10**-6, 200*10**-9)\n",
    "    return str(lambdaG/N*10**3)+\" mm\""
   ]
  },
  {
   "cell_type": "code",
   "execution_count": 11,
   "metadata": {},
   "outputs": [
    {
     "name": "stdout",
     "output_type": "stream",
     "text": [
      "[3.807562247348839]\n"
     ]
    }
   ],
   "source": [
    "resonator_length_4=[]\n",
    "a=find_resonator_length(7.5,10,6,4)\n",
    "a=a.strip('mm')\n",
    "a=float(a)-0.25 # subtract coupler length\n",
    "resonator_length_4.append(a)\n",
    "print(resonator_length_4)\n"
   ]
  },
  {
   "cell_type": "code",
   "execution_count": null,
   "metadata": {},
   "outputs": [],
   "source": [
    "jogs1=OrderedDict()\n",
    "jogs1[0]=['R','300um']\n",
    "jogs1[1]=['R', '300um']\n",
    "jogs1[2]=['L','800um']\n",
    "jogs1[3]=['R','200um']\n",
    "jogs1[4]=['R','600um']\n",
    "jogs1[5]=['L','200um']\n",
    "jogs1[6]=['L','600um']\n"
   ]
  },
  {
   "cell_type": "code",
   "execution_count": null,
   "metadata": {},
   "outputs": [],
   "source": [
    "rr0=connect('rr0', 'c0', 'in','stg', 'short',\n",
    "            resonator_length_4[0],jogs1,jogs, \n",
    "            '100um','0um', '918um', '100um')\n",
    "            "
   ]
  },
  {
   "cell_type": "markdown",
   "metadata": {},
   "source": [
    "# EPR Analysis"
   ]
  },
  {
   "cell_type": "code",
   "execution_count": 14,
   "metadata": {},
   "outputs": [],
   "source": [
    "from qiskit_metal.analyses.quantization import EPRanalysis\n",
    "eig_rd = EPRanalysis(design, \"hfss\")\n",
    "hfss = eig_rd.sim.renderer"
   ]
  },
  {
   "cell_type": "code",
   "execution_count": 15,
   "metadata": {},
   "outputs": [
    {
     "name": "stderr",
     "output_type": "stream",
     "text": [
      "INFO 11:50AM [connect_project]: Connecting to Ansys Desktop API...\n",
      "INFO 11:50AM [load_ansys_project]: \tOpened Ansys App\n",
      "INFO 11:50AM [load_ansys_project]: \tOpened Ansys Desktop v2018.0.0\n",
      "INFO 11:50AM [load_ansys_project]: \tOpened Ansys Project\n",
      "\tFolder:    C:/Users/kimje/Documents/Ansoft/\n",
      "\tProject:   KPS_Planar\n",
      "INFO 11:50AM [connect_design]: \tOpened active design\n",
      "\tDesign:    Planar [Solution type: Eigenmode]\n",
      "INFO 11:50AM [get_setup]: \tOpened setup `Setup`  (<class 'pyEPR.ansys.HfssEMSetup'>)\n",
      "INFO 11:50AM [connect]: \tConnected to project \"KPS_Planar\" and design \"Planar\" 😀 \n",
      "\n"
     ]
    },
    {
     "data": {
      "text/plain": [
       "True"
      ]
     },
     "execution_count": 15,
     "metadata": {},
     "output_type": "execute_result"
    }
   ],
   "source": [
    "hfss.start()"
   ]
  },
  {
   "cell_type": "code",
   "execution_count": 16,
   "metadata": {},
   "outputs": [
    {
     "name": "stderr",
     "output_type": "stream",
     "text": [
      "11:51AM 00s WARNING [activate_ansys_design]: The design_name=flip7um_PlanarDesign was not in active project.  Designs in active project are: \n",
      "['Planar', 'Design_q3d'].  A new design will be added to the project.  \n",
      "INFO 11:51AM [connect_design]: \tOpened active design\n",
      "\tDesign:    flip7um_PlanarDesign [Solution type: Eigenmode]\n",
      "WARNING 11:51AM [connect_setup]: \tNo design setup detected.\n",
      "WARNING 11:51AM [connect_setup]: \tCreating eigenmode default setup.\n",
      "INFO 11:51AM [get_setup]: \tOpened setup `Setup`  (<class 'pyEPR.ansys.HfssEMSetup'>)\n"
     ]
    }
   ],
   "source": [
    "hfss.activate_ansys_design(\"flip7um_PlanarDesign\", 'eigenmode')\n",
    "hfss.render_design(['Q0','c0','lpL','lpR','stg','rr0','fl0'],[],\n",
    "                    box_plus_buffer=False)"
   ]
  },
  {
   "cell_type": "code",
   "execution_count": 17,
   "metadata": {},
   "outputs": [
    {
     "data": {
      "text/plain": [
       "True"
      ]
     },
     "execution_count": 17,
     "metadata": {},
     "output_type": "execute_result"
    }
   ],
   "source": [
    "hfss.close()\n"
   ]
  },
  {
   "cell_type": "markdown",
   "metadata": {},
   "source": [
    "# LOM Analysis"
   ]
  },
  {
   "cell_type": "code",
   "execution_count": 18,
   "metadata": {},
   "outputs": [],
   "source": [
    "from qiskit_metal.analyses.quantization import LOManalysis\n",
    "c1 = LOManalysis(design, \"q3d\")"
   ]
  },
  {
   "cell_type": "code",
   "execution_count": 19,
   "metadata": {},
   "outputs": [
    {
     "data": {
      "text/plain": [
       "{'name': 'Setup',\n",
       " 'reuse_selected_design': True,\n",
       " 'reuse_setup': True,\n",
       " 'freq_ghz': '4.78',\n",
       " 'save_fields': False,\n",
       " 'enabled': True,\n",
       " 'max_passes': 10,\n",
       " 'min_passes': 2,\n",
       " 'min_converged_passes': 2,\n",
       " 'percent_error': 0.5,\n",
       " 'percent_refinement': 30,\n",
       " 'auto_increase_solution_order': 'False',\n",
       " 'solution_order': 'Medium',\n",
       " 'solver_type': 'Iterative'}"
      ]
     },
     "execution_count": 19,
     "metadata": {},
     "output_type": "execute_result"
    }
   ],
   "source": [
    "c1.sim.setup.max_passes = 10\n",
    "c1.sim.setup_update(freq_ghz='4.78',solution_order = 'Medium', auto_increase_solution_order = 'False')\n",
    "c1.sim.setup"
   ]
  },
  {
   "cell_type": "code",
   "execution_count": 21,
   "metadata": {},
   "outputs": [
    {
     "name": "stderr",
     "output_type": "stream",
     "text": [
      "INFO 03:02PM [get_matrix]: Exporting matrix data to (C:\\Users\\kimje\\AppData\\Local\\Temp\\tmp6_uopujx.txt, C, , Setup:LastAdaptive, \"Original\", \"ohm\", \"nH\", \"fF\", \"mSie\", 4780000000, Maxwell, 1, False\n",
      "INFO 03:02PM [get_matrix]: Exporting matrix data to (C:\\Users\\kimje\\AppData\\Local\\Temp\\tmp_9jc93bs.txt, C, , Setup:AdaptivePass, \"Original\", \"ohm\", \"nH\", \"fF\", \"mSie\", 4780000000, Maxwell, 1, False\n",
      "INFO 03:02PM [get_matrix]: Exporting matrix data to (C:\\Users\\kimje\\AppData\\Local\\Temp\\tmpf014enof.txt, C, , Setup:AdaptivePass, \"Original\", \"ohm\", \"nH\", \"fF\", \"mSie\", 4780000000, Maxwell, 2, False\n",
      "INFO 03:02PM [get_matrix]: Exporting matrix data to (C:\\Users\\kimje\\AppData\\Local\\Temp\\tmpjbpup675.txt, C, , Setup:AdaptivePass, \"Original\", \"ohm\", \"nH\", \"fF\", \"mSie\", 4780000000, Maxwell, 3, False\n",
      "INFO 03:02PM [get_matrix]: Exporting matrix data to (C:\\Users\\kimje\\AppData\\Local\\Temp\\tmp6sdx2hm3.txt, C, , Setup:AdaptivePass, \"Original\", \"ohm\", \"nH\", \"fF\", \"mSie\", 4780000000, Maxwell, 4, False\n",
      "INFO 03:02PM [get_matrix]: Exporting matrix data to (C:\\Users\\kimje\\AppData\\Local\\Temp\\tmp0eu9n13b.txt, C, , Setup:AdaptivePass, \"Original\", \"ohm\", \"nH\", \"fF\", \"mSie\", 4780000000, Maxwell, 5, False\n",
      "INFO 03:02PM [get_matrix]: Exporting matrix data to (C:\\Users\\kimje\\AppData\\Local\\Temp\\tmpagaiffd_.txt, C, , Setup:AdaptivePass, \"Original\", \"ohm\", \"nH\", \"fF\", \"mSie\", 4780000000, Maxwell, 6, False\n",
      "INFO 03:02PM [get_matrix]: Exporting matrix data to (C:\\Users\\kimje\\AppData\\Local\\Temp\\tmp32rq2p2y.txt, C, , Setup:AdaptivePass, \"Original\", \"ohm\", \"nH\", \"fF\", \"mSie\", 4780000000, Maxwell, 7, False\n"
     ]
    },
    {
     "data": {
      "text/html": [
       "<div>\n",
       "<style scoped>\n",
       "    .dataframe tbody tr th:only-of-type {\n",
       "        vertical-align: middle;\n",
       "    }\n",
       "\n",
       "    .dataframe tbody tr th {\n",
       "        vertical-align: top;\n",
       "    }\n",
       "\n",
       "    .dataframe thead th {\n",
       "        text-align: right;\n",
       "    }\n",
       "</style>\n",
       "<table border=\"1\" class=\"dataframe\">\n",
       "  <thead>\n",
       "    <tr style=\"text-align: right;\">\n",
       "      <th></th>\n",
       "      <th>ground</th>\n",
       "      <th>pad_bot_Q0</th>\n",
       "      <th>pad_top_Q0</th>\n",
       "      <th>quad_coupler_c0</th>\n",
       "    </tr>\n",
       "  </thead>\n",
       "  <tbody>\n",
       "    <tr>\n",
       "      <th>ground</th>\n",
       "      <td>375.810</td>\n",
       "      <td>-120.45000</td>\n",
       "      <td>-117.1900</td>\n",
       "      <td>-74.51400</td>\n",
       "    </tr>\n",
       "    <tr>\n",
       "      <th>pad_bot_Q0</th>\n",
       "      <td>-120.450</td>\n",
       "      <td>150.45000</td>\n",
       "      <td>-28.0200</td>\n",
       "      <td>-0.36257</td>\n",
       "    </tr>\n",
       "    <tr>\n",
       "      <th>pad_top_Q0</th>\n",
       "      <td>-117.190</td>\n",
       "      <td>-28.02000</td>\n",
       "      <td>150.4100</td>\n",
       "      <td>-3.61640</td>\n",
       "    </tr>\n",
       "    <tr>\n",
       "      <th>quad_coupler_c0</th>\n",
       "      <td>-74.514</td>\n",
       "      <td>-0.36257</td>\n",
       "      <td>-3.6164</td>\n",
       "      <td>78.50400</td>\n",
       "    </tr>\n",
       "  </tbody>\n",
       "</table>\n",
       "</div>"
      ],
      "text/plain": [
       "                  ground  pad_bot_Q0  pad_top_Q0  quad_coupler_c0\n",
       "ground           375.810  -120.45000   -117.1900        -74.51400\n",
       "pad_bot_Q0      -120.450   150.45000    -28.0200         -0.36257\n",
       "pad_top_Q0      -117.190   -28.02000    150.4100         -3.61640\n",
       "quad_coupler_c0  -74.514    -0.36257     -3.6164         78.50400"
      ]
     },
     "execution_count": 21,
     "metadata": {},
     "output_type": "execute_result"
    }
   ],
   "source": [
    "#c1.sim.run(components=['Q0','c0'], open_terminations=[('c0', 'in')])\n",
    "c1.sim._get_results_from_renderer()\n",
    "c1.sim.capacitance_matrix"
   ]
  },
  {
   "cell_type": "code",
   "execution_count": 22,
   "metadata": {},
   "outputs": [
    {
     "name": "stdout",
     "output_type": "stream",
     "text": [
      "[1, 2] [3]\n",
      "Predicted Values\n",
      "\n",
      "Transmon Properties\n",
      "f_Q 4.821870 [GHz]\n",
      "EC 214.213804 [MHz]\n",
      "EJ 14.854145 [GHz]\n",
      "alpha -239.885117 [MHz]\n",
      "dispersion 0.373370 [KHz]\n",
      "Lq 10.995564 [nH]\n",
      "Cq 90.424742 [fF]\n",
      "T1 5851.503645 [us]\n",
      "\n",
      "**Coupling Properties**\n",
      "\n",
      "tCqbus1 -1.626966 [fF]\n",
      "gbus1_in_MHz -20.926645 [MHz]\n",
      "χ_bus1 -0.027533 [MHz]\n",
      "1/T1bus1 27.198982 [Hz]\n",
      "T1bus1 5851.503645 [us]\n",
      "Bus-Bus Couplings\n"
     ]
    },
    {
     "data": {
      "text/html": [
       "<div>\n",
       "<style scoped>\n",
       "    .dataframe tbody tr th:only-of-type {\n",
       "        vertical-align: middle;\n",
       "    }\n",
       "\n",
       "    .dataframe tbody tr th {\n",
       "        vertical-align: top;\n",
       "    }\n",
       "\n",
       "    .dataframe thead th {\n",
       "        text-align: right;\n",
       "    }\n",
       "</style>\n",
       "<table border=\"1\" class=\"dataframe\">\n",
       "  <thead>\n",
       "    <tr style=\"text-align: right;\">\n",
       "      <th></th>\n",
       "      <th>fQ</th>\n",
       "      <th>EC</th>\n",
       "      <th>EJ</th>\n",
       "      <th>alpha</th>\n",
       "      <th>dispersion</th>\n",
       "      <th>gbus</th>\n",
       "      <th>chi_in_MHz</th>\n",
       "      <th>χr MHz</th>\n",
       "      <th>gr MHz</th>\n",
       "    </tr>\n",
       "  </thead>\n",
       "  <tbody>\n",
       "    <tr>\n",
       "      <th>1</th>\n",
       "      <td>5.852773</td>\n",
       "      <td>322.861486</td>\n",
       "      <td>14.854145</td>\n",
       "      <td>-373.633026</td>\n",
       "      <td>25.65302</td>\n",
       "      <td>[-56.86058450409791]</td>\n",
       "      <td>[-0.7086822159802318]</td>\n",
       "      <td>0.708682</td>\n",
       "      <td>56.860585</td>\n",
       "    </tr>\n",
       "    <tr>\n",
       "      <th>2</th>\n",
       "      <td>5.163388</td>\n",
       "      <td>247.45048</td>\n",
       "      <td>14.854145</td>\n",
       "      <td>-279.997838</td>\n",
       "      <td>1.833232</td>\n",
       "      <td>[-21.212867638821002]</td>\n",
       "      <td>[-0.041508141324023126]</td>\n",
       "      <td>0.041508</td>\n",
       "      <td>21.212868</td>\n",
       "    </tr>\n",
       "    <tr>\n",
       "      <th>3</th>\n",
       "      <td>4.938422</td>\n",
       "      <td>225.257045</td>\n",
       "      <td>14.854145</td>\n",
       "      <td>-253.134647</td>\n",
       "      <td>0.659001</td>\n",
       "      <td>[-19.11715051460557]</td>\n",
       "      <td>[-0.026126007363223198]</td>\n",
       "      <td>0.026126</td>\n",
       "      <td>19.117151</td>\n",
       "    </tr>\n",
       "    <tr>\n",
       "      <th>4</th>\n",
       "      <td>4.859836</td>\n",
       "      <td>217.777274</td>\n",
       "      <td>14.854145</td>\n",
       "      <td>-244.151983</td>\n",
       "      <td>0.450645</td>\n",
       "      <td>[-19.690526522766895]</td>\n",
       "      <td>[-0.025411741983867458]</td>\n",
       "      <td>0.025412</td>\n",
       "      <td>19.690527</td>\n",
       "    </tr>\n",
       "    <tr>\n",
       "      <th>5</th>\n",
       "      <td>4.83796</td>\n",
       "      <td>215.719977</td>\n",
       "      <td>14.854145</td>\n",
       "      <td>-241.687601</td>\n",
       "      <td>0.404501</td>\n",
       "      <td>[-20.522085185047676]</td>\n",
       "      <td>[-0.026949145486487393]</td>\n",
       "      <td>0.026949</td>\n",
       "      <td>20.522085</td>\n",
       "    </tr>\n",
       "    <tr>\n",
       "      <th>6</th>\n",
       "      <td>4.82187</td>\n",
       "      <td>214.213804</td>\n",
       "      <td>14.854145</td>\n",
       "      <td>-239.885117</td>\n",
       "      <td>0.37337</td>\n",
       "      <td>[-20.926645318624267]</td>\n",
       "      <td>[-0.02753343504253757]</td>\n",
       "      <td>0.027533</td>\n",
       "      <td>20.926645</td>\n",
       "    </tr>\n",
       "  </tbody>\n",
       "</table>\n",
       "</div>"
      ],
      "text/plain": [
       "         fQ          EC         EJ       alpha dispersion  \\\n",
       "1  5.852773  322.861486  14.854145 -373.633026   25.65302   \n",
       "2  5.163388   247.45048  14.854145 -279.997838   1.833232   \n",
       "3  4.938422  225.257045  14.854145 -253.134647   0.659001   \n",
       "4  4.859836  217.777274  14.854145 -244.151983   0.450645   \n",
       "5   4.83796  215.719977  14.854145 -241.687601   0.404501   \n",
       "6   4.82187  214.213804  14.854145 -239.885117    0.37337   \n",
       "\n",
       "                    gbus               chi_in_MHz    χr MHz     gr MHz  \n",
       "1   [-56.86058450409791]    [-0.7086822159802318]  0.708682  56.860585  \n",
       "2  [-21.212867638821002]  [-0.041508141324023126]  0.041508  21.212868  \n",
       "3   [-19.11715051460557]  [-0.026126007363223198]  0.026126  19.117151  \n",
       "4  [-19.690526522766895]  [-0.025411741983867458]  0.025412  19.690527  \n",
       "5  [-20.522085185047676]  [-0.026949145486487393]  0.026949  20.522085  \n",
       "6  [-20.926645318624267]   [-0.02753343504253757]  0.027533  20.926645  "
      ]
     },
     "execution_count": 22,
     "metadata": {},
     "output_type": "execute_result"
    }
   ],
   "source": [
    "c1.setup.junctions = Dict({'Lj': 11, 'Cj': 2})\n",
    "c1.setup.freq_readout = 7.54\n",
    "c1.setup.freq_bus = []\n",
    "c1.run_lom()\n",
    "c1.lumped_oscillator_all"
   ]
  },
  {
   "cell_type": "code",
   "execution_count": 23,
   "metadata": {},
   "outputs": [
    {
     "name": "stdout",
     "output_type": "stream",
     "text": [
      "Warning! 3 COM references still alive\n",
      "Ansys will likely refuse to shut down\n"
     ]
    }
   ],
   "source": [
    "c1.sim.close()"
   ]
  },
  {
   "cell_type": "code",
   "execution_count": null,
   "metadata": {},
   "outputs": [],
   "source": []
  }
 ],
 "metadata": {
  "kernelspec": {
   "display_name": "Python 3.9.10 ('metal')",
   "language": "python",
   "name": "python3"
  },
  "language_info": {
   "codemirror_mode": {
    "name": "ipython",
    "version": 3
   },
   "file_extension": ".py",
   "mimetype": "text/x-python",
   "name": "python",
   "nbconvert_exporter": "python",
   "pygments_lexer": "ipython3",
   "version": "3.9.10"
  },
  "orig_nbformat": 4,
  "vscode": {
   "interpreter": {
    "hash": "ac951534856e2c23f9f162419ca8ae29ffbc7967cf243c458d1cebaa12df0b5c"
   }
  }
 },
 "nbformat": 4,
 "nbformat_minor": 2
}
