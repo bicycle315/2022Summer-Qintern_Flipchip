{
 "cells": [
  {
   "cell_type": "code",
   "execution_count": 1,
   "metadata": {},
   "outputs": [],
   "source": [
    "import warnings\n",
    "warnings.filterwarnings(\"ignore\")\n",
    "%load_ext autoreload\n",
    "%autoreload 2\n",
    "from qiskit_metal import Dict, MetalGUI, designs\n",
    "\n",
    "from qiskit_metal.qlibrary.qubits.transmon_pocket import TransmonPocket\n",
    "from qiskit_metal.qlibrary.qubits.transmon_pocket_6 import TransmonPocket6\n",
    "from qiskit_metal.qlibrary.tlines.meandered import RouteMeander\n",
    "from qiskit_metal.qlibrary.tlines.straight_path import RouteStraight\n",
    "from qiskit_metal.qlibrary.terminations.launchpad_wb_coupled import LaunchpadWirebondCoupled\n",
    "from qiskit_metal.qlibrary.terminations.short_to_ground import ShortToGround\n",
    "from qiskit_metal.qlibrary.couplers.coupled_line_tee import CoupledLineTee\n",
    "from qiskit_metal.qlibrary.user_components.left_coupler import LeftCoupler\n",
    "from qiskit_metal.qlibrary.user_components.right_coupler import RightCoupler\n",
    "from qiskit_metal.qlibrary.user_components.straightdown_coupler import StraightDownCoupler\n",
    "from qiskit_metal.qlibrary.user_components.straightup_coupler import StraightUpCoupler"
   ]
  },
  {
   "cell_type": "code",
   "execution_count": 2,
   "metadata": {},
   "outputs": [],
   "source": [
    "design = designs.DesignFlipChip({}, overwrite_enabled=True)\n",
    "gui = MetalGUI(design)"
   ]
  },
  {
   "cell_type": "code",
   "execution_count": 3,
   "metadata": {},
   "outputs": [],
   "source": [
    "design.chips['C_chip'].size['size_x']='3mm'\n",
    "design.chips['C_chip'].size['size_y']='3mm'\n",
    "design.chips['Q_chip'].size['size_x']='2mm'\n",
    "design.chips['Q_chip'].size['size_y']='2mm'\n",
    "design.chips['Q_chip'].size['center_z']='6um'"
   ]
  },
  {
   "cell_type": "code",
   "execution_count": 4,
   "metadata": {},
   "outputs": [
    {
     "data": {
      "text/plain": [
       "'6um'"
      ]
     },
     "execution_count": 4,
     "metadata": {},
     "output_type": "execute_result"
    }
   ],
   "source": [
    "design.get_chip_z('Q_chip')"
   ]
  },
  {
   "cell_type": "code",
   "execution_count": 5,
   "metadata": {},
   "outputs": [],
   "source": [
    "\n",
    "cp0 = dict(down = dict(loc_W=1, loc_H=-1, pad_width='120um'))\n",
    "q0=[TransmonPocket6(design, 'Q0', options=dict(pos_x='-300um',\n",
    "                                            pos_y='-500um',\n",
    "                                            chip='Q_chip',\n",
    "                                            pad_width='450um',\n",
    "                                            pad_height='130um',\n",
    "                                            pad_gap='100um',\n",
    "                                            pocket_width='680um',\n",
    "                                            pocket_height='680um'))]\n",
    "                                            \n",
    "qubits=q0\n",
    "q0x=float(qubits[0].options.pos_x.strip('um'))\n",
    "q0y=float(qubits[0].options.pos_y.strip('um'))\n",
    "\n",
    "\n",
    "c0 = StraightUpCoupler(design, \"c0\", options=dict(pos_x=f\"{q0x-120}um\",\n",
    "                                              pos_y=f\"{q0y+110}um\",\n",
    "                                              pad_width=\"200um\",\n",
    "                                              pad_height=\"140um\",\n",
    "                                              cpw_stub_height=\"200um\",\n",
    "                                              chip=\"C_chip\"))\n",
    "design.rebuild()\n",
    "gui.rebuild()\n",
    "gui.autoscale()"
   ]
  },
  {
   "cell_type": "code",
   "execution_count": 6,
   "metadata": {},
   "outputs": [],
   "source": [
    "lpL=LaunchpadWirebondCoupled(design, 'lpL',\n",
    "                                         options = dict(chip=\"C_chip\",\n",
    "                                         pos_x = '-700um',\n",
    "                                         pos_y = '800um',\n",
    "                                         lead_length = '30um'))\n",
    "lpR=LaunchpadWirebondCoupled(design, 'lpR',\n",
    "                                         options = dict(chip=\"C_chip\",\n",
    "                                         pos_x = '700um',\n",
    "                                         pos_y = '800um',\n",
    "                                         orientation='180',\n",
    "                                         lead_length = '30um'))                                        "
   ]
  },
  {
   "cell_type": "code",
   "execution_count": 7,
   "metadata": {},
   "outputs": [],
   "source": [
    "stg=ShortToGround(design, 'stg', options=Dict(chip=\"C_chip\",\n",
    "                                                pos_x='0.65mm',\n",
    "                                                pos_y='-0.2mm',\n",
    "                                                orientation='270'))"
   ]
  },
  {
   "cell_type": "code",
   "execution_count": 8,
   "metadata": {},
   "outputs": [],
   "source": [
    "fl0=RouteStraight(design, 'fl0',options=Dict(chip=\"C_chip\", pin_inputs=Dict(start_pin=Dict(\n",
    "                                                            component='lpL',\n",
    "                                                            pin='tie'),\n",
    "                                                            end_pin=Dict(\n",
    "                                                            component='lpR',\n",
    "                                                            pin='tie'))))\n"
   ]
  },
  {
   "cell_type": "markdown",
   "metadata": {},
   "source": [
    "# Readout resonator"
   ]
  },
  {
   "cell_type": "code",
   "execution_count": 9,
   "metadata": {},
   "outputs": [],
   "source": [
    "from collections import OrderedDict\n",
    "jogs=OrderedDict()\n",
    "def connect(component_name: str, component1: str, pin1: str, component2: str, pin2: str,\n",
    "            length: str, start_jogged_extension: OrderedDict, end_jogged_extension: OrderedDict,\n",
    "            spacing: str, asymmetry='0 um',  start_straight='0 um', end_straight='0 um', flip=False):\n",
    "    \"\"\"Connect two pins with a CPW.\"\"\"\n",
    "    myoptions = Dict(\n",
    "        chip=\"C_chip\",\n",
    "        pin_inputs=Dict(\n",
    "            start_pin=Dict(\n",
    "                component=component1,\n",
    "                pin=pin1),\n",
    "            end_pin=Dict(\n",
    "                component=component2,\n",
    "                pin=pin2)),\n",
    "        lead=Dict(\n",
    "            start_straight=start_straight,\n",
    "            end_straight=end_straight,\n",
    "            start_jogged_extension=start_jogged_extension,\n",
    "            end_jogged_extension=end_jogged_extension),\n",
    "        total_length=length,\n",
    "        fillet = '99.9um',\n",
    "        meander=dict(asymmetry=asymmetry,\n",
    "                     spacing=spacing))\n",
    "    myoptions.meander.lead_direction_inverted = 'true' if flip else 'false'\n",
    "    return RouteMeander(design, component_name, myoptions)"
   ]
  },
  {
   "cell_type": "markdown",
   "metadata": {},
   "source": [
    "# Resonator length\n",
    "3.85mm"
   ]
  },
  {
   "cell_type": "code",
   "execution_count": 10,
   "metadata": {},
   "outputs": [],
   "source": [
    "from qiskit_metal.analyses.em.cpw_calculations import guided_wavelength\n",
    "\n",
    "def find_resonator_length(frequency, line_width, line_gap, N): \n",
    "    [lambdaG, etfSqrt, q] = guided_wavelength(frequency*10**9, line_width*10**-6,\n",
    "                                              line_gap*10**-6, 750*10**-6, 200*10**-9)\n",
    "    return str(lambdaG/N*10**3)+\" mm\""
   ]
  },
  {
   "cell_type": "code",
   "execution_count": 11,
   "metadata": {},
   "outputs": [
    {
     "name": "stdout",
     "output_type": "stream",
     "text": [
      "[3.5775622473488387]\n"
     ]
    }
   ],
   "source": [
    "resonator_length_4=[]\n",
    "a=find_resonator_length(7.5,10,6,4)\n",
    "a=a.strip('mm')\n",
    "a=float(a)-0.25 +0.5-0.23-0.5# subtract coupler length, for +0.5Ghz, coupler length\n",
    "resonator_length_4.append(a)\n",
    "print(resonator_length_4)\n"
   ]
  },
  {
   "cell_type": "code",
   "execution_count": 12,
   "metadata": {},
   "outputs": [],
   "source": [
    "jogs1=OrderedDict()\n",
    "jogs1[0]=['R','300um']\n",
    "jogs1[1]=['R', '300um']\n",
    "jogs1[2]=['L','700um']\n",
    "jogs1[3]=['R','200um']\n",
    "jogs1[4]=['R','670um']\n",
    "jogs1[5]=['L','200um']\n",
    "jogs1[6]=['L','740um']\n"
   ]
  },
  {
   "cell_type": "code",
   "execution_count": 13,
   "metadata": {},
   "outputs": [],
   "source": [
    "rr0=connect('rr0', 'c0', 'in','stg', 'short',\n",
    "            resonator_length_4[0],jogs1,jogs, \n",
    "            '100um','0um', '904um', '100um')\n",
    "            "
   ]
  },
  {
   "cell_type": "markdown",
   "metadata": {},
   "source": [
    "# EPR Analysis"
   ]
  },
  {
   "cell_type": "code",
   "execution_count": 14,
   "metadata": {},
   "outputs": [],
   "source": [
    "from qiskit_metal.analyses.quantization import EPRanalysis\n",
    "eig_rd = EPRanalysis(design, \"hfss\")\n",
    "hfss = eig_rd.sim.renderer"
   ]
  },
  {
   "cell_type": "code",
   "execution_count": 15,
   "metadata": {},
   "outputs": [
    {
     "name": "stderr",
     "output_type": "stream",
     "text": [
      "INFO 05:17PM [connect_project]: Connecting to Ansys Desktop API...\n",
      "INFO 05:17PM [load_ansys_project]: \tOpened Ansys App\n",
      "INFO 05:17PM [load_ansys_project]: \tOpened Ansys Desktop v2018.0.0\n",
      "INFO 05:17PM [load_ansys_project]: \tOpened Ansys Project\n",
      "\tFolder:    C:/Users/kimje/Documents/Ansoft/\n",
      "\tProject:   V8\n",
      "INFO 05:17PM [connect_design]: \tOpened active design\n",
      "\tDesign:    Design_q3d [Solution type: Q3D]\n",
      "INFO 05:17PM [get_setup]: \tOpened setup `Setup`  (<class 'pyEPR.ansys.AnsysQ3DSetup'>)\n",
      "INFO 05:17PM [connect]: \tConnected to project \"V8\" and design \"Design_q3d\" 😀 \n",
      "\n"
     ]
    },
    {
     "data": {
      "text/plain": [
       "True"
      ]
     },
     "execution_count": 15,
     "metadata": {},
     "output_type": "execute_result"
    }
   ],
   "source": [
    "hfss.start()"
   ]
  },
  {
   "cell_type": "code",
   "execution_count": 16,
   "metadata": {},
   "outputs": [
    {
     "name": "stderr",
     "output_type": "stream",
     "text": [
      "05:17PM 34s WARNING [activate_ansys_design]: The design_name=flip6um_V9 was not in active project.  Designs in active project are: \n",
      "['flip7um_V8', 'Design_q3d', 'flip7um_V8-', 'flip7um_V9'].  A new design will be added to the project.  \n",
      "INFO 05:17PM [connect_design]: \tOpened active design\n",
      "\tDesign:    flip6um_V9 [Solution type: Eigenmode]\n",
      "WARNING 05:17PM [connect_setup]: \tNo design setup detected.\n",
      "WARNING 05:17PM [connect_setup]: \tCreating eigenmode default setup.\n",
      "INFO 05:17PM [get_setup]: \tOpened setup `Setup`  (<class 'pyEPR.ansys.HfssEMSetup'>)\n"
     ]
    }
   ],
   "source": [
    "hfss.activate_ansys_design(\"flip6um_V9\", 'eigenmode')\n",
    "hfss.render_design(['Q0','c0','lpL','lpR','stg','rr0','fl0'],[],\n",
    "                    box_plus_buffer=False)"
   ]
  },
  {
   "cell_type": "code",
   "execution_count": 17,
   "metadata": {},
   "outputs": [
    {
     "data": {
      "text/plain": [
       "True"
      ]
     },
     "execution_count": 17,
     "metadata": {},
     "output_type": "execute_result"
    }
   ],
   "source": [
    "hfss.close()\n"
   ]
  },
  {
   "cell_type": "markdown",
   "metadata": {},
   "source": [
    "# LOM Analysis"
   ]
  },
  {
   "cell_type": "code",
   "execution_count": 18,
   "metadata": {},
   "outputs": [],
   "source": [
    "from qiskit_metal.analyses.quantization import LOManalysis\n",
    "c1 = LOManalysis(design, \"q3d\")"
   ]
  },
  {
   "cell_type": "code",
   "execution_count": 19,
   "metadata": {},
   "outputs": [
    {
     "data": {
      "text/plain": [
       "{'name': 'Setup',\n",
       " 'reuse_selected_design': True,\n",
       " 'reuse_setup': True,\n",
       " 'freq_ghz': '4.97',\n",
       " 'save_fields': False,\n",
       " 'enabled': True,\n",
       " 'max_passes': 10,\n",
       " 'min_passes': 2,\n",
       " 'min_converged_passes': 2,\n",
       " 'percent_error': 0.5,\n",
       " 'percent_refinement': 30,\n",
       " 'auto_increase_solution_order': 'False',\n",
       " 'solution_order': 'Medium',\n",
       " 'solver_type': 'Iterative'}"
      ]
     },
     "execution_count": 19,
     "metadata": {},
     "output_type": "execute_result"
    }
   ],
   "source": [
    "c1.sim.setup.max_passes = 10\n",
    "c1.sim.setup_update(freq_ghz='4.97',solution_order = 'Medium', auto_increase_solution_order = 'False')\n",
    "c1.sim.setup"
   ]
  },
  {
   "cell_type": "code",
   "execution_count": 21,
   "metadata": {},
   "outputs": [
    {
     "name": "stderr",
     "output_type": "stream",
     "text": [
      "INFO 05:30PM [get_matrix]: Exporting matrix data to (C:\\Users\\kimje\\AppData\\Local\\Temp\\tmpdxj8xcg4.txt, C, , Setup:LastAdaptive, \"Original\", \"ohm\", \"nH\", \"fF\", \"mSie\", 4970000000, Maxwell, 1, False\n",
      "INFO 05:30PM [get_matrix]: Exporting matrix data to (C:\\Users\\kimje\\AppData\\Local\\Temp\\tmpwuwo4vw7.txt, C, , Setup:AdaptivePass, \"Original\", \"ohm\", \"nH\", \"fF\", \"mSie\", 4970000000, Maxwell, 1, False\n",
      "INFO 05:30PM [get_matrix]: Exporting matrix data to (C:\\Users\\kimje\\AppData\\Local\\Temp\\tmpd8lrbbad.txt, C, , Setup:AdaptivePass, \"Original\", \"ohm\", \"nH\", \"fF\", \"mSie\", 4970000000, Maxwell, 2, False\n",
      "INFO 05:30PM [get_matrix]: Exporting matrix data to (C:\\Users\\kimje\\AppData\\Local\\Temp\\tmpsi940cgo.txt, C, , Setup:AdaptivePass, \"Original\", \"ohm\", \"nH\", \"fF\", \"mSie\", 4970000000, Maxwell, 3, False\n",
      "INFO 05:30PM [get_matrix]: Exporting matrix data to (C:\\Users\\kimje\\AppData\\Local\\Temp\\tmpw44dfbw7.txt, C, , Setup:AdaptivePass, \"Original\", \"ohm\", \"nH\", \"fF\", \"mSie\", 4970000000, Maxwell, 4, False\n",
      "INFO 05:30PM [get_matrix]: Exporting matrix data to (C:\\Users\\kimje\\AppData\\Local\\Temp\\tmp9mn2bfvc.txt, C, , Setup:AdaptivePass, \"Original\", \"ohm\", \"nH\", \"fF\", \"mSie\", 4970000000, Maxwell, 5, False\n",
      "INFO 05:30PM [get_matrix]: Exporting matrix data to (C:\\Users\\kimje\\AppData\\Local\\Temp\\tmpujzocnlc.txt, C, , Setup:AdaptivePass, \"Original\", \"ohm\", \"nH\", \"fF\", \"mSie\", 4970000000, Maxwell, 6, False\n",
      "INFO 05:30PM [get_matrix]: Exporting matrix data to (C:\\Users\\kimje\\AppData\\Local\\Temp\\tmpog6f83t5.txt, C, , Setup:AdaptivePass, \"Original\", \"ohm\", \"nH\", \"fF\", \"mSie\", 4970000000, Maxwell, 7, False\n",
      "INFO 05:30PM [get_matrix]: Exporting matrix data to (C:\\Users\\kimje\\AppData\\Local\\Temp\\tmp4gin5yt8.txt, C, , Setup:AdaptivePass, \"Original\", \"ohm\", \"nH\", \"fF\", \"mSie\", 4970000000, Maxwell, 8, False\n",
      "INFO 05:30PM [get_matrix]: Exporting matrix data to (C:\\Users\\kimje\\AppData\\Local\\Temp\\tmpf87tw0sa.txt, C, , Setup:AdaptivePass, \"Original\", \"ohm\", \"nH\", \"fF\", \"mSie\", 4970000000, Maxwell, 9, False\n",
      "INFO 05:30PM [get_matrix]: Exporting matrix data to (C:\\Users\\kimje\\AppData\\Local\\Temp\\tmpexjug9o9.txt, C, , Setup:AdaptivePass, \"Original\", \"ohm\", \"nH\", \"fF\", \"mSie\", 4970000000, Maxwell, 10, False\n",
      "INFO 05:30PM [get_matrix]: Exporting matrix data to (C:\\Users\\kimje\\AppData\\Local\\Temp\\tmpno8u7m_9.txt, C, , Setup:AdaptivePass, \"Original\", \"ohm\", \"nH\", \"fF\", \"mSie\", 4970000000, Maxwell, 11, False\n"
     ]
    },
    {
     "data": {
      "text/html": [
       "<div>\n",
       "<style scoped>\n",
       "    .dataframe tbody tr th:only-of-type {\n",
       "        vertical-align: middle;\n",
       "    }\n",
       "\n",
       "    .dataframe tbody tr th {\n",
       "        vertical-align: top;\n",
       "    }\n",
       "\n",
       "    .dataframe thead th {\n",
       "        text-align: right;\n",
       "    }\n",
       "</style>\n",
       "<table border=\"1\" class=\"dataframe\">\n",
       "  <thead>\n",
       "    <tr style=\"text-align: right;\">\n",
       "      <th></th>\n",
       "      <th>pad_bot_Q0</th>\n",
       "      <th>pad_top_Q0</th>\n",
       "      <th>quad_coupler_c0</th>\n",
       "      <th>SignalNet1</th>\n",
       "    </tr>\n",
       "  </thead>\n",
       "  <tbody>\n",
       "    <tr>\n",
       "      <th>pad_bot_Q0</th>\n",
       "      <td>189.610</td>\n",
       "      <td>-16.095</td>\n",
       "      <td>0.000</td>\n",
       "      <td>-174.85</td>\n",
       "    </tr>\n",
       "    <tr>\n",
       "      <th>pad_top_Q0</th>\n",
       "      <td>-16.095</td>\n",
       "      <td>189.010</td>\n",
       "      <td>-41.972</td>\n",
       "      <td>-131.16</td>\n",
       "    </tr>\n",
       "    <tr>\n",
       "      <th>quad_coupler_c0</th>\n",
       "      <td>0.000</td>\n",
       "      <td>-41.972</td>\n",
       "      <td>157.930</td>\n",
       "      <td>-115.39</td>\n",
       "    </tr>\n",
       "    <tr>\n",
       "      <th>SignalNet1</th>\n",
       "      <td>-174.850</td>\n",
       "      <td>-131.160</td>\n",
       "      <td>-115.390</td>\n",
       "      <td>491.42</td>\n",
       "    </tr>\n",
       "  </tbody>\n",
       "</table>\n",
       "</div>"
      ],
      "text/plain": [
       "                 pad_bot_Q0  pad_top_Q0  quad_coupler_c0  SignalNet1\n",
       "pad_bot_Q0          189.610     -16.095            0.000     -174.85\n",
       "pad_top_Q0          -16.095     189.010          -41.972     -131.16\n",
       "quad_coupler_c0       0.000     -41.972          157.930     -115.39\n",
       "SignalNet1         -174.850    -131.160         -115.390      491.42"
      ]
     },
     "execution_count": 21,
     "metadata": {},
     "output_type": "execute_result"
    }
   ],
   "source": [
    "#c1.sim.run(components=['Q0','c0'], open_terminations=[('c0', 'in')])\n",
    "c1.sim._get_results_from_renderer()\n",
    "c1.sim.capacitance_matrix"
   ]
  },
  {
   "cell_type": "code",
   "execution_count": 27,
   "metadata": {},
   "outputs": [
    {
     "name": "stdout",
     "output_type": "stream",
     "text": [
      "[1, 2] [3]\n",
      "Predicted Values\n",
      "\n",
      "Transmon Properties\n",
      "f_Q 5.586360 [GHz]\n",
      "EC 178.253485 [MHz]\n",
      "EJ 23.342229 [GHz]\n",
      "alpha -192.740446 [MHz]\n",
      "dispersion 0.000106 [KHz]\n",
      "Lq 6.997177 [nH]\n",
      "Cq 108.666757 [fF]\n",
      "T1 33.889259 [us]\n",
      "\n",
      "**Coupling Properties**\n",
      "\n",
      "tCqbus1 -7.071149 [fF]\n",
      "gbus1_in_MHz -74.773852 [MHz]\n",
      "χ_bus1 -2.647380 [MHz]\n",
      "1/T1bus1 4696.324148 [Hz]\n",
      "T1bus1 33.889259 [us]\n",
      "Bus-Bus Couplings\n"
     ]
    },
    {
     "data": {
      "text/html": [
       "<div>\n",
       "<style scoped>\n",
       "    .dataframe tbody tr th:only-of-type {\n",
       "        vertical-align: middle;\n",
       "    }\n",
       "\n",
       "    .dataframe tbody tr th {\n",
       "        vertical-align: top;\n",
       "    }\n",
       "\n",
       "    .dataframe thead th {\n",
       "        text-align: right;\n",
       "    }\n",
       "</style>\n",
       "<table border=\"1\" class=\"dataframe\">\n",
       "  <thead>\n",
       "    <tr style=\"text-align: right;\">\n",
       "      <th></th>\n",
       "      <th>fQ</th>\n",
       "      <th>EC</th>\n",
       "      <th>EJ</th>\n",
       "      <th>alpha</th>\n",
       "      <th>dispersion</th>\n",
       "      <th>gbus</th>\n",
       "      <th>chi_in_MHz</th>\n",
       "      <th>χr MHz</th>\n",
       "      <th>gr MHz</th>\n",
       "    </tr>\n",
       "  </thead>\n",
       "  <tbody>\n",
       "    <tr>\n",
       "      <th>1</th>\n",
       "      <td>7.120089</td>\n",
       "      <td>295.403637</td>\n",
       "      <td>23.342229</td>\n",
       "      <td>-328.003132</td>\n",
       "      <td>0.124858</td>\n",
       "      <td>[-39.75002290665509]</td>\n",
       "      <td>[-3.6770743308831073]</td>\n",
       "      <td>3.677074</td>\n",
       "      <td>39.750023</td>\n",
       "    </tr>\n",
       "    <tr>\n",
       "      <th>2</th>\n",
       "      <td>5.584012</td>\n",
       "      <td>178.09839</td>\n",
       "      <td>23.342229</td>\n",
       "      <td>-192.56533</td>\n",
       "      <td>0.000105</td>\n",
       "      <td>[-39.394819940083984]</td>\n",
       "      <td>[-0.7305093833134009]</td>\n",
       "      <td>0.730509</td>\n",
       "      <td>39.394820</td>\n",
       "    </tr>\n",
       "    <tr>\n",
       "      <th>3</th>\n",
       "      <td>5.515215</td>\n",
       "      <td>173.585854</td>\n",
       "      <td>23.342229</td>\n",
       "      <td>-187.475048</td>\n",
       "      <td>0.00007</td>\n",
       "      <td>[-58.727423818249974]</td>\n",
       "      <td>[-1.3723228969381063]</td>\n",
       "      <td>1.372323</td>\n",
       "      <td>58.727424</td>\n",
       "    </tr>\n",
       "    <tr>\n",
       "      <th>4</th>\n",
       "      <td>5.524217</td>\n",
       "      <td>174.172764</td>\n",
       "      <td>23.342229</td>\n",
       "      <td>-188.136577</td>\n",
       "      <td>0.000074</td>\n",
       "      <td>[-68.90318876961874]</td>\n",
       "      <td>[-1.9300054886930287]</td>\n",
       "      <td>1.930005</td>\n",
       "      <td>68.903189</td>\n",
       "    </tr>\n",
       "    <tr>\n",
       "      <th>5</th>\n",
       "      <td>5.533577</td>\n",
       "      <td>174.78419</td>\n",
       "      <td>23.342229</td>\n",
       "      <td>-188.825906</td>\n",
       "      <td>0.000078</td>\n",
       "      <td>[-63.018811635307685]</td>\n",
       "      <td>[-1.6510922442406142]</td>\n",
       "      <td>1.651092</td>\n",
       "      <td>63.018812</td>\n",
       "    </tr>\n",
       "    <tr>\n",
       "      <th>6</th>\n",
       "      <td>5.543657</td>\n",
       "      <td>175.443896</td>\n",
       "      <td>23.342229</td>\n",
       "      <td>-189.569858</td>\n",
       "      <td>0.000083</td>\n",
       "      <td>[-63.54760040218892]</td>\n",
       "      <td>[-1.720349139964493]</td>\n",
       "      <td>1.720349</td>\n",
       "      <td>63.547600</td>\n",
       "    </tr>\n",
       "    <tr>\n",
       "      <th>7</th>\n",
       "      <td>5.5497</td>\n",
       "      <td>175.840046</td>\n",
       "      <td>23.342229</td>\n",
       "      <td>-190.016691</td>\n",
       "      <td>0.000086</td>\n",
       "      <td>[-69.18276455272888]</td>\n",
       "      <td>[-2.0692143935340814]</td>\n",
       "      <td>2.069214</td>\n",
       "      <td>69.182765</td>\n",
       "    </tr>\n",
       "    <tr>\n",
       "      <th>8</th>\n",
       "      <td>5.544498</td>\n",
       "      <td>175.498968</td>\n",
       "      <td>23.342229</td>\n",
       "      <td>-189.631971</td>\n",
       "      <td>0.000083</td>\n",
       "      <td>[-72.183871868181]</td>\n",
       "      <td>[-2.2242603311170295]</td>\n",
       "      <td>2.224260</td>\n",
       "      <td>72.183872</td>\n",
       "    </tr>\n",
       "    <tr>\n",
       "      <th>9</th>\n",
       "      <td>5.549654</td>\n",
       "      <td>175.837019</td>\n",
       "      <td>23.342229</td>\n",
       "      <td>-190.013276</td>\n",
       "      <td>0.000085</td>\n",
       "      <td>[-72.39240107513935]</td>\n",
       "      <td>[-2.265409371475117]</td>\n",
       "      <td>2.265409</td>\n",
       "      <td>72.392401</td>\n",
       "    </tr>\n",
       "    <tr>\n",
       "      <th>10</th>\n",
       "      <td>5.58636</td>\n",
       "      <td>178.253485</td>\n",
       "      <td>23.342229</td>\n",
       "      <td>-192.740446</td>\n",
       "      <td>0.000106</td>\n",
       "      <td>[-74.7738515493293]</td>\n",
       "      <td>[-2.6473795751119154]</td>\n",
       "      <td>2.647380</td>\n",
       "      <td>74.773852</td>\n",
       "    </tr>\n",
       "  </tbody>\n",
       "</table>\n",
       "</div>"
      ],
      "text/plain": [
       "          fQ          EC         EJ       alpha dispersion  \\\n",
       "1   7.120089  295.403637  23.342229 -328.003132   0.124858   \n",
       "2   5.584012   178.09839  23.342229  -192.56533   0.000105   \n",
       "3   5.515215  173.585854  23.342229 -187.475048    0.00007   \n",
       "4   5.524217  174.172764  23.342229 -188.136577   0.000074   \n",
       "5   5.533577   174.78419  23.342229 -188.825906   0.000078   \n",
       "6   5.543657  175.443896  23.342229 -189.569858   0.000083   \n",
       "7     5.5497  175.840046  23.342229 -190.016691   0.000086   \n",
       "8   5.544498  175.498968  23.342229 -189.631971   0.000083   \n",
       "9   5.549654  175.837019  23.342229 -190.013276   0.000085   \n",
       "10   5.58636  178.253485  23.342229 -192.740446   0.000106   \n",
       "\n",
       "                     gbus             chi_in_MHz    χr MHz     gr MHz  \n",
       "1    [-39.75002290665509]  [-3.6770743308831073]  3.677074  39.750023  \n",
       "2   [-39.394819940083984]  [-0.7305093833134009]  0.730509  39.394820  \n",
       "3   [-58.727423818249974]  [-1.3723228969381063]  1.372323  58.727424  \n",
       "4    [-68.90318876961874]  [-1.9300054886930287]  1.930005  68.903189  \n",
       "5   [-63.018811635307685]  [-1.6510922442406142]  1.651092  63.018812  \n",
       "6    [-63.54760040218892]   [-1.720349139964493]  1.720349  63.547600  \n",
       "7    [-69.18276455272888]  [-2.0692143935340814]  2.069214  69.182765  \n",
       "8      [-72.183871868181]  [-2.2242603311170295]  2.224260  72.183872  \n",
       "9    [-72.39240107513935]   [-2.265409371475117]  2.265409  72.392401  \n",
       "10    [-74.7738515493293]  [-2.6473795751119154]  2.647380  74.773852  "
      ]
     },
     "execution_count": 27,
     "metadata": {},
     "output_type": "execute_result"
    }
   ],
   "source": [
    "c1.setup.junctions = Dict({'Lj': 7, 'Cj': 2})\n",
    "c1.setup.freq_readout = 6.4\n",
    "c1.setup.freq_bus = []\n",
    "c1.run_lom()\n",
    "c1.lumped_oscillator_all"
   ]
  },
  {
   "cell_type": "code",
   "execution_count": 28,
   "metadata": {},
   "outputs": [
    {
     "name": "stdout",
     "output_type": "stream",
     "text": [
      "Warning! 3 COM references still alive\n",
      "Ansys will likely refuse to shut down\n"
     ]
    }
   ],
   "source": [
    "c1.sim.close()"
   ]
  },
  {
   "cell_type": "code",
   "execution_count": null,
   "metadata": {},
   "outputs": [],
   "source": []
  }
 ],
 "metadata": {
  "kernelspec": {
   "display_name": "Python 3.9.10 ('metal')",
   "language": "python",
   "name": "python3"
  },
  "language_info": {
   "codemirror_mode": {
    "name": "ipython",
    "version": 3
   },
   "file_extension": ".py",
   "mimetype": "text/x-python",
   "name": "python",
   "nbconvert_exporter": "python",
   "pygments_lexer": "ipython3",
   "version": "3.9.10"
  },
  "orig_nbformat": 4,
  "vscode": {
   "interpreter": {
    "hash": "ac951534856e2c23f9f162419ca8ae29ffbc7967cf243c458d1cebaa12df0b5c"
   }
  }
 },
 "nbformat": 4,
 "nbformat_minor": 2
}
