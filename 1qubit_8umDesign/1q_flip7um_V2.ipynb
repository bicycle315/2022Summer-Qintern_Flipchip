{
 "cells": [
  {
   "cell_type": "code",
   "execution_count": 1,
   "metadata": {},
   "outputs": [],
   "source": [
    "import warnings\n",
    "warnings.filterwarnings(\"ignore\")\n",
    "%load_ext autoreload\n",
    "%autoreload 2\n",
    "from qiskit_metal import Dict, MetalGUI, designs\n",
    "from qiskit_metal.qlibrary.qubits.transmon_pocket import TransmonPocket\n",
    "from qiskit_metal.qlibrary.qubits.transmon_pocket_6 import TransmonPocket6\n",
    "from qiskit_metal.qlibrary.tlines.meandered import RouteMeander\n",
    "from qiskit_metal.qlibrary.tlines.straight_path import RouteStraight\n",
    "from qiskit_metal.qlibrary.terminations.launchpad_wb_coupled import LaunchpadWirebondCoupled\n",
    "from qiskit_metal.qlibrary.terminations.short_to_ground import ShortToGround\n",
    "from qiskit_metal.qlibrary.couplers.coupled_line_tee import CoupledLineTee\n",
    "from qiskit_metal.qlibrary.user_components.left_coupler import LeftCoupler\n",
    "from qiskit_metal.qlibrary.user_components.right_coupler import RightCoupler\n",
    "from qiskit_metal.qlibrary.user_components.straightdown_coupler import StraightDownCoupler\n",
    "from qiskit_metal.qlibrary.user_components.straightup_coupler import StraightUpCoupler"
   ]
  },
  {
   "cell_type": "code",
   "execution_count": 2,
   "metadata": {},
   "outputs": [],
   "source": [
    "design = designs.DesignFlipChip({}, overwrite_enabled=True)\n",
    "gui = MetalGUI(design)"
   ]
  },
  {
   "cell_type": "code",
   "execution_count": 5,
   "metadata": {},
   "outputs": [],
   "source": [
    "design.delete_all_components()"
   ]
  },
  {
   "cell_type": "code",
   "execution_count": 25,
   "metadata": {},
   "outputs": [
    {
     "data": {
      "text/plain": [
       "'7um'"
      ]
     },
     "execution_count": 25,
     "metadata": {},
     "output_type": "execute_result"
    }
   ],
   "source": [
    "design.get_chip_z('Q_chip')"
   ]
  },
  {
   "cell_type": "code",
   "execution_count": 3,
   "metadata": {},
   "outputs": [],
   "source": [
    "design.chips['C_chip'].size['size_x']='6mm'\n",
    "design.chips['C_chip'].size['size_y']='6mm'\n",
    "design.chips['Q_chip'].size['size_x']='4mm'\n",
    "design.chips['Q_chip'].size['size_y']='4mm'\n",
    "design.chips['Q_chip'].size['center_z']='7um'"
   ]
  },
  {
   "cell_type": "markdown",
   "metadata": {},
   "source": [
    "# Resonator length"
   ]
  },
  {
   "cell_type": "code",
   "execution_count": 4,
   "metadata": {},
   "outputs": [],
   "source": [
    "from qiskit_metal.analyses.em.cpw_calculations import guided_wavelength\n",
    "\n",
    "def find_resonator_length(frequency, line_width, line_gap, N): \n",
    "    #frequency in GHz\n",
    "    #line_width/line_gap in um\n",
    "    #N -> 2 for lambda/2, 4 for lambda/4\n",
    "    \n",
    "    [lambdaG, etfSqrt, q] = guided_wavelength(frequency*10**9, line_width*10**-6,\n",
    "                                              line_gap*10**-6, 750*10**-6, 200*10**-9)\n",
    "    return str(lambdaG/N*10**3)+\" mm\""
   ]
  },
  {
   "cell_type": "code",
   "execution_count": 5,
   "metadata": {},
   "outputs": [
    {
     "name": "stdout",
     "output_type": "stream",
     "text": [
      "[3.876627341935142, 3.7623941699207104, 3.654173270104565]\n"
     ]
    }
   ],
   "source": [
    "resonator_length_4=[]\n",
    "for i in range(3):\n",
    "    a=find_resonator_length(7.2+i*0.2,10,6,4)\n",
    "    a=a.strip('mm')\n",
    "    a=float(a)-0.35\n",
    "    resonator_length_4.append(a)\n",
    "print(resonator_length_4)\n"
   ]
  },
  {
   "cell_type": "markdown",
   "metadata": {},
   "source": [
    "# Flipchip"
   ]
  },
  {
   "cell_type": "code",
   "execution_count": 28,
   "metadata": {},
   "outputs": [],
   "source": [
    "cp0 = dict(down = dict(loc_W=1, loc_H=-1, pad_width='120um'))\n",
    "\n",
    "# q0=[TransmonPocket6(design, 'Q0', options=dict(pos_x='-2000um',\n",
    "#                                             pos_y='-2000um',\n",
    "#                                             chip='Q_chip',\n",
    "#                                             connection_pads=cp0))]\n",
    "q0=[TransmonPocket6(design, 'Q0', options=dict(pos_x='-1300um',\n",
    "                                            pos_y='-470um',\n",
    "                                            chip='Q_chip'))]\n",
    "\n",
    "qubits=q0\n",
    "\n",
    "q0x=float(qubits[0].options.pos_x.strip('um'))\n",
    "q0y=float(qubits[0].options.pos_y.strip('um'))\n",
    "\n",
    "\n",
    "c0 = StraightUpCoupler(design, \"c0\", options=dict(pos_x=f\"{q0x-150}um\",\n",
    "                                              pos_y=f\"{q0y+140}um\",\n",
    "                                              pad_width=\"150um\",\n",
    "                                              pad_height=\"50um\",\n",
    "                                              cpw_stub_height=\"200um\",\n",
    "                                              chip=\"C_chip\"))\n",
    "\n",
    "design.rebuild()\n",
    "gui.rebuild()\n",
    "gui.autoscale()"
   ]
  },
  {
   "cell_type": "code",
   "execution_count": 29,
   "metadata": {},
   "outputs": [],
   "source": [
    "lpL=LaunchpadWirebondCoupled(design, 'lpL',\n",
    "                                         options = dict(chip=\"C_chip\",\n",
    "                                         pos_x = '-1700um',\n",
    "                                         pos_y = '1300um',\n",
    "                                         lead_length = '30um'))\n",
    "lpR=LaunchpadWirebondCoupled(design, 'lpR',\n",
    "                                         options = dict(chip=\"C_chip\",\n",
    "                                         pos_x = '1700um',\n",
    "                                         pos_y = '1300um',\n",
    "                                         orientation='180',\n",
    "                                         lead_length = '30um'))"
   ]
  },
  {
   "cell_type": "code",
   "execution_count": 30,
   "metadata": {},
   "outputs": [],
   "source": [
    "stg=ShortToGround(design, 'stg', options=Dict(chip=\"C_chip\",\n",
    "                                                pos_x='-0.585mm',\n",
    "                                                pos_y='0mm',\n",
    "                                                orientation='270'))"
   ]
  },
  {
   "cell_type": "code",
   "execution_count": 31,
   "metadata": {},
   "outputs": [],
   "source": [
    "fl0=RouteStraight(design, 'fl0',options=Dict(chip=\"C_chip\", pin_inputs=Dict(start_pin=Dict(\n",
    "                                                            component='lpL',\n",
    "                                                            pin='tie'),\n",
    "                                                            end_pin=Dict(\n",
    "                                                            component='lpR',\n",
    "                                                            pin='tie'))))\n"
   ]
  },
  {
   "cell_type": "markdown",
   "metadata": {},
   "source": [
    "# Readout resonator"
   ]
  },
  {
   "cell_type": "code",
   "execution_count": 32,
   "metadata": {},
   "outputs": [],
   "source": [
    "from collections import OrderedDict\n",
    "jogs=OrderedDict()\n",
    "def connect(component_name: str, component1: str, pin1: str, component2: str, pin2: str,\n",
    "            length: str, start_jogged_extension: OrderedDict, end_jogged_extension: OrderedDict,\n",
    "            spacing: str, asymmetry='0 um',  start_straight='0 um', end_straight='0 um', flip=False):\n",
    "    \"\"\"Connect two pins with a CPW.\"\"\"\n",
    "    myoptions = Dict(\n",
    "        chip=\"C_chip\",\n",
    "        pin_inputs=Dict(\n",
    "            start_pin=Dict(\n",
    "                component=component1,\n",
    "                pin=pin1),\n",
    "            end_pin=Dict(\n",
    "                component=component2,\n",
    "                pin=pin2)),\n",
    "        lead=Dict(\n",
    "            start_straight=start_straight,\n",
    "            end_straight=end_straight,\n",
    "            start_jogged_extension=start_jogged_extension,\n",
    "            end_jogged_extension=end_jogged_extension),\n",
    "        total_length=length,\n",
    "        fillet = '99.9um',\n",
    "        meander=dict(asymmetry=asymmetry,\n",
    "                     spacing=spacing))\n",
    "    myoptions.meander.lead_direction_inverted = 'true' if flip else 'false'\n",
    "    return RouteMeander(design, component_name, myoptions)"
   ]
  },
  {
   "cell_type": "code",
   "execution_count": 33,
   "metadata": {},
   "outputs": [],
   "source": [
    "jogs1=OrderedDict()\n",
    "jogs1[0]=['R','350um']\n",
    "jogs1[1]=['R', '400um']\n",
    "jogs1[2]=['L','515um']\n"
   ]
  },
  {
   "cell_type": "code",
   "execution_count": 34,
   "metadata": {},
   "outputs": [],
   "source": [
    "rr0=connect('rr0', 'c0', 'in','stg', 'short', \n",
    "            resonator_length_4[1],jogs1,jogs, \n",
    "            '400um','0um', '1388um', '100um')"
   ]
  },
  {
   "cell_type": "markdown",
   "metadata": {},
   "source": [
    "# EPR Analysis"
   ]
  },
  {
   "cell_type": "code",
   "execution_count": 35,
   "metadata": {},
   "outputs": [],
   "source": [
    "from qiskit_metal.analyses.quantization import EPRanalysis\n",
    "eig_rd = EPRanalysis(design, \"hfss\")\n",
    "hfss = eig_rd.sim.renderer"
   ]
  },
  {
   "cell_type": "code",
   "execution_count": 36,
   "metadata": {},
   "outputs": [
    {
     "name": "stderr",
     "output_type": "stream",
     "text": [
      "INFO 06:46PM [connect_project]: Connecting to Ansys Desktop API...\n",
      "INFO 06:46PM [load_ansys_project]: \tOpened Ansys App\n",
      "INFO 06:46PM [load_ansys_project]: \tOpened Ansys Desktop v2018.0.0\n",
      "INFO 06:46PM [load_ansys_project]: \tOpened Ansys Project\n",
      "\tFolder:    C:/Users/kimje/Documents/Ansoft/\n",
      "\tProject:   Project2\n",
      "INFO 06:46PM [connect_design]: No active design found (or error getting active design).\n",
      "INFO 06:46PM [connect]: \t Connected to project \"Project2\". No design detected\n"
     ]
    },
    {
     "data": {
      "text/plain": [
       "True"
      ]
     },
     "execution_count": 36,
     "metadata": {},
     "output_type": "execute_result"
    }
   ],
   "source": [
    "hfss.start()"
   ]
  },
  {
   "cell_type": "code",
   "execution_count": 37,
   "metadata": {},
   "outputs": [
    {
     "name": "stderr",
     "output_type": "stream",
     "text": [
      "06:46PM 02s WARNING [activate_ansys_design]: The design_name=flip7um_V2 was not in active project.  Designs in active project are: \n",
      "[].  A new design will be added to the project.  \n",
      "INFO 06:46PM [connect_design]: \tOpened active design\n",
      "\tDesign:    flip7um_V2 [Solution type: Eigenmode]\n",
      "WARNING 06:46PM [connect_setup]: \tNo design setup detected.\n",
      "WARNING 06:46PM [connect_setup]: \tCreating eigenmode default setup.\n",
      "INFO 06:46PM [get_setup]: \tOpened setup `Setup`  (<class 'pyEPR.ansys.HfssEMSetup'>)\n"
     ]
    }
   ],
   "source": [
    "hfss.activate_ansys_design(\"flip7um_V2\", 'eigenmode')\n",
    "hfss.render_design(['Q0','c0','lpL','lpR','stg','rr0','fl0'],[],\n",
    "                    box_plus_buffer=False)"
   ]
  },
  {
   "cell_type": "code",
   "execution_count": 23,
   "metadata": {},
   "outputs": [
    {
     "name": "stdout",
     "output_type": "stream",
     "text": [
      "Warning! 3 COM references still alive\n",
      "Ansys will likely refuse to shut down\n"
     ]
    },
    {
     "data": {
      "text/plain": [
       "True"
      ]
     },
     "execution_count": 23,
     "metadata": {},
     "output_type": "execute_result"
    }
   ],
   "source": [
    "hfss.close()"
   ]
  },
  {
   "cell_type": "markdown",
   "metadata": {},
   "source": [
    "# LOM Analysis"
   ]
  },
  {
   "cell_type": "code",
   "execution_count": 38,
   "metadata": {},
   "outputs": [],
   "source": [
    "from qiskit_metal.analyses.quantization import LOManalysis\n",
    "c1 = LOManalysis(design, \"q3d\")\n"
   ]
  },
  {
   "cell_type": "code",
   "execution_count": 39,
   "metadata": {},
   "outputs": [
    {
     "data": {
      "text/plain": [
       "{'name': 'Setup',\n",
       " 'reuse_selected_design': True,\n",
       " 'reuse_setup': True,\n",
       " 'freq_ghz': '5.09',\n",
       " 'save_fields': False,\n",
       " 'enabled': True,\n",
       " 'max_passes': 10,\n",
       " 'min_passes': 2,\n",
       " 'min_converged_passes': 2,\n",
       " 'percent_error': 0.5,\n",
       " 'percent_refinement': 30,\n",
       " 'auto_increase_solution_order': 'False',\n",
       " 'solution_order': 'Medium',\n",
       " 'solver_type': 'Iterative'}"
      ]
     },
     "execution_count": 39,
     "metadata": {},
     "output_type": "execute_result"
    }
   ],
   "source": [
    "c1.sim.setup.max_passes = 10\n",
    "c1.sim.setup_update(freq_ghz='5.09',solution_order = 'Medium', auto_increase_solution_order = 'False')\n",
    "c1.sim.setup"
   ]
  },
  {
   "cell_type": "code",
   "execution_count": 41,
   "metadata": {},
   "outputs": [
    {
     "name": "stderr",
     "output_type": "stream",
     "text": [
      "INFO 09:19PM [get_matrix]: Exporting matrix data to (C:\\Users\\kimje\\AppData\\Local\\Temp\\tmpgzou10m_.txt, C, , Setup:LastAdaptive, \"Original\", \"ohm\", \"nH\", \"fF\", \"mSie\", 5090000000, Maxwell, 1, False\n",
      "INFO 09:19PM [get_matrix]: Exporting matrix data to (C:\\Users\\kimje\\AppData\\Local\\Temp\\tmp03_sqlp5.txt, C, , Setup:AdaptivePass, \"Original\", \"ohm\", \"nH\", \"fF\", \"mSie\", 5090000000, Maxwell, 1, False\n",
      "INFO 09:19PM [get_matrix]: Exporting matrix data to (C:\\Users\\kimje\\AppData\\Local\\Temp\\tmpz7qc_avs.txt, C, , Setup:AdaptivePass, \"Original\", \"ohm\", \"nH\", \"fF\", \"mSie\", 5090000000, Maxwell, 2, False\n",
      "INFO 09:19PM [get_matrix]: Exporting matrix data to (C:\\Users\\kimje\\AppData\\Local\\Temp\\tmpu6blf47n.txt, C, , Setup:AdaptivePass, \"Original\", \"ohm\", \"nH\", \"fF\", \"mSie\", 5090000000, Maxwell, 3, False\n",
      "INFO 09:19PM [get_matrix]: Exporting matrix data to (C:\\Users\\kimje\\AppData\\Local\\Temp\\tmp20aaudq4.txt, C, , Setup:AdaptivePass, \"Original\", \"ohm\", \"nH\", \"fF\", \"mSie\", 5090000000, Maxwell, 4, False\n",
      "INFO 09:19PM [get_matrix]: Exporting matrix data to (C:\\Users\\kimje\\AppData\\Local\\Temp\\tmpyqvd5t24.txt, C, , Setup:AdaptivePass, \"Original\", \"ohm\", \"nH\", \"fF\", \"mSie\", 5090000000, Maxwell, 5, False\n",
      "INFO 09:19PM [get_matrix]: Exporting matrix data to (C:\\Users\\kimje\\AppData\\Local\\Temp\\tmp4t5clgis.txt, C, , Setup:AdaptivePass, \"Original\", \"ohm\", \"nH\", \"fF\", \"mSie\", 5090000000, Maxwell, 6, False\n",
      "INFO 09:19PM [get_matrix]: Exporting matrix data to (C:\\Users\\kimje\\AppData\\Local\\Temp\\tmponm5y15w.txt, C, , Setup:AdaptivePass, \"Original\", \"ohm\", \"nH\", \"fF\", \"mSie\", 5090000000, Maxwell, 7, False\n",
      "INFO 09:19PM [get_matrix]: Exporting matrix data to (C:\\Users\\kimje\\AppData\\Local\\Temp\\tmpka89d864.txt, C, , Setup:AdaptivePass, \"Original\", \"ohm\", \"nH\", \"fF\", \"mSie\", 5090000000, Maxwell, 8, False\n"
     ]
    },
    {
     "data": {
      "text/html": [
       "<div>\n",
       "<style scoped>\n",
       "    .dataframe tbody tr th:only-of-type {\n",
       "        vertical-align: middle;\n",
       "    }\n",
       "\n",
       "    .dataframe tbody tr th {\n",
       "        vertical-align: top;\n",
       "    }\n",
       "\n",
       "    .dataframe thead th {\n",
       "        text-align: right;\n",
       "    }\n",
       "</style>\n",
       "<table border=\"1\" class=\"dataframe\">\n",
       "  <thead>\n",
       "    <tr style=\"text-align: right;\">\n",
       "      <th></th>\n",
       "      <th>ground</th>\n",
       "      <th>pad_bot_Q0</th>\n",
       "      <th>pad_top_Q0</th>\n",
       "      <th>quad_coupler_c0</th>\n",
       "    </tr>\n",
       "  </thead>\n",
       "  <tbody>\n",
       "    <tr>\n",
       "      <th>ground</th>\n",
       "      <td>375.960</td>\n",
       "      <td>-120.97000</td>\n",
       "      <td>-117.9500</td>\n",
       "      <td>-74.30800</td>\n",
       "    </tr>\n",
       "    <tr>\n",
       "      <th>pad_bot_Q0</th>\n",
       "      <td>-120.970</td>\n",
       "      <td>150.88000</td>\n",
       "      <td>-27.9020</td>\n",
       "      <td>-0.35029</td>\n",
       "    </tr>\n",
       "    <tr>\n",
       "      <th>pad_top_Q0</th>\n",
       "      <td>-117.950</td>\n",
       "      <td>-27.90200</td>\n",
       "      <td>151.0900</td>\n",
       "      <td>-3.48910</td>\n",
       "    </tr>\n",
       "    <tr>\n",
       "      <th>quad_coupler_c0</th>\n",
       "      <td>-74.308</td>\n",
       "      <td>-0.35029</td>\n",
       "      <td>-3.4891</td>\n",
       "      <td>78.47100</td>\n",
       "    </tr>\n",
       "  </tbody>\n",
       "</table>\n",
       "</div>"
      ],
      "text/plain": [
       "                  ground  pad_bot_Q0  pad_top_Q0  quad_coupler_c0\n",
       "ground           375.960  -120.97000   -117.9500        -74.30800\n",
       "pad_bot_Q0      -120.970   150.88000    -27.9020         -0.35029\n",
       "pad_top_Q0      -117.950   -27.90200    151.0900         -3.48910\n",
       "quad_coupler_c0  -74.308    -0.35029     -3.4891         78.47100"
      ]
     },
     "execution_count": 41,
     "metadata": {},
     "output_type": "execute_result"
    }
   ],
   "source": [
    "#c1.sim.run(components=['Q0','c0'], open_terminations=[('c0', 'in')])\n",
    "c1.sim._get_results_from_renderer()\n",
    "c1.sim.capacitance_matrix"
   ]
  },
  {
   "cell_type": "code",
   "execution_count": 42,
   "metadata": {},
   "outputs": [
    {
     "name": "stdout",
     "output_type": "stream",
     "text": [
      "[1, 2] [3]\n",
      "Predicted Values\n",
      "\n",
      "Transmon Properties\n",
      "f_Q 4.817639 [GHz]\n",
      "EC 213.818702 [MHz]\n",
      "EJ 14.854145 [GHz]\n",
      "alpha -239.412526 [MHz]\n",
      "dispersion 0.365557 [KHz]\n",
      "Lq 10.995564 [nH]\n",
      "Cq 90.591833 [fF]\n",
      "T1 4932.090394 [us]\n",
      "\n",
      "**Coupling Properties**\n",
      "\n",
      "tCqbus1 -1.568465 [fF]\n",
      "gbus1_in_MHz -18.945683 [MHz]\n",
      "χ_bus1 -0.031349 [MHz]\n",
      "1/T1bus1 32.269267 [Hz]\n",
      "T1bus1 4932.090394 [us]\n",
      "Bus-Bus Couplings\n"
     ]
    },
    {
     "data": {
      "text/html": [
       "<div>\n",
       "<style scoped>\n",
       "    .dataframe tbody tr th:only-of-type {\n",
       "        vertical-align: middle;\n",
       "    }\n",
       "\n",
       "    .dataframe tbody tr th {\n",
       "        vertical-align: top;\n",
       "    }\n",
       "\n",
       "    .dataframe thead th {\n",
       "        text-align: right;\n",
       "    }\n",
       "</style>\n",
       "<table border=\"1\" class=\"dataframe\">\n",
       "  <thead>\n",
       "    <tr style=\"text-align: right;\">\n",
       "      <th></th>\n",
       "      <th>fQ</th>\n",
       "      <th>EC</th>\n",
       "      <th>EJ</th>\n",
       "      <th>alpha</th>\n",
       "      <th>dispersion</th>\n",
       "      <th>gbus</th>\n",
       "      <th>chi_in_MHz</th>\n",
       "      <th>χr MHz</th>\n",
       "      <th>gr MHz</th>\n",
       "    </tr>\n",
       "  </thead>\n",
       "  <tbody>\n",
       "    <tr>\n",
       "      <th>1</th>\n",
       "      <td>5.605858</td>\n",
       "      <td>294.545888</td>\n",
       "      <td>14.854145</td>\n",
       "      <td>-338.045476</td>\n",
       "      <td>10.755351</td>\n",
       "      <td>[-42.84946133029578]</td>\n",
       "      <td>[-0.4669276202984607]</td>\n",
       "      <td>0.466928</td>\n",
       "      <td>42.849461</td>\n",
       "    </tr>\n",
       "    <tr>\n",
       "      <th>2</th>\n",
       "      <td>5.18468</td>\n",
       "      <td>249.611461</td>\n",
       "      <td>14.854145</td>\n",
       "      <td>-282.630318</td>\n",
       "      <td>2.010227</td>\n",
       "      <td>[-22.442467290005755]</td>\n",
       "      <td>[-0.07022844584855518]</td>\n",
       "      <td>0.070228</td>\n",
       "      <td>22.442467</td>\n",
       "    </tr>\n",
       "    <tr>\n",
       "      <th>3</th>\n",
       "      <td>4.981696</td>\n",
       "      <td>229.43588</td>\n",
       "      <td>14.854145</td>\n",
       "      <td>-258.168711</td>\n",
       "      <td>0.8082</td>\n",
       "      <td>[-15.79620895355234]</td>\n",
       "      <td>[-0.02672629545833401]</td>\n",
       "      <td>0.026726</td>\n",
       "      <td>15.796209</td>\n",
       "    </tr>\n",
       "    <tr>\n",
       "      <th>4</th>\n",
       "      <td>4.866013</td>\n",
       "      <td>218.360063</td>\n",
       "      <td>14.854145</td>\n",
       "      <td>-244.850584</td>\n",
       "      <td>0.464518</td>\n",
       "      <td>[-17.457253983356587]</td>\n",
       "      <td>[-0.028246394512573846]</td>\n",
       "      <td>0.028246</td>\n",
       "      <td>17.457254</td>\n",
       "    </tr>\n",
       "    <tr>\n",
       "      <th>5</th>\n",
       "      <td>4.83651</td>\n",
       "      <td>215.584012</td>\n",
       "      <td>14.854145</td>\n",
       "      <td>-241.524828</td>\n",
       "      <td>0.401602</td>\n",
       "      <td>[-18.521239148364526]</td>\n",
       "      <td>[-0.03066057136177364]</td>\n",
       "      <td>0.030661</td>\n",
       "      <td>18.521239</td>\n",
       "    </tr>\n",
       "    <tr>\n",
       "      <th>6</th>\n",
       "      <td>4.83269</td>\n",
       "      <td>215.226064</td>\n",
       "      <td>14.854145</td>\n",
       "      <td>-241.09636</td>\n",
       "      <td>0.394054</td>\n",
       "      <td>[-18.190919504679872]</td>\n",
       "      <td>[-0.029438440977456216]</td>\n",
       "      <td>0.029438</td>\n",
       "      <td>18.190920</td>\n",
       "    </tr>\n",
       "    <tr>\n",
       "      <th>7</th>\n",
       "      <td>4.817639</td>\n",
       "      <td>213.818702</td>\n",
       "      <td>14.854145</td>\n",
       "      <td>-239.412526</td>\n",
       "      <td>0.365557</td>\n",
       "      <td>[-18.94568268995035]</td>\n",
       "      <td>[-0.031348981294658844]</td>\n",
       "      <td>0.031349</td>\n",
       "      <td>18.945683</td>\n",
       "    </tr>\n",
       "  </tbody>\n",
       "</table>\n",
       "</div>"
      ],
      "text/plain": [
       "         fQ          EC         EJ       alpha dispersion  \\\n",
       "1  5.605858  294.545888  14.854145 -338.045476  10.755351   \n",
       "2   5.18468  249.611461  14.854145 -282.630318   2.010227   \n",
       "3  4.981696   229.43588  14.854145 -258.168711     0.8082   \n",
       "4  4.866013  218.360063  14.854145 -244.850584   0.464518   \n",
       "5   4.83651  215.584012  14.854145 -241.524828   0.401602   \n",
       "6   4.83269  215.226064  14.854145  -241.09636   0.394054   \n",
       "7  4.817639  213.818702  14.854145 -239.412526   0.365557   \n",
       "\n",
       "                    gbus               chi_in_MHz    χr MHz     gr MHz  \n",
       "1   [-42.84946133029578]    [-0.4669276202984607]  0.466928  42.849461  \n",
       "2  [-22.442467290005755]   [-0.07022844584855518]  0.070228  22.442467  \n",
       "3   [-15.79620895355234]   [-0.02672629545833401]  0.026726  15.796209  \n",
       "4  [-17.457253983356587]  [-0.028246394512573846]  0.028246  17.457254  \n",
       "5  [-18.521239148364526]   [-0.03066057136177364]  0.030661  18.521239  \n",
       "6  [-18.190919504679872]  [-0.029438440977456216]  0.029438  18.190920  \n",
       "7   [-18.94568268995035]  [-0.031348981294658844]  0.031349  18.945683  "
      ]
     },
     "execution_count": 42,
     "metadata": {},
     "output_type": "execute_result"
    }
   ],
   "source": [
    "c1.setup.junctions = Dict({'Lj': 11, 'Cj': 2})\n",
    "c1.setup.freq_readout = 7.09\n",
    "c1.setup.freq_bus = []\n",
    "c1.run_lom()\n",
    "c1.lumped_oscillator_all"
   ]
  },
  {
   "cell_type": "code",
   "execution_count": 43,
   "metadata": {},
   "outputs": [
    {
     "name": "stdout",
     "output_type": "stream",
     "text": [
      "Warning! 6 COM references still alive\n",
      "Ansys will likely refuse to shut down\n"
     ]
    }
   ],
   "source": [
    "c1.sim.close()"
   ]
  },
  {
   "cell_type": "code",
   "execution_count": null,
   "metadata": {},
   "outputs": [],
   "source": []
  }
 ],
 "metadata": {
  "kernelspec": {
   "display_name": "Python 3.9.10 ('metal')",
   "language": "python",
   "name": "python3"
  },
  "language_info": {
   "codemirror_mode": {
    "name": "ipython",
    "version": 3
   },
   "file_extension": ".py",
   "mimetype": "text/x-python",
   "name": "python",
   "nbconvert_exporter": "python",
   "pygments_lexer": "ipython3",
   "version": "3.9.10"
  },
  "orig_nbformat": 4,
  "vscode": {
   "interpreter": {
    "hash": "ac951534856e2c23f9f162419ca8ae29ffbc7967cf243c458d1cebaa12df0b5c"
   }
  }
 },
 "nbformat": 4,
 "nbformat_minor": 2
}
