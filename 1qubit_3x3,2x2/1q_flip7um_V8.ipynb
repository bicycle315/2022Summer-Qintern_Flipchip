{
 "cells": [
  {
   "cell_type": "code",
   "execution_count": 1,
   "metadata": {},
   "outputs": [],
   "source": [
    "import warnings\n",
    "warnings.filterwarnings(\"ignore\")\n",
    "%load_ext autoreload\n",
    "%autoreload 2\n",
    "from qiskit_metal import Dict, MetalGUI, designs\n",
    "\n",
    "from qiskit_metal.qlibrary.qubits.transmon_pocket import TransmonPocket\n",
    "from qiskit_metal.qlibrary.qubits.transmon_pocket_6 import TransmonPocket6\n",
    "from qiskit_metal.qlibrary.tlines.meandered import RouteMeander\n",
    "from qiskit_metal.qlibrary.tlines.straight_path import RouteStraight\n",
    "from qiskit_metal.qlibrary.terminations.launchpad_wb_coupled import LaunchpadWirebondCoupled\n",
    "from qiskit_metal.qlibrary.terminations.short_to_ground import ShortToGround\n",
    "from qiskit_metal.qlibrary.couplers.coupled_line_tee import CoupledLineTee\n",
    "from qiskit_metal.qlibrary.user_components.left_coupler import LeftCoupler\n",
    "from qiskit_metal.qlibrary.user_components.right_coupler import RightCoupler\n",
    "from qiskit_metal.qlibrary.user_components.straightdown_coupler import StraightDownCoupler\n",
    "from qiskit_metal.qlibrary.user_components.straightup_coupler import StraightUpCoupler"
   ]
  },
  {
   "cell_type": "code",
   "execution_count": 2,
   "metadata": {},
   "outputs": [],
   "source": [
    "design = designs.DesignFlipChip({}, overwrite_enabled=True)\n",
    "gui = MetalGUI(design)"
   ]
  },
  {
   "cell_type": "code",
   "execution_count": 3,
   "metadata": {},
   "outputs": [],
   "source": [
    "design.chips['C_chip'].size['size_x']='3mm'\n",
    "design.chips['C_chip'].size['size_y']='3mm'\n",
    "design.chips['Q_chip'].size['size_x']='2mm'\n",
    "design.chips['Q_chip'].size['size_y']='2mm'\n",
    "design.chips['Q_chip'].size['center_z']='7um'"
   ]
  },
  {
   "cell_type": "code",
   "execution_count": 4,
   "metadata": {},
   "outputs": [
    {
     "data": {
      "text/plain": [
       "'7um'"
      ]
     },
     "execution_count": 4,
     "metadata": {},
     "output_type": "execute_result"
    }
   ],
   "source": [
    "design.get_chip_z('Q_chip')"
   ]
  },
  {
   "cell_type": "code",
   "execution_count": 30,
   "metadata": {},
   "outputs": [],
   "source": [
    "\n",
    "cp0 = dict(down = dict(loc_W=1, loc_H=-1, pad_width='120um'))\n",
    "q0=[TransmonPocket6(design, 'Q0', options=dict(pos_x='-300um',\n",
    "                                            pos_y='-500um',\n",
    "                                            chip='Q_chip',\n",
    "                                            pad_width='450um',\n",
    "                                            pad_height='130um',\n",
    "                                            pad_gap='100um',\n",
    "                                            pocket_width='680um',\n",
    "                                            pocket_height='680um'))]\n",
    "                                            \n",
    "qubits=q0\n",
    "q0x=float(qubits[0].options.pos_x.strip('um'))\n",
    "q0y=float(qubits[0].options.pos_y.strip('um'))\n",
    "\n",
    "\n",
    "c0 = StraightUpCoupler(design, \"c0\", options=dict(pos_x=f\"{q0x-120}um\",\n",
    "                                              pos_y=f\"{q0y+110}um\",\n",
    "                                              pad_width=\"200um\",\n",
    "                                              pad_height=\"140um\",\n",
    "                                              cpw_stub_height=\"200um\",\n",
    "                                              chip=\"C_chip\"))\n",
    "design.rebuild()\n",
    "gui.rebuild()\n",
    "gui.autoscale()"
   ]
  },
  {
   "cell_type": "code",
   "execution_count": 6,
   "metadata": {},
   "outputs": [],
   "source": [
    "lpL=LaunchpadWirebondCoupled(design, 'lpL',\n",
    "                                         options = dict(chip=\"C_chip\",\n",
    "                                         pos_x = '-700um',\n",
    "                                         pos_y = '800um',\n",
    "                                         lead_length = '30um'))\n",
    "lpR=LaunchpadWirebondCoupled(design, 'lpR',\n",
    "                                         options = dict(chip=\"C_chip\",\n",
    "                                         pos_x = '700um',\n",
    "                                         pos_y = '800um',\n",
    "                                         orientation='180',\n",
    "                                         lead_length = '30um'))                                        "
   ]
  },
  {
   "cell_type": "code",
   "execution_count": 7,
   "metadata": {},
   "outputs": [],
   "source": [
    "stg=ShortToGround(design, 'stg', options=Dict(chip=\"C_chip\",\n",
    "                                                pos_x='0.65mm',\n",
    "                                                pos_y='-0.2mm',\n",
    "                                                orientation='270'))"
   ]
  },
  {
   "cell_type": "code",
   "execution_count": 8,
   "metadata": {},
   "outputs": [],
   "source": [
    "fl0=RouteStraight(design, 'fl0',options=Dict(chip=\"C_chip\", pin_inputs=Dict(start_pin=Dict(\n",
    "                                                            component='lpL',\n",
    "                                                            pin='tie'),\n",
    "                                                            end_pin=Dict(\n",
    "                                                            component='lpR',\n",
    "                                                            pin='tie'))))\n"
   ]
  },
  {
   "cell_type": "markdown",
   "metadata": {},
   "source": [
    "# Readout resonator"
   ]
  },
  {
   "cell_type": "code",
   "execution_count": 9,
   "metadata": {},
   "outputs": [],
   "source": [
    "from collections import OrderedDict\n",
    "jogs=OrderedDict()\n",
    "def connect(component_name: str, component1: str, pin1: str, component2: str, pin2: str,\n",
    "            length: str, start_jogged_extension: OrderedDict, end_jogged_extension: OrderedDict,\n",
    "            spacing: str, asymmetry='0 um',  start_straight='0 um', end_straight='0 um', flip=False):\n",
    "    \"\"\"Connect two pins with a CPW.\"\"\"\n",
    "    myoptions = Dict(\n",
    "        chip=\"C_chip\",\n",
    "        pin_inputs=Dict(\n",
    "            start_pin=Dict(\n",
    "                component=component1,\n",
    "                pin=pin1),\n",
    "            end_pin=Dict(\n",
    "                component=component2,\n",
    "                pin=pin2)),\n",
    "        lead=Dict(\n",
    "            start_straight=start_straight,\n",
    "            end_straight=end_straight,\n",
    "            start_jogged_extension=start_jogged_extension,\n",
    "            end_jogged_extension=end_jogged_extension),\n",
    "        total_length=length,\n",
    "        fillet = '99.9um',\n",
    "        meander=dict(asymmetry=asymmetry,\n",
    "                     spacing=spacing))\n",
    "    myoptions.meander.lead_direction_inverted = 'true' if flip else 'false'\n",
    "    return RouteMeander(design, component_name, myoptions)"
   ]
  },
  {
   "cell_type": "markdown",
   "metadata": {},
   "source": [
    "# Resonator length\n",
    "3.85mm"
   ]
  },
  {
   "cell_type": "code",
   "execution_count": 10,
   "metadata": {},
   "outputs": [],
   "source": [
    "from qiskit_metal.analyses.em.cpw_calculations import guided_wavelength\n",
    "\n",
    "def find_resonator_length(frequency, line_width, line_gap, N): \n",
    "    [lambdaG, etfSqrt, q] = guided_wavelength(frequency*10**9, line_width*10**-6,\n",
    "                                              line_gap*10**-6, 750*10**-6, 200*10**-9)\n",
    "    return str(lambdaG/N*10**3)+\" mm\""
   ]
  },
  {
   "cell_type": "code",
   "execution_count": 11,
   "metadata": {},
   "outputs": [
    {
     "name": "stdout",
     "output_type": "stream",
     "text": [
      "[3.5775622473488387]\n"
     ]
    }
   ],
   "source": [
    "resonator_length_4=[]\n",
    "a=find_resonator_length(7.5,10,6,4)\n",
    "a=a.strip('mm')\n",
    "a=float(a)-0.25 +0.5-0.23-0.5# subtract coupler length, for +0.5Ghz, coupler length\n",
    "resonator_length_4.append(a)\n",
    "print(resonator_length_4)\n"
   ]
  },
  {
   "cell_type": "code",
   "execution_count": 12,
   "metadata": {},
   "outputs": [],
   "source": [
    "jogs1=OrderedDict()\n",
    "jogs1[0]=['R','300um']\n",
    "jogs1[1]=['R', '300um']\n",
    "jogs1[2]=['L','700um']\n",
    "jogs1[3]=['R','200um']\n",
    "jogs1[4]=['R','670um']\n",
    "jogs1[5]=['L','200um']\n",
    "jogs1[6]=['L','740um']\n"
   ]
  },
  {
   "cell_type": "code",
   "execution_count": 34,
   "metadata": {},
   "outputs": [],
   "source": [
    "rr0=connect('rr0', 'c0', 'in','stg', 'short',\n",
    "            resonator_length_4[0],jogs1,jogs, \n",
    "            '100um','0um', '904um', '100um')\n",
    "            "
   ]
  },
  {
   "cell_type": "markdown",
   "metadata": {},
   "source": [
    "# EPR Analysis"
   ]
  },
  {
   "cell_type": "code",
   "execution_count": 35,
   "metadata": {},
   "outputs": [],
   "source": [
    "from qiskit_metal.analyses.quantization import EPRanalysis\n",
    "eig_rd = EPRanalysis(design, \"hfss\")\n",
    "hfss = eig_rd.sim.renderer"
   ]
  },
  {
   "cell_type": "code",
   "execution_count": 36,
   "metadata": {},
   "outputs": [
    {
     "name": "stderr",
     "output_type": "stream",
     "text": [
      "INFO 04:51PM [connect_project]: Connecting to Ansys Desktop API...\n",
      "INFO 04:51PM [load_ansys_project]: \tOpened Ansys App\n",
      "INFO 04:51PM [load_ansys_project]: \tOpened Ansys Desktop v2018.0.0\n",
      "INFO 04:51PM [load_ansys_project]: \tOpened Ansys Project\n",
      "\tFolder:    C:/Users/kimje/Documents/Ansoft/\n",
      "\tProject:   V8\n",
      "INFO 04:51PM [connect_design]: \tOpened active design\n",
      "\tDesign:    Design_q3d [Solution type: Q3D]\n",
      "INFO 04:51PM [get_setup]: \tOpened setup `Setup`  (<class 'pyEPR.ansys.AnsysQ3DSetup'>)\n",
      "INFO 04:51PM [connect]: \tConnected to project \"V8\" and design \"Design_q3d\" 😀 \n",
      "\n"
     ]
    },
    {
     "data": {
      "text/plain": [
       "True"
      ]
     },
     "execution_count": 36,
     "metadata": {},
     "output_type": "execute_result"
    }
   ],
   "source": [
    "hfss.start()"
   ]
  },
  {
   "cell_type": "code",
   "execution_count": 37,
   "metadata": {},
   "outputs": [
    {
     "name": "stderr",
     "output_type": "stream",
     "text": [
      "04:51PM 14s WARNING [activate_ansys_design]: The design_name=flip7um_V9 was not in active project.  Designs in active project are: \n",
      "['flip7um_V8', 'Design_q3d', 'flip7um_V8-'].  A new design will be added to the project.  \n",
      "INFO 04:51PM [connect_design]: \tOpened active design\n",
      "\tDesign:    flip7um_V9 [Solution type: Eigenmode]\n",
      "WARNING 04:51PM [connect_setup]: \tNo design setup detected.\n",
      "WARNING 04:51PM [connect_setup]: \tCreating eigenmode default setup.\n",
      "INFO 04:51PM [get_setup]: \tOpened setup `Setup`  (<class 'pyEPR.ansys.HfssEMSetup'>)\n"
     ]
    }
   ],
   "source": [
    "hfss.activate_ansys_design(\"flip7um_V9\", 'eigenmode')\n",
    "hfss.render_design(['Q0','c0','lpL','lpR','stg','rr0','fl0'],[],\n",
    "                    box_plus_buffer=False)"
   ]
  },
  {
   "cell_type": "code",
   "execution_count": 38,
   "metadata": {},
   "outputs": [
    {
     "name": "stdout",
     "output_type": "stream",
     "text": [
      "Warning! 3 COM references still alive\n",
      "Ansys will likely refuse to shut down\n"
     ]
    },
    {
     "data": {
      "text/plain": [
       "True"
      ]
     },
     "execution_count": 38,
     "metadata": {},
     "output_type": "execute_result"
    }
   ],
   "source": [
    "hfss.close()\n"
   ]
  },
  {
   "cell_type": "markdown",
   "metadata": {},
   "source": [
    "# LOM Analysis"
   ]
  },
  {
   "cell_type": "code",
   "execution_count": 39,
   "metadata": {},
   "outputs": [],
   "source": [
    "from qiskit_metal.analyses.quantization import LOManalysis\n",
    "c1 = LOManalysis(design, \"q3d\")"
   ]
  },
  {
   "cell_type": "code",
   "execution_count": 40,
   "metadata": {},
   "outputs": [
    {
     "data": {
      "text/plain": [
       "{'name': 'Setup',\n",
       " 'reuse_selected_design': True,\n",
       " 'reuse_setup': True,\n",
       " 'freq_ghz': '4.97',\n",
       " 'save_fields': False,\n",
       " 'enabled': True,\n",
       " 'max_passes': 10,\n",
       " 'min_passes': 2,\n",
       " 'min_converged_passes': 2,\n",
       " 'percent_error': 0.5,\n",
       " 'percent_refinement': 30,\n",
       " 'auto_increase_solution_order': 'False',\n",
       " 'solution_order': 'Medium',\n",
       " 'solver_type': 'Iterative'}"
      ]
     },
     "execution_count": 40,
     "metadata": {},
     "output_type": "execute_result"
    }
   ],
   "source": [
    "c1.sim.setup.max_passes = 10\n",
    "c1.sim.setup_update(freq_ghz='4.97',solution_order = 'Medium', auto_increase_solution_order = 'False')\n",
    "c1.sim.setup"
   ]
  },
  {
   "cell_type": "code",
   "execution_count": 42,
   "metadata": {},
   "outputs": [
    {
     "name": "stderr",
     "output_type": "stream",
     "text": [
      "INFO 05:15PM [get_matrix]: Exporting matrix data to (C:\\Users\\kimje\\AppData\\Local\\Temp\\tmpcn_u_9ym.txt, C, , Setup:LastAdaptive, \"Original\", \"ohm\", \"nH\", \"fF\", \"mSie\", 4970000000, Maxwell, 1, False\n",
      "INFO 05:15PM [get_matrix]: Exporting matrix data to (C:\\Users\\kimje\\AppData\\Local\\Temp\\tmp3cgu0p4u.txt, C, , Setup:AdaptivePass, \"Original\", \"ohm\", \"nH\", \"fF\", \"mSie\", 4970000000, Maxwell, 1, False\n",
      "INFO 05:15PM [get_matrix]: Exporting matrix data to (C:\\Users\\kimje\\AppData\\Local\\Temp\\tmp0mw9tcig.txt, C, , Setup:AdaptivePass, \"Original\", \"ohm\", \"nH\", \"fF\", \"mSie\", 4970000000, Maxwell, 2, False\n",
      "INFO 05:15PM [get_matrix]: Exporting matrix data to (C:\\Users\\kimje\\AppData\\Local\\Temp\\tmpzfo_zma0.txt, C, , Setup:AdaptivePass, \"Original\", \"ohm\", \"nH\", \"fF\", \"mSie\", 4970000000, Maxwell, 3, False\n",
      "INFO 05:15PM [get_matrix]: Exporting matrix data to (C:\\Users\\kimje\\AppData\\Local\\Temp\\tmpwfahk_z6.txt, C, , Setup:AdaptivePass, \"Original\", \"ohm\", \"nH\", \"fF\", \"mSie\", 4970000000, Maxwell, 4, False\n",
      "INFO 05:15PM [get_matrix]: Exporting matrix data to (C:\\Users\\kimje\\AppData\\Local\\Temp\\tmp1dc55bcb.txt, C, , Setup:AdaptivePass, \"Original\", \"ohm\", \"nH\", \"fF\", \"mSie\", 4970000000, Maxwell, 5, False\n",
      "INFO 05:15PM [get_matrix]: Exporting matrix data to (C:\\Users\\kimje\\AppData\\Local\\Temp\\tmp7btp5t6n.txt, C, , Setup:AdaptivePass, \"Original\", \"ohm\", \"nH\", \"fF\", \"mSie\", 4970000000, Maxwell, 6, False\n",
      "INFO 05:15PM [get_matrix]: Exporting matrix data to (C:\\Users\\kimje\\AppData\\Local\\Temp\\tmpzfa47jlm.txt, C, , Setup:AdaptivePass, \"Original\", \"ohm\", \"nH\", \"fF\", \"mSie\", 4970000000, Maxwell, 7, False\n",
      "INFO 05:15PM [get_matrix]: Exporting matrix data to (C:\\Users\\kimje\\AppData\\Local\\Temp\\tmp49prze0y.txt, C, , Setup:AdaptivePass, \"Original\", \"ohm\", \"nH\", \"fF\", \"mSie\", 4970000000, Maxwell, 8, False\n",
      "INFO 05:15PM [get_matrix]: Exporting matrix data to (C:\\Users\\kimje\\AppData\\Local\\Temp\\tmpu22qiysd.txt, C, , Setup:AdaptivePass, \"Original\", \"ohm\", \"nH\", \"fF\", \"mSie\", 4970000000, Maxwell, 9, False\n",
      "INFO 05:15PM [get_matrix]: Exporting matrix data to (C:\\Users\\kimje\\AppData\\Local\\Temp\\tmppw0nipi3.txt, C, , Setup:AdaptivePass, \"Original\", \"ohm\", \"nH\", \"fF\", \"mSie\", 4970000000, Maxwell, 10, False\n",
      "INFO 05:15PM [get_matrix]: Exporting matrix data to (C:\\Users\\kimje\\AppData\\Local\\Temp\\tmpdn63n_xc.txt, C, , Setup:AdaptivePass, \"Original\", \"ohm\", \"nH\", \"fF\", \"mSie\", 4970000000, Maxwell, 11, False\n"
     ]
    },
    {
     "data": {
      "text/html": [
       "<div>\n",
       "<style scoped>\n",
       "    .dataframe tbody tr th:only-of-type {\n",
       "        vertical-align: middle;\n",
       "    }\n",
       "\n",
       "    .dataframe tbody tr th {\n",
       "        vertical-align: top;\n",
       "    }\n",
       "\n",
       "    .dataframe thead th {\n",
       "        text-align: right;\n",
       "    }\n",
       "</style>\n",
       "<table border=\"1\" class=\"dataframe\">\n",
       "  <thead>\n",
       "    <tr style=\"text-align: right;\">\n",
       "      <th></th>\n",
       "      <th>pad_bot_Q0</th>\n",
       "      <th>pad_top_Q0</th>\n",
       "      <th>quad_coupler_c0</th>\n",
       "      <th>SignalNet1</th>\n",
       "    </tr>\n",
       "  </thead>\n",
       "  <tbody>\n",
       "    <tr>\n",
       "      <th>pad_bot_Q0</th>\n",
       "      <td>172.71</td>\n",
       "      <td>-16.610</td>\n",
       "      <td>0.000</td>\n",
       "      <td>-155.30</td>\n",
       "    </tr>\n",
       "    <tr>\n",
       "      <th>pad_top_Q0</th>\n",
       "      <td>-16.61</td>\n",
       "      <td>172.090</td>\n",
       "      <td>-34.528</td>\n",
       "      <td>-119.72</td>\n",
       "    </tr>\n",
       "    <tr>\n",
       "      <th>quad_coupler_c0</th>\n",
       "      <td>0.00</td>\n",
       "      <td>-34.528</td>\n",
       "      <td>152.190</td>\n",
       "      <td>-117.25</td>\n",
       "    </tr>\n",
       "    <tr>\n",
       "      <th>SignalNet1</th>\n",
       "      <td>-155.30</td>\n",
       "      <td>-119.720</td>\n",
       "      <td>-117.250</td>\n",
       "      <td>456.88</td>\n",
       "    </tr>\n",
       "  </tbody>\n",
       "</table>\n",
       "</div>"
      ],
      "text/plain": [
       "                 pad_bot_Q0  pad_top_Q0  quad_coupler_c0  SignalNet1\n",
       "pad_bot_Q0           172.71     -16.610            0.000     -155.30\n",
       "pad_top_Q0           -16.61     172.090          -34.528     -119.72\n",
       "quad_coupler_c0        0.00     -34.528          152.190     -117.25\n",
       "SignalNet1          -155.30    -119.720         -117.250      456.88"
      ]
     },
     "execution_count": 42,
     "metadata": {},
     "output_type": "execute_result"
    }
   ],
   "source": [
    "#c1.sim.run(components=['Q0','c0'], open_terminations=[('c0', 'in')])\n",
    "c1.sim._get_results_from_renderer()\n",
    "c1.sim.capacitance_matrix"
   ]
  },
  {
   "cell_type": "code",
   "execution_count": 45,
   "metadata": {},
   "outputs": [
    {
     "name": "stdout",
     "output_type": "stream",
     "text": [
      "[1, 2] [3]\n",
      "Predicted Values\n",
      "\n",
      "Transmon Properties\n",
      "f_Q 5.827213 [GHz]\n",
      "EC 194.550339 [MHz]\n",
      "EJ 23.342229 [GHz]\n",
      "alpha -211.201332 [MHz]\n",
      "dispersion 0.000414 [KHz]\n",
      "Lq 6.997177 [nH]\n",
      "Cq 99.564093 [fF]\n",
      "T1 31.637478 [us]\n",
      "\n",
      "**Coupling Properties**\n",
      "\n",
      "tCqbus1 -7.680111 [fF]\n",
      "gbus1_in_MHz -92.528848 [MHz]\n",
      "χ_bus1 -3.048529 [MHz]\n",
      "1/T1bus1 5030.582475 [Hz]\n",
      "T1bus1 31.637478 [us]\n",
      "Bus-Bus Couplings\n"
     ]
    },
    {
     "data": {
      "text/html": [
       "<div>\n",
       "<style scoped>\n",
       "    .dataframe tbody tr th:only-of-type {\n",
       "        vertical-align: middle;\n",
       "    }\n",
       "\n",
       "    .dataframe tbody tr th {\n",
       "        vertical-align: top;\n",
       "    }\n",
       "\n",
       "    .dataframe thead th {\n",
       "        text-align: right;\n",
       "    }\n",
       "</style>\n",
       "<table border=\"1\" class=\"dataframe\">\n",
       "  <thead>\n",
       "    <tr style=\"text-align: right;\">\n",
       "      <th></th>\n",
       "      <th>fQ</th>\n",
       "      <th>EC</th>\n",
       "      <th>EJ</th>\n",
       "      <th>alpha</th>\n",
       "      <th>dispersion</th>\n",
       "      <th>gbus</th>\n",
       "      <th>chi_in_MHz</th>\n",
       "      <th>χr MHz</th>\n",
       "      <th>gr MHz</th>\n",
       "    </tr>\n",
       "  </thead>\n",
       "  <tbody>\n",
       "    <tr>\n",
       "      <th>1</th>\n",
       "      <td>6.539444</td>\n",
       "      <td>247.281027</td>\n",
       "      <td>23.342229</td>\n",
       "      <td>-271.731974</td>\n",
       "      <td>0.012751</td>\n",
       "      <td>[-48.56543704803131]</td>\n",
       "      <td>[-8.279917670693413]</td>\n",
       "      <td>8.279918</td>\n",
       "      <td>48.565437</td>\n",
       "    </tr>\n",
       "    <tr>\n",
       "      <th>2</th>\n",
       "      <td>5.80227</td>\n",
       "      <td>192.826999</td>\n",
       "      <td>23.342229</td>\n",
       "      <td>-209.243541</td>\n",
       "      <td>0.000362</td>\n",
       "      <td>[-54.715682439912754]</td>\n",
       "      <td>[-1.0113123247381683]</td>\n",
       "      <td>1.011312</td>\n",
       "      <td>54.715682</td>\n",
       "    </tr>\n",
       "    <tr>\n",
       "      <th>3</th>\n",
       "      <td>5.788445</td>\n",
       "      <td>191.875409</td>\n",
       "      <td>23.342229</td>\n",
       "      <td>-208.163058</td>\n",
       "      <td>0.000335</td>\n",
       "      <td>[-72.84108831176982]</td>\n",
       "      <td>[-1.7414432396969393]</td>\n",
       "      <td>1.741443</td>\n",
       "      <td>72.841088</td>\n",
       "    </tr>\n",
       "    <tr>\n",
       "      <th>4</th>\n",
       "      <td>5.779111</td>\n",
       "      <td>191.234335</td>\n",
       "      <td>23.342229</td>\n",
       "      <td>-207.435378</td>\n",
       "      <td>0.000319</td>\n",
       "      <td>[-74.52817957380502]</td>\n",
       "      <td>[-1.7882232057149927]</td>\n",
       "      <td>1.788223</td>\n",
       "      <td>74.528180</td>\n",
       "    </tr>\n",
       "    <tr>\n",
       "      <th>5</th>\n",
       "      <td>5.772234</td>\n",
       "      <td>190.762715</td>\n",
       "      <td>23.342229</td>\n",
       "      <td>-206.900161</td>\n",
       "      <td>0.000307</td>\n",
       "      <td>[-82.99069208327808]</td>\n",
       "      <td>[-2.1862622650479673]</td>\n",
       "      <td>2.186262</td>\n",
       "      <td>82.990692</td>\n",
       "    </tr>\n",
       "    <tr>\n",
       "      <th>6</th>\n",
       "      <td>5.764126</td>\n",
       "      <td>190.207536</td>\n",
       "      <td>23.342229</td>\n",
       "      <td>-206.270245</td>\n",
       "      <td>0.000294</td>\n",
       "      <td>[-83.84848149555815]</td>\n",
       "      <td>[-2.1950055652560785]</td>\n",
       "      <td>2.195006</td>\n",
       "      <td>83.848481</td>\n",
       "    </tr>\n",
       "    <tr>\n",
       "      <th>7</th>\n",
       "      <td>5.806796</td>\n",
       "      <td>193.139101</td>\n",
       "      <td>23.342229</td>\n",
       "      <td>-209.598005</td>\n",
       "      <td>0.000371</td>\n",
       "      <td>[-88.04479668460407]</td>\n",
       "      <td>[-2.6435630899065137]</td>\n",
       "      <td>2.643563</td>\n",
       "      <td>88.044797</td>\n",
       "    </tr>\n",
       "    <tr>\n",
       "      <th>8</th>\n",
       "      <td>5.791013</td>\n",
       "      <td>192.05197</td>\n",
       "      <td>23.342229</td>\n",
       "      <td>-208.363504</td>\n",
       "      <td>0.00034</td>\n",
       "      <td>[-89.38204241017493]</td>\n",
       "      <td>[-2.6361533960852994]</td>\n",
       "      <td>2.636153</td>\n",
       "      <td>89.382042</td>\n",
       "    </tr>\n",
       "    <tr>\n",
       "      <th>9</th>\n",
       "      <td>5.786878</td>\n",
       "      <td>191.767679</td>\n",
       "      <td>23.342229</td>\n",
       "      <td>-208.040762</td>\n",
       "      <td>0.000332</td>\n",
       "      <td>[-89.35018088664643]</td>\n",
       "      <td>[-2.6117831231515574]</td>\n",
       "      <td>2.611783</td>\n",
       "      <td>89.350181</td>\n",
       "    </tr>\n",
       "    <tr>\n",
       "      <th>10</th>\n",
       "      <td>5.827213</td>\n",
       "      <td>194.550339</td>\n",
       "      <td>23.342229</td>\n",
       "      <td>-211.201332</td>\n",
       "      <td>0.000414</td>\n",
       "      <td>[-92.52884822246699]</td>\n",
       "      <td>[-3.048529318881654]</td>\n",
       "      <td>3.048529</td>\n",
       "      <td>92.528848</td>\n",
       "    </tr>\n",
       "  </tbody>\n",
       "</table>\n",
       "</div>"
      ],
      "text/plain": [
       "          fQ          EC         EJ       alpha dispersion  \\\n",
       "1   6.539444  247.281027  23.342229 -271.731974   0.012751   \n",
       "2    5.80227  192.826999  23.342229 -209.243541   0.000362   \n",
       "3   5.788445  191.875409  23.342229 -208.163058   0.000335   \n",
       "4   5.779111  191.234335  23.342229 -207.435378   0.000319   \n",
       "5   5.772234  190.762715  23.342229 -206.900161   0.000307   \n",
       "6   5.764126  190.207536  23.342229 -206.270245   0.000294   \n",
       "7   5.806796  193.139101  23.342229 -209.598005   0.000371   \n",
       "8   5.791013   192.05197  23.342229 -208.363504    0.00034   \n",
       "9   5.786878  191.767679  23.342229 -208.040762   0.000332   \n",
       "10  5.827213  194.550339  23.342229 -211.201332   0.000414   \n",
       "\n",
       "                     gbus             chi_in_MHz    χr MHz     gr MHz  \n",
       "1    [-48.56543704803131]   [-8.279917670693413]  8.279918  48.565437  \n",
       "2   [-54.715682439912754]  [-1.0113123247381683]  1.011312  54.715682  \n",
       "3    [-72.84108831176982]  [-1.7414432396969393]  1.741443  72.841088  \n",
       "4    [-74.52817957380502]  [-1.7882232057149927]  1.788223  74.528180  \n",
       "5    [-82.99069208327808]  [-2.1862622650479673]  2.186262  82.990692  \n",
       "6    [-83.84848149555815]  [-2.1950055652560785]  2.195006  83.848481  \n",
       "7    [-88.04479668460407]  [-2.6435630899065137]  2.643563  88.044797  \n",
       "8    [-89.38204241017493]  [-2.6361533960852994]  2.636153  89.382042  \n",
       "9    [-89.35018088664643]  [-2.6117831231515574]  2.611783  89.350181  \n",
       "10   [-92.52884822246699]   [-3.048529318881654]  3.048529  92.528848  "
      ]
     },
     "execution_count": 45,
     "metadata": {},
     "output_type": "execute_result"
    }
   ],
   "source": [
    "c1.setup.junctions = Dict({'Lj': 7, 'Cj': 2})\n",
    "c1.setup.freq_readout = 6.82\n",
    "c1.setup.freq_bus = []\n",
    "c1.run_lom()\n",
    "c1.lumped_oscillator_all"
   ]
  },
  {
   "cell_type": "code",
   "execution_count": 46,
   "metadata": {},
   "outputs": [
    {
     "name": "stdout",
     "output_type": "stream",
     "text": [
      "Warning! 6 COM references still alive\n",
      "Ansys will likely refuse to shut down\n"
     ]
    }
   ],
   "source": [
    "c1.sim.close()"
   ]
  },
  {
   "cell_type": "code",
   "execution_count": null,
   "metadata": {},
   "outputs": [],
   "source": []
  }
 ],
 "metadata": {
  "kernelspec": {
   "display_name": "Python 3.9.10 ('metal')",
   "language": "python",
   "name": "python3"
  },
  "language_info": {
   "codemirror_mode": {
    "name": "ipython",
    "version": 3
   },
   "file_extension": ".py",
   "mimetype": "text/x-python",
   "name": "python",
   "nbconvert_exporter": "python",
   "pygments_lexer": "ipython3",
   "version": "3.9.10"
  },
  "orig_nbformat": 4,
  "vscode": {
   "interpreter": {
    "hash": "ac951534856e2c23f9f162419ca8ae29ffbc7967cf243c458d1cebaa12df0b5c"
   }
  }
 },
 "nbformat": 4,
 "nbformat_minor": 2
}
