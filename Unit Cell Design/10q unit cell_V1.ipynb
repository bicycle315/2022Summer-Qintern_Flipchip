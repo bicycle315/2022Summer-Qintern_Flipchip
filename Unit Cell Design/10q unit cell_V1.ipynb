{
 "cells": [
  {
   "cell_type": "code",
   "execution_count": 72,
   "metadata": {},
   "outputs": [
    {
     "name": "stdout",
     "output_type": "stream",
     "text": [
      "The autoreload extension is already loaded. To reload it, use:\n",
      "  %reload_ext autoreload\n"
     ]
    }
   ],
   "source": [
    "import warnings\n",
    "warnings.filterwarnings(\"ignore\")\n",
    "\n",
    "%load_ext autoreload\n",
    "%autoreload 2\n",
    "from qiskit_metal import Dict, MetalGUI, designs\n",
    "from qiskit_metal.qlibrary.qubits.transmon_pocket_6 import TransmonPocket6\n",
    "from qiskit_metal.qlibrary.tlines.meandered import RouteMeander\n",
    "from qiskit_metal.qlibrary.tlines.straight_path import RouteStraight\n",
    "from qiskit_metal.qlibrary.terminations.launchpad_wb_coupled import LaunchpadWirebondCoupled\n",
    "from qiskit_metal.qlibrary.couplers.coupled_line_tee import CoupledLineTee"
   ]
  },
  {
   "cell_type": "code",
   "execution_count": 2,
   "metadata": {},
   "outputs": [],
   "source": [
    "# Design variables\n",
    "center_x =0\n",
    "center_y =0\n",
    "x = 0.6875+0.650 # qubit x spacing\n",
    "y = 2.7+0.650 # qubit y spacing\n"
   ]
  },
  {
   "cell_type": "code",
   "execution_count": 70,
   "metadata": {},
   "outputs": [],
   "source": [
    "design = designs.DesignFlipChip({}, overwrite_enabled=True)\n",
    "gui = MetalGUI(design)\n"
   ]
  },
  {
   "cell_type": "code",
   "execution_count": 114,
   "metadata": {},
   "outputs": [],
   "source": [
    "\n",
    "design.delete_all_components()"
   ]
  },
  {
   "cell_type": "markdown",
   "metadata": {},
   "source": [
    "# Transmons"
   ]
  },
  {
   "cell_type": "code",
   "execution_count": 115,
   "metadata": {},
   "outputs": [],
   "source": [
    "\n",
    "connection_pads_up = dict(c = dict(loc_W=0, loc_H=-1, pad_width='120um'),\n",
    "                       a  = dict(loc_W=-1, loc_H=+1, pad_width='120um'),\n",
    "                       b = dict(loc_W = +1, loc_H = +1, pad_width='120um'))\n",
    "connection_pads_down = dict(c = dict(loc_W=1, loc_H=-1, pad_width='120um'),\n",
    "                       a  = dict(loc_W=0, loc_H=+1, pad_width='120um'),\n",
    "                       b = dict(loc_W = -1, loc_H = -1, pad_width='120um'))\n",
    "space=[-2*x,-1*x,0,x,2*x] \n",
    "qubits=[]                       \n",
    "for i,j in zip(range(0,5), space):\n",
    "    a=[TransmonPocket6(design,'Q'+str(i), options=dict(pos_x=f\"{center_x+j}mm\",\n",
    "                                                    pos_y=f\"{center_y+y/2}\",\n",
    "                                                    chip=\"Q_chip\",\n",
    "                                               connection_pads=connection_pads_up))]\n",
    "    qubits.append(a)  \n",
    "qubits=qubits\n",
    "\n",
    "for i,j in zip(range(5,10), space):\n",
    "    a=[TransmonPocket6(design,'Q'+str(i), options=dict(pos_x=f\"{center_x+j}mm\",\n",
    "                                                    pos_y=f\"{center_y-y/2}\",\n",
    "                                                    chip=\"Q_chip\",\n",
    "                                               connection_pads=connection_pads_down))]\n",
    "    qubits.append(a)  \n",
    "\n",
    "design.rebuild()\n",
    "gui.rebuild()\n",
    "gui.autoscale()"
   ]
  },
  {
   "cell_type": "markdown",
   "metadata": {},
   "source": [
    "# Launchpad"
   ]
  },
  {
   "cell_type": "code",
   "execution_count": 91,
   "metadata": {},
   "outputs": [],
   "source": [
    "q5x=float(qubits[5][0].options.pos_x.strip('mm'))\n",
    "q9x=float(qubits[9][0].options.pos_x.strip('mm'))\n",
    "q0x=float(qubits[0][0].options.pos_x.strip('mm'))\n",
    "q1x=float(qubits[1][0].options.pos_x.strip('mm'))\n",
    "q3x=float(qubits[3][0].options.pos_x.strip('mm'))\n",
    "q4x=float(qubits[4][0].options.pos_x.strip('mm'))\n",
    "q2x=float(qubits[2][0].options.pos_x.strip('mm'))\n",
    "q6x=float(qubits[6][0].options.pos_x.strip('mm'))\n",
    "q7x=float(qubits[7][0].options.pos_x.strip('mm'))\n",
    "q8x=float(qubits[8][0].options.pos_x.strip('mm'))\n",
    "lp1y=float(lp[1].options.pos_y.strip('mm'))"
   ]
  },
  {
   "cell_type": "code",
   "execution_count": 117,
   "metadata": {},
   "outputs": [],
   "source": [
    "lp=[]\n",
    "\n",
    "lp.append(LaunchpadWirebondCoupled(design, 'lp1',\n",
    "                                         options = dict(chip=\"C_chip\",\n",
    "                                         pos_x = str(-4+0.25)+'mm',\n",
    "                                         pos_y = str(4-0.05-0.04)+'mm',\n",
    "                                         lead_length = '30um')))\n",
    "\n",
    "lp.append(LaunchpadWirebondCoupled(design, 'lp2',\n",
    "                                         options = dict(chip=\"C_chip\",\n",
    "                                         pos_x = str(4-0.25)+'mm',\n",
    "                                         pos_y = str(4-0.05-0.04)+'mm',\n",
    "                                         orientation = 180,\n",
    "                                         lead_length = '30um')))\n",
    "\n",
    "lp.append(LaunchpadWirebondCoupled(design, 'lp3',\n",
    "                                         options = dict(chip=\"C_chip\",\n",
    "                                         pos_x = str(-4+0.25)+'mm',\n",
    "                                         pos_y = '0mm',\n",
    "                                         orientation = 0,\n",
    "                                         lead_length = '30um')))\n",
    "\n",
    "lp.append(LaunchpadWirebondCoupled(design, 'lp4',\n",
    "                                         options = dict(chip=\"C_chip\",\n",
    "                                         pos_x = str(4-0.25)+'mm',\n",
    "                                         pos_y = '0mm',\n",
    "                                         orientation = 180,\n",
    "                                         lead_length = '30um')))\n",
    "lp.append(LaunchpadWirebondCoupled(design, 'lp5',\n",
    "                                         options = dict(chip=\"C_chip\",\n",
    "                                         pos_x = f'{q5x-0.3}mm',\n",
    "                                         pos_y = str(-4+0.05+0.2)+'mm',\n",
    "                                         orientation = 90,\n",
    "                                         lead_length = '30um')))\n",
    "lp.append(LaunchpadWirebondCoupled(design, 'lp6',\n",
    "                                         options = dict(chip=\"C_chip\",\n",
    "                                         pos_x = f'{q9x+0.3}mm',\n",
    "                                         pos_y = str(-4+0.05+0.2)+'mm',\n",
    "                                         orientation = 90,\n",
    "                                         lead_length = '30um')))\n",
    "gui.rebuild()\n",
    "gui.autoscale()                                         \n",
    "                                     "
   ]
  },
  {
   "cell_type": "markdown",
   "metadata": {},
   "source": [
    "# Connect multiplexed Feedline"
   ]
  },
  {
   "cell_type": "markdown",
   "metadata": {},
   "source": [
    "### Coupledlinetee"
   ]
  },
  {
   "cell_type": "code",
   "execution_count": 81,
   "metadata": {},
   "outputs": [],
   "source": [
    "# Coupled line tee\n",
    "clt0 = CoupledLineTee(design, \"clt0\", options=dict(pos_x=f\"{q0x-0.3}mm\",pos_y=str(4-0.05-0.04)+'mm', chip=\"C_chip\",down_length='26um', mirror=True))\n",
    "clt1 = CoupledLineTee(design, \"clt1\", options=dict(pos_x=f\"{q1x+0.3}mm\", pos_y=str(4-0.05-0.04)+'mm',chip=\"C_chip\",down_length='26um', mirror=False))\n",
    "clt3 = CoupledLineTee(design, \"clt3\", options=dict(pos_x=f\"{q3x-0.3}mm\", pos_y=str(4-0.05-0.04)+'mm',chip=\"C_chip\",down_length='26um', mirror=True))\n",
    "clt4 = CoupledLineTee(design, \"clt4\", options=dict(pos_x=f\"{q4x+0.3}mm\", pos_y=str(4-0.05-0.04)+'mm',chip=\"C_chip\",down_length='26um'))\n",
    "clt2 = CoupledLineTee(design, \"clt2\", options=dict(pos_x=f\"{q2x}mm\", pos_y='0mm',chip=\"C_chip\", orientation='180',down_length='26um'))\n",
    "clt6 = CoupledLineTee(design, \"clt6\", options=dict(pos_x=f\"{q6x+0.3}mm\", pos_y='0mm', chip=\"C_chip\",down_length='26um', mirror=True))\n",
    "clt7 = CoupledLineTee(design, \"clt7\", options=dict(pos_x=f\"{q7x+0.3}mm\", pos_y='0mm',chip=\"C_chip\",down_length='26um'))\n",
    "clt8 = CoupledLineTee(design, \"clt8\", options=dict(pos_x=f\"{q8x+0.3}mm\", pos_y='0mm',chip=\"C_chip\",down_length='26um'))\n",
    "\n",
    "\n",
    "design.rebuild()\n",
    "gui.rebuild()\n",
    "gui.autoscale()"
   ]
  },
  {
   "cell_type": "code",
   "execution_count": 96,
   "metadata": {},
   "outputs": [],
   "source": [
    "mr1=RouteStraight(design, 'mr1',options=Dict(chip=\"C_chip\", pin_inputs=Dict(start_pin=Dict(\n",
    "                                                            component='lp1',\n",
    "                                                            pin='tie'),\n",
    "                                                            end_pin=Dict(\n",
    "                                                            component='clt0',\n",
    "                                                            pin='prime_start'))))\n",
    "mr2=RouteStraight(design, 'mr2',options=Dict(chip=\"C_chip\",pin_inputs=Dict(start_pin=Dict(\n",
    "                                                            component='clt0',\n",
    "                                                            pin='prime_end'),\n",
    "                                                            end_pin=Dict(\n",
    "                                                            component='clt1',\n",
    "                                                            pin='prime_start'))))\n",
    "mr3=RouteStraight(design, 'mr3',options=Dict(chip=\"C_chip\",pin_inputs=Dict(start_pin=Dict(\n",
    "                                                            component='clt1',\n",
    "                                                            pin='prime_end'),\n",
    "                                                            end_pin=Dict(\n",
    "                                                            component='clt3',\n",
    "                                                            pin='prime_start'))))\n",
    "mr4=RouteStraight(design, 'mr4',options=Dict(chip=\"C_chip\",pin_inputs=Dict(start_pin=Dict(\n",
    "                                                            component='clt3',\n",
    "                                                            pin='prime_end'),\n",
    "                                                            end_pin=Dict(\n",
    "                                                            component='clt4',\n",
    "                                                            pin='prime_start')))) \n",
    "mr5=RouteStraight(design, 'mr5',options=Dict(chip=\"C_chip\",pin_inputs=Dict(start_pin=Dict(\n",
    "                                                            component='clt4',\n",
    "                                                            pin='prime_end'),\n",
    "                                                            end_pin=Dict(\n",
    "                                                            component='lp2',\n",
    "                                                            pin='tie'))))\n",
    "mr6=RouteStraight(design, 'mr6',options=Dict(chip=\"C_chip\",pin_inputs=Dict(start_pin=Dict(\n",
    "                                                            component='lp3',\n",
    "                                                            pin='tie'),\n",
    "                                                            end_pin=Dict(\n",
    "                                                            component='clt6',\n",
    "                                                            pin='prime_start'))))\n",
    "mr7=RouteStraight(design, 'mr7',options=Dict(chip=\"C_chip\",pin_inputs=Dict(start_pin=Dict(\n",
    "                                                            component='clt6',\n",
    "                                                            pin='prime_end'),\n",
    "                                                            end_pin=Dict(\n",
    "                                                            component='clt2',\n",
    "                                                            pin='prime_end'))))\n",
    "mr8=RouteStraight(design, 'mr8',options=Dict(chip=\"C_chip\",pin_inputs=Dict(start_pin=Dict(\n",
    "                                                            component='clt2',\n",
    "                                                            pin='prime_start'),\n",
    "                                                            end_pin=Dict(\n",
    "                                                            component='clt7',\n",
    "                                                            pin='prime_start'))))\n",
    "mr9=RouteStraight(design, 'mr9',options=Dict(chip=\"C_chip\",pin_inputs=Dict(start_pin=Dict(\n",
    "                                                            component='clt7',\n",
    "                                                            pin='prime_end'),\n",
    "                                                            end_pin=Dict(\n",
    "                                                            component='clt8',\n",
    "                                                            pin='prime_start')))) \n",
    "mr10=RouteStraight(design, 'mr10',options=Dict(chip=\"C_chip\",pin_inputs=Dict(start_pin=Dict(\n",
    "                                                            component='clt8',\n",
    "                                                            pin='prime_end'),\n",
    "                                                            end_pin=Dict(\n",
    "                                                            component='lp4',\n",
    "                                                            pin='tie'))))                                                            \n",
    "                                                                                                                                                                                   \n",
    "design.rebuild()\n",
    "gui.rebuild()\n",
    "gui.autoscale()                   \n",
    "\n",
    "                            "
   ]
  },
  {
   "cell_type": "markdown",
   "metadata": {},
   "source": [
    "# Readout resonator"
   ]
  },
  {
   "cell_type": "code",
   "execution_count": 83,
   "metadata": {},
   "outputs": [],
   "source": [
    "from qiskit_metal.analyses.em.cpw_calculations import guided_wavelength\n",
    "\n",
    "def find_resonator_length(frequency, line_width, line_gap, N): \n",
    "    #frequency in GHz\n",
    "    #line_width/line_gap in um\n",
    "    #N -> 2 for lambda/2, 4 for lambda/4\n",
    "    \n",
    "    [lambdaG, etfSqrt, q] = guided_wavelength(frequency*10**9, line_width*10**-6,\n",
    "                                              line_gap*10**-6, 750*10**-6, 200*10**-9)\n",
    "    return str(lambdaG/N*10**3)+\" mm\""
   ]
  },
  {
   "cell_type": "code",
   "execution_count": 84,
   "metadata": {},
   "outputs": [
    {
     "name": "stdout",
     "output_type": "stream",
     "text": [
      "['7.904342039077542 mm', '7.873665420372551 mm', '7.843225992017802 mm', '7.813021013688328 mm']\n"
     ]
    }
   ],
   "source": [
    "resonator_length=[]\n",
    "for i in range(4):\n",
    "    a=find_resonator_length(7.7+i*0.03,10,6,2)\n",
    "    resonator_length.append(a)\n",
    "print(resonator_length)\n"
   ]
  },
  {
   "cell_type": "code",
   "execution_count": 98,
   "metadata": {},
   "outputs": [],
   "source": [
    "def connect(component_name: str, component1: str, pin1: str, component2: str, pin2: str,\n",
    "            length: str,\n",
    "            asymmetry='0 um', start_strght='0 um', end_strght='0 um', flip=False):\n",
    "    \"\"\"Connect two pins with a CPW.\"\"\"\n",
    "    myoptions = Dict(\n",
    "        chip=\"C_chip\",\n",
    "        pin_inputs=Dict(\n",
    "            start_pin=Dict(\n",
    "                component=component1,\n",
    "                pin=pin1),\n",
    "            end_pin=Dict(\n",
    "                component=component2,\n",
    "                pin=pin2)),\n",
    "        lead=Dict(\n",
    "            start_straight=start_strght,\n",
    "            end_straight=end_strght\n",
    "        ),\n",
    "        total_length=length,\n",
    "    fillet = '99.9um')\n",
    "    myoptions.meander.asymmetry = asymmetry\n",
    "    myoptions.meander.lead_direction_inverted = 'true' if flip else 'false'\n",
    "    return RouteMeander(design, component_name, myoptions)"
   ]
  },
  {
   "cell_type": "code",
   "execution_count": 99,
   "metadata": {},
   "outputs": [],
   "source": [
    "rr = []\n",
    "\n",
    "rr.append(connect('rr0', 'Q0', 'a', 'clt0', 'second_end', resonator_length[0], '+um', '0.mm', '0.mm'))\n",
    "rr.append(connect('rr1', 'Q1', 'b', 'clt1', 'second_end', resonator_length[1], '-um', '0.mm', '0.mm'))\n",
    "rr.append(connect('rr3', 'Q3', 'a', 'clt3', 'second_end', resonator_length[2], '+um', '0.mm', '0.mm'))\n",
    "rr.append(connect('rr4', 'Q4', 'b', 'clt4', 'second_end', resonator_length[3], '-um', '0.mm', '0.mm',flip=True))\n",
    "rr.append(connect('rr2', 'Q2', 'c', 'clt2', 'second_end', resonator_length[1], '00um', '100um', '0.mm'))\n",
    "rr.append(connect('rr6', 'Q6', 'a', 'clt6', 'second_end', resonator_length[2], '1000um', '0.1mm', '0.mm'))\n",
    "rr.append(connect('rr7', 'Q7', 'a', 'clt7', 'second_end', resonator_length[3], '00um', '0.1mm', '0.mm'))\n",
    "rr.append(connect('rr8', 'Q8', 'a', 'clt8', 'second_end', resonator_length[0], '-1000um', '0.1mm', '0.mm',flip=False))\n",
    "rr.append(connect('rr5', 'Q5', 'b', 'lp5', 'tie', resonator_length[0], '00um', '0.mm', '0.mm'))\n",
    "rr.append(connect('rr9', 'Q9', 'c', 'lp6', 'tie', resonator_length[1], '00um', '0.mm', '0.mm'))\n",
    "design.rebuild()\n",
    "gui.rebuild()\n",
    "gui.autoscale()    \n"
   ]
  },
  {
   "cell_type": "markdown",
   "metadata": {},
   "source": [
    "# Bus Coupler"
   ]
  },
  {
   "cell_type": "code",
   "execution_count": 102,
   "metadata": {},
   "outputs": [
    {
     "data": {
      "text/plain": [
       "'8.694776247529553 mm'"
      ]
     },
     "execution_count": 102,
     "metadata": {},
     "output_type": "execute_result"
    }
   ],
   "source": [
    "find_resonator_length(7,10,6,2)"
   ]
  },
  {
   "cell_type": "code",
   "execution_count": 101,
   "metadata": {},
   "outputs": [],
   "source": [
    "def cconnect(component_name: str, component1: str, pin1: str, component2: str, pin2: str,\n",
    "            length: str,\n",
    "            asymmetry='0 um', start_strght='0 um', end_strght='0 um', flip=False):\n",
    "    \"\"\"Connect two pins with a CPW.\"\"\"\n",
    "    myoptions = Dict(\n",
    "        chip=\"Q_chip\",\n",
    "        pin_inputs=Dict(\n",
    "            start_pin=Dict(\n",
    "                component=component1,\n",
    "                pin=pin1),\n",
    "            end_pin=Dict(\n",
    "                component=component2,\n",
    "                pin=pin2)),\n",
    "        lead=Dict(\n",
    "            start_straight=start_strght,\n",
    "            end_straight=end_strght\n",
    "        ),\n",
    "        total_length=length,\n",
    "    fillet = '99.9um')\n",
    "    myoptions.meander.asymmetry = asymmetry\n",
    "    myoptions.meander.lead_direction_inverted = 'true' if flip else 'false'\n",
    "    return RouteMeander(design, component_name, myoptions)"
   ]
  },
  {
   "cell_type": "code",
   "execution_count": 116,
   "metadata": {},
   "outputs": [],
   "source": [
    "bc05=cconnect('bc05','Q0','c','Q5','a','8.64mm','0um','100um','100um' )\n",
    "bc49=cconnect('bc49','Q4','c','Q9','a','8.64mm','0um','100um','100um', flip=True )\n",
    "bc01=cconnect('bc01','Q0','b','Q1','a','8.64mm','0um','100um','100um' )\n",
    "bc12=cconnect('bc12','Q1','c','Q2','a','8.64mm','0um','100um','100um')\n",
    "bc23=cconnect('bc23','Q2','b','Q3','c','8.64mm','0um','100um','100um' )\n",
    "bc34=cconnect('bc34','Q3','b','Q4','a','8.64mm','0um','100um','100um' )\n",
    "bc56=cconnect('bc56','Q5','c','Q6','b','8.64mm','0um','100um','100um' )\n",
    "bc67=cconnect('bc67','Q6','c','Q7','b','8.64mm','0um','100um','100um')\n",
    "bc78=cconnect('bc78','Q7','c','Q8','b','8.64mm','0um','100um','100um' )\n",
    "bc89=cconnect('bc89','Q8','c','Q9','b','8.64mm','0um','100um','100um' )\n",
    "design.rebuild()\n",
    "gui.rebuild()\n",
    "gui.autoscale()    \n",
    "\n"
   ]
  },
  {
   "cell_type": "code",
   "execution_count": null,
   "metadata": {},
   "outputs": [],
   "source": []
  }
 ],
 "metadata": {
  "kernelspec": {
   "display_name": "Python 3.9.10 ('metal')",
   "language": "python",
   "name": "python3"
  },
  "language_info": {
   "codemirror_mode": {
    "name": "ipython",
    "version": 3
   },
   "file_extension": ".py",
   "mimetype": "text/x-python",
   "name": "python",
   "nbconvert_exporter": "python",
   "pygments_lexer": "ipython3",
   "version": "3.9.10"
  },
  "orig_nbformat": 4,
  "vscode": {
   "interpreter": {
    "hash": "ac951534856e2c23f9f162419ca8ae29ffbc7967cf243c458d1cebaa12df0b5c"
   }
  }
 },
 "nbformat": 4,
 "nbformat_minor": 2
}
