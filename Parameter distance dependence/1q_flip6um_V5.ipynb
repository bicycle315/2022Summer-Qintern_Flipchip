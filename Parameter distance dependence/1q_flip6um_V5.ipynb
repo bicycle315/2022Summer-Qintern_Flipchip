{
 "cells": [
  {
   "cell_type": "code",
   "execution_count": 1,
   "metadata": {},
   "outputs": [],
   "source": [
    "import warnings\n",
    "warnings.filterwarnings(\"ignore\")\n",
    "%load_ext autoreload\n",
    "%autoreload 2\n",
    "from qiskit_metal import Dict, MetalGUI, designs\n",
    "from qiskit_metal.qlibrary.qubits.transmon_pocket import TransmonPocket\n",
    "from qiskit_metal.qlibrary.qubits.transmon_pocket_6 import TransmonPocket6\n",
    "from qiskit_metal.qlibrary.tlines.meandered import RouteMeander\n",
    "from qiskit_metal.qlibrary.tlines.straight_path import RouteStraight\n",
    "from qiskit_metal.qlibrary.terminations.launchpad_wb_coupled import LaunchpadWirebondCoupled\n",
    "from qiskit_metal.qlibrary.terminations.short_to_ground import ShortToGround\n",
    "from qiskit_metal.qlibrary.couplers.coupled_line_tee import CoupledLineTee\n",
    "from qiskit_metal.qlibrary.user_components.left_coupler import LeftCoupler\n",
    "from qiskit_metal.qlibrary.user_components.right_coupler import RightCoupler\n",
    "from qiskit_metal.qlibrary.user_components.straightdown_coupler import StraightDownCoupler\n",
    "from qiskit_metal.qlibrary.user_components.straightup_coupler import StraightUpCoupler"
   ]
  },
  {
   "cell_type": "code",
   "execution_count": 2,
   "metadata": {},
   "outputs": [],
   "source": [
    "design = designs.DesignFlipChip({}, overwrite_enabled=True)\n",
    "gui = MetalGUI(design)"
   ]
  },
  {
   "cell_type": "code",
   "execution_count": 5,
   "metadata": {},
   "outputs": [],
   "source": [
    "design.delete_all_components()"
   ]
  },
  {
   "cell_type": "code",
   "execution_count": 17,
   "metadata": {},
   "outputs": [
    {
     "data": {
      "text/plain": [
       "'6um'"
      ]
     },
     "execution_count": 17,
     "metadata": {},
     "output_type": "execute_result"
    }
   ],
   "source": [
    "design.get_chip_z('Q_chip')"
   ]
  },
  {
   "cell_type": "code",
   "execution_count": 16,
   "metadata": {},
   "outputs": [],
   "source": [
    "design.chips['C_chip'].size['size_x']='6mm'\n",
    "design.chips['C_chip'].size['size_y']='6mm'\n",
    "design.chips['Q_chip'].size['size_x']='4mm'\n",
    "design.chips['Q_chip'].size['size_y']='4mm'\n",
    "design.chips['Q_chip'].size['center_z']='6um'"
   ]
  },
  {
   "cell_type": "markdown",
   "metadata": {},
   "source": [
    "# Resonator length"
   ]
  },
  {
   "cell_type": "code",
   "execution_count": 18,
   "metadata": {},
   "outputs": [],
   "source": [
    "from qiskit_metal.analyses.em.cpw_calculations import guided_wavelength\n",
    "\n",
    "def find_resonator_length(frequency, line_width, line_gap, N): \n",
    "    #frequency in GHz\n",
    "    #line_width/line_gap in um\n",
    "    #N -> 2 for lambda/2, 4 for lambda/4\n",
    "    \n",
    "    [lambdaG, etfSqrt, q] = guided_wavelength(frequency*10**9, line_width*10**-6,\n",
    "                                              line_gap*10**-6, 750*10**-6, 200*10**-9)\n",
    "    return str(lambdaG/N*10**3)+\" mm\""
   ]
  },
  {
   "cell_type": "code",
   "execution_count": 19,
   "metadata": {},
   "outputs": [
    {
     "name": "stdout",
     "output_type": "stream",
     "text": [
      "[4.386627341935143, 4.2723941699207115, 4.164173270104566]\n"
     ]
    }
   ],
   "source": [
    "resonator_length_4=[]\n",
    "for i in range(3):\n",
    "    a=find_resonator_length(7.2+i*0.2,10,6,4)\n",
    "    a=a.strip('mm')\n",
    "    a=float(a)-0.35+0.51-0.1+0.4-0.2-0.1\n",
    "    \n",
    "    resonator_length_4.append(a)\n",
    "print(resonator_length_4)\n"
   ]
  },
  {
   "cell_type": "markdown",
   "metadata": {},
   "source": [
    "# Flipchip"
   ]
  },
  {
   "cell_type": "code",
   "execution_count": 20,
   "metadata": {},
   "outputs": [],
   "source": [
    "cp0 = dict(down = dict(loc_W=1, loc_H=-1, pad_width='120um'))\n",
    "\n",
    "# q0=[TransmonPocket6(design, 'Q0', options=dict(pos_x='-2000um',\n",
    "#                                             pos_y='-2000um',\n",
    "#                                             chip='Q_chip',\n",
    "#                                             connection_pads=cp0))]\n",
    "q0=[TransmonPocket6(design, 'Q0', options=dict(pos_x='-1300um',\n",
    "                                            pos_y='-470um',\n",
    "                                            chip='Q_chip',\n",
    "                                            pad_width='355um',\n",
    "                                            pad_height='65um',\n",
    "                                            pad_gap='50um',\n",
    "                                            pocket_width='650um',\n",
    "                                            pocket_height='650um'))]\n",
    "\n",
    "qubits=q0\n",
    "\n",
    "q0x=float(qubits[0].options.pos_x.strip('um'))\n",
    "q0y=float(qubits[0].options.pos_y.strip('um'))\n",
    "\n",
    "\n",
    "c0 = StraightUpCoupler(design, \"c0\", options=dict(pos_x=f\"{q0x-100}um\",\n",
    "                                              pos_y=f\"{q0y+60}um\",\n",
    "                                              pad_width=\"150um\",\n",
    "                                              pad_height=\"65um\",\n",
    "                                              cpw_stub_height=\"200um\",\n",
    "                                              chip=\"C_chip\"))\n",
    "\n",
    "design.rebuild()\n",
    "gui.rebuild()\n",
    "gui.autoscale()"
   ]
  },
  {
   "cell_type": "code",
   "execution_count": 21,
   "metadata": {},
   "outputs": [],
   "source": [
    "lpL=LaunchpadWirebondCoupled(design, 'lpL',\n",
    "                                         options = dict(chip=\"C_chip\",\n",
    "                                         pos_x = '-1700um',\n",
    "                                         pos_y = '1300um',\n",
    "                                         lead_length = '30um'))\n",
    "lpR=LaunchpadWirebondCoupled(design, 'lpR',\n",
    "                                         options = dict(chip=\"C_chip\",\n",
    "                                         pos_x = '1700um',\n",
    "                                         pos_y = '1300um',\n",
    "                                         orientation='180',\n",
    "                                         lead_length = '30um'))"
   ]
  },
  {
   "cell_type": "code",
   "execution_count": 22,
   "metadata": {},
   "outputs": [],
   "source": [
    "\n",
    "\n",
    "stg=ShortToGround(design, 'stg', options=Dict(chip=\"C_chip\",\n",
    "                                                pos_x='-0.585mm',\n",
    "                                                pos_y='0mm',\n",
    "                                                orientation='270'))"
   ]
  },
  {
   "cell_type": "code",
   "execution_count": 23,
   "metadata": {},
   "outputs": [],
   "source": [
    "fl0=RouteStraight(design, 'fl0',options=Dict(chip=\"C_chip\", pin_inputs=Dict(start_pin=Dict(\n",
    "                                                            component='lpL',\n",
    "                                                            pin='tie'),\n",
    "                                                            end_pin=Dict(\n",
    "                                                            component='lpR',\n",
    "                                                            pin='tie'))))\n"
   ]
  },
  {
   "cell_type": "markdown",
   "metadata": {},
   "source": [
    "# Readout resonator"
   ]
  },
  {
   "cell_type": "code",
   "execution_count": 24,
   "metadata": {},
   "outputs": [],
   "source": [
    "from collections import OrderedDict\n",
    "jogs=OrderedDict()\n",
    "def connect(component_name: str, component1: str, pin1: str, component2: str, pin2: str,\n",
    "            length: str, start_jogged_extension: OrderedDict, end_jogged_extension: OrderedDict,\n",
    "            spacing: str, asymmetry='0 um',  start_straight='0 um', end_straight='0 um', flip=False):\n",
    "    \"\"\"Connect two pins with a CPW.\"\"\"\n",
    "    myoptions = Dict(\n",
    "        chip=\"C_chip\",\n",
    "        pin_inputs=Dict(\n",
    "            start_pin=Dict(\n",
    "                component=component1,\n",
    "                pin=pin1),\n",
    "            end_pin=Dict(\n",
    "                component=component2,\n",
    "                pin=pin2)),\n",
    "        lead=Dict(\n",
    "            start_straight=start_straight,\n",
    "            end_straight=end_straight,\n",
    "            start_jogged_extension=start_jogged_extension,\n",
    "            end_jogged_extension=end_jogged_extension),\n",
    "        total_length=length,\n",
    "        fillet = '99.9um',\n",
    "        meander=dict(asymmetry=asymmetry,\n",
    "                     spacing=spacing))\n",
    "    myoptions.meander.lead_direction_inverted = 'true' if flip else 'false'\n",
    "    return RouteMeander(design, component_name, myoptions)"
   ]
  },
  {
   "cell_type": "code",
   "execution_count": 25,
   "metadata": {},
   "outputs": [],
   "source": [
    "jogs1=OrderedDict()\n",
    "jogs1[0]=['R','350um']\n",
    "jogs1[1]=['R', '400um']\n",
    "jogs1[2]=['L','465um']\n"
   ]
  },
  {
   "cell_type": "code",
   "execution_count": 26,
   "metadata": {},
   "outputs": [],
   "source": [
    "#3.91mm\n",
    "rr0=connect('rr0', 'c0', 'in','stg', 'short', \n",
    "            resonator_length_4[1],jogs1,jogs, \n",
    "            '400um','0um', '1460um', '100um')"
   ]
  },
  {
   "cell_type": "markdown",
   "metadata": {},
   "source": [
    "# EPR Analysis"
   ]
  },
  {
   "cell_type": "code",
   "execution_count": 27,
   "metadata": {},
   "outputs": [],
   "source": [
    "from qiskit_metal.analyses.quantization import EPRanalysis\n",
    "eig_rd = EPRanalysis(design, \"hfss\")\n",
    "hfss = eig_rd.sim.renderer"
   ]
  },
  {
   "cell_type": "code",
   "execution_count": 28,
   "metadata": {},
   "outputs": [
    {
     "name": "stderr",
     "output_type": "stream",
     "text": [
      "INFO 06:05PM [connect_project]: Connecting to Ansys Desktop API...\n",
      "INFO 06:05PM [load_ansys_project]: \tOpened Ansys App\n",
      "INFO 06:05PM [load_ansys_project]: \tOpened Ansys Desktop v2018.0.0\n",
      "INFO 06:05PM [load_ansys_project]: \tOpened Ansys Project\n",
      "\tFolder:    C:/Users/kimje/Documents/Ansoft/\n",
      "\tProject:   flipchip_distance\n",
      "INFO 06:05PM [connect_design]: \tOpened active design\n",
      "\tDesign:    flip7um_V5-1 [Solution type: Eigenmode]\n",
      "INFO 06:05PM [get_setup]: \tOpened setup `Setup`  (<class 'pyEPR.ansys.HfssEMSetup'>)\n",
      "INFO 06:05PM [connect]: \tConnected to project \"flipchip_distance\" and design \"flip7um_V5-1\" 😀 \n",
      "\n"
     ]
    },
    {
     "data": {
      "text/plain": [
       "True"
      ]
     },
     "execution_count": 28,
     "metadata": {},
     "output_type": "execute_result"
    }
   ],
   "source": [
    "hfss.start()"
   ]
  },
  {
   "cell_type": "code",
   "execution_count": 29,
   "metadata": {},
   "outputs": [
    {
     "name": "stderr",
     "output_type": "stream",
     "text": [
      "06:05PM 54s WARNING [activate_ansys_design]: The design_name=flip6um_V5 was not in active project.  Designs in active project are: \n",
      "['flip7um_V5-1'].  A new design will be added to the project.  \n",
      "INFO 06:05PM [connect_design]: \tOpened active design\n",
      "\tDesign:    flip6um_V5 [Solution type: Eigenmode]\n",
      "WARNING 06:05PM [connect_setup]: \tNo design setup detected.\n",
      "WARNING 06:05PM [connect_setup]: \tCreating eigenmode default setup.\n",
      "INFO 06:05PM [get_setup]: \tOpened setup `Setup`  (<class 'pyEPR.ansys.HfssEMSetup'>)\n"
     ]
    }
   ],
   "source": [
    "hfss.activate_ansys_design(\"flip6um_V5\", 'eigenmode')\n",
    "hfss.render_design(['Q0','c0','lpL','lpR','stg','rr0','fl0'],[],\n",
    "                    box_plus_buffer=False)"
   ]
  },
  {
   "cell_type": "code",
   "execution_count": 37,
   "metadata": {},
   "outputs": [
    {
     "name": "stdout",
     "output_type": "stream",
     "text": [
      "Warning! 6 COM references still alive\n",
      "Ansys will likely refuse to shut down\n"
     ]
    },
    {
     "data": {
      "text/plain": [
       "True"
      ]
     },
     "execution_count": 37,
     "metadata": {},
     "output_type": "execute_result"
    }
   ],
   "source": [
    "hfss.close()"
   ]
  },
  {
   "cell_type": "markdown",
   "metadata": {},
   "source": [
    "# LOM Analysis"
   ]
  },
  {
   "cell_type": "code",
   "execution_count": 30,
   "metadata": {},
   "outputs": [],
   "source": [
    "from qiskit_metal.analyses.quantization import LOManalysis\n",
    "c1 = LOManalysis(design, \"q3d\")\n"
   ]
  },
  {
   "cell_type": "code",
   "execution_count": 31,
   "metadata": {},
   "outputs": [
    {
     "data": {
      "text/plain": [
       "{'name': 'Setup',\n",
       " 'reuse_selected_design': True,\n",
       " 'reuse_setup': True,\n",
       " 'freq_ghz': '5.39',\n",
       " 'save_fields': False,\n",
       " 'enabled': True,\n",
       " 'max_passes': 10,\n",
       " 'min_passes': 2,\n",
       " 'min_converged_passes': 2,\n",
       " 'percent_error': 0.5,\n",
       " 'percent_refinement': 30,\n",
       " 'auto_increase_solution_order': 'False',\n",
       " 'solution_order': 'Medium',\n",
       " 'solver_type': 'Iterative'}"
      ]
     },
     "execution_count": 31,
     "metadata": {},
     "output_type": "execute_result"
    }
   ],
   "source": [
    "c1.sim.setup.max_passes = 10\n",
    "c1.sim.setup_update(freq_ghz='5.39',solution_order = 'Medium', auto_increase_solution_order = 'False')\n",
    "c1.sim.setup"
   ]
  },
  {
   "cell_type": "code",
   "execution_count": 34,
   "metadata": {},
   "outputs": [
    {
     "name": "stderr",
     "output_type": "stream",
     "text": [
      "INFO 06:19PM [get_matrix]: Exporting matrix data to (C:\\Users\\kimje\\AppData\\Local\\Temp\\tmppbi0_bvb.txt, C, , Setup:LastAdaptive, \"Original\", \"ohm\", \"nH\", \"fF\", \"mSie\", 5390000000, Maxwell, 1, False\n",
      "INFO 06:19PM [get_matrix]: Exporting matrix data to (C:\\Users\\kimje\\AppData\\Local\\Temp\\tmpxdjerxgi.txt, C, , Setup:AdaptivePass, \"Original\", \"ohm\", \"nH\", \"fF\", \"mSie\", 5390000000, Maxwell, 1, False\n",
      "INFO 06:19PM [get_matrix]: Exporting matrix data to (C:\\Users\\kimje\\AppData\\Local\\Temp\\tmp8xsjoivy.txt, C, , Setup:AdaptivePass, \"Original\", \"ohm\", \"nH\", \"fF\", \"mSie\", 5390000000, Maxwell, 2, False\n",
      "INFO 06:19PM [get_matrix]: Exporting matrix data to (C:\\Users\\kimje\\AppData\\Local\\Temp\\tmpqefpqlaa.txt, C, , Setup:AdaptivePass, \"Original\", \"ohm\", \"nH\", \"fF\", \"mSie\", 5390000000, Maxwell, 3, False\n",
      "INFO 06:19PM [get_matrix]: Exporting matrix data to (C:\\Users\\kimje\\AppData\\Local\\Temp\\tmp5zobfguc.txt, C, , Setup:AdaptivePass, \"Original\", \"ohm\", \"nH\", \"fF\", \"mSie\", 5390000000, Maxwell, 4, False\n",
      "INFO 06:19PM [get_matrix]: Exporting matrix data to (C:\\Users\\kimje\\AppData\\Local\\Temp\\tmpv3wwfq_8.txt, C, , Setup:AdaptivePass, \"Original\", \"ohm\", \"nH\", \"fF\", \"mSie\", 5390000000, Maxwell, 5, False\n",
      "INFO 06:19PM [get_matrix]: Exporting matrix data to (C:\\Users\\kimje\\AppData\\Local\\Temp\\tmp6hecgdak.txt, C, , Setup:AdaptivePass, \"Original\", \"ohm\", \"nH\", \"fF\", \"mSie\", 5390000000, Maxwell, 6, False\n",
      "INFO 06:19PM [get_matrix]: Exporting matrix data to (C:\\Users\\kimje\\AppData\\Local\\Temp\\tmp56kzzb45.txt, C, , Setup:AdaptivePass, \"Original\", \"ohm\", \"nH\", \"fF\", \"mSie\", 5390000000, Maxwell, 7, False\n",
      "INFO 06:19PM [get_matrix]: Exporting matrix data to (C:\\Users\\kimje\\AppData\\Local\\Temp\\tmp3cjj8fl3.txt, C, , Setup:AdaptivePass, \"Original\", \"ohm\", \"nH\", \"fF\", \"mSie\", 5390000000, Maxwell, 8, False\n",
      "INFO 06:19PM [get_matrix]: Exporting matrix data to (C:\\Users\\kimje\\AppData\\Local\\Temp\\tmpy5cgnoc1.txt, C, , Setup:AdaptivePass, \"Original\", \"ohm\", \"nH\", \"fF\", \"mSie\", 5390000000, Maxwell, 9, False\n",
      "INFO 06:19PM [get_matrix]: Exporting matrix data to (C:\\Users\\kimje\\AppData\\Local\\Temp\\tmph2dk3vth.txt, C, , Setup:AdaptivePass, \"Original\", \"ohm\", \"nH\", \"fF\", \"mSie\", 5390000000, Maxwell, 10, False\n"
     ]
    },
    {
     "data": {
      "text/html": [
       "<div>\n",
       "<style scoped>\n",
       "    .dataframe tbody tr th:only-of-type {\n",
       "        vertical-align: middle;\n",
       "    }\n",
       "\n",
       "    .dataframe tbody tr th {\n",
       "        vertical-align: top;\n",
       "    }\n",
       "\n",
       "    .dataframe thead th {\n",
       "        text-align: right;\n",
       "    }\n",
       "</style>\n",
       "<table border=\"1\" class=\"dataframe\">\n",
       "  <thead>\n",
       "    <tr style=\"text-align: right;\">\n",
       "      <th></th>\n",
       "      <th>groun</th>\n",
       "      <th>pad_bot_Q0</th>\n",
       "      <th>pad_top_Q0</th>\n",
       "      <th>quad_coupler_c0</th>\n",
       "    </tr>\n",
       "  </thead>\n",
       "  <tbody>\n",
       "    <tr>\n",
       "      <th>groun</th>\n",
       "      <td>305.910</td>\n",
       "      <td>-91.77400</td>\n",
       "      <td>-74.732</td>\n",
       "      <td>-78.54400</td>\n",
       "    </tr>\n",
       "    <tr>\n",
       "      <th>pad_bot_Q0</th>\n",
       "      <td>-91.774</td>\n",
       "      <td>106.35000</td>\n",
       "      <td>-12.893</td>\n",
       "      <td>-0.14853</td>\n",
       "    </tr>\n",
       "    <tr>\n",
       "      <th>pad_top_Q0</th>\n",
       "      <td>-74.732</td>\n",
       "      <td>-12.89300</td>\n",
       "      <td>106.170</td>\n",
       "      <td>-16.99400</td>\n",
       "    </tr>\n",
       "    <tr>\n",
       "      <th>quad_coupler_c0</th>\n",
       "      <td>-78.544</td>\n",
       "      <td>-0.14853</td>\n",
       "      <td>-16.994</td>\n",
       "      <td>95.70300</td>\n",
       "    </tr>\n",
       "  </tbody>\n",
       "</table>\n",
       "</div>"
      ],
      "text/plain": [
       "                   groun  pad_bot_Q0  pad_top_Q0  quad_coupler_c0\n",
       "groun            305.910   -91.77400     -74.732        -78.54400\n",
       "pad_bot_Q0       -91.774   106.35000     -12.893         -0.14853\n",
       "pad_top_Q0       -74.732   -12.89300     106.170        -16.99400\n",
       "quad_coupler_c0  -78.544    -0.14853     -16.994         95.70300"
      ]
     },
     "execution_count": 34,
     "metadata": {},
     "output_type": "execute_result"
    }
   ],
   "source": [
    "#c1.sim.run(components=['Q0','c0'], open_terminations=[('c0', 'in')])\n",
    "c1.sim._get_results_from_renderer()\n",
    "c1.sim.capacitance_matrix"
   ]
  },
  {
   "cell_type": "code",
   "execution_count": 35,
   "metadata": {},
   "outputs": [
    {
     "name": "stdout",
     "output_type": "stream",
     "text": [
      "[1, 2] [3]\n",
      "Predicted Values\n",
      "\n",
      "Transmon Properties\n",
      "f_Q 5.816105 [GHz]\n",
      "EC 318.562662 [MHz]\n",
      "EJ 14.854145 [GHz]\n",
      "alpha -368.196662 [MHz]\n",
      "dispersion 22.653579 [KHz]\n",
      "Lq 10.995564 [nH]\n",
      "Cq 60.805080 [fF]\n",
      "T1 25.608410 [us]\n",
      "\n",
      "**Coupling Properties**\n",
      "\n",
      "tCqbus1 -8.431907 [fF]\n",
      "gbus1_in_MHz -139.672104 [MHz]\n",
      "χ_bus1 -6.331436 [MHz]\n",
      "1/T1bus1 6214.948170 [Hz]\n",
      "T1bus1 25.608410 [us]\n",
      "Bus-Bus Couplings\n"
     ]
    },
    {
     "data": {
      "text/html": [
       "<div>\n",
       "<style scoped>\n",
       "    .dataframe tbody tr th:only-of-type {\n",
       "        vertical-align: middle;\n",
       "    }\n",
       "\n",
       "    .dataframe tbody tr th {\n",
       "        vertical-align: top;\n",
       "    }\n",
       "\n",
       "    .dataframe thead th {\n",
       "        text-align: right;\n",
       "    }\n",
       "</style>\n",
       "<table border=\"1\" class=\"dataframe\">\n",
       "  <thead>\n",
       "    <tr style=\"text-align: right;\">\n",
       "      <th></th>\n",
       "      <th>fQ</th>\n",
       "      <th>EC</th>\n",
       "      <th>EJ</th>\n",
       "      <th>alpha</th>\n",
       "      <th>dispersion</th>\n",
       "      <th>gbus</th>\n",
       "      <th>chi_in_MHz</th>\n",
       "      <th>χr MHz</th>\n",
       "      <th>gr MHz</th>\n",
       "    </tr>\n",
       "  </thead>\n",
       "  <tbody>\n",
       "    <tr>\n",
       "      <th>1</th>\n",
       "      <td>5.902901</td>\n",
       "      <td>328.791638</td>\n",
       "      <td>14.854145</td>\n",
       "      <td>-381.15221</td>\n",
       "      <td>30.328979</td>\n",
       "      <td>[-160.0722024716805]</td>\n",
       "      <td>[-9.602321424986815]</td>\n",
       "      <td>9.602321</td>\n",
       "      <td>160.072202</td>\n",
       "    </tr>\n",
       "    <tr>\n",
       "      <th>2</th>\n",
       "      <td>6.033007</td>\n",
       "      <td>344.472623</td>\n",
       "      <td>14.854145</td>\n",
       "      <td>-401.14634</td>\n",
       "      <td>46.223241</td>\n",
       "      <td>[-167.46418635962974]</td>\n",
       "      <td>[-13.197811453023212]</td>\n",
       "      <td>13.197811</td>\n",
       "      <td>167.464186</td>\n",
       "    </tr>\n",
       "    <tr>\n",
       "      <th>3</th>\n",
       "      <td>5.849683</td>\n",
       "      <td>322.497911</td>\n",
       "      <td>14.854145</td>\n",
       "      <td>-373.172776</td>\n",
       "      <td>25.387143</td>\n",
       "      <td>[-146.95952476702186]</td>\n",
       "      <td>[-7.405207555629873]</td>\n",
       "      <td>7.405208</td>\n",
       "      <td>146.959525</td>\n",
       "    </tr>\n",
       "    <tr>\n",
       "      <th>4</th>\n",
       "      <td>5.843682</td>\n",
       "      <td>321.792618</td>\n",
       "      <td>14.854145</td>\n",
       "      <td>-372.280192</td>\n",
       "      <td>24.877932</td>\n",
       "      <td>[-143.07347049499467]</td>\n",
       "      <td>[-6.949742816966789]</td>\n",
       "      <td>6.949743</td>\n",
       "      <td>143.073470</td>\n",
       "    </tr>\n",
       "    <tr>\n",
       "      <th>5</th>\n",
       "      <td>5.844229</td>\n",
       "      <td>321.856854</td>\n",
       "      <td>14.854145</td>\n",
       "      <td>-372.361473</td>\n",
       "      <td>24.923954</td>\n",
       "      <td>[-142.87356523940386]</td>\n",
       "      <td>[-6.936570949643226]</td>\n",
       "      <td>6.936571</td>\n",
       "      <td>142.873565</td>\n",
       "    </tr>\n",
       "    <tr>\n",
       "      <th>6</th>\n",
       "      <td>5.825636</td>\n",
       "      <td>319.67685</td>\n",
       "      <td>14.854145</td>\n",
       "      <td>-369.604526</td>\n",
       "      <td>23.401275</td>\n",
       "      <td>[-140.11026150073425]</td>\n",
       "      <td>[-6.47078918835781]</td>\n",
       "      <td>6.470789</td>\n",
       "      <td>140.110262</td>\n",
       "    </tr>\n",
       "    <tr>\n",
       "      <th>7</th>\n",
       "      <td>5.822732</td>\n",
       "      <td>319.337086</td>\n",
       "      <td>14.854145</td>\n",
       "      <td>-369.175122</td>\n",
       "      <td>23.171116</td>\n",
       "      <td>[-138.86731495413363]</td>\n",
       "      <td>[-6.326479351105629]</td>\n",
       "      <td>6.326479</td>\n",
       "      <td>138.867315</td>\n",
       "    </tr>\n",
       "    <tr>\n",
       "      <th>8</th>\n",
       "      <td>5.820479</td>\n",
       "      <td>319.073745</td>\n",
       "      <td>14.854145</td>\n",
       "      <td>-368.842356</td>\n",
       "      <td>22.994031</td>\n",
       "      <td>[-138.26016540424234]</td>\n",
       "      <td>[-6.248332874284189]</td>\n",
       "      <td>6.248333</td>\n",
       "      <td>138.260165</td>\n",
       "    </tr>\n",
       "    <tr>\n",
       "      <th>9</th>\n",
       "      <td>5.816105</td>\n",
       "      <td>318.562662</td>\n",
       "      <td>14.854145</td>\n",
       "      <td>-368.196662</td>\n",
       "      <td>22.653579</td>\n",
       "      <td>[-139.67210358773642]</td>\n",
       "      <td>[-6.331435570116269]</td>\n",
       "      <td>6.331436</td>\n",
       "      <td>139.672104</td>\n",
       "    </tr>\n",
       "  </tbody>\n",
       "</table>\n",
       "</div>"
      ],
      "text/plain": [
       "         fQ          EC         EJ       alpha dispersion  \\\n",
       "1  5.902901  328.791638  14.854145  -381.15221  30.328979   \n",
       "2  6.033007  344.472623  14.854145  -401.14634  46.223241   \n",
       "3  5.849683  322.497911  14.854145 -373.172776  25.387143   \n",
       "4  5.843682  321.792618  14.854145 -372.280192  24.877932   \n",
       "5  5.844229  321.856854  14.854145 -372.361473  24.923954   \n",
       "6  5.825636   319.67685  14.854145 -369.604526  23.401275   \n",
       "7  5.822732  319.337086  14.854145 -369.175122  23.171116   \n",
       "8  5.820479  319.073745  14.854145 -368.842356  22.994031   \n",
       "9  5.816105  318.562662  14.854145 -368.196662  22.653579   \n",
       "\n",
       "                    gbus             chi_in_MHz     χr MHz      gr MHz  \n",
       "1   [-160.0722024716805]   [-9.602321424986815]   9.602321  160.072202  \n",
       "2  [-167.46418635962974]  [-13.197811453023212]  13.197811  167.464186  \n",
       "3  [-146.95952476702186]   [-7.405207555629873]   7.405208  146.959525  \n",
       "4  [-143.07347049499467]   [-6.949742816966789]   6.949743  143.073470  \n",
       "5  [-142.87356523940386]   [-6.936570949643226]   6.936571  142.873565  \n",
       "6  [-140.11026150073425]    [-6.47078918835781]   6.470789  140.110262  \n",
       "7  [-138.86731495413363]   [-6.326479351105629]   6.326479  138.867315  \n",
       "8  [-138.26016540424234]   [-6.248332874284189]   6.248333  138.260165  \n",
       "9  [-139.67210358773642]   [-6.331435570116269]   6.331436  139.672104  "
      ]
     },
     "execution_count": 35,
     "metadata": {},
     "output_type": "execute_result"
    }
   ],
   "source": [
    "c1.setup.junctions = Dict({'Lj': 11, 'Cj': 2})\n",
    "c1.setup.freq_readout = 7.16\n",
    "c1.setup.freq_bus = []\n",
    "c1.run_lom()\n",
    "c1.lumped_oscillator_all"
   ]
  },
  {
   "cell_type": "code",
   "execution_count": 36,
   "metadata": {},
   "outputs": [
    {
     "name": "stdout",
     "output_type": "stream",
     "text": [
      "Warning! 6 COM references still alive\n",
      "Ansys will likely refuse to shut down\n"
     ]
    }
   ],
   "source": [
    "c1.sim.close()"
   ]
  },
  {
   "cell_type": "code",
   "execution_count": null,
   "metadata": {},
   "outputs": [],
   "source": []
  }
 ],
 "metadata": {
  "kernelspec": {
   "display_name": "Python 3.9.10 ('metal')",
   "language": "python",
   "name": "python3"
  },
  "language_info": {
   "codemirror_mode": {
    "name": "ipython",
    "version": 3
   },
   "file_extension": ".py",
   "mimetype": "text/x-python",
   "name": "python",
   "nbconvert_exporter": "python",
   "pygments_lexer": "ipython3",
   "version": "3.9.10"
  },
  "orig_nbformat": 4,
  "vscode": {
   "interpreter": {
    "hash": "ac951534856e2c23f9f162419ca8ae29ffbc7967cf243c458d1cebaa12df0b5c"
   }
  }
 },
 "nbformat": 4,
 "nbformat_minor": 2
}
