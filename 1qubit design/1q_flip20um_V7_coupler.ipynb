{
 "cells": [
  {
   "cell_type": "code",
   "execution_count": 2,
   "metadata": {},
   "outputs": [],
   "source": [
    "import warnings\n",
    "warnings.filterwarnings(\"ignore\")\n",
    "%load_ext autoreload\n",
    "%autoreload 2\n",
    "from qiskit_metal import Dict, MetalGUI, designs\n",
    "from qiskit_metal.qlibrary.qubits.transmon_pocket import TransmonPocket\n",
    "from qiskit_metal.qlibrary.qubits.transmon_pocket_6 import TransmonPocket6\n",
    "from qiskit_metal.qlibrary.tlines.meandered import RouteMeander\n",
    "from qiskit_metal.qlibrary.tlines.straight_path import RouteStraight\n",
    "from qiskit_metal.qlibrary.terminations.launchpad_wb_coupled import LaunchpadWirebondCoupled\n",
    "from qiskit_metal.qlibrary.couplers.coupled_line_tee import CoupledLineTee\n",
    "from qiskit_metal.qlibrary.user_components.left_coupler import LeftCoupler\n",
    "from qiskit_metal.qlibrary.user_components.right_coupler import RightCoupler\n",
    "from qiskit_metal.qlibrary.user_components.straightdown_coupler import StraightDownCoupler\n",
    "from qiskit_metal.qlibrary.user_components.straightup_coupler import StraightUpCoupler"
   ]
  },
  {
   "cell_type": "code",
   "execution_count": 3,
   "metadata": {},
   "outputs": [],
   "source": [
    "design = designs.DesignFlipChip({}, overwrite_enabled=True)\n",
    "gui = MetalGUI(design)"
   ]
  },
  {
   "cell_type": "code",
   "execution_count": 3,
   "metadata": {},
   "outputs": [],
   "source": [
    "design.delete_all_components()"
   ]
  },
  {
   "cell_type": "code",
   "execution_count": 30,
   "metadata": {},
   "outputs": [
    {
     "data": {
      "text/plain": [
       "'5um'"
      ]
     },
     "execution_count": 30,
     "metadata": {},
     "output_type": "execute_result"
    }
   ],
   "source": [
    "design.get_chip_z('Q_chip')"
   ]
  },
  {
   "cell_type": "code",
   "execution_count": 4,
   "metadata": {},
   "outputs": [],
   "source": [
    "design.chips['C_chip'].size['size_x']='8mm'\n",
    "design.chips['C_chip'].size['size_y']='8mm'\n",
    "design.chips['Q_chip'].size['size_x']='8mm'\n",
    "design.chips['Q_chip'].size['size_y']='8mm'\n",
    "design.chips['Q_chip'].size['center_z']='20um'"
   ]
  },
  {
   "cell_type": "markdown",
   "metadata": {},
   "source": [
    "# Resonator length"
   ]
  },
  {
   "cell_type": "code",
   "execution_count": 5,
   "metadata": {},
   "outputs": [],
   "source": [
    "from qiskit_metal.analyses.em.cpw_calculations import guided_wavelength\n",
    "\n",
    "def find_resonator_length(frequency, line_width, line_gap, N): \n",
    "    #frequency in GHz\n",
    "    #line_width/line_gap in um\n",
    "    #N -> 2 for lambda/2, 4 for lambda/4\n",
    "    \n",
    "    [lambdaG, etfSqrt, q] = guided_wavelength(frequency*10**9, line_width*10**-6,\n",
    "                                              line_gap*10**-6, 750*10**-6, 200*10**-9)\n",
    "    return str(lambdaG/N*10**3)+\" mm\""
   ]
  },
  {
   "cell_type": "code",
   "execution_count": 6,
   "metadata": {},
   "outputs": [
    {
     "name": "stdout",
     "output_type": "stream",
     "text": [
      "[7.453254683870284, 7.224788339841421, 7.00834654020913]\n"
     ]
    }
   ],
   "source": [
    "resonator_length_2=[]\n",
    "for i in range(3):\n",
    "    a=find_resonator_length(7.2+i*0.2,10,6,2)\n",
    "    a=a.strip('mm')\n",
    "    a=float(a)-0.8-0.2 \n",
    "    resonator_length_2.append(a)\n",
    "print(resonator_length_2)\n"
   ]
  },
  {
   "cell_type": "markdown",
   "metadata": {},
   "source": [
    "# Flipchip"
   ]
  },
  {
   "cell_type": "code",
   "execution_count": 7,
   "metadata": {},
   "outputs": [],
   "source": [
    "cp0 = dict(down = dict(loc_W=1, loc_H=-1, pad_width='120um'))\n",
    "\n",
    "# q0=[TransmonPocket6(design, 'Q0', options=dict(pos_x='-2000um',\n",
    "#                                             pos_y='-2000um',\n",
    "#                                             chip='Q_chip',\n",
    "#                                             connection_pads=cp0))]\n",
    "q0=[TransmonPocket6(design, 'Q0', options=dict(pos_x='-2000um',\n",
    "                                            pos_y='-2000um',\n",
    "                                            chip='Q_chip'))]\n",
    "\n",
    "qubits=q0\n",
    "\n",
    "q0x=float(qubits[0].options.pos_x.strip('um'))\n",
    "q0y=float(qubits[0].options.pos_y.strip('um'))\n",
    "\n",
    "\n",
    "c0 = LeftCoupler(design, \"c0\", options=dict(pos_x=f\"{q0x-60}um\",\n",
    "                                              pos_y=f\"{q0y+80}um\",\n",
    "                                              pad_width=\"100um\",\n",
    "                                              pad_height=\"504um\",\n",
    "                                              cpw_stub_height=\"200um\",\n",
    "                                              orientation='270',                                            \n",
    "                                              chip=\"C_chip\"))\n",
    "\n",
    "design.rebuild()\n",
    "gui.rebuild()\n",
    "gui.autoscale()"
   ]
  },
  {
   "cell_type": "code",
   "execution_count": 8,
   "metadata": {},
   "outputs": [],
   "source": [
    "lpL=LaunchpadWirebondCoupled(design, 'lpL',\n",
    "                                         options = dict(chip=\"C_chip\",\n",
    "                                         pos_x = '-3000um',\n",
    "                                         pos_y = '2000um',\n",
    "                                         lead_length = '30um'))\n",
    "lpR=LaunchpadWirebondCoupled(design, 'lpR',\n",
    "                                         options = dict(chip=\"C_chip\",\n",
    "                                         pos_x = '3000um',\n",
    "                                         pos_y = '2000um',\n",
    "                                         orientation='180',\n",
    "                                         lead_length = '30um'))"
   ]
  },
  {
   "cell_type": "code",
   "execution_count": 9,
   "metadata": {},
   "outputs": [],
   "source": [
    "clt0 = CoupledLineTee(design, \"clt0\", \n",
    "                        options=dict(pos_x='-2000um',\n",
    "                                    pos_y='2000um', \n",
    "                                    coupling_length='300um',\n",
    "                                    chip=\"C_chip\",\n",
    "                                    down_length='300um',\n",
    "                                    fillet='99um',\n",
    "                                    coupling_space='5um',\n",
    "                                    mirror=True,\n",
    "                                    open_termination=True))\n",
    "\n"
   ]
  },
  {
   "cell_type": "code",
   "execution_count": 10,
   "metadata": {},
   "outputs": [],
   "source": [
    "fl0=RouteStraight(design, 'fl0',options=Dict(chip=\"C_chip\", pin_inputs=Dict(start_pin=Dict(\n",
    "                                                            component='lpL',\n",
    "                                                            pin='tie'),\n",
    "                                                            end_pin=Dict(\n",
    "                                                            component='clt0',\n",
    "                                                            pin='prime_start'))))\n",
    "fl1=RouteStraight(design, 'fl1',options=Dict(chip=\"C_chip\",pin_inputs=Dict(start_pin=Dict(\n",
    "                                                            component='clt0',\n",
    "                                                            pin='prime_end'),\n",
    "                                                            end_pin=Dict(\n",
    "                                                            component='lpR',\n",
    "                                                            pin='tie'))))\n"
   ]
  },
  {
   "cell_type": "markdown",
   "metadata": {},
   "source": [
    "# Readout resonator"
   ]
  },
  {
   "cell_type": "code",
   "execution_count": 11,
   "metadata": {},
   "outputs": [],
   "source": [
    "from collections import OrderedDict\n",
    "jogs=OrderedDict()\n",
    "def connect(component_name: str, component1: str, pin1: str, component2: str, pin2: str,\n",
    "            length: str, start_jogged_extension: OrderedDict, end_jogged_extension: OrderedDict,\n",
    "            spacing: str, asymmetry='0 um',  start_straight='0 um', end_straight='0 um', flip=False):\n",
    "    \"\"\"Connect two pins with a CPW.\"\"\"\n",
    "    myoptions = Dict(\n",
    "        chip=\"C_chip\",\n",
    "        pin_inputs=Dict(\n",
    "            start_pin=Dict(\n",
    "                component=component1,\n",
    "                pin=pin1),\n",
    "            end_pin=Dict(\n",
    "                component=component2,\n",
    "                pin=pin2)),\n",
    "        lead=Dict(\n",
    "            start_straight=start_straight,\n",
    "            end_straight=end_straight,\n",
    "            start_jogged_extension=start_jogged_extension,\n",
    "            end_jogged_extension=end_jogged_extension),\n",
    "        total_length=length,\n",
    "        fillet = '99.9um',\n",
    "        meander=dict(asymmetry=asymmetry,\n",
    "                     spacing=spacing))\n",
    "    myoptions.meander.lead_direction_inverted = 'true' if flip else 'false'\n",
    "    return RouteMeander(design, component_name, myoptions)"
   ]
  },
  {
   "cell_type": "code",
   "execution_count": 12,
   "metadata": {},
   "outputs": [],
   "source": [
    "rr0=connect('rr0', 'clt0', 'second_end', 'c0', 'in',\n",
    "            resonator_length_2[1],jogs,jogs, \n",
    "            '400um','0um', '100um', '100um')"
   ]
  },
  {
   "cell_type": "markdown",
   "metadata": {},
   "source": [
    "# EPR Analysis"
   ]
  },
  {
   "cell_type": "code",
   "execution_count": 13,
   "metadata": {},
   "outputs": [],
   "source": [
    "from qiskit_metal.analyses.quantization import EPRanalysis\n",
    "eig_rd = EPRanalysis(design, \"hfss\")\n",
    "hfss = eig_rd.sim.renderer"
   ]
  },
  {
   "cell_type": "code",
   "execution_count": 14,
   "metadata": {},
   "outputs": [
    {
     "name": "stderr",
     "output_type": "stream",
     "text": [
      "INFO 10:39AM [connect_project]: Connecting to Ansys Desktop API...\n",
      "INFO 10:39AM [load_ansys_project]: \tOpened Ansys App\n",
      "INFO 10:39AM [load_ansys_project]: \tOpened Ansys Desktop v2018.0.0\n",
      "INFO 10:39AM [load_ansys_project]: \tOpened Ansys Project\n",
      "\tFolder:    C:/Users/kimje/Documents/Ansoft/\n",
      "\tProject:   Project28\n",
      "INFO 10:39AM [connect_design]: No active design found (or error getting active design).\n",
      "INFO 10:39AM [connect]: \t Connected to project \"Project28\". No design detected\n"
     ]
    },
    {
     "data": {
      "text/plain": [
       "True"
      ]
     },
     "execution_count": 14,
     "metadata": {},
     "output_type": "execute_result"
    }
   ],
   "source": [
    "hfss.start()"
   ]
  },
  {
   "cell_type": "code",
   "execution_count": 15,
   "metadata": {},
   "outputs": [
    {
     "name": "stderr",
     "output_type": "stream",
     "text": [
      "10:39AM 24s WARNING [activate_ansys_design]: The design_name=flip_V7 was not in active project.  Designs in active project are: \n",
      "[].  A new design will be added to the project.  \n",
      "INFO 10:39AM [connect_design]: \tOpened active design\n",
      "\tDesign:    flip_V7 [Solution type: Eigenmode]\n",
      "WARNING 10:39AM [connect_setup]: \tNo design setup detected.\n",
      "WARNING 10:39AM [connect_setup]: \tCreating eigenmode default setup.\n",
      "INFO 10:39AM [get_setup]: \tOpened setup `Setup`  (<class 'pyEPR.ansys.HfssEMSetup'>)\n"
     ]
    }
   ],
   "source": [
    "hfss.activate_ansys_design(\"flip_V7\", 'eigenmode')\n",
    "hfss.render_design(['Q0','c0','lpL','lpR','clt0','rr0','fl0','fl1'],\n",
    "                    [('clt0','prime_end')],\n",
    "                    box_plus_buffer=False)"
   ]
  },
  {
   "cell_type": "code",
   "execution_count": 16,
   "metadata": {},
   "outputs": [
    {
     "data": {
      "text/plain": [
       "True"
      ]
     },
     "execution_count": 16,
     "metadata": {},
     "output_type": "execute_result"
    }
   ],
   "source": [
    "hfss.close()"
   ]
  },
  {
   "cell_type": "markdown",
   "metadata": {},
   "source": [
    "# LOM Analysis"
   ]
  },
  {
   "cell_type": "code",
   "execution_count": 17,
   "metadata": {},
   "outputs": [],
   "source": [
    "from qiskit_metal.analyses.quantization import LOManalysis\n",
    "c1 = LOManalysis(design, \"q3d\")\n"
   ]
  },
  {
   "cell_type": "code",
   "execution_count": 18,
   "metadata": {},
   "outputs": [
    {
     "data": {
      "text/plain": [
       "{'name': 'Setup',\n",
       " 'reuse_selected_design': True,\n",
       " 'reuse_setup': True,\n",
       " 'freq_ghz': '5.60',\n",
       " 'save_fields': False,\n",
       " 'enabled': True,\n",
       " 'max_passes': 10,\n",
       " 'min_passes': 2,\n",
       " 'min_converged_passes': 2,\n",
       " 'percent_error': 0.5,\n",
       " 'percent_refinement': 30,\n",
       " 'auto_increase_solution_order': 'False',\n",
       " 'solution_order': 'Medium',\n",
       " 'solver_type': 'Iterative'}"
      ]
     },
     "execution_count": 18,
     "metadata": {},
     "output_type": "execute_result"
    }
   ],
   "source": [
    "c1.sim.setup.max_passes = 10\n",
    "c1.sim.setup_update(freq_ghz='5.60',solution_order = 'Medium', auto_increase_solution_order = 'False')\n",
    "c1.sim.setup"
   ]
  },
  {
   "cell_type": "code",
   "execution_count": 20,
   "metadata": {},
   "outputs": [
    {
     "name": "stderr",
     "output_type": "stream",
     "text": [
      "INFO 10:55AM [get_matrix]: Exporting matrix data to (C:\\Users\\kimje\\AppData\\Local\\Temp\\tmpncix5fb7.txt, C, , Setup:LastAdaptive, \"Original\", \"ohm\", \"nH\", \"fF\", \"mSie\", 5600000000, Maxwell, 1, False\n",
      "INFO 10:55AM [get_matrix]: Exporting matrix data to (C:\\Users\\kimje\\AppData\\Local\\Temp\\tmpn6v_7y3o.txt, C, , Setup:AdaptivePass, \"Original\", \"ohm\", \"nH\", \"fF\", \"mSie\", 5600000000, Maxwell, 1, False\n",
      "INFO 10:55AM [get_matrix]: Exporting matrix data to (C:\\Users\\kimje\\AppData\\Local\\Temp\\tmpupjwduzj.txt, C, , Setup:AdaptivePass, \"Original\", \"ohm\", \"nH\", \"fF\", \"mSie\", 5600000000, Maxwell, 2, False\n",
      "INFO 10:55AM [get_matrix]: Exporting matrix data to (C:\\Users\\kimje\\AppData\\Local\\Temp\\tmpka3rum2b.txt, C, , Setup:AdaptivePass, \"Original\", \"ohm\", \"nH\", \"fF\", \"mSie\", 5600000000, Maxwell, 3, False\n",
      "INFO 10:55AM [get_matrix]: Exporting matrix data to (C:\\Users\\kimje\\AppData\\Local\\Temp\\tmpq65s8gjx.txt, C, , Setup:AdaptivePass, \"Original\", \"ohm\", \"nH\", \"fF\", \"mSie\", 5600000000, Maxwell, 4, False\n",
      "INFO 10:55AM [get_matrix]: Exporting matrix data to (C:\\Users\\kimje\\AppData\\Local\\Temp\\tmpoad813h8.txt, C, , Setup:AdaptivePass, \"Original\", \"ohm\", \"nH\", \"fF\", \"mSie\", 5600000000, Maxwell, 5, False\n",
      "INFO 10:55AM [get_matrix]: Exporting matrix data to (C:\\Users\\kimje\\AppData\\Local\\Temp\\tmpoclf0cu2.txt, C, , Setup:AdaptivePass, \"Original\", \"ohm\", \"nH\", \"fF\", \"mSie\", 5600000000, Maxwell, 6, False\n",
      "INFO 10:55AM [get_matrix]: Exporting matrix data to (C:\\Users\\kimje\\AppData\\Local\\Temp\\tmp4o260263.txt, C, , Setup:AdaptivePass, \"Original\", \"ohm\", \"nH\", \"fF\", \"mSie\", 5600000000, Maxwell, 7, False\n",
      "INFO 10:55AM [get_matrix]: Exporting matrix data to (C:\\Users\\kimje\\AppData\\Local\\Temp\\tmp0s5fhawu.txt, C, , Setup:AdaptivePass, \"Original\", \"ohm\", \"nH\", \"fF\", \"mSie\", 5600000000, Maxwell, 8, False\n",
      "INFO 10:55AM [get_matrix]: Exporting matrix data to (C:\\Users\\kimje\\AppData\\Local\\Temp\\tmp_et65qi7.txt, C, , Setup:AdaptivePass, \"Original\", \"ohm\", \"nH\", \"fF\", \"mSie\", 5600000000, Maxwell, 9, False\n",
      "INFO 10:55AM [get_matrix]: Exporting matrix data to (C:\\Users\\kimje\\AppData\\Local\\Temp\\tmpq9sys6dn.txt, C, , Setup:AdaptivePass, \"Original\", \"ohm\", \"nH\", \"fF\", \"mSie\", 5600000000, Maxwell, 10, False\n",
      "INFO 10:55AM [get_matrix]: Exporting matrix data to (C:\\Users\\kimje\\AppData\\Local\\Temp\\tmptwq4rjup.txt, C, , Setup:AdaptivePass, \"Original\", \"ohm\", \"nH\", \"fF\", \"mSie\", 5600000000, Maxwell, 11, False\n"
     ]
    },
    {
     "data": {
      "text/html": [
       "<div>\n",
       "<style scoped>\n",
       "    .dataframe tbody tr th:only-of-type {\n",
       "        vertical-align: middle;\n",
       "    }\n",
       "\n",
       "    .dataframe tbody tr th {\n",
       "        vertical-align: top;\n",
       "    }\n",
       "\n",
       "    .dataframe thead th {\n",
       "        text-align: right;\n",
       "    }\n",
       "</style>\n",
       "<table border=\"1\" class=\"dataframe\">\n",
       "  <thead>\n",
       "    <tr style=\"text-align: right;\">\n",
       "      <th></th>\n",
       "      <th>ground</th>\n",
       "      <th>pad_bot_Q0</th>\n",
       "      <th>pad_top_Q0</th>\n",
       "      <th>quad_coupler_c0</th>\n",
       "    </tr>\n",
       "  </thead>\n",
       "  <tbody>\n",
       "    <tr>\n",
       "      <th>ground</th>\n",
       "      <td>383.840</td>\n",
       "      <td>-74.71700</td>\n",
       "      <td>-55.506</td>\n",
       "      <td>-193.56000</td>\n",
       "    </tr>\n",
       "    <tr>\n",
       "      <th>pad_bot_Q0</th>\n",
       "      <td>-74.717</td>\n",
       "      <td>107.87000</td>\n",
       "      <td>-31.535</td>\n",
       "      <td>-0.56775</td>\n",
       "    </tr>\n",
       "    <tr>\n",
       "      <th>pad_top_Q0</th>\n",
       "      <td>-55.506</td>\n",
       "      <td>-31.53500</td>\n",
       "      <td>107.500</td>\n",
       "      <td>-19.37600</td>\n",
       "    </tr>\n",
       "    <tr>\n",
       "      <th>quad_coupler_c0</th>\n",
       "      <td>-193.560</td>\n",
       "      <td>-0.56775</td>\n",
       "      <td>-19.376</td>\n",
       "      <td>214.49000</td>\n",
       "    </tr>\n",
       "  </tbody>\n",
       "</table>\n",
       "</div>"
      ],
      "text/plain": [
       "                  ground  pad_bot_Q0  pad_top_Q0  quad_coupler_c0\n",
       "ground           383.840   -74.71700     -55.506       -193.56000\n",
       "pad_bot_Q0       -74.717   107.87000     -31.535         -0.56775\n",
       "pad_top_Q0       -55.506   -31.53500     107.500        -19.37600\n",
       "quad_coupler_c0 -193.560    -0.56775     -19.376        214.49000"
      ]
     },
     "execution_count": 20,
     "metadata": {},
     "output_type": "execute_result"
    }
   ],
   "source": [
    "#c1.sim.run(components=['Q0','c0'], open_terminations=[('c0', 'in')])\n",
    "c1.sim._get_results_from_renderer()\n",
    "c1.sim.capacitance_matrix"
   ]
  },
  {
   "cell_type": "code",
   "execution_count": 21,
   "metadata": {},
   "outputs": [
    {
     "name": "stdout",
     "output_type": "stream",
     "text": [
      "[1, 2] [3]\n",
      "Predicted Values\n",
      "\n",
      "Transmon Properties\n",
      "f_Q 5.404371 [GHz]\n",
      "EC 272.526793 [MHz]\n",
      "EJ 14.854145 [GHz]\n",
      "alpha -310.728990 [MHz]\n",
      "dispersion 4.983839 [KHz]\n",
      "Lq 10.995564 [nH]\n",
      "Cq 71.076417 [fF]\n",
      "T1 22.626099 [us]\n",
      "\n",
      "**Coupling Properties**\n",
      "\n",
      "tCqbus1 -9.430870 [fF]\n",
      "gbus1_in_MHz -125.528775 [MHz]\n",
      "χ_bus1 -6.426297 [MHz]\n",
      "1/T1bus1 7034.131055 [Hz]\n",
      "T1bus1 22.626099 [us]\n",
      "Bus-Bus Couplings\n"
     ]
    },
    {
     "data": {
      "text/html": [
       "<div>\n",
       "<style scoped>\n",
       "    .dataframe tbody tr th:only-of-type {\n",
       "        vertical-align: middle;\n",
       "    }\n",
       "\n",
       "    .dataframe tbody tr th {\n",
       "        vertical-align: top;\n",
       "    }\n",
       "\n",
       "    .dataframe thead th {\n",
       "        text-align: right;\n",
       "    }\n",
       "</style>\n",
       "<table border=\"1\" class=\"dataframe\">\n",
       "  <thead>\n",
       "    <tr style=\"text-align: right;\">\n",
       "      <th></th>\n",
       "      <th>fQ</th>\n",
       "      <th>EC</th>\n",
       "      <th>EJ</th>\n",
       "      <th>alpha</th>\n",
       "      <th>dispersion</th>\n",
       "      <th>gbus</th>\n",
       "      <th>chi_in_MHz</th>\n",
       "      <th>χr MHz</th>\n",
       "      <th>gr MHz</th>\n",
       "    </tr>\n",
       "  </thead>\n",
       "  <tbody>\n",
       "    <tr>\n",
       "      <th>1</th>\n",
       "      <td>5.850756</td>\n",
       "      <td>322.624099</td>\n",
       "      <td>14.854145</td>\n",
       "      <td>-373.332508</td>\n",
       "      <td>25.47916</td>\n",
       "      <td>[-19.960907535860024]</td>\n",
       "      <td>[-0.45011876407289714]</td>\n",
       "      <td>0.450119</td>\n",
       "      <td>19.960908</td>\n",
       "    </tr>\n",
       "    <tr>\n",
       "      <th>2</th>\n",
       "      <td>5.642749</td>\n",
       "      <td>298.682666</td>\n",
       "      <td>14.854145</td>\n",
       "      <td>-343.212278</td>\n",
       "      <td>12.307332</td>\n",
       "      <td>[-196.0668080231643]</td>\n",
       "      <td>[-25.825726670501684]</td>\n",
       "      <td>25.825727</td>\n",
       "      <td>196.066808</td>\n",
       "    </tr>\n",
       "    <tr>\n",
       "      <th>3</th>\n",
       "      <td>5.567809</td>\n",
       "      <td>290.31358</td>\n",
       "      <td>14.854145</td>\n",
       "      <td>-332.770771</td>\n",
       "      <td>9.341625</td>\n",
       "      <td>[-175.59172663146356]</td>\n",
       "      <td>[-17.546983036058908]</td>\n",
       "      <td>17.546983</td>\n",
       "      <td>175.591727</td>\n",
       "    </tr>\n",
       "    <tr>\n",
       "      <th>4</th>\n",
       "      <td>5.575149</td>\n",
       "      <td>291.127309</td>\n",
       "      <td>14.854145</td>\n",
       "      <td>-333.784022</td>\n",
       "      <td>9.600519</td>\n",
       "      <td>[-158.68253561869204]</td>\n",
       "      <td>[-14.559063350608906]</td>\n",
       "      <td>14.559063</td>\n",
       "      <td>158.682536</td>\n",
       "    </tr>\n",
       "    <tr>\n",
       "      <th>5</th>\n",
       "      <td>5.52696</td>\n",
       "      <td>285.808378</td>\n",
       "      <td>14.854145</td>\n",
       "      <td>-327.168622</td>\n",
       "      <td>8.012395</td>\n",
       "      <td>[-142.51485087925502]</td>\n",
       "      <td>[-10.599018895466108]</td>\n",
       "      <td>10.599019</td>\n",
       "      <td>142.514851</td>\n",
       "    </tr>\n",
       "    <tr>\n",
       "      <th>6</th>\n",
       "      <td>5.478929</td>\n",
       "      <td>280.562043</td>\n",
       "      <td>14.854145</td>\n",
       "      <td>-320.661315</td>\n",
       "      <td>6.66945</td>\n",
       "      <td>[-131.49693772577822]</td>\n",
       "      <td>[-8.173836339231782]</td>\n",
       "      <td>8.173836</td>\n",
       "      <td>131.496938</td>\n",
       "    </tr>\n",
       "    <tr>\n",
       "      <th>7</th>\n",
       "      <td>5.448316</td>\n",
       "      <td>277.246878</td>\n",
       "      <td>14.854145</td>\n",
       "      <td>-316.558446</td>\n",
       "      <td>5.923319</td>\n",
       "      <td>[-129.14747919570033]</td>\n",
       "      <td>[-7.4144870464411134]</td>\n",
       "      <td>7.414487</td>\n",
       "      <td>129.147479</td>\n",
       "    </tr>\n",
       "    <tr>\n",
       "      <th>8</th>\n",
       "      <td>5.433143</td>\n",
       "      <td>275.611993</td>\n",
       "      <td>14.854145</td>\n",
       "      <td>-314.537695</td>\n",
       "      <td>5.582242</td>\n",
       "      <td>[-126.57409183826779]</td>\n",
       "      <td>[-6.911312510004948]</td>\n",
       "      <td>6.911313</td>\n",
       "      <td>126.574092</td>\n",
       "    </tr>\n",
       "    <tr>\n",
       "      <th>9</th>\n",
       "      <td>5.415104</td>\n",
       "      <td>273.675383</td>\n",
       "      <td>14.854145</td>\n",
       "      <td>-312.146223</td>\n",
       "      <td>5.199913</td>\n",
       "      <td>[-126.31557031783524]</td>\n",
       "      <td>[-6.644152307509199]</td>\n",
       "      <td>6.644152</td>\n",
       "      <td>126.315570</td>\n",
       "    </tr>\n",
       "    <tr>\n",
       "      <th>10</th>\n",
       "      <td>5.404371</td>\n",
       "      <td>272.526793</td>\n",
       "      <td>14.854145</td>\n",
       "      <td>-310.72899</td>\n",
       "      <td>4.983839</td>\n",
       "      <td>[-125.52877481689835]</td>\n",
       "      <td>[-6.426297383446051]</td>\n",
       "      <td>6.426297</td>\n",
       "      <td>125.528775</td>\n",
       "    </tr>\n",
       "  </tbody>\n",
       "</table>\n",
       "</div>"
      ],
      "text/plain": [
       "          fQ          EC         EJ       alpha dispersion  \\\n",
       "1   5.850756  322.624099  14.854145 -373.332508   25.47916   \n",
       "2   5.642749  298.682666  14.854145 -343.212278  12.307332   \n",
       "3   5.567809   290.31358  14.854145 -332.770771   9.341625   \n",
       "4   5.575149  291.127309  14.854145 -333.784022   9.600519   \n",
       "5    5.52696  285.808378  14.854145 -327.168622   8.012395   \n",
       "6   5.478929  280.562043  14.854145 -320.661315    6.66945   \n",
       "7   5.448316  277.246878  14.854145 -316.558446   5.923319   \n",
       "8   5.433143  275.611993  14.854145 -314.537695   5.582242   \n",
       "9   5.415104  273.675383  14.854145 -312.146223   5.199913   \n",
       "10  5.404371  272.526793  14.854145  -310.72899   4.983839   \n",
       "\n",
       "                     gbus              chi_in_MHz     χr MHz      gr MHz  \n",
       "1   [-19.960907535860024]  [-0.45011876407289714]   0.450119   19.960908  \n",
       "2    [-196.0668080231643]   [-25.825726670501684]  25.825727  196.066808  \n",
       "3   [-175.59172663146356]   [-17.546983036058908]  17.546983  175.591727  \n",
       "4   [-158.68253561869204]   [-14.559063350608906]  14.559063  158.682536  \n",
       "5   [-142.51485087925502]   [-10.599018895466108]  10.599019  142.514851  \n",
       "6   [-131.49693772577822]    [-8.173836339231782]   8.173836  131.496938  \n",
       "7   [-129.14747919570033]   [-7.4144870464411134]   7.414487  129.147479  \n",
       "8   [-126.57409183826779]    [-6.911312510004948]   6.911313  126.574092  \n",
       "9   [-126.31557031783524]    [-6.644152307509199]   6.644152  126.315570  \n",
       "10  [-125.52877481689835]    [-6.426297383446051]   6.426297  125.528775  "
      ]
     },
     "execution_count": 21,
     "metadata": {},
     "output_type": "execute_result"
    }
   ],
   "source": [
    "c1.setup.junctions = Dict({'Lj': 11, 'Cj': 2})\n",
    "c1.setup.freq_readout = 6.50\n",
    "c1.setup.freq_bus = []\n",
    "c1.run_lom()\n",
    "c1.lumped_oscillator_all"
   ]
  },
  {
   "cell_type": "code",
   "execution_count": 22,
   "metadata": {},
   "outputs": [
    {
     "name": "stdout",
     "output_type": "stream",
     "text": [
      "Warning! 3 COM references still alive\n",
      "Ansys will likely refuse to shut down\n"
     ]
    }
   ],
   "source": [
    "c1.sim.close()"
   ]
  },
  {
   "cell_type": "code",
   "execution_count": null,
   "metadata": {},
   "outputs": [],
   "source": []
  }
 ],
 "metadata": {
  "kernelspec": {
   "display_name": "Python 3.9.10 ('metal')",
   "language": "python",
   "name": "python3"
  },
  "language_info": {
   "codemirror_mode": {
    "name": "ipython",
    "version": 3
   },
   "file_extension": ".py",
   "mimetype": "text/x-python",
   "name": "python",
   "nbconvert_exporter": "python",
   "pygments_lexer": "ipython3",
   "version": "3.9.10"
  },
  "orig_nbformat": 4,
  "vscode": {
   "interpreter": {
    "hash": "ac951534856e2c23f9f162419ca8ae29ffbc7967cf243c458d1cebaa12df0b5c"
   }
  }
 },
 "nbformat": 4,
 "nbformat_minor": 2
}
