{
 "cells": [
  {
   "cell_type": "code",
   "execution_count": 1,
   "metadata": {},
   "outputs": [],
   "source": [
    "import warnings\n",
    "warnings.filterwarnings(\"ignore\")\n",
    "%load_ext autoreload\n",
    "%autoreload 2\n",
    "from qiskit_metal import Dict, MetalGUI, designs\n",
    "from qiskit_metal.qlibrary.qubits.transmon_pocket import TransmonPocket\n",
    "from qiskit_metal.qlibrary.qubits.transmon_pocket_6 import TransmonPocket6\n",
    "from qiskit_metal.qlibrary.tlines.meandered import RouteMeander\n",
    "from qiskit_metal.qlibrary.tlines.straight_path import RouteStraight\n",
    "from qiskit_metal.qlibrary.terminations.launchpad_wb_coupled import LaunchpadWirebondCoupled\n",
    "from qiskit_metal.qlibrary.couplers.coupled_line_tee import CoupledLineTee\n",
    "from qiskit_metal.qlibrary.user_components.left_coupler import LeftCoupler\n",
    "from qiskit_metal.qlibrary.user_components.right_coupler import RightCoupler\n",
    "from qiskit_metal.qlibrary.user_components.straightdown_coupler import StraightDownCoupler\n",
    "from qiskit_metal.qlibrary.user_components.straightup_coupler import StraightUpCoupler"
   ]
  },
  {
   "cell_type": "code",
   "execution_count": 2,
   "metadata": {},
   "outputs": [],
   "source": [
    "design = designs.DesignFlipChip({}, overwrite_enabled=True)\n",
    "gui = MetalGUI(design)"
   ]
  },
  {
   "cell_type": "code",
   "execution_count": 3,
   "metadata": {},
   "outputs": [],
   "source": [
    "design.delete_all_components()"
   ]
  },
  {
   "cell_type": "code",
   "execution_count": 4,
   "metadata": {},
   "outputs": [
    {
     "data": {
      "text/plain": [
       "'12um'"
      ]
     },
     "execution_count": 4,
     "metadata": {},
     "output_type": "execute_result"
    }
   ],
   "source": [
    "design.get_chip_z('Q_chip')"
   ]
  },
  {
   "cell_type": "code",
   "execution_count": 3,
   "metadata": {},
   "outputs": [],
   "source": [
    "design.chips['C_chip'].size['size_x']='8mm'\n",
    "design.chips['C_chip'].size['size_y']='8mm'\n",
    "design.chips['Q_chip'].size['size_x']='8mm'\n",
    "design.chips['Q_chip'].size['size_y']='8mm'\n",
    "design.chips['Q_chip'].size['center_z']='12um'"
   ]
  },
  {
   "cell_type": "markdown",
   "metadata": {},
   "source": [
    "# Resonator length"
   ]
  },
  {
   "cell_type": "code",
   "execution_count": 4,
   "metadata": {},
   "outputs": [],
   "source": [
    "from qiskit_metal.analyses.em.cpw_calculations import guided_wavelength\n",
    "\n",
    "def find_resonator_length(frequency, line_width, line_gap, N): \n",
    "    #frequency in GHz\n",
    "    #line_width/line_gap in um\n",
    "    #N -> 2 for lambda/2, 4 for lambda/4\n",
    "    \n",
    "    [lambdaG, etfSqrt, q] = guided_wavelength(frequency*10**9, line_width*10**-6,\n",
    "                                              line_gap*10**-6, 750*10**-6, 200*10**-9)\n",
    "    return str(lambdaG/N*10**3)+\" mm\""
   ]
  },
  {
   "cell_type": "code",
   "execution_count": 5,
   "metadata": {},
   "outputs": [
    {
     "name": "stdout",
     "output_type": "stream",
     "text": [
      "[7.253254683870284, 7.024788339841421, 6.80834654020913]\n"
     ]
    }
   ],
   "source": [
    "resonator_length_2=[]\n",
    "for i in range(3):\n",
    "    a=find_resonator_length(7.2+i*0.2,10,6,2)\n",
    "    a=a.strip('mm')\n",
    "    a=float(a)-0.8-0.2-0.2\n",
    "    resonator_length_2.append(a)\n",
    "print(resonator_length_2)\n"
   ]
  },
  {
   "cell_type": "markdown",
   "metadata": {},
   "source": [
    "# Flipchip"
   ]
  },
  {
   "cell_type": "code",
   "execution_count": 6,
   "metadata": {},
   "outputs": [],
   "source": [
    "cp0 = dict(down = dict(loc_W=1, loc_H=-1, pad_width='120um'))\n",
    "\n",
    "# q0=[TransmonPocket6(design, 'Q0', options=dict(pos_x='-2000um',\n",
    "#                                             pos_y='-2000um',\n",
    "#                                             chip='Q_chip',\n",
    "#                                             connection_pads=cp0))]\n",
    "q0=[TransmonPocket6(design, 'Q0', options=dict(pos_x='-2000um',\n",
    "                                            pos_y='-2000um',\n",
    "                                            chip='Q_chip',\n",
    "                                            pad_gap='20um'))]\n",
    "\n",
    "qubits=q0\n",
    "\n",
    "q0x=float(qubits[0].options.pos_x.strip('um'))\n",
    "q0y=float(qubits[0].options.pos_y.strip('um'))\n",
    "\n",
    "\n",
    "c0 = LeftCoupler(design, \"c0\", options=dict(pos_x=f\"{q0x-60}um\",\n",
    "                                              pos_y=f\"{q0y+75}um\",\n",
    "                                              pad_width=\"110um\",\n",
    "                                              pad_height=\"504um\",\n",
    "                                              cpw_stub_height=\"200um\",\n",
    "                                              orientation='270',                                            \n",
    "                                              chip=\"C_chip\"))\n",
    "\n",
    "design.rebuild()\n",
    "gui.rebuild()\n",
    "gui.autoscale()"
   ]
  },
  {
   "cell_type": "code",
   "execution_count": 7,
   "metadata": {},
   "outputs": [],
   "source": [
    "lpL=LaunchpadWirebondCoupled(design, 'lpL',\n",
    "                                         options = dict(chip=\"C_chip\",\n",
    "                                         pos_x = '-3000um',\n",
    "                                         pos_y = '2000um',\n",
    "                                         lead_length = '30um'))\n",
    "lpR=LaunchpadWirebondCoupled(design, 'lpR',\n",
    "                                         options = dict(chip=\"C_chip\",\n",
    "                                         pos_x = '3000um',\n",
    "                                         pos_y = '2000um',\n",
    "                                         orientation='180',\n",
    "                                         lead_length = '30um'))"
   ]
  },
  {
   "cell_type": "code",
   "execution_count": 8,
   "metadata": {},
   "outputs": [],
   "source": [
    "clt0 = CoupledLineTee(design, \"clt0\", \n",
    "                        options=dict(pos_x='-2000um',\n",
    "                                    pos_y='2000um', \n",
    "                                    coupling_length='300um',\n",
    "                                    chip=\"C_chip\",\n",
    "                                    down_length='300um',\n",
    "                                    fillet='99um',\n",
    "                                    coupling_space='5um',\n",
    "                                    mirror=True,\n",
    "                                    open_termination=True))\n",
    "\n"
   ]
  },
  {
   "cell_type": "code",
   "execution_count": 9,
   "metadata": {},
   "outputs": [],
   "source": [
    "fl0=RouteStraight(design, 'fl0',options=Dict(chip=\"C_chip\", pin_inputs=Dict(start_pin=Dict(\n",
    "                                                            component='lpL',\n",
    "                                                            pin='tie'),\n",
    "                                                            end_pin=Dict(\n",
    "                                                            component='clt0',\n",
    "                                                            pin='prime_start'))))\n",
    "fl1=RouteStraight(design, 'fl1',options=Dict(chip=\"C_chip\",pin_inputs=Dict(start_pin=Dict(\n",
    "                                                            component='clt0',\n",
    "                                                            pin='prime_end'),\n",
    "                                                            end_pin=Dict(\n",
    "                                                            component='lpR',\n",
    "                                                            pin='tie'))))\n"
   ]
  },
  {
   "cell_type": "markdown",
   "metadata": {},
   "source": [
    "# Readout resonator"
   ]
  },
  {
   "cell_type": "code",
   "execution_count": 10,
   "metadata": {},
   "outputs": [],
   "source": [
    "from collections import OrderedDict\n",
    "jogs=OrderedDict()\n",
    "def connect(component_name: str, component1: str, pin1: str, component2: str, pin2: str,\n",
    "            length: str, start_jogged_extension: OrderedDict, end_jogged_extension: OrderedDict,\n",
    "            spacing: str, asymmetry='0 um',  start_straight='0 um', end_straight='0 um', flip=False):\n",
    "    \"\"\"Connect two pins with a CPW.\"\"\"\n",
    "    myoptions = Dict(\n",
    "        chip=\"C_chip\",\n",
    "        pin_inputs=Dict(\n",
    "            start_pin=Dict(\n",
    "                component=component1,\n",
    "                pin=pin1),\n",
    "            end_pin=Dict(\n",
    "                component=component2,\n",
    "                pin=pin2)),\n",
    "        lead=Dict(\n",
    "            start_straight=start_straight,\n",
    "            end_straight=end_straight,\n",
    "            start_jogged_extension=start_jogged_extension,\n",
    "            end_jogged_extension=end_jogged_extension),\n",
    "        total_length=length,\n",
    "        fillet = '99.9um',\n",
    "        meander=dict(asymmetry=asymmetry,\n",
    "                     spacing=spacing))\n",
    "    myoptions.meander.lead_direction_inverted = 'true' if flip else 'false'\n",
    "    return RouteMeander(design, component_name, myoptions)"
   ]
  },
  {
   "cell_type": "code",
   "execution_count": 11,
   "metadata": {},
   "outputs": [],
   "source": [
    "rr0=connect('rr0', 'clt0', 'second_end', 'c0', 'in',\n",
    "            resonator_length_2[1],jogs,jogs, \n",
    "            '400um','0um', '100um', '100um')"
   ]
  },
  {
   "cell_type": "markdown",
   "metadata": {},
   "source": [
    "# EPR Analysis"
   ]
  },
  {
   "cell_type": "code",
   "execution_count": 12,
   "metadata": {},
   "outputs": [],
   "source": [
    "from qiskit_metal.analyses.quantization import EPRanalysis\n",
    "eig_rd = EPRanalysis(design, \"hfss\")\n",
    "hfss = eig_rd.sim.renderer"
   ]
  },
  {
   "cell_type": "code",
   "execution_count": 14,
   "metadata": {},
   "outputs": [
    {
     "name": "stderr",
     "output_type": "stream",
     "text": [
      "INFO 06:53AM [connect_project]: Connecting to Ansys Desktop API...\n",
      "INFO 06:53AM [load_ansys_project]: \tOpened Ansys App\n",
      "INFO 06:53AM [load_ansys_project]: \tOpened Ansys Desktop v2018.0.0\n",
      "INFO 06:53AM [load_ansys_project]: \tOpened Ansys Project\n",
      "\tFolder:    C:/Users/kimje/Documents/Ansoft/\n",
      "\tProject:   Project20\n",
      "INFO 06:53AM [connect_design]: No active design found (or error getting active design).\n",
      "INFO 06:53AM [connect]: \t Connected to project \"Project20\". No design detected\n"
     ]
    },
    {
     "data": {
      "text/plain": [
       "True"
      ]
     },
     "execution_count": 14,
     "metadata": {},
     "output_type": "execute_result"
    }
   ],
   "source": [
    "hfss.start()"
   ]
  },
  {
   "cell_type": "code",
   "execution_count": 15,
   "metadata": {},
   "outputs": [
    {
     "name": "stderr",
     "output_type": "stream",
     "text": [
      "06:53AM 18s WARNING [activate_ansys_design]: The design_name=flip12um_V1 was not in active project.  Designs in active project are: \n",
      "[].  A new design will be added to the project.  \n",
      "INFO 06:53AM [connect_design]: \tOpened active design\n",
      "\tDesign:    flip12um_V1 [Solution type: Eigenmode]\n",
      "WARNING 06:53AM [connect_setup]: \tNo design setup detected.\n",
      "WARNING 06:53AM [connect_setup]: \tCreating eigenmode default setup.\n",
      "INFO 06:53AM [get_setup]: \tOpened setup `Setup`  (<class 'pyEPR.ansys.HfssEMSetup'>)\n"
     ]
    },
    {
     "name": "stderr",
     "output_type": "stream",
     "text": [
      "06:54AM 24s CRITICAL [_qt_message_handler]: line: 0, func: None(), file: None  WARNING: QWindowsNativeFileDialogBase::selectNameFilter: Invalid parameter '*.metal.py' not found in 'All Files (*)'.\n",
      "\n",
      "06:54AM 24s CRITICAL [_qt_message_handler]: line: 0, func: None(), file: None  WARNING: QWindowsNativeFileDialogBase::selectNameFilter: Invalid parameter '*.metal.py' not found in 'All Files (*)'.\n",
      "\n"
     ]
    }
   ],
   "source": [
    "hfss.activate_ansys_design(\"flip12um_V1\", 'eigenmode')\n",
    "hfss.render_design(['Q0','c0','lpL','lpR','clt0','rr0','fl0','fl1'],\n",
    "                    [('clt0','prime_end')],\n",
    "                    box_plus_buffer=False)"
   ]
  },
  {
   "cell_type": "code",
   "execution_count": 16,
   "metadata": {},
   "outputs": [
    {
     "data": {
      "text/plain": [
       "True"
      ]
     },
     "execution_count": 16,
     "metadata": {},
     "output_type": "execute_result"
    }
   ],
   "source": [
    "hfss.close()"
   ]
  },
  {
   "cell_type": "markdown",
   "metadata": {},
   "source": [
    "# LOM Analysis"
   ]
  },
  {
   "cell_type": "code",
   "execution_count": 17,
   "metadata": {},
   "outputs": [],
   "source": [
    "from qiskit_metal.analyses.quantization import LOManalysis\n",
    "c1 = LOManalysis(design, \"q3d\")\n"
   ]
  },
  {
   "cell_type": "code",
   "execution_count": 18,
   "metadata": {},
   "outputs": [
    {
     "data": {
      "text/plain": [
       "{'name': 'Setup',\n",
       " 'reuse_selected_design': True,\n",
       " 'reuse_setup': True,\n",
       " 'freq_ghz': '5.34',\n",
       " 'save_fields': False,\n",
       " 'enabled': True,\n",
       " 'max_passes': 10,\n",
       " 'min_passes': 2,\n",
       " 'min_converged_passes': 2,\n",
       " 'percent_error': 0.5,\n",
       " 'percent_refinement': 30,\n",
       " 'auto_increase_solution_order': 'False',\n",
       " 'solution_order': 'Medium',\n",
       " 'solver_type': 'Iterative'}"
      ]
     },
     "execution_count": 18,
     "metadata": {},
     "output_type": "execute_result"
    }
   ],
   "source": [
    "c1.sim.setup.max_passes = 10\n",
    "c1.sim.setup_update(freq_ghz='5.34',solution_order = 'Medium', auto_increase_solution_order = 'False')\n",
    "c1.sim.setup"
   ]
  },
  {
   "cell_type": "code",
   "execution_count": 20,
   "metadata": {},
   "outputs": [
    {
     "name": "stderr",
     "output_type": "stream",
     "text": [
      "INFO 09:06AM [get_matrix]: Exporting matrix data to (C:\\Users\\kimje\\AppData\\Local\\Temp\\tmpiig5kcm7.txt, C, , Setup:LastAdaptive, \"Original\", \"ohm\", \"nH\", \"fF\", \"mSie\", 5340000000, Maxwell, 1, False\n",
      "INFO 09:06AM [get_matrix]: Exporting matrix data to (C:\\Users\\kimje\\AppData\\Local\\Temp\\tmp_jx6x07u.txt, C, , Setup:AdaptivePass, \"Original\", \"ohm\", \"nH\", \"fF\", \"mSie\", 5340000000, Maxwell, 1, False\n",
      "INFO 09:06AM [get_matrix]: Exporting matrix data to (C:\\Users\\kimje\\AppData\\Local\\Temp\\tmpol4v0d68.txt, C, , Setup:AdaptivePass, \"Original\", \"ohm\", \"nH\", \"fF\", \"mSie\", 5340000000, Maxwell, 2, False\n",
      "INFO 09:06AM [get_matrix]: Exporting matrix data to (C:\\Users\\kimje\\AppData\\Local\\Temp\\tmpcm79k0_5.txt, C, , Setup:AdaptivePass, \"Original\", \"ohm\", \"nH\", \"fF\", \"mSie\", 5340000000, Maxwell, 3, False\n",
      "INFO 09:06AM [get_matrix]: Exporting matrix data to (C:\\Users\\kimje\\AppData\\Local\\Temp\\tmpxt28hozt.txt, C, , Setup:AdaptivePass, \"Original\", \"ohm\", \"nH\", \"fF\", \"mSie\", 5340000000, Maxwell, 4, False\n",
      "INFO 09:06AM [get_matrix]: Exporting matrix data to (C:\\Users\\kimje\\AppData\\Local\\Temp\\tmpo9l85yao.txt, C, , Setup:AdaptivePass, \"Original\", \"ohm\", \"nH\", \"fF\", \"mSie\", 5340000000, Maxwell, 5, False\n",
      "INFO 09:06AM [get_matrix]: Exporting matrix data to (C:\\Users\\kimje\\AppData\\Local\\Temp\\tmp70fb1it_.txt, C, , Setup:AdaptivePass, \"Original\", \"ohm\", \"nH\", \"fF\", \"mSie\", 5340000000, Maxwell, 6, False\n",
      "INFO 09:06AM [get_matrix]: Exporting matrix data to (C:\\Users\\kimje\\AppData\\Local\\Temp\\tmpjgi5mkxr.txt, C, , Setup:AdaptivePass, \"Original\", \"ohm\", \"nH\", \"fF\", \"mSie\", 5340000000, Maxwell, 7, False\n",
      "INFO 09:06AM [get_matrix]: Exporting matrix data to (C:\\Users\\kimje\\AppData\\Local\\Temp\\tmpwigqlen8.txt, C, , Setup:AdaptivePass, \"Original\", \"ohm\", \"nH\", \"fF\", \"mSie\", 5340000000, Maxwell, 8, False\n",
      "INFO 09:06AM [get_matrix]: Exporting matrix data to (C:\\Users\\kimje\\AppData\\Local\\Temp\\tmplpq4wstd.txt, C, , Setup:AdaptivePass, \"Original\", \"ohm\", \"nH\", \"fF\", \"mSie\", 5340000000, Maxwell, 9, False\n",
      "INFO 09:06AM [get_matrix]: Exporting matrix data to (C:\\Users\\kimje\\AppData\\Local\\Temp\\tmpuyg7hiq5.txt, C, , Setup:AdaptivePass, \"Original\", \"ohm\", \"nH\", \"fF\", \"mSie\", 5340000000, Maxwell, 10, False\n",
      "INFO 09:06AM [get_matrix]: Exporting matrix data to (C:\\Users\\kimje\\AppData\\Local\\Temp\\tmpa1p7ka3e.txt, C, , Setup:AdaptivePass, \"Original\", \"ohm\", \"nH\", \"fF\", \"mSie\", 5340000000, Maxwell, 11, False\n"
     ]
    },
    {
     "data": {
      "text/html": [
       "<div>\n",
       "<style scoped>\n",
       "    .dataframe tbody tr th:only-of-type {\n",
       "        vertical-align: middle;\n",
       "    }\n",
       "\n",
       "    .dataframe tbody tr th {\n",
       "        vertical-align: top;\n",
       "    }\n",
       "\n",
       "    .dataframe thead th {\n",
       "        text-align: right;\n",
       "    }\n",
       "</style>\n",
       "<table border=\"1\" class=\"dataframe\">\n",
       "  <thead>\n",
       "    <tr style=\"text-align: right;\">\n",
       "      <th></th>\n",
       "      <th>ground</th>\n",
       "      <th>pad_bot_Q0</th>\n",
       "      <th>pad_top_Q0</th>\n",
       "      <th>quad_coupler_c0</th>\n",
       "    </tr>\n",
       "  </thead>\n",
       "  <tbody>\n",
       "    <tr>\n",
       "      <th>ground</th>\n",
       "      <td>404.440</td>\n",
       "      <td>-89.4610</td>\n",
       "      <td>-56.237</td>\n",
       "      <td>-198.3100</td>\n",
       "    </tr>\n",
       "    <tr>\n",
       "      <th>pad_bot_Q0</th>\n",
       "      <td>-89.461</td>\n",
       "      <td>127.6200</td>\n",
       "      <td>-36.223</td>\n",
       "      <td>-0.8494</td>\n",
       "    </tr>\n",
       "    <tr>\n",
       "      <th>pad_top_Q0</th>\n",
       "      <td>-56.237</td>\n",
       "      <td>-36.2230</td>\n",
       "      <td>127.590</td>\n",
       "      <td>-34.0580</td>\n",
       "    </tr>\n",
       "    <tr>\n",
       "      <th>quad_coupler_c0</th>\n",
       "      <td>-198.310</td>\n",
       "      <td>-0.8494</td>\n",
       "      <td>-34.058</td>\n",
       "      <td>234.4200</td>\n",
       "    </tr>\n",
       "  </tbody>\n",
       "</table>\n",
       "</div>"
      ],
      "text/plain": [
       "                  ground  pad_bot_Q0  pad_top_Q0  quad_coupler_c0\n",
       "ground           404.440    -89.4610     -56.237        -198.3100\n",
       "pad_bot_Q0       -89.461    127.6200     -36.223          -0.8494\n",
       "pad_top_Q0       -56.237    -36.2230     127.590         -34.0580\n",
       "quad_coupler_c0 -198.310     -0.8494     -34.058         234.4200"
      ]
     },
     "execution_count": 20,
     "metadata": {},
     "output_type": "execute_result"
    }
   ],
   "source": [
    "#c1.sim.run(components=['Q0','c0'], open_terminations=[('c0', 'in')])\n",
    "c1.sim._get_results_from_renderer()\n",
    "c1.sim.capacitance_matrix"
   ]
  },
  {
   "cell_type": "code",
   "execution_count": 21,
   "metadata": {},
   "outputs": [
    {
     "name": "stdout",
     "output_type": "stream",
     "text": [
      "[1, 2] [3]\n",
      "Predicted Values\n",
      "\n",
      "Transmon Properties\n",
      "f_Q 5.011393 [GHz]\n",
      "EC 232.328386 [MHz]\n",
      "EJ 14.854145 [GHz]\n",
      "alpha -261.659727 [MHz]\n",
      "dispersion 0.927780 [KHz]\n",
      "Lq 10.995564 [nH]\n",
      "Cq 83.374350 [fF]\n",
      "T1 29.443471 [us]\n",
      "\n",
      "**Coupling Properties**\n",
      "\n",
      "tCqbus1 -16.605788 [fF]\n",
      "gbus1_in_MHz -209.421154 [MHz]\n",
      "χ_bus1 -5.291532 [MHz]\n",
      "1/T1bus1 5405.440974 [Hz]\n",
      "T1bus1 29.443471 [us]\n",
      "Bus-Bus Couplings\n"
     ]
    },
    {
     "data": {
      "text/html": [
       "<div>\n",
       "<style scoped>\n",
       "    .dataframe tbody tr th:only-of-type {\n",
       "        vertical-align: middle;\n",
       "    }\n",
       "\n",
       "    .dataframe tbody tr th {\n",
       "        vertical-align: top;\n",
       "    }\n",
       "\n",
       "    .dataframe thead th {\n",
       "        text-align: right;\n",
       "    }\n",
       "</style>\n",
       "<table border=\"1\" class=\"dataframe\">\n",
       "  <thead>\n",
       "    <tr style=\"text-align: right;\">\n",
       "      <th></th>\n",
       "      <th>fQ</th>\n",
       "      <th>EC</th>\n",
       "      <th>EJ</th>\n",
       "      <th>alpha</th>\n",
       "      <th>dispersion</th>\n",
       "      <th>gbus</th>\n",
       "      <th>chi_in_MHz</th>\n",
       "      <th>χr MHz</th>\n",
       "      <th>gr MHz</th>\n",
       "    </tr>\n",
       "  </thead>\n",
       "  <tbody>\n",
       "    <tr>\n",
       "      <th>1</th>\n",
       "      <td>5.45524</td>\n",
       "      <td>277.994685</td>\n",
       "      <td>14.854145</td>\n",
       "      <td>-317.483322</td>\n",
       "      <td>6.085123</td>\n",
       "      <td>[-17.528592738611042]</td>\n",
       "      <td>[-0.06910887223576853]</td>\n",
       "      <td>0.069109</td>\n",
       "      <td>17.528593</td>\n",
       "    </tr>\n",
       "    <tr>\n",
       "      <th>2</th>\n",
       "      <td>5.219142</td>\n",
       "      <td>253.131491</td>\n",
       "      <td>14.854145</td>\n",
       "      <td>-286.924756</td>\n",
       "      <td>2.329862</td>\n",
       "      <td>[-288.2628178529002]</td>\n",
       "      <td>[-13.276199247251483]</td>\n",
       "      <td>13.276199</td>\n",
       "      <td>288.262818</td>\n",
       "    </tr>\n",
       "    <tr>\n",
       "      <th>3</th>\n",
       "      <td>5.147176</td>\n",
       "      <td>245.812161</td>\n",
       "      <td>14.854145</td>\n",
       "      <td>-278.004046</td>\n",
       "      <td>1.708107</td>\n",
       "      <td>[-283.4945954260936]</td>\n",
       "      <td>[-11.628422742087766]</td>\n",
       "      <td>11.628423</td>\n",
       "      <td>283.494595</td>\n",
       "    </tr>\n",
       "    <tr>\n",
       "      <th>4</th>\n",
       "      <td>5.153406</td>\n",
       "      <td>246.44099</td>\n",
       "      <td>14.854145</td>\n",
       "      <td>-278.769112</td>\n",
       "      <td>1.755239</td>\n",
       "      <td>[-272.2621160297716]</td>\n",
       "      <td>[-10.816763521575563]</td>\n",
       "      <td>10.816764</td>\n",
       "      <td>272.262116</td>\n",
       "    </tr>\n",
       "    <tr>\n",
       "      <th>5</th>\n",
       "      <td>5.117524</td>\n",
       "      <td>242.83126</td>\n",
       "      <td>14.854145</td>\n",
       "      <td>-274.380761</td>\n",
       "      <td>1.499155</td>\n",
       "      <td>[-241.29577259690348]</td>\n",
       "      <td>[-8.091868877602495]</td>\n",
       "      <td>8.091869</td>\n",
       "      <td>241.295773</td>\n",
       "    </tr>\n",
       "    <tr>\n",
       "      <th>6</th>\n",
       "      <td>5.081003</td>\n",
       "      <td>239.187885</td>\n",
       "      <td>14.854145</td>\n",
       "      <td>-269.959941</td>\n",
       "      <td>1.273887</td>\n",
       "      <td>[-224.82396163188716]</td>\n",
       "      <td>[-6.688113797164824]</td>\n",
       "      <td>6.688114</td>\n",
       "      <td>224.823962</td>\n",
       "    </tr>\n",
       "    <tr>\n",
       "      <th>7</th>\n",
       "      <td>5.053399</td>\n",
       "      <td>236.454411</td>\n",
       "      <td>14.854145</td>\n",
       "      <td>-266.648748</td>\n",
       "      <td>1.124584</td>\n",
       "      <td>[-216.9672811838336]</td>\n",
       "      <td>[-6.003783303643699]</td>\n",
       "      <td>6.003783</td>\n",
       "      <td>216.967281</td>\n",
       "    </tr>\n",
       "    <tr>\n",
       "      <th>8</th>\n",
       "      <td>5.03657</td>\n",
       "      <td>234.796508</td>\n",
       "      <td>14.854145</td>\n",
       "      <td>-264.642773</td>\n",
       "      <td>1.041573</td>\n",
       "      <td>[-213.37559905702463]</td>\n",
       "      <td>[-5.678586550659205]</td>\n",
       "      <td>5.678587</td>\n",
       "      <td>213.375599</td>\n",
       "    </tr>\n",
       "    <tr>\n",
       "      <th>9</th>\n",
       "      <td>5.02644</td>\n",
       "      <td>233.801765</td>\n",
       "      <td>14.854145</td>\n",
       "      <td>-263.440028</td>\n",
       "      <td>0.994343</td>\n",
       "      <td>[-211.90849172047288]</td>\n",
       "      <td>[-5.526349804602084]</td>\n",
       "      <td>5.526350</td>\n",
       "      <td>211.908492</td>\n",
       "    </tr>\n",
       "    <tr>\n",
       "      <th>10</th>\n",
       "      <td>5.011393</td>\n",
       "      <td>232.328386</td>\n",
       "      <td>14.854145</td>\n",
       "      <td>-261.659727</td>\n",
       "      <td>0.92778</td>\n",
       "      <td>[-209.4211544040327]</td>\n",
       "      <td>[-5.291531804572647]</td>\n",
       "      <td>5.291532</td>\n",
       "      <td>209.421154</td>\n",
       "    </tr>\n",
       "  </tbody>\n",
       "</table>\n",
       "</div>"
      ],
      "text/plain": [
       "          fQ          EC         EJ       alpha dispersion  \\\n",
       "1    5.45524  277.994685  14.854145 -317.483322   6.085123   \n",
       "2   5.219142  253.131491  14.854145 -286.924756   2.329862   \n",
       "3   5.147176  245.812161  14.854145 -278.004046   1.708107   \n",
       "4   5.153406   246.44099  14.854145 -278.769112   1.755239   \n",
       "5   5.117524   242.83126  14.854145 -274.380761   1.499155   \n",
       "6   5.081003  239.187885  14.854145 -269.959941   1.273887   \n",
       "7   5.053399  236.454411  14.854145 -266.648748   1.124584   \n",
       "8    5.03657  234.796508  14.854145 -264.642773   1.041573   \n",
       "9    5.02644  233.801765  14.854145 -263.440028   0.994343   \n",
       "10  5.011393  232.328386  14.854145 -261.659727    0.92778   \n",
       "\n",
       "                     gbus              chi_in_MHz     χr MHz      gr MHz  \n",
       "1   [-17.528592738611042]  [-0.06910887223576853]   0.069109   17.528593  \n",
       "2    [-288.2628178529002]   [-13.276199247251483]  13.276199  288.262818  \n",
       "3    [-283.4945954260936]   [-11.628422742087766]  11.628423  283.494595  \n",
       "4    [-272.2621160297716]   [-10.816763521575563]  10.816764  272.262116  \n",
       "5   [-241.29577259690348]    [-8.091868877602495]   8.091869  241.295773  \n",
       "6   [-224.82396163188716]    [-6.688113797164824]   6.688114  224.823962  \n",
       "7    [-216.9672811838336]    [-6.003783303643699]   6.003783  216.967281  \n",
       "8   [-213.37559905702463]    [-5.678586550659205]   5.678587  213.375599  \n",
       "9   [-211.90849172047288]    [-5.526349804602084]   5.526350  211.908492  \n",
       "10   [-209.4211544040327]    [-5.291531804572647]   5.291532  209.421154  "
      ]
     },
     "execution_count": 21,
     "metadata": {},
     "output_type": "execute_result"
    }
   ],
   "source": [
    "c1.setup.junctions = Dict({'Lj': 11, 'Cj': 2})\n",
    "c1.setup.freq_readout = 7.00\n",
    "c1.setup.freq_bus = []\n",
    "c1.run_lom()\n",
    "c1.lumped_oscillator_all"
   ]
  },
  {
   "cell_type": "code",
   "execution_count": 22,
   "metadata": {},
   "outputs": [
    {
     "name": "stdout",
     "output_type": "stream",
     "text": [
      "Warning! 3 COM references still alive\n",
      "Ansys will likely refuse to shut down\n"
     ]
    }
   ],
   "source": [
    "c1.sim.close()"
   ]
  },
  {
   "cell_type": "code",
   "execution_count": null,
   "metadata": {},
   "outputs": [],
   "source": []
  }
 ],
 "metadata": {
  "kernelspec": {
   "display_name": "Python 3.9.10 ('metal')",
   "language": "python",
   "name": "python3"
  },
  "language_info": {
   "codemirror_mode": {
    "name": "ipython",
    "version": 3
   },
   "file_extension": ".py",
   "mimetype": "text/x-python",
   "name": "python",
   "nbconvert_exporter": "python",
   "pygments_lexer": "ipython3",
   "version": "3.9.10"
  },
  "orig_nbformat": 4,
  "vscode": {
   "interpreter": {
    "hash": "ac951534856e2c23f9f162419ca8ae29ffbc7967cf243c458d1cebaa12df0b5c"
   }
  }
 },
 "nbformat": 4,
 "nbformat_minor": 2
}
