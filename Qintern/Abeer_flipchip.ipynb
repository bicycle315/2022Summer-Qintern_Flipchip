{
 "cells": [
  {
   "cell_type": "code",
   "execution_count": 1,
   "metadata": {},
   "outputs": [],
   "source": [
    "import warnings\n",
    "warnings.filterwarnings(\"ignore\")\n",
    "\n",
    "%load_ext autoreload\n",
    "%autoreload 2\n"
   ]
  },
  {
   "cell_type": "code",
   "execution_count": 4,
   "metadata": {},
   "outputs": [],
   "source": [
    "from qiskit_metal import Dict, MetalGUI, designs\n",
    "from qiskit_metal.qlibrary.qubits.transmon_cross import TransmonCross\n",
    "from qiskit_metal.qlibrary.qubits.transmon_pocket import TransmonPocket\n",
    "from qiskit_metal.qlibrary.tlines.meandered import RouteMeander\n",
    "from qiskit_metal.qlibrary.tlines.straight_path import RouteStraight\n",
    "from qiskit_metal.qlibrary.terminations.launchpad_wb_coupled import LaunchpadWirebondCoupled\n",
    "from qiskit_metal.qlibrary.couplers.coupled_line_tee import CoupledLineTee"
   ]
  },
  {
   "cell_type": "code",
   "execution_count": 3,
   "metadata": {},
   "outputs": [],
   "source": [
    "design = designs.DesignFlipChip({}, overwrite_enabled=True)\n",
    "\n",
    "# Uncomment to launch Qiskit Metal GUI\n",
    "gui = MetalGUI(design)"
   ]
  },
  {
   "cell_type": "code",
   "execution_count": 6,
   "metadata": {},
   "outputs": [],
   "source": [
    "# Design variables\n",
    "center_x =0\n",
    "center_y =0\n",
    "x = 0.6875+0.650 # qubit x spacing\n",
    "y = 2.7+0.650 # qubit y spacing\n"
   ]
  },
  {
   "cell_type": "code",
   "execution_count": 25,
   "metadata": {},
   "outputs": [],
   "source": [
    "connection_pads_l= dict(c = dict(loc_W=1, loc_H=-1, pad_width='120um'),\n",
    "                       a  = dict(loc_W=-1, loc_H=+1, pad_width='120um'),\n",
    "                       b = dict(loc_W = -1, loc_H = -1, pad_width='120um', pocket_rise='100um'))\n",
    "q5=[TransmonPocket(design,'Q5', options=dict(pos_x=f\"{center_x-2*x}mm\",\n",
    "                                                    pos_y=f\"{center_y-y/2}\",\n",
    "                                                    chip=\"Q_chip\",\n",
    "                                               connection_pads=connection_pads_l))]                                    \n",
    "gui.rebuild()\n",
    "gui.autoscale()"
   ]
  },
  {
   "cell_type": "code",
   "execution_count": 4,
   "metadata": {},
   "outputs": [],
   "source": [
    "from qiskit_metal.qlibrary.terminations.open_to_ground import OpenToGround\n",
    "from qiskit_metal.qlibrary.tlines.meandered import RouteMeander\n",
    "open_start_options = Dict(pos_x='000um',\n",
    "                         pos_y='0um',\n",
    "                         orientation = '-90')\n",
    "\n",
    "open_start_meander = OpenToGround(design,'Open_meander_start',options=open_start_options)\n",
    "\n",
    "\n",
    "\n",
    "\n",
    "\n",
    "open_end_options = Dict(pos_x='000um',\n",
    "                        pos_y='1500um',\n",
    "                        orientation='90',\n",
    "                        termination_gap='10um')\n",
    "\n",
    "open_end_meander = OpenToGround(design,'Open_meander_end',options=open_end_options)"
   ]
  },
  {
   "cell_type": "code",
   "execution_count": 5,
   "metadata": {},
   "outputs": [
    {
     "name": "stderr",
     "output_type": "stream",
     "text": [
      "05:09PM 40s WARNING [check_lengths]: For path table, component=meanderTest, key=trace has short segments that could cause issues with fillet. Values in (1-1)  are index(es) in shapely geometry.\n",
      "05:09PM 40s WARNING [check_lengths]: For path table, component=meanderTest, key=cut has short segments that could cause issues with fillet. Values in (1-1)  are index(es) in shapely geometry.\n",
      "05:09PM 40s WARNING [check_lengths]: For path table, component=meanderTest, key=trace has short segments that could cause issues with fillet. Values in (1-1)  are index(es) in shapely geometry.\n",
      "05:09PM 40s WARNING [check_lengths]: For path table, component=meanderTest, key=cut has short segments that could cause issues with fillet. Values in (1-1)  are index(es) in shapely geometry.\n"
     ]
    }
   ],
   "source": [
    "meander_options = Dict(pin_inputs=Dict(start_pin=Dict(\n",
    "                                            component='Open_meander_start',\n",
    "                                            pin='open'),\n",
    "                                        end_pin=Dict(\n",
    "                                            component='Open_meander_end',\n",
    "                                            pin='open')\n",
    "                                        ),\n",
    "                      total_length='7mm',\n",
    "                      meander=Dict(asymmetry='-5mm'),\n",
    "                      fillet='99.99um')\n",
    "\n",
    "testMeander = RouteMeander(design,'meanderTest',options=meander_options)\n",
    "gui.rebuild()\n",
    "gui.autoscale()\n",
    "gui.zoom_on_components([testMeander.name, open_start_meander.name, open_end_meander.name])"
   ]
  },
  {
   "cell_type": "code",
   "execution_count": 6,
   "metadata": {},
   "outputs": [],
   "source": [
    "# Design variables\n",
    "center_x = center_y = 0\n",
    "qubit_spacing_x = 2\n",
    "qubit_spacing_y = 4\n",
    "offset = qubit_spacing_x//2\n",
    "\n",
    "feed_x = qubit_spacing_x*1.5\n",
    "design.delete_all_components()"
   ]
  },
  {
   "cell_type": "code",
   "execution_count": 7,
   "metadata": {},
   "outputs": [],
   "source": [
    "# Qubits\n",
    "conn_pad = dict(connector_type=\"0\",\n",
    "               claw_length=\"100um\",\n",
    "               claw_width=\"15um\")\n",
    "\n",
    "q1 = [TransmonCross(design, \"Q1\", options=dict(pos_x=f\"{center_x-qubit_spacing_x//2 - offset}mm\",\n",
    "                                               pos_y=f\"{center_y-qubit_spacing_y//2}mm\",\n",
    "                                               chip=\"Q_chip\",\n",
    "                                               cross_width=\"40um\"))]\n",
    "\n",
    "q2 = [TransmonCross(design, \"Q2\", options=dict(pos_x=f\"{center_x+qubit_spacing_x//2 - offset}mm\",\n",
    "                                               pos_y=f\"{center_y-qubit_spacing_y//2}mm\",\n",
    "                                               chip=\"Q_chip\",\n",
    "                                               cross_width=\"40um\"))]\n",
    "\n",
    "q3 = [TransmonCross(design, \"Q3\", options=dict(pos_x=f\"{center_x-qubit_spacing_x//2}mm\",\n",
    "                                               pos_y=f\"{center_y+qubit_spacing_y//2}mm\",\n",
    "                                               chip=\"Q_chip\",\n",
    "                                               cross_width=\"40um\",\n",
    "                                               orientation=\"180\"))]\n",
    "\n",
    "q4 = [TransmonCross(design, \"Q4\", options=dict(pos_x=f\"{center_x+qubit_spacing_x//2}mm\",\n",
    "                                               pos_y=f\"{center_y+qubit_spacing_y//2}mm\",\n",
    "                                               chip=\"Q_chip\",\n",
    "                                               cross_width=\"40um\",\n",
    "                                               orientation=\"180\"))]\n",
    "\n",
    "qubits = [q1, q2, q3, q4]\n",
    "\n",
    "# Uncomment when not using GUI, comment otherwise\n",
    "design.rebuild()\n",
    "gui.rebuild()\n",
    "gui.autoscale()"
   ]
  },
  {
   "cell_type": "code",
   "execution_count": 8,
   "metadata": {},
   "outputs": [],
   "source": [
    "# Launchpads\n",
    "lwc_left = LaunchpadWirebondCoupled(design, \"lwc_left\",\n",
    "                                    options=dict(pos_x=f\"-{feed_x}mm\",\n",
    "                                                 pos_y=\"0mm\",\n",
    "                                                 chip=\"C_chip\"))\n",
    "\n",
    "lwc_right = LaunchpadWirebondCoupled(design, \"lwc_right\",\n",
    "                                     options=dict(pos_x=f\"{feed_x-offset}mm\",\n",
    "                                                  pos_y=\"0mm\",\n",
    "                                                  chip=\"C_chip\",\n",
    "                                                  orientation=\"180\"))\n",
    "\n",
    "# Uncomment when not using GUI, comment otherwise\n",
    "design.rebuild()\n",
    "\n",
    "# Uncomment when using GUI, comment otherwise\n",
    "# gui.rebuild()\n",
    "# gui.autoscale()"
   ]
  },
  {
   "cell_type": "code",
   "execution_count": 9,
   "metadata": {},
   "outputs": [],
   "source": [
    "# Coupled line tee\n",
    "clt1 = CoupledLineTee(design, \"clt1\", options=dict(pos_x=f\"{center_x-qubit_spacing_x//2-offset}\", chip=\"C_chip\",))\n",
    "clt2 = CoupledLineTee(design, \"clt2\", options=dict(pos_x=f\"{center_x-qubit_spacing_x//2}\", chip=\"C_chip\", orientation=\"180\"))\n",
    "clt3 = CoupledLineTee(design, \"clt3\", options=dict(pos_x=f\"{center_x+qubit_spacing_x//2-offset}\", chip=\"C_chip\",))\n",
    "clt4 = CoupledLineTee(design, \"clt4\", options=dict(pos_x=f\"{center_x+qubit_spacing_x//2}\", chip=\"C_chip\", orientation=\"180\"))\n",
    "\n",
    "# Uncomment when not using GUI, comment otherwise\n",
    "design.rebuild()\n",
    "\n",
    "# Uncomment when using GUI, comment otherwise\n",
    "# gui.rebuild()\n",
    "# gui.autoscale()"
   ]
  },
  {
   "cell_type": "code",
   "execution_count": 10,
   "metadata": {},
   "outputs": [],
   "source": [
    "# Transmission lines\n",
    "fl1 = RouteStraight(design, \"fl1\", options=dict(\n",
    "                                        pin_inputs=dict(\n",
    "                                            start_pin=dict(component=\"lwc_left\", pin=\"tie\"),\n",
    "                                            end_pin=dict(component=\"clt1\", pin=\"prime_start\")\n",
    "                                        ),\n",
    "                                        chip=\"C_chip\"))\n",
    "                    \n",
    "fl2 = RouteStraight(design, \"fl2\", options=dict(\n",
    "                                        pin_inputs=dict(\n",
    "                                            start_pin=dict(component=\"clt1\", pin=\"prime_end\"),\n",
    "                                            end_pin=dict(component=\"clt2\", pin=\"prime_end\")\n",
    "                                        ),\n",
    "                                        chip=\"C_chip\"))\n",
    "\n",
    "fl3 = RouteStraight(design, \"fl3\", options=dict(\n",
    "                                        pin_inputs=dict(\n",
    "                                            start_pin=dict(component=\"clt2\", pin=\"prime_start\"),\n",
    "                                            end_pin=dict(component=\"clt3\", pin=\"prime_start\")\n",
    "                                        ),\n",
    "                                        chip=\"C_chip\"))\n",
    "\n",
    "fl4 = RouteStraight(design, \"fl4\", options=dict(\n",
    "                                        pin_inputs=dict(\n",
    "                                            start_pin=dict(component=\"clt3\", pin=\"prime_end\"),\n",
    "                                            end_pin=dict(component=\"clt4\", pin=\"prime_end\")\n",
    "                                        ),\n",
    "                                        chip=\"C_chip\"))\n",
    "\n",
    "fl5 = RouteStraight(design, \"fl5\", options=dict(\n",
    "                                        pin_inputs=dict(\n",
    "                                            start_pin=dict(component=\"clt4\", pin=\"prime_start\"),\n",
    "                                            end_pin=dict(component=\"lwc_right\", pin=\"tie\")\n",
    "                                        ),\n",
    "                                        chip=\"C_chip\"))\n",
    "\n",
    "# Uncomment when not using GUI, comment otherwise\n",
    "design.rebuild()\n",
    "\n",
    "# Uncomment when using GUI, comment otherwise\n",
    "gui.rebuild()\n",
    "gui.autoscale()"
   ]
  },
  {
   "cell_type": "code",
   "execution_count": 11,
   "metadata": {},
   "outputs": [],
   "source": [
    "# Readout couplers\n",
    "from qiskit_metal.qlibrary.user_components.quad_coupler import QuadCoupler\n",
    "\n",
    "qc1 = QuadCoupler(design, \"qc1\", options=dict(pos_x=f\"{center_x-qubit_spacing_x/2-offset}mm\",\n",
    "                                              pos_y=f\"{center_y-qubit_spacing_y/2+0.18}mm\",\n",
    "                                              pad_width=\"60um\",\n",
    "                                              pad_height=\"80um\",\n",
    "                                              orientation=\"180\",\n",
    "                                              chip=\"C_chip\"))\n",
    "\n",
    "qc2 = QuadCoupler(design, \"qc2\", options=dict(pos_x=f\"{center_x+qubit_spacing_x/2-offset}mm\",\n",
    "                                              pos_y=f\"{center_y-qubit_spacing_y/2+0.18}mm\",\n",
    "                                              pad_width=\"60um\",\n",
    "                                              pad_height=\"80um\",\n",
    "                                              orientation=\"180\",\n",
    "                                              chip=\"C_chip\"))\n",
    "\n",
    "qc3 = QuadCoupler(design, \"qc3\", options=dict(pos_x=f\"{center_x-qubit_spacing_x/2}mm\",\n",
    "                                              pos_y=f\"{center_y+qubit_spacing_y/2-0.18}mm\",\n",
    "                                              pad_width=\"60um\",\n",
    "                                              pad_height=\"80um\",\n",
    "                                              chip=\"C_chip\"))\n",
    "\n",
    "qc4 = QuadCoupler(design, \"qc4\", options=dict(pos_x=f\"{center_x+qubit_spacing_x/2}mm\",\n",
    "                                              pos_y=f\"{center_y+qubit_spacing_y/2-0.18}mm\",\n",
    "                                              pad_width=\"60um\",\n",
    "                                              pad_height=\"80um\",\n",
    "                                              chip=\"C_chip\"))\n",
    "\n",
    "# Uncomment when not using GUI, comment otherwise\n",
    "design.rebuild()\n",
    "\n",
    "# Uncomment when using GUI, comment otherwise\n",
    "gui.rebuild()\n",
    "gui.autoscale()"
   ]
  },
  {
   "cell_type": "code",
   "execution_count": null,
   "metadata": {},
   "outputs": [],
   "source": [
    "# Meandered readouts\n",
    "coup_opts = dict(\n",
    "    chip=\"C_chip\",\n",
    "    fillet=\"99.99um\",\n",
    "    lead = dict(start_straight=\"200um\")\n",
    ")\n",
    "\n",
    "ro1 = RouteMeander(design, \"ro1\", options=dict(\n",
    "                                            pin_inputs=dict(\n",
    "                                                start_pin=dict(component=\"qc1\", pin=\"in\"),\n",
    "                                                end_pin=dict(component=\"clt1\", pin=\"second_end\"),\n",
    "                                            ),\n",
    "                                            **coup_opts))\n",
    "\n",
    "ro2 = RouteMeander(design, \"ro2\", options=dict(\n",
    "                                            pin_inputs=dict(\n",
    "                                                end_pin=dict(component=\"qc2\", pin=\"in\"),\n",
    "                                                start_pin=dict(component=\"clt3\", pin=\"second_end\"),\n",
    "                                            ),\n",
    "                                            **coup_opts))\n",
    "\n",
    "ro3 = RouteMeander(design, \"ro3\", options=dict(\n",
    "                                            pin_inputs=dict(\n",
    "                                                start_pin=dict(component=\"qc3\", pin=\"in\"),\n",
    "                                                end_pin=dict(component=\"clt2\", pin=\"second_end\"),\n",
    "                                            ),\n",
    "                                            **coup_opts))\n",
    "\n",
    "ro4 = RouteMeander(design, \"ro4\", options=dict(\n",
    "                                            pin_inputs=dict(\n",
    "                                                start_pin=dict(component=\"qc4\", pin=\"in\"),\n",
    "                                                end_pin=dict(component=\"clt4\", pin=\"second_end\"),\n",
    "                                            ),\n",
    "                                            **coup_opts))\n",
    "\n",
    "# Uncomment when not using GUI, comment otherwise\n",
    "design.rebuild()\n",
    "\n",
    "# Uncomment when using GUI, comment otherwise\n",
    "gui.rebuild()\n",
    "gui.autoscale()"
   ]
  },
  {
   "cell_type": "code",
   "execution_count": null,
   "metadata": {},
   "outputs": [],
   "source": [
    "from qiskit_metal.renderers.renderer_gmsh.gmsh_renderer import QGmshRenderer\n",
    "\n",
    "# Initialize Gmsh renderer\n",
    "gmsh_renderer = QGmshRenderer(design)\n",
    "\n",
    "# Set initial constraints for the mesh\n",
    "gmsh_renderer.options.mesh.min_size = \"5um\"\n",
    "gmsh_renderer.options.mesh.max_size = \"80um\""
   ]
  },
  {
   "cell_type": "code",
   "execution_count": null,
   "metadata": {},
   "outputs": [],
   "source": [
    "# Render the design in Gmsh\n",
    "# skip_junctions: always set to True for now\n",
    "# mesh_geoms: set to True if you want to mesh the geometries, otherwise False\n",
    "gmsh_renderer.render_design(skip_junctions=True, mesh_geoms=False)"
   ]
  },
  {
   "cell_type": "code",
   "execution_count": null,
   "metadata": {},
   "outputs": [],
   "source": [
    "# Launch the Gmsh GUI\n",
    "gmsh_renderer.launch_gui()\n",
    "\n",
    "# close the Gmsh renderer\n",
    "gmsh_renderer.close()"
   ]
  }
 ],
 "metadata": {
  "kernelspec": {
   "display_name": "Python 3.9.10 ('metal')",
   "language": "python",
   "name": "python3"
  },
  "language_info": {
   "codemirror_mode": {
    "name": "ipython",
    "version": 3
   },
   "file_extension": ".py",
   "mimetype": "text/x-python",
   "name": "python",
   "nbconvert_exporter": "python",
   "pygments_lexer": "ipython3",
   "version": "3.9.10"
  },
  "orig_nbformat": 4,
  "vscode": {
   "interpreter": {
    "hash": "ac951534856e2c23f9f162419ca8ae29ffbc7967cf243c458d1cebaa12df0b5c"
   }
  }
 },
 "nbformat": 4,
 "nbformat_minor": 2
}
