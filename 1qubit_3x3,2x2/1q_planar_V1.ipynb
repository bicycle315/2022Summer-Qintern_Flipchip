{
 "cells": [
  {
   "cell_type": "code",
   "execution_count": 1,
   "metadata": {},
   "outputs": [],
   "source": [
    "import warnings\n",
    "warnings.filterwarnings(\"ignore\")\n",
    "%load_ext autoreload\n",
    "%autoreload 2\n",
    "from qiskit_metal import Dict, MetalGUI, designs\n",
    "\n",
    "from qiskit_metal.qlibrary.qubits.transmon_pocket import TransmonPocket\n",
    "from qiskit_metal.qlibrary.qubits.transmon_pocket_6 import TransmonPocket6\n",
    "from qiskit_metal.qlibrary.tlines.meandered import RouteMeander\n",
    "from qiskit_metal.qlibrary.tlines.straight_path import RouteStraight\n",
    "from qiskit_metal.qlibrary.terminations.launchpad_wb_coupled import LaunchpadWirebondCoupled\n",
    "from qiskit_metal.qlibrary.terminations.short_to_ground import ShortToGround\n",
    "from qiskit_metal.qlibrary.couplers.coupled_line_tee import CoupledLineTee\n",
    "from qiskit_metal.qlibrary.user_components.left_coupler import LeftCoupler\n",
    "from qiskit_metal.qlibrary.user_components.right_coupler import RightCoupler\n",
    "from qiskit_metal.qlibrary.user_components.straightdown_coupler import StraightDownCoupler\n",
    "from qiskit_metal.qlibrary.user_components.straightup_coupler import StraightUpCoupler"
   ]
  },
  {
   "cell_type": "code",
   "execution_count": 2,
   "metadata": {},
   "outputs": [],
   "source": [
    "design = designs.DesignPlanar({}, overwrite_enabled=True)\n",
    "gui = MetalGUI(design)\n",
    "design.chips.main.size['size_x']='3mm'\n",
    "design.chips.main.size['size_y']='3mm'"
   ]
  },
  {
   "cell_type": "code",
   "execution_count": 18,
   "metadata": {},
   "outputs": [
    {
     "data": {
      "text/plain": [
       "{'main': {'material': 'silicon',\n",
       "  'layer_start': '0',\n",
       "  'layer_end': '2048',\n",
       "  'size': {'center_x': '0.0mm',\n",
       "   'center_y': '0.0mm',\n",
       "   'center_z': '0.0mm',\n",
       "   'size_x': '2mm',\n",
       "   'size_y': '2mm',\n",
       "   'size_z': '-750um',\n",
       "   'sample_holder_top': '890um',\n",
       "   'sample_holder_bottom': '1650um'}}}"
      ]
     },
     "execution_count": 18,
     "metadata": {},
     "output_type": "execute_result"
    }
   ],
   "source": [
    "design.chips"
   ]
  },
  {
   "cell_type": "code",
   "execution_count": 22,
   "metadata": {},
   "outputs": [],
   "source": [
    "\n",
    "cp0 = dict(down = dict(loc_W=1, loc_H=-1, pad_width='120um'))\n",
    "q0=[TransmonPocket6(design, 'Q0', options=dict(pos_x='-300um',\n",
    "                                            pos_y='-500um',\n",
    "                                            chip='main'))]\n",
    "                                            \n",
    "qubits=q0\n",
    "q0x=float(qubits[0].options.pos_x.strip('um'))\n",
    "q0y=float(qubits[0].options.pos_y.strip('um'))\n",
    "\n",
    "\n",
    "c0 = StraightUpCoupler(design, \"c0\", options=dict(pos_x=f\"{q0x-150}um\",\n",
    "                                              pos_y=f\"{q0y+140}um\",\n",
    "                                              pad_width=\"150um\",\n",
    "                                              pad_height=\"50um\",\n",
    "                                              cpw_stub_height=\"200um\",\n",
    "                                              chip=\"main\"))\n",
    "design.rebuild()\n",
    "gui.rebuild()\n",
    "gui.autoscale()"
   ]
  },
  {
   "cell_type": "code",
   "execution_count": 23,
   "metadata": {},
   "outputs": [],
   "source": [
    "lpL=LaunchpadWirebondCoupled(design, 'lpL',\n",
    "                                         options = dict(chip=\"main\",\n",
    "                                         pos_x = '-700um',\n",
    "                                         pos_y = '800um',\n",
    "                                         lead_length = '30um'))\n",
    "lpR=LaunchpadWirebondCoupled(design, 'lpR',\n",
    "                                         options = dict(chip=\"main\",\n",
    "                                         pos_x = '700um',\n",
    "                                         pos_y = '800um',\n",
    "                                         orientation='180',\n",
    "                                         lead_length = '30um'))                                        "
   ]
  },
  {
   "cell_type": "code",
   "execution_count": 24,
   "metadata": {},
   "outputs": [],
   "source": [
    "stg=ShortToGround(design, 'stg', options=Dict(chip=\"main\",\n",
    "                                                pos_x='0.65mm',\n",
    "                                                pos_y='-0.2mm',\n",
    "                                                orientation='270'))"
   ]
  },
  {
   "cell_type": "code",
   "execution_count": 25,
   "metadata": {},
   "outputs": [],
   "source": [
    "fl0=RouteStraight(design, 'fl0',options=Dict(chip=\"main\", pin_inputs=Dict(start_pin=Dict(\n",
    "                                                            component='lpL',\n",
    "                                                            pin='tie'),\n",
    "                                                            end_pin=Dict(\n",
    "                                                            component='lpR',\n",
    "                                                            pin='tie'))))\n"
   ]
  },
  {
   "cell_type": "markdown",
   "metadata": {},
   "source": [
    "# Readout resonator"
   ]
  },
  {
   "cell_type": "code",
   "execution_count": 26,
   "metadata": {},
   "outputs": [],
   "source": [
    "from collections import OrderedDict\n",
    "jogs=OrderedDict()\n",
    "def connect(component_name: str, component1: str, pin1: str, component2: str, pin2: str,\n",
    "            length: str, start_jogged_extension: OrderedDict, end_jogged_extension: OrderedDict,\n",
    "            spacing: str, asymmetry='0 um',  start_straight='0 um', end_straight='0 um', flip=False):\n",
    "    \"\"\"Connect two pins with a CPW.\"\"\"\n",
    "    myoptions = Dict(\n",
    "        chip=\"main\",\n",
    "        pin_inputs=Dict(\n",
    "            start_pin=Dict(\n",
    "                component=component1,\n",
    "                pin=pin1),\n",
    "            end_pin=Dict(\n",
    "                component=component2,\n",
    "                pin=pin2)),\n",
    "        lead=Dict(\n",
    "            start_straight=start_straight,\n",
    "            end_straight=end_straight,\n",
    "            start_jogged_extension=start_jogged_extension,\n",
    "            end_jogged_extension=end_jogged_extension),\n",
    "        total_length=length,\n",
    "        fillet = '99.9um',\n",
    "        meander=dict(asymmetry=asymmetry,\n",
    "                     spacing=spacing))\n",
    "    myoptions.meander.lead_direction_inverted = 'true' if flip else 'false'\n",
    "    return RouteMeander(design, component_name, myoptions)"
   ]
  },
  {
   "cell_type": "markdown",
   "metadata": {},
   "source": [
    "# Resonator length"
   ]
  },
  {
   "cell_type": "code",
   "execution_count": 10,
   "metadata": {},
   "outputs": [],
   "source": [
    "from qiskit_metal.analyses.em.cpw_calculations import guided_wavelength\n",
    "\n",
    "def find_resonator_length(frequency, line_width, line_gap, N): \n",
    "    [lambdaG, etfSqrt, q] = guided_wavelength(frequency*10**9, line_width*10**-6,\n",
    "                                              line_gap*10**-6, 750*10**-6, 200*10**-9)\n",
    "    return str(lambdaG/N*10**3)+\" mm\""
   ]
  },
  {
   "cell_type": "code",
   "execution_count": 30,
   "metadata": {},
   "outputs": [
    {
     "name": "stdout",
     "output_type": "stream",
     "text": [
      "[3.807562247348839]\n"
     ]
    }
   ],
   "source": [
    "resonator_length_4=[]\n",
    "a=find_resonator_length(7.5,10,6,4)\n",
    "a=a.strip('mm')\n",
    "a=float(a)-0.25 # subtract coupler length\n",
    "resonator_length_4.append(a)\n",
    "print(resonator_length_4)\n"
   ]
  },
  {
   "cell_type": "code",
   "execution_count": 39,
   "metadata": {},
   "outputs": [],
   "source": [
    "jogs1=OrderedDict()\n",
    "jogs1[0]=['R','300um']\n",
    "jogs1[1]=['R', '300um']\n",
    "jogs1[2]=['L','800um']\n",
    "jogs1[3]=['R','200um']\n",
    "jogs1[4]=['R','600um']\n",
    "jogs1[5]=['L','200um']\n",
    "jogs1[6]=['L','600um']\n"
   ]
  },
  {
   "cell_type": "code",
   "execution_count": 40,
   "metadata": {},
   "outputs": [],
   "source": [
    "rr0=connect('rr0', 'c0', 'in','stg', 'short',\n",
    "            resonator_length_4[0],jogs1,jogs, \n",
    "            '100um','0um', '918um', '100um')\n",
    "            "
   ]
  },
  {
   "cell_type": "markdown",
   "metadata": {},
   "source": [
    "# EPR Analysis"
   ]
  },
  {
   "cell_type": "code",
   "execution_count": 33,
   "metadata": {},
   "outputs": [],
   "source": [
    "from qiskit_metal.analyses.quantization import EPRanalysis\n",
    "eig_rd = EPRanalysis(design, \"hfss\")\n",
    "hfss = eig_rd.sim.renderer"
   ]
  },
  {
   "cell_type": "code",
   "execution_count": 41,
   "metadata": {},
   "outputs": [
    {
     "name": "stderr",
     "output_type": "stream",
     "text": [
      "INFO 10:57AM [connect_project]: Connecting to Ansys Desktop API...\n",
      "INFO 10:57AM [load_ansys_project]: \tOpened Ansys App\n",
      "INFO 10:57AM [load_ansys_project]: \tOpened Ansys Desktop v2018.0.0\n",
      "INFO 10:57AM [load_ansys_project]: \tOpened Ansys Project\n",
      "\tFolder:    C:/Users/kimje/Documents/Ansoft/\n",
      "\tProject:   Project1\n",
      "INFO 10:57AM [connect_design]: No active design found (or error getting active design).\n",
      "INFO 10:57AM [connect]: \t Connected to project \"Project1\". No design detected\n"
     ]
    },
    {
     "data": {
      "text/plain": [
       "True"
      ]
     },
     "execution_count": 41,
     "metadata": {},
     "output_type": "execute_result"
    }
   ],
   "source": [
    "hfss.start()"
   ]
  },
  {
   "cell_type": "code",
   "execution_count": 42,
   "metadata": {},
   "outputs": [
    {
     "name": "stderr",
     "output_type": "stream",
     "text": [
      "10:57AM 31s WARNING [activate_ansys_design]: The design_name=Planar was not in active project.  Designs in active project are: \n",
      "[].  A new design will be added to the project.  \n",
      "INFO 10:57AM [connect_design]: \tOpened active design\n",
      "\tDesign:    Planar [Solution type: Eigenmode]\n",
      "WARNING 10:57AM [connect_setup]: \tNo design setup detected.\n",
      "WARNING 10:57AM [connect_setup]: \tCreating eigenmode default setup.\n",
      "INFO 10:57AM [get_setup]: \tOpened setup `Setup`  (<class 'pyEPR.ansys.HfssEMSetup'>)\n"
     ]
    }
   ],
   "source": [
    "hfss.activate_ansys_design(\"Planar\", 'eigenmode')\n",
    "hfss.render_design(['Q0','c0','lpL','lpR','stg','rr0','fl0'],[],\n",
    "                    box_plus_buffer=False)"
   ]
  },
  {
   "cell_type": "code",
   "execution_count": 43,
   "metadata": {},
   "outputs": [
    {
     "name": "stdout",
     "output_type": "stream",
     "text": [
      "Warning! 3 COM references still alive\n",
      "Ansys will likely refuse to shut down\n"
     ]
    },
    {
     "data": {
      "text/plain": [
       "True"
      ]
     },
     "execution_count": 43,
     "metadata": {},
     "output_type": "execute_result"
    }
   ],
   "source": [
    "hfss.close()\n"
   ]
  },
  {
   "cell_type": "markdown",
   "metadata": {},
   "source": [
    "# LOM Analysis"
   ]
  },
  {
   "cell_type": "code",
   "execution_count": 44,
   "metadata": {},
   "outputs": [],
   "source": [
    "from qiskit_metal.analyses.quantization import LOManalysis\n",
    "c1 = LOManalysis(design, \"q3d\")"
   ]
  },
  {
   "cell_type": "code",
   "execution_count": 45,
   "metadata": {},
   "outputs": [
    {
     "data": {
      "text/plain": [
       "{'name': 'Setup',\n",
       " 'reuse_selected_design': True,\n",
       " 'reuse_setup': True,\n",
       " 'freq_ghz': '5.81',\n",
       " 'save_fields': False,\n",
       " 'enabled': True,\n",
       " 'max_passes': 10,\n",
       " 'min_passes': 2,\n",
       " 'min_converged_passes': 2,\n",
       " 'percent_error': 0.5,\n",
       " 'percent_refinement': 30,\n",
       " 'auto_increase_solution_order': 'False',\n",
       " 'solution_order': 'Medium',\n",
       " 'solver_type': 'Iterative'}"
      ]
     },
     "execution_count": 45,
     "metadata": {},
     "output_type": "execute_result"
    }
   ],
   "source": [
    "c1.sim.setup.max_passes = 10\n",
    "c1.sim.setup_update(freq_ghz='5.81',solution_order = 'Medium', auto_increase_solution_order = 'False')\n",
    "c1.sim.setup"
   ]
  },
  {
   "cell_type": "code",
   "execution_count": 46,
   "metadata": {},
   "outputs": [
    {
     "name": "stderr",
     "output_type": "stream",
     "text": [
      "INFO 11:25AM [connect_project]: Connecting to Ansys Desktop API...\n",
      "INFO 11:25AM [load_ansys_project]: \tOpened Ansys App\n",
      "INFO 11:25AM [load_ansys_project]: \tOpened Ansys Desktop v2018.0.0\n",
      "INFO 11:25AM [load_ansys_project]: \tOpened Ansys Project\n",
      "\tFolder:    C:/Users/kimje/Documents/Ansoft/\n",
      "\tProject:   KPS_Planar\n",
      "INFO 11:25AM [connect_design]: \tOpened active design\n",
      "\tDesign:    Planar [Solution type: Eigenmode]\n",
      "INFO 11:25AM [get_setup]: \tOpened setup `Setup`  (<class 'pyEPR.ansys.HfssEMSetup'>)\n",
      "INFO 11:25AM [connect]: \tConnected to project \"KPS_Planar\" and design \"Planar\" 😀 \n",
      "\n",
      "INFO 11:25AM [connect_design]: \tOpened active design\n",
      "\tDesign:    Design_q3d [Solution type: Q3D]\n",
      "WARNING 11:25AM [connect_setup]: \tNo design setup detected.\n",
      "WARNING 11:25AM [connect_setup]: \tCreating Q3D default setup.\n",
      "INFO 11:25AM [get_setup]: \tOpened setup `Setup`  (<class 'pyEPR.ansys.AnsysQ3DSetup'>)\n",
      "INFO 11:26AM [get_setup]: \tOpened setup `Setup`  (<class 'pyEPR.ansys.AnsysQ3DSetup'>)\n",
      "INFO 11:26AM [analyze]: Analyzing setup Setup\n",
      "INFO 11:27AM [get_matrix]: Exporting matrix data to (C:\\Users\\kimje\\AppData\\Local\\Temp\\tmp0rhoribm.txt, C, , Setup:LastAdaptive, \"Original\", \"ohm\", \"nH\", \"fF\", \"mSie\", 5810000000, Maxwell, 1, False\n",
      "INFO 11:27AM [get_matrix]: Exporting matrix data to (C:\\Users\\kimje\\AppData\\Local\\Temp\\tmp1o3vzjmu.txt, C, , Setup:AdaptivePass, \"Original\", \"ohm\", \"nH\", \"fF\", \"mSie\", 5810000000, Maxwell, 1, False\n",
      "INFO 11:27AM [get_matrix]: Exporting matrix data to (C:\\Users\\kimje\\AppData\\Local\\Temp\\tmp6yobdf09.txt, C, , Setup:AdaptivePass, \"Original\", \"ohm\", \"nH\", \"fF\", \"mSie\", 5810000000, Maxwell, 2, False\n",
      "INFO 11:27AM [get_matrix]: Exporting matrix data to (C:\\Users\\kimje\\AppData\\Local\\Temp\\tmpm9zkzzv0.txt, C, , Setup:AdaptivePass, \"Original\", \"ohm\", \"nH\", \"fF\", \"mSie\", 5810000000, Maxwell, 3, False\n",
      "INFO 11:27AM [get_matrix]: Exporting matrix data to (C:\\Users\\kimje\\AppData\\Local\\Temp\\tmpe5auihyt.txt, C, , Setup:AdaptivePass, \"Original\", \"ohm\", \"nH\", \"fF\", \"mSie\", 5810000000, Maxwell, 4, False\n",
      "INFO 11:27AM [get_matrix]: Exporting matrix data to (C:\\Users\\kimje\\AppData\\Local\\Temp\\tmp2yknh_uc.txt, C, , Setup:AdaptivePass, \"Original\", \"ohm\", \"nH\", \"fF\", \"mSie\", 5810000000, Maxwell, 5, False\n",
      "INFO 11:27AM [get_matrix]: Exporting matrix data to (C:\\Users\\kimje\\AppData\\Local\\Temp\\tmpunetfjpu.txt, C, , Setup:AdaptivePass, \"Original\", \"ohm\", \"nH\", \"fF\", \"mSie\", 5810000000, Maxwell, 6, False\n",
      "INFO 11:27AM [get_matrix]: Exporting matrix data to (C:\\Users\\kimje\\AppData\\Local\\Temp\\tmpk5zh9awf.txt, C, , Setup:AdaptivePass, \"Original\", \"ohm\", \"nH\", \"fF\", \"mSie\", 5810000000, Maxwell, 7, False\n",
      "INFO 11:27AM [get_matrix]: Exporting matrix data to (C:\\Users\\kimje\\AppData\\Local\\Temp\\tmpfmn9425k.txt, C, , Setup:AdaptivePass, \"Original\", \"ohm\", \"nH\", \"fF\", \"mSie\", 5810000000, Maxwell, 8, False\n",
      "INFO 11:27AM [get_matrix]: Exporting matrix data to (C:\\Users\\kimje\\AppData\\Local\\Temp\\tmp9xvynhaw.txt, C, , Setup:AdaptivePass, \"Original\", \"ohm\", \"nH\", \"fF\", \"mSie\", 5810000000, Maxwell, 9, False\n",
      "INFO 11:27AM [get_matrix]: Exporting matrix data to (C:\\Users\\kimje\\AppData\\Local\\Temp\\tmp1qpm3uch.txt, C, , Setup:AdaptivePass, \"Original\", \"ohm\", \"nH\", \"fF\", \"mSie\", 5810000000, Maxwell, 10, False\n",
      "INFO 11:27AM [get_matrix]: Exporting matrix data to (C:\\Users\\kimje\\AppData\\Local\\Temp\\tmph60zzz_b.txt, C, , Setup:LastAdaptive, \"Original\", \"ohm\", \"nH\", \"fF\", \"mSie\", 5810000000, Maxwell, 1, False\n",
      "INFO 11:27AM [get_matrix]: Exporting matrix data to (C:\\Users\\kimje\\AppData\\Local\\Temp\\tmpheui4y7k.txt, C, , Setup:AdaptivePass, \"Original\", \"ohm\", \"nH\", \"fF\", \"mSie\", 5810000000, Maxwell, 1, False\n",
      "INFO 11:27AM [get_matrix]: Exporting matrix data to (C:\\Users\\kimje\\AppData\\Local\\Temp\\tmpi3j1d8j7.txt, C, , Setup:AdaptivePass, \"Original\", \"ohm\", \"nH\", \"fF\", \"mSie\", 5810000000, Maxwell, 2, False\n",
      "INFO 11:27AM [get_matrix]: Exporting matrix data to (C:\\Users\\kimje\\AppData\\Local\\Temp\\tmp9en3xiyi.txt, C, , Setup:AdaptivePass, \"Original\", \"ohm\", \"nH\", \"fF\", \"mSie\", 5810000000, Maxwell, 3, False\n",
      "INFO 11:27AM [get_matrix]: Exporting matrix data to (C:\\Users\\kimje\\AppData\\Local\\Temp\\tmp6of2r5a2.txt, C, , Setup:AdaptivePass, \"Original\", \"ohm\", \"nH\", \"fF\", \"mSie\", 5810000000, Maxwell, 4, False\n",
      "INFO 11:27AM [get_matrix]: Exporting matrix data to (C:\\Users\\kimje\\AppData\\Local\\Temp\\tmp2zjprbwk.txt, C, , Setup:AdaptivePass, \"Original\", \"ohm\", \"nH\", \"fF\", \"mSie\", 5810000000, Maxwell, 5, False\n",
      "INFO 11:27AM [get_matrix]: Exporting matrix data to (C:\\Users\\kimje\\AppData\\Local\\Temp\\tmp696xcymx.txt, C, , Setup:AdaptivePass, \"Original\", \"ohm\", \"nH\", \"fF\", \"mSie\", 5810000000, Maxwell, 6, False\n",
      "INFO 11:27AM [get_matrix]: Exporting matrix data to (C:\\Users\\kimje\\AppData\\Local\\Temp\\tmpd1_j1r6v.txt, C, , Setup:AdaptivePass, \"Original\", \"ohm\", \"nH\", \"fF\", \"mSie\", 5810000000, Maxwell, 7, False\n",
      "INFO 11:27AM [get_matrix]: Exporting matrix data to (C:\\Users\\kimje\\AppData\\Local\\Temp\\tmp_i3ob2eo.txt, C, , Setup:AdaptivePass, \"Original\", \"ohm\", \"nH\", \"fF\", \"mSie\", 5810000000, Maxwell, 8, False\n",
      "INFO 11:27AM [get_matrix]: Exporting matrix data to (C:\\Users\\kimje\\AppData\\Local\\Temp\\tmpvqck59zz.txt, C, , Setup:AdaptivePass, \"Original\", \"ohm\", \"nH\", \"fF\", \"mSie\", 5810000000, Maxwell, 9, False\n",
      "INFO 11:27AM [get_matrix]: Exporting matrix data to (C:\\Users\\kimje\\AppData\\Local\\Temp\\tmp9bdn48vu.txt, C, , Setup:AdaptivePass, \"Original\", \"ohm\", \"nH\", \"fF\", \"mSie\", 5810000000, Maxwell, 10, False\n",
      "INFO 11:27AM [__del__]: Disconnected from Ansys HFSS\n"
     ]
    },
    {
     "data": {
      "text/html": [
       "<div>\n",
       "<style scoped>\n",
       "    .dataframe tbody tr th:only-of-type {\n",
       "        vertical-align: middle;\n",
       "    }\n",
       "\n",
       "    .dataframe tbody tr th {\n",
       "        vertical-align: top;\n",
       "    }\n",
       "\n",
       "    .dataframe thead th {\n",
       "        text-align: right;\n",
       "    }\n",
       "</style>\n",
       "<table border=\"1\" class=\"dataframe\">\n",
       "  <thead>\n",
       "    <tr style=\"text-align: right;\">\n",
       "      <th></th>\n",
       "      <th>ground_main_plane</th>\n",
       "      <th>pad_bot_Q0</th>\n",
       "      <th>pad_top_Q0</th>\n",
       "      <th>quad_coupler_c0</th>\n",
       "    </tr>\n",
       "  </thead>\n",
       "  <tbody>\n",
       "    <tr>\n",
       "      <th>ground_main_plane</th>\n",
       "      <td>173.950</td>\n",
       "      <td>-47.0330</td>\n",
       "      <td>-41.052</td>\n",
       "      <td>-28.2980</td>\n",
       "    </tr>\n",
       "    <tr>\n",
       "      <th>pad_bot_Q0</th>\n",
       "      <td>-47.033</td>\n",
       "      <td>87.6010</td>\n",
       "      <td>-34.799</td>\n",
       "      <td>-2.1886</td>\n",
       "    </tr>\n",
       "    <tr>\n",
       "      <th>pad_top_Q0</th>\n",
       "      <td>-41.052</td>\n",
       "      <td>-34.7990</td>\n",
       "      <td>97.878</td>\n",
       "      <td>-18.9210</td>\n",
       "    </tr>\n",
       "    <tr>\n",
       "      <th>quad_coupler_c0</th>\n",
       "      <td>-28.298</td>\n",
       "      <td>-2.1886</td>\n",
       "      <td>-18.921</td>\n",
       "      <td>50.6100</td>\n",
       "    </tr>\n",
       "  </tbody>\n",
       "</table>\n",
       "</div>"
      ],
      "text/plain": [
       "                   ground_main_plane  pad_bot_Q0  pad_top_Q0  quad_coupler_c0\n",
       "ground_main_plane            173.950    -47.0330     -41.052         -28.2980\n",
       "pad_bot_Q0                   -47.033     87.6010     -34.799          -2.1886\n",
       "pad_top_Q0                   -41.052    -34.7990      97.878         -18.9210\n",
       "quad_coupler_c0              -28.298     -2.1886     -18.921          50.6100"
      ]
     },
     "execution_count": 46,
     "metadata": {},
     "output_type": "execute_result"
    }
   ],
   "source": [
    "c1.sim.run(components=['Q0','c0'], open_terminations=[('c0', 'in')])\n",
    "c1.sim._get_results_from_renderer()\n",
    "c1.sim.capacitance_matrix"
   ]
  },
  {
   "cell_type": "code",
   "execution_count": 47,
   "metadata": {},
   "outputs": [
    {
     "name": "stdout",
     "output_type": "stream",
     "text": [
      "[1, 2] [3]\n",
      "Predicted Values\n",
      "\n",
      "Transmon Properties\n",
      "f_Q 5.684920 [GHz]\n",
      "EC 303.451624 [MHz]\n",
      "EJ 14.854145 [GHz]\n",
      "alpha -349.182374 [MHz]\n",
      "dispersion 14.326311 [KHz]\n",
      "Lq 10.995564 [nH]\n",
      "Cq 63.833002 [fF]\n",
      "T1 39.911070 [us]\n",
      "\n",
      "**Coupling Properties**\n",
      "\n",
      "tCqbus1 -7.326965 [fF]\n",
      "gbus1_in_MHz -114.992310 [MHz]\n",
      "χ_bus1 -4.004796 [MHz]\n",
      "1/T1bus1 3987.739365 [Hz]\n",
      "T1bus1 39.911070 [us]\n",
      "Bus-Bus Couplings\n"
     ]
    },
    {
     "data": {
      "text/html": [
       "<div>\n",
       "<style scoped>\n",
       "    .dataframe tbody tr th:only-of-type {\n",
       "        vertical-align: middle;\n",
       "    }\n",
       "\n",
       "    .dataframe tbody tr th {\n",
       "        vertical-align: top;\n",
       "    }\n",
       "\n",
       "    .dataframe thead th {\n",
       "        text-align: right;\n",
       "    }\n",
       "</style>\n",
       "<table border=\"1\" class=\"dataframe\">\n",
       "  <thead>\n",
       "    <tr style=\"text-align: right;\">\n",
       "      <th></th>\n",
       "      <th>fQ</th>\n",
       "      <th>EC</th>\n",
       "      <th>EJ</th>\n",
       "      <th>alpha</th>\n",
       "      <th>dispersion</th>\n",
       "      <th>gbus</th>\n",
       "      <th>chi_in_MHz</th>\n",
       "      <th>χr MHz</th>\n",
       "      <th>gr MHz</th>\n",
       "    </tr>\n",
       "  </thead>\n",
       "  <tbody>\n",
       "    <tr>\n",
       "      <th>1</th>\n",
       "      <td>6.080523</td>\n",
       "      <td>350.304387</td>\n",
       "      <td>14.854145</td>\n",
       "      <td>-408.623621</td>\n",
       "      <td>53.667055</td>\n",
       "      <td>[-92.50661055392521]</td>\n",
       "      <td>[-5.276432459595394]</td>\n",
       "      <td>5.276432</td>\n",
       "      <td>92.506611</td>\n",
       "    </tr>\n",
       "    <tr>\n",
       "      <th>2</th>\n",
       "      <td>6.061697</td>\n",
       "      <td>347.98712</td>\n",
       "      <td>14.854145</td>\n",
       "      <td>-405.6498</td>\n",
       "      <td>50.598693</td>\n",
       "      <td>[-108.48851115140654]</td>\n",
       "      <td>[-6.988555215253152]</td>\n",
       "      <td>6.988555</td>\n",
       "      <td>108.488511</td>\n",
       "    </tr>\n",
       "    <tr>\n",
       "      <th>3</th>\n",
       "      <td>5.979645</td>\n",
       "      <td>337.990385</td>\n",
       "      <td>14.854145</td>\n",
       "      <td>-392.861478</td>\n",
       "      <td>38.974741</td>\n",
       "      <td>[-107.50592839531693]</td>\n",
       "      <td>[-5.853410130985641]</td>\n",
       "      <td>5.853410</td>\n",
       "      <td>107.505928</td>\n",
       "    </tr>\n",
       "    <tr>\n",
       "      <th>4</th>\n",
       "      <td>5.89351</td>\n",
       "      <td>327.675989</td>\n",
       "      <td>14.854145</td>\n",
       "      <td>-379.735856</td>\n",
       "      <td>29.398861</td>\n",
       "      <td>[-111.59969288512815]</td>\n",
       "      <td>[-5.382200887548114]</td>\n",
       "      <td>5.382201</td>\n",
       "      <td>111.599693</td>\n",
       "    </tr>\n",
       "    <tr>\n",
       "      <th>5</th>\n",
       "      <td>5.804315</td>\n",
       "      <td>317.187439</td>\n",
       "      <td>14.854145</td>\n",
       "      <td>-366.460076</td>\n",
       "      <td>21.758352</td>\n",
       "      <td>[-113.5602783134395]</td>\n",
       "      <td>[-4.765371435400748]</td>\n",
       "      <td>4.765371</td>\n",
       "      <td>113.560278</td>\n",
       "    </tr>\n",
       "    <tr>\n",
       "      <th>6</th>\n",
       "      <td>5.769389</td>\n",
       "      <td>313.133526</td>\n",
       "      <td>14.854145</td>\n",
       "      <td>-361.348091</td>\n",
       "      <td>19.289735</td>\n",
       "      <td>[-113.14482379529487]</td>\n",
       "      <td>[-4.457860420385475]</td>\n",
       "      <td>4.457860</td>\n",
       "      <td>113.144824</td>\n",
       "    </tr>\n",
       "    <tr>\n",
       "      <th>7</th>\n",
       "      <td>5.723242</td>\n",
       "      <td>307.822644</td>\n",
       "      <td>14.854145</td>\n",
       "      <td>-354.667222</td>\n",
       "      <td>16.414466</td>\n",
       "      <td>[-114.49992857252016]</td>\n",
       "      <td>[-4.227244599755752]</td>\n",
       "      <td>4.227245</td>\n",
       "      <td>114.499929</td>\n",
       "    </tr>\n",
       "    <tr>\n",
       "      <th>8</th>\n",
       "      <td>5.704363</td>\n",
       "      <td>305.66491</td>\n",
       "      <td>14.854145</td>\n",
       "      <td>-351.958106</td>\n",
       "      <td>15.353843</td>\n",
       "      <td>[-114.94520240873572]</td>\n",
       "      <td>[-4.130167810692286]</td>\n",
       "      <td>4.130168</td>\n",
       "      <td>114.945202</td>\n",
       "    </tr>\n",
       "    <tr>\n",
       "      <th>9</th>\n",
       "      <td>5.68492</td>\n",
       "      <td>303.451624</td>\n",
       "      <td>14.854145</td>\n",
       "      <td>-349.182374</td>\n",
       "      <td>14.326311</td>\n",
       "      <td>[-114.99231000954356]</td>\n",
       "      <td>[-4.004795799008855]</td>\n",
       "      <td>4.004796</td>\n",
       "      <td>114.992310</td>\n",
       "    </tr>\n",
       "  </tbody>\n",
       "</table>\n",
       "</div>"
      ],
      "text/plain": [
       "         fQ          EC         EJ       alpha dispersion  \\\n",
       "1  6.080523  350.304387  14.854145 -408.623621  53.667055   \n",
       "2  6.061697   347.98712  14.854145   -405.6498  50.598693   \n",
       "3  5.979645  337.990385  14.854145 -392.861478  38.974741   \n",
       "4   5.89351  327.675989  14.854145 -379.735856  29.398861   \n",
       "5  5.804315  317.187439  14.854145 -366.460076  21.758352   \n",
       "6  5.769389  313.133526  14.854145 -361.348091  19.289735   \n",
       "7  5.723242  307.822644  14.854145 -354.667222  16.414466   \n",
       "8  5.704363   305.66491  14.854145 -351.958106  15.353843   \n",
       "9   5.68492  303.451624  14.854145 -349.182374  14.326311   \n",
       "\n",
       "                    gbus            chi_in_MHz    χr MHz      gr MHz  \n",
       "1   [-92.50661055392521]  [-5.276432459595394]  5.276432   92.506611  \n",
       "2  [-108.48851115140654]  [-6.988555215253152]  6.988555  108.488511  \n",
       "3  [-107.50592839531693]  [-5.853410130985641]  5.853410  107.505928  \n",
       "4  [-111.59969288512815]  [-5.382200887548114]  5.382201  111.599693  \n",
       "5   [-113.5602783134395]  [-4.765371435400748]  4.765371  113.560278  \n",
       "6  [-113.14482379529487]  [-4.457860420385475]  4.457860  113.144824  \n",
       "7  [-114.49992857252016]  [-4.227244599755752]  4.227245  114.499929  \n",
       "8  [-114.94520240873572]  [-4.130167810692286]  4.130168  114.945202  \n",
       "9  [-114.99231000954356]  [-4.004795799008855]  4.004796  114.992310  "
      ]
     },
     "execution_count": 47,
     "metadata": {},
     "output_type": "execute_result"
    }
   ],
   "source": [
    "c1.setup.junctions = Dict({'Lj': 11, 'Cj': 2})\n",
    "c1.setup.freq_readout = 7.05\n",
    "c1.setup.freq_bus = []\n",
    "c1.run_lom()\n",
    "c1.lumped_oscillator_all"
   ]
  },
  {
   "cell_type": "code",
   "execution_count": 48,
   "metadata": {},
   "outputs": [
    {
     "name": "stdout",
     "output_type": "stream",
     "text": [
      "Warning! 3 COM references still alive\n",
      "Ansys will likely refuse to shut down\n"
     ]
    }
   ],
   "source": [
    "c1.sim.close()"
   ]
  },
  {
   "cell_type": "code",
   "execution_count": null,
   "metadata": {},
   "outputs": [],
   "source": []
  }
 ],
 "metadata": {
  "kernelspec": {
   "display_name": "Python 3.9.10 ('metal')",
   "language": "python",
   "name": "python3"
  },
  "language_info": {
   "codemirror_mode": {
    "name": "ipython",
    "version": 3
   },
   "file_extension": ".py",
   "mimetype": "text/x-python",
   "name": "python",
   "nbconvert_exporter": "python",
   "pygments_lexer": "ipython3",
   "version": "3.9.10"
  },
  "orig_nbformat": 4,
  "vscode": {
   "interpreter": {
    "hash": "ac951534856e2c23f9f162419ca8ae29ffbc7967cf243c458d1cebaa12df0b5c"
   }
  }
 },
 "nbformat": 4,
 "nbformat_minor": 2
}
