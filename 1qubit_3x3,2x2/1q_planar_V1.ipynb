{
 "cells": [
  {
   "cell_type": "code",
   "execution_count": 1,
   "metadata": {},
   "outputs": [],
   "source": [
    "import warnings\n",
    "warnings.filterwarnings(\"ignore\")\n",
    "%load_ext autoreload\n",
    "%autoreload 2\n",
    "from qiskit_metal import Dict, MetalGUI, designs\n",
    "\n",
    "from qiskit_metal.qlibrary.qubits.transmon_pocket import TransmonPocket\n",
    "from qiskit_metal.qlibrary.qubits.transmon_pocket_6 import TransmonPocket6\n",
    "from qiskit_metal.qlibrary.tlines.meandered import RouteMeander\n",
    "from qiskit_metal.qlibrary.tlines.straight_path import RouteStraight\n",
    "from qiskit_metal.qlibrary.terminations.launchpad_wb_coupled import LaunchpadWirebondCoupled\n",
    "from qiskit_metal.qlibrary.terminations.short_to_ground import ShortToGround\n",
    "from qiskit_metal.qlibrary.couplers.coupled_line_tee import CoupledLineTee\n",
    "from qiskit_metal.qlibrary.user_components.left_coupler import LeftCoupler\n",
    "from qiskit_metal.qlibrary.user_components.right_coupler import RightCoupler\n",
    "from qiskit_metal.qlibrary.user_components.straightdown_coupler import StraightDownCoupler\n",
    "from qiskit_metal.qlibrary.user_components.straightup_coupler import StraightUpCoupler"
   ]
  },
  {
   "cell_type": "code",
   "execution_count": 2,
   "metadata": {},
   "outputs": [],
   "source": [
    "design = designs.DesignPlanar({}, overwrite_enabled=True)\n",
    "gui = MetalGUI(design)\n",
    "design.chips.main.size['size_x']='3mm'\n",
    "design.chips.main.size['size_y']='3mm'"
   ]
  },
  {
   "cell_type": "code",
   "execution_count": 3,
   "metadata": {},
   "outputs": [
    {
     "data": {
      "text/plain": [
       "{'main': {'material': 'silicon',\n",
       "  'layer_start': '0',\n",
       "  'layer_end': '2048',\n",
       "  'size': {'center_x': '0.0mm',\n",
       "   'center_y': '0.0mm',\n",
       "   'center_z': '0.0mm',\n",
       "   'size_x': '3mm',\n",
       "   'size_y': '3mm',\n",
       "   'size_z': '-750um',\n",
       "   'sample_holder_top': '890um',\n",
       "   'sample_holder_bottom': '1650um'}}}"
      ]
     },
     "execution_count": 3,
     "metadata": {},
     "output_type": "execute_result"
    }
   ],
   "source": [
    "design.chips"
   ]
  },
  {
   "cell_type": "code",
   "execution_count": 24,
   "metadata": {},
   "outputs": [
    {
     "data": {
      "text/plain": [
       "[\u001b[95m\u001b[1mname:    \u001b[94m\u001b[1mQ0\u001b[0m\n",
       " \u001b[95m\u001b[1mclass:   \u001b[94m\u001b[1mTransmonPocket6       \u001b[0m\n",
       " \u001b[95m\u001b[1moptions: \u001b[0m\n",
       "   'pos_x'             : '-300um',                     \n",
       "   'pos_y'             : '-500um',                     \n",
       "   'orientation'       : '0.0',                        \n",
       "   'chip'              : 'main',                       \n",
       "   'layer'             : '1',                          \n",
       "   \u001b[1m'connection_pads'   \u001b[0m: {\n",
       "                         },\n",
       "   'pad_gap'           : '20um',                       \n",
       "   'inductor_width'    : '20um',                       \n",
       "   'pad_width'         : '420um',                      \n",
       "   'pad_height'        : '90um',                       \n",
       "   'pocket_width'      : '650um',                      \n",
       "   'pocket_height'     : '650um',                      \n",
       "   'hfss_wire_bonds'   : False,                        \n",
       "   'q3d_wire_bonds'    : False,                        \n",
       "   'hfss_inductance'   : '10nH',                       \n",
       "   'hfss_capacitance'  : 0,                            \n",
       "   'hfss_resistance'   : 0,                            \n",
       "   'hfss_mesh_kw_jj'   : 7e-06,                        \n",
       "   'q3d_inductance'    : '10nH',                       \n",
       "   'q3d_capacitance'   : 0,                            \n",
       "   'q3d_resistance'    : 0,                            \n",
       "   'q3d_mesh_kw_jj'    : 7e-06,                        \n",
       "   'gds_cell_name'     : 'my_other_junction',          \n",
       " \u001b[95m\u001b[1mmodule:  \u001b[94m\u001b[1mqiskit_metal.qlibrary.qubits.transmon_pocket_6\u001b[0m\n",
       " \u001b[95m\u001b[1mid:      \u001b[94m\u001b[1m10\u001b[0m]"
      ]
     },
     "execution_count": 24,
     "metadata": {},
     "output_type": "execute_result"
    }
   ],
   "source": [
    "q0"
   ]
  },
  {
   "cell_type": "code",
   "execution_count": 56,
   "metadata": {},
   "outputs": [],
   "source": [
    "\n",
    "cp0 = dict(down = dict(loc_W=1, loc_H=-1, pad_width='120um'))\n",
    "q0=[TransmonPocket6(design, 'Q0', options=dict(pos_x='-300um',\n",
    "                                            pos_y='-500um',\n",
    "                                            chip='main',\n",
    "                                            pad_gap='20um',\n",
    "                                            pad_width='440um',\n",
    "                                            pad_height='70um'))]\n",
    "                                            \n",
    "qubits=q0\n",
    "q0x=float(qubits[0].options.pos_x.strip('um'))\n",
    "q0y=float(qubits[0].options.pos_y.strip('um'))\n",
    "\n",
    "\n",
    "c0 = StraightUpCoupler(design, \"c0\", options=dict(pos_x=f\"{q0x-160}um\",\n",
    "                                              pos_y=f\"{q0y+112}um\",\n",
    "                                              pad_width=\"160um\",\n",
    "                                              pad_height=\"50um\",\n",
    "                                              cpw_stub_height=\"200um\",\n",
    "                                              chip=\"main\"))\n",
    "design.rebuild()\n",
    "gui.rebuild()\n",
    "gui.autoscale()"
   ]
  },
  {
   "cell_type": "code",
   "execution_count": 13,
   "metadata": {},
   "outputs": [],
   "source": [
    "lpL=LaunchpadWirebondCoupled(design, 'lpL',\n",
    "                                         options = dict(chip=\"main\",\n",
    "                                         pos_x = '-700um',\n",
    "                                         pos_y = '800um',\n",
    "                                         lead_length = '30um'))\n",
    "lpR=LaunchpadWirebondCoupled(design, 'lpR',\n",
    "                                         options = dict(chip=\"main\",\n",
    "                                         pos_x = '700um',\n",
    "                                         pos_y = '800um',\n",
    "                                         orientation='180',\n",
    "                                         lead_length = '30um'))                                        "
   ]
  },
  {
   "cell_type": "code",
   "execution_count": 23,
   "metadata": {},
   "outputs": [],
   "source": [
    "stg=ShortToGround(design, 'stg', options=Dict(chip=\"main\",\n",
    "                                                pos_x='0.64mm',\n",
    "                                                pos_y='-0.2mm',\n",
    "                                                orientation='270'))"
   ]
  },
  {
   "cell_type": "code",
   "execution_count": 15,
   "metadata": {},
   "outputs": [],
   "source": [
    "fl0=RouteStraight(design, 'fl0',options=Dict(chip=\"main\", pin_inputs=Dict(start_pin=Dict(\n",
    "                                                            component='lpL',\n",
    "                                                            pin='tie'),\n",
    "                                                            end_pin=Dict(\n",
    "                                                            component='lpR',\n",
    "                                                            pin='tie'))))\n"
   ]
  },
  {
   "cell_type": "markdown",
   "metadata": {},
   "source": [
    "# Readout resonator"
   ]
  },
  {
   "cell_type": "code",
   "execution_count": 16,
   "metadata": {},
   "outputs": [],
   "source": [
    "from collections import OrderedDict\n",
    "jogs=OrderedDict()\n",
    "def connect(component_name: str, component1: str, pin1: str, component2: str, pin2: str,\n",
    "            length: str, start_jogged_extension: OrderedDict, end_jogged_extension: OrderedDict,\n",
    "            spacing: str, asymmetry='0 um',  start_straight='0 um', end_straight='0 um', flip=False):\n",
    "    \"\"\"Connect two pins with a CPW.\"\"\"\n",
    "    myoptions = Dict(\n",
    "        chip=\"main\",\n",
    "        pin_inputs=Dict(\n",
    "            start_pin=Dict(\n",
    "                component=component1,\n",
    "                pin=pin1),\n",
    "            end_pin=Dict(\n",
    "                component=component2,\n",
    "                pin=pin2)),\n",
    "        lead=Dict(\n",
    "            start_straight=start_straight,\n",
    "            end_straight=end_straight,\n",
    "            start_jogged_extension=start_jogged_extension,\n",
    "            end_jogged_extension=end_jogged_extension),\n",
    "        total_length=length,\n",
    "        fillet = '99.9um',\n",
    "        meander=dict(asymmetry=asymmetry,\n",
    "                     spacing=spacing))\n",
    "    myoptions.meander.lead_direction_inverted = 'true' if flip else 'false'\n",
    "    return RouteMeander(design, component_name, myoptions)"
   ]
  },
  {
   "cell_type": "markdown",
   "metadata": {},
   "source": [
    "# Resonator length"
   ]
  },
  {
   "cell_type": "code",
   "execution_count": 17,
   "metadata": {},
   "outputs": [],
   "source": [
    "from qiskit_metal.analyses.em.cpw_calculations import guided_wavelength\n",
    "\n",
    "def find_resonator_length(frequency, line_width, line_gap, N): \n",
    "    [lambdaG, etfSqrt, q] = guided_wavelength(frequency*10**9, line_width*10**-6,\n",
    "                                              line_gap*10**-6, 750*10**-6, 200*10**-9)\n",
    "    return str(lambdaG/N*10**3)+\" mm\""
   ]
  },
  {
   "cell_type": "code",
   "execution_count": 18,
   "metadata": {},
   "outputs": [
    {
     "name": "stdout",
     "output_type": "stream",
     "text": [
      "[3.807562247348839]\n"
     ]
    }
   ],
   "source": [
    "resonator_length_4=[]\n",
    "a=find_resonator_length(7.5,10,6,4)\n",
    "a=a.strip('mm')\n",
    "a=float(a)-0.25 # subtract coupler length\n",
    "resonator_length_4.append(a)\n",
    "print(resonator_length_4)\n"
   ]
  },
  {
   "cell_type": "code",
   "execution_count": 45,
   "metadata": {},
   "outputs": [],
   "source": [
    "jogs1=OrderedDict()\n",
    "jogs1[0]=['R','300um']\n",
    "jogs1[1]=['R', '300um']\n",
    "jogs1[2]=['L','800um']\n",
    "jogs1[3]=['R','200um']\n",
    "jogs1[4]=['R','615um']\n",
    "jogs1[5]=['L','200um']\n",
    "jogs1[6]=['L','615um']\n"
   ]
  },
  {
   "cell_type": "code",
   "execution_count": 46,
   "metadata": {},
   "outputs": [],
   "source": [
    "rr0=connect('rr0', 'c0', 'in','stg', 'short',\n",
    "            resonator_length_4[0],jogs1,jogs, \n",
    "            '100um','0um', '947um', '100um')\n",
    "            "
   ]
  },
  {
   "cell_type": "markdown",
   "metadata": {},
   "source": [
    "# EPR Analysis"
   ]
  },
  {
   "cell_type": "code",
   "execution_count": 57,
   "metadata": {},
   "outputs": [],
   "source": [
    "from qiskit_metal.analyses.quantization import EPRanalysis\n",
    "eig_rd = EPRanalysis(design, \"hfss\")\n",
    "hfss = eig_rd.sim.renderer"
   ]
  },
  {
   "cell_type": "code",
   "execution_count": 58,
   "metadata": {},
   "outputs": [
    {
     "name": "stderr",
     "output_type": "stream",
     "text": [
      "INFO 04:02PM [connect_project]: Connecting to Ansys Desktop API...\n",
      "INFO 04:02PM [load_ansys_project]: \tOpened Ansys App\n",
      "INFO 04:02PM [load_ansys_project]: \tOpened Ansys Desktop v2018.0.0\n",
      "INFO 04:02PM [load_ansys_project]: \tOpened Ansys Project\n",
      "\tFolder:    C:/Users/kimje/Documents/Ansoft/\n",
      "\tProject:   KPS_Flipchip Bump\n",
      "INFO 04:02PM [connect_design]: \tOpened active design\n",
      "\tDesign:    Planar_Final2 [Solution type: Eigenmode]\n",
      "INFO 04:02PM [get_setup]: \tOpened setup `Setup`  (<class 'pyEPR.ansys.HfssEMSetup'>)\n",
      "INFO 04:02PM [connect]: \tConnected to project \"KPS_Flipchip Bump\" and design \"Planar_Final2\" 😀 \n",
      "\n"
     ]
    },
    {
     "data": {
      "text/plain": [
       "True"
      ]
     },
     "execution_count": 58,
     "metadata": {},
     "output_type": "execute_result"
    }
   ],
   "source": [
    "hfss.start()"
   ]
  },
  {
   "cell_type": "code",
   "execution_count": 59,
   "metadata": {},
   "outputs": [
    {
     "name": "stderr",
     "output_type": "stream",
     "text": [
      "04:02PM 27s WARNING [activate_ansys_design]: The design_name=Planar_Final3 was not in active project.  Designs in active project are: \n",
      "['flip6um_BUMP', 'flip8um_V6', 'flip8um_V6_BUMP', 'flip6um_V6', 'flip9um_V6', 'Planar-9', 'flipchip7um_Planar_again', 'Design_q3d', 'flip7um_BUMP', 'flip7um_V6', 'flip5um_V6', 'Planar_Final', 'Planar_Final2'].  A new design will be added to the project.  \n",
      "INFO 04:02PM [connect_design]: \tOpened active design\n",
      "\tDesign:    Planar_Final3 [Solution type: Eigenmode]\n",
      "WARNING 04:02PM [connect_setup]: \tNo design setup detected.\n",
      "WARNING 04:02PM [connect_setup]: \tCreating eigenmode default setup.\n",
      "INFO 04:02PM [get_setup]: \tOpened setup `Setup`  (<class 'pyEPR.ansys.HfssEMSetup'>)\n"
     ]
    }
   ],
   "source": [
    "hfss.activate_ansys_design(\"Planar_Final3\", 'eigenmode')\n",
    "hfss.render_design(['Q0','c0','lpL','lpR','stg','rr0','fl0'],[],\n",
    "                    box_plus_buffer=False)"
   ]
  },
  {
   "cell_type": "code",
   "execution_count": 64,
   "metadata": {},
   "outputs": [
    {
     "data": {
      "text/plain": [
       "True"
      ]
     },
     "execution_count": 64,
     "metadata": {},
     "output_type": "execute_result"
    }
   ],
   "source": [
    "hfss.close()\n"
   ]
  },
  {
   "cell_type": "markdown",
   "metadata": {},
   "source": [
    "# LOM Analysis"
   ]
  },
  {
   "cell_type": "code",
   "execution_count": 60,
   "metadata": {},
   "outputs": [],
   "source": [
    "from qiskit_metal.analyses.quantization import LOManalysis\n",
    "c1 = LOManalysis(design, \"q3d\")"
   ]
  },
  {
   "cell_type": "code",
   "execution_count": 61,
   "metadata": {},
   "outputs": [
    {
     "data": {
      "text/plain": [
       "{'name': 'Setup',\n",
       " 'reuse_selected_design': True,\n",
       " 'reuse_setup': True,\n",
       " 'freq_ghz': '6.01',\n",
       " 'save_fields': False,\n",
       " 'enabled': True,\n",
       " 'max_passes': 10,\n",
       " 'min_passes': 2,\n",
       " 'min_converged_passes': 2,\n",
       " 'percent_error': 0.5,\n",
       " 'percent_refinement': 30,\n",
       " 'auto_increase_solution_order': 'False',\n",
       " 'solution_order': 'Medium',\n",
       " 'solver_type': 'Iterative'}"
      ]
     },
     "execution_count": 61,
     "metadata": {},
     "output_type": "execute_result"
    }
   ],
   "source": [
    "c1.sim.setup.max_passes = 10\n",
    "c1.sim.setup_update(freq_ghz='6.01',solution_order = 'Medium', auto_increase_solution_order = 'False')\n",
    "c1.sim.setup"
   ]
  },
  {
   "cell_type": "code",
   "execution_count": 62,
   "metadata": {},
   "outputs": [
    {
     "name": "stderr",
     "output_type": "stream",
     "text": [
      "INFO 04:07PM [connect_project]: Connecting to Ansys Desktop API...\n",
      "INFO 04:07PM [load_ansys_project]: \tOpened Ansys App\n",
      "INFO 04:07PM [load_ansys_project]: \tOpened Ansys Desktop v2018.0.0\n",
      "INFO 04:07PM [load_ansys_project]: \tOpened Ansys Project\n",
      "\tFolder:    C:/Users/kimje/Documents/Ansoft/\n",
      "\tProject:   KPS_Flipchip Bump\n",
      "INFO 04:07PM [connect_design]: \tOpened active design\n",
      "\tDesign:    Planar_Final3 [Solution type: Eigenmode]\n",
      "INFO 04:07PM [get_setup]: \tOpened setup `Setup`  (<class 'pyEPR.ansys.HfssEMSetup'>)\n",
      "INFO 04:07PM [connect]: \tConnected to project \"KPS_Flipchip Bump\" and design \"Planar_Final3\" 😀 \n",
      "\n",
      "INFO 04:07PM [connect_design]: \tOpened active design\n",
      "\tDesign:    Design_q3d [Solution type: Q3D]\n",
      "INFO 04:07PM [get_setup]: \tOpened setup `Setup`  (<class 'pyEPR.ansys.AnsysQ3DSetup'>)\n",
      "INFO 04:07PM [analyze]: Analyzing setup Setup\n",
      "INFO 04:09PM [get_matrix]: Exporting matrix data to (C:\\Users\\kimje\\AppData\\Local\\Temp\\tmphjkd9_s_.txt, C, , Setup:LastAdaptive, \"Original\", \"ohm\", \"nH\", \"fF\", \"mSie\", 6010000000, Maxwell, 1, False\n",
      "INFO 04:09PM [get_matrix]: Exporting matrix data to (C:\\Users\\kimje\\AppData\\Local\\Temp\\tmpfo087hwq.txt, C, , Setup:AdaptivePass, \"Original\", \"ohm\", \"nH\", \"fF\", \"mSie\", 6010000000, Maxwell, 1, False\n",
      "INFO 04:09PM [get_matrix]: Exporting matrix data to (C:\\Users\\kimje\\AppData\\Local\\Temp\\tmpccn3bi9_.txt, C, , Setup:AdaptivePass, \"Original\", \"ohm\", \"nH\", \"fF\", \"mSie\", 6010000000, Maxwell, 2, False\n",
      "INFO 04:09PM [get_matrix]: Exporting matrix data to (C:\\Users\\kimje\\AppData\\Local\\Temp\\tmpf4b23_ro.txt, C, , Setup:AdaptivePass, \"Original\", \"ohm\", \"nH\", \"fF\", \"mSie\", 6010000000, Maxwell, 3, False\n",
      "INFO 04:09PM [get_matrix]: Exporting matrix data to (C:\\Users\\kimje\\AppData\\Local\\Temp\\tmpf2st7ey6.txt, C, , Setup:AdaptivePass, \"Original\", \"ohm\", \"nH\", \"fF\", \"mSie\", 6010000000, Maxwell, 4, False\n",
      "INFO 04:09PM [get_matrix]: Exporting matrix data to (C:\\Users\\kimje\\AppData\\Local\\Temp\\tmp0zc0sxhu.txt, C, , Setup:AdaptivePass, \"Original\", \"ohm\", \"nH\", \"fF\", \"mSie\", 6010000000, Maxwell, 5, False\n",
      "INFO 04:09PM [get_matrix]: Exporting matrix data to (C:\\Users\\kimje\\AppData\\Local\\Temp\\tmpjgez44hc.txt, C, , Setup:AdaptivePass, \"Original\", \"ohm\", \"nH\", \"fF\", \"mSie\", 6010000000, Maxwell, 6, False\n",
      "INFO 04:09PM [get_matrix]: Exporting matrix data to (C:\\Users\\kimje\\AppData\\Local\\Temp\\tmpj6h6z4b0.txt, C, , Setup:AdaptivePass, \"Original\", \"ohm\", \"nH\", \"fF\", \"mSie\", 6010000000, Maxwell, 7, False\n",
      "INFO 04:09PM [get_matrix]: Exporting matrix data to (C:\\Users\\kimje\\AppData\\Local\\Temp\\tmp1t3ta73d.txt, C, , Setup:AdaptivePass, \"Original\", \"ohm\", \"nH\", \"fF\", \"mSie\", 6010000000, Maxwell, 8, False\n",
      "INFO 04:09PM [get_matrix]: Exporting matrix data to (C:\\Users\\kimje\\AppData\\Local\\Temp\\tmpl0nb6ksc.txt, C, , Setup:AdaptivePass, \"Original\", \"ohm\", \"nH\", \"fF\", \"mSie\", 6010000000, Maxwell, 9, False\n",
      "INFO 04:09PM [get_matrix]: Exporting matrix data to (C:\\Users\\kimje\\AppData\\Local\\Temp\\tmpr3azgb6x.txt, C, , Setup:AdaptivePass, \"Original\", \"ohm\", \"nH\", \"fF\", \"mSie\", 6010000000, Maxwell, 10, False\n",
      "INFO 04:09PM [get_matrix]: Exporting matrix data to (C:\\Users\\kimje\\AppData\\Local\\Temp\\tmp0h2zzn4f.txt, C, , Setup:LastAdaptive, \"Original\", \"ohm\", \"nH\", \"fF\", \"mSie\", 6010000000, Maxwell, 1, False\n",
      "INFO 04:09PM [get_matrix]: Exporting matrix data to (C:\\Users\\kimje\\AppData\\Local\\Temp\\tmpx5tlysqq.txt, C, , Setup:AdaptivePass, \"Original\", \"ohm\", \"nH\", \"fF\", \"mSie\", 6010000000, Maxwell, 1, False\n",
      "INFO 04:09PM [get_matrix]: Exporting matrix data to (C:\\Users\\kimje\\AppData\\Local\\Temp\\tmpn0803qim.txt, C, , Setup:AdaptivePass, \"Original\", \"ohm\", \"nH\", \"fF\", \"mSie\", 6010000000, Maxwell, 2, False\n",
      "INFO 04:09PM [get_matrix]: Exporting matrix data to (C:\\Users\\kimje\\AppData\\Local\\Temp\\tmp91906m6f.txt, C, , Setup:AdaptivePass, \"Original\", \"ohm\", \"nH\", \"fF\", \"mSie\", 6010000000, Maxwell, 3, False\n",
      "INFO 04:09PM [get_matrix]: Exporting matrix data to (C:\\Users\\kimje\\AppData\\Local\\Temp\\tmpuzqxa0lm.txt, C, , Setup:AdaptivePass, \"Original\", \"ohm\", \"nH\", \"fF\", \"mSie\", 6010000000, Maxwell, 4, False\n",
      "INFO 04:09PM [get_matrix]: Exporting matrix data to (C:\\Users\\kimje\\AppData\\Local\\Temp\\tmp522t24q9.txt, C, , Setup:AdaptivePass, \"Original\", \"ohm\", \"nH\", \"fF\", \"mSie\", 6010000000, Maxwell, 5, False\n",
      "INFO 04:09PM [get_matrix]: Exporting matrix data to (C:\\Users\\kimje\\AppData\\Local\\Temp\\tmp5i1a7qxj.txt, C, , Setup:AdaptivePass, \"Original\", \"ohm\", \"nH\", \"fF\", \"mSie\", 6010000000, Maxwell, 6, False\n",
      "INFO 04:09PM [get_matrix]: Exporting matrix data to (C:\\Users\\kimje\\AppData\\Local\\Temp\\tmpsg_d877o.txt, C, , Setup:AdaptivePass, \"Original\", \"ohm\", \"nH\", \"fF\", \"mSie\", 6010000000, Maxwell, 7, False\n",
      "INFO 04:09PM [get_matrix]: Exporting matrix data to (C:\\Users\\kimje\\AppData\\Local\\Temp\\tmpjnz5msy6.txt, C, , Setup:AdaptivePass, \"Original\", \"ohm\", \"nH\", \"fF\", \"mSie\", 6010000000, Maxwell, 8, False\n",
      "INFO 04:09PM [get_matrix]: Exporting matrix data to (C:\\Users\\kimje\\AppData\\Local\\Temp\\tmpslcfama0.txt, C, , Setup:AdaptivePass, \"Original\", \"ohm\", \"nH\", \"fF\", \"mSie\", 6010000000, Maxwell, 9, False\n",
      "INFO 04:09PM [get_matrix]: Exporting matrix data to (C:\\Users\\kimje\\AppData\\Local\\Temp\\tmpjn8qeohp.txt, C, , Setup:AdaptivePass, \"Original\", \"ohm\", \"nH\", \"fF\", \"mSie\", 6010000000, Maxwell, 10, False\n"
     ]
    },
    {
     "data": {
      "text/html": [
       "<div>\n",
       "<style scoped>\n",
       "    .dataframe tbody tr th:only-of-type {\n",
       "        vertical-align: middle;\n",
       "    }\n",
       "\n",
       "    .dataframe tbody tr th {\n",
       "        vertical-align: top;\n",
       "    }\n",
       "\n",
       "    .dataframe thead th {\n",
       "        text-align: right;\n",
       "    }\n",
       "</style>\n",
       "<table border=\"1\" class=\"dataframe\">\n",
       "  <thead>\n",
       "    <tr style=\"text-align: right;\">\n",
       "      <th></th>\n",
       "      <th>ground_main_plane</th>\n",
       "      <th>pad_bot_Q0</th>\n",
       "      <th>pad_top_Q0</th>\n",
       "      <th>quad_coupler_c0</th>\n",
       "    </tr>\n",
       "  </thead>\n",
       "  <tbody>\n",
       "    <tr>\n",
       "      <th>ground_main_plane</th>\n",
       "      <td>157.180</td>\n",
       "      <td>-39.3120</td>\n",
       "      <td>-33.702</td>\n",
       "      <td>-26.9240</td>\n",
       "    </tr>\n",
       "    <tr>\n",
       "      <th>pad_bot_Q0</th>\n",
       "      <td>-39.312</td>\n",
       "      <td>82.1050</td>\n",
       "      <td>-36.754</td>\n",
       "      <td>-2.8344</td>\n",
       "    </tr>\n",
       "    <tr>\n",
       "      <th>pad_top_Q0</th>\n",
       "      <td>-33.702</td>\n",
       "      <td>-36.7540</td>\n",
       "      <td>93.032</td>\n",
       "      <td>-19.8480</td>\n",
       "    </tr>\n",
       "    <tr>\n",
       "      <th>quad_coupler_c0</th>\n",
       "      <td>-26.924</td>\n",
       "      <td>-2.8344</td>\n",
       "      <td>-19.848</td>\n",
       "      <td>51.0650</td>\n",
       "    </tr>\n",
       "  </tbody>\n",
       "</table>\n",
       "</div>"
      ],
      "text/plain": [
       "                   ground_main_plane  pad_bot_Q0  pad_top_Q0  quad_coupler_c0\n",
       "ground_main_plane            157.180    -39.3120     -33.702         -26.9240\n",
       "pad_bot_Q0                   -39.312     82.1050     -36.754          -2.8344\n",
       "pad_top_Q0                   -33.702    -36.7540      93.032         -19.8480\n",
       "quad_coupler_c0              -26.924     -2.8344     -19.848          51.0650"
      ]
     },
     "execution_count": 62,
     "metadata": {},
     "output_type": "execute_result"
    }
   ],
   "source": [
    "c1.sim.run(components=['Q0','c0'], open_terminations=[('c0', 'in')])\n",
    "c1.sim._get_results_from_renderer()\n",
    "c1.sim.capacitance_matrix"
   ]
  },
  {
   "cell_type": "code",
   "execution_count": 63,
   "metadata": {},
   "outputs": [
    {
     "name": "stderr",
     "output_type": "stream",
     "text": [
      "INFO 04:09PM [__del__]: Disconnected from Ansys HFSS\n",
      "INFO 04:09PM [__del__]: Disconnected from Ansys HFSS\n",
      "INFO 04:09PM [__del__]: Disconnected from Ansys HFSS\n"
     ]
    },
    {
     "name": "stdout",
     "output_type": "stream",
     "text": [
      "[1, 2] [3]\n",
      "Predicted Values\n",
      "\n",
      "Transmon Properties\n",
      "f_Q 5.488806 [GHz]\n",
      "EC 310.727193 [MHz]\n",
      "EJ 13.616300 [GHz]\n",
      "alpha -361.275078 [MHz]\n",
      "dispersion 36.676438 [KHz]\n",
      "Lq 11.995161 [nH]\n",
      "Cq 62.338374 [fF]\n",
      "T1 54.406839 [us]\n",
      "\n",
      "**Coupling Properties**\n",
      "\n",
      "tCqbus1 -7.155333 [fF]\n",
      "gbus1_in_MHz -111.139258 [MHz]\n",
      "χ_bus1 -3.212974 [MHz]\n",
      "1/T1bus1 2925.274581 [Hz]\n",
      "T1bus1 54.406839 [us]\n",
      "Bus-Bus Couplings\n"
     ]
    },
    {
     "data": {
      "text/html": [
       "<div>\n",
       "<style scoped>\n",
       "    .dataframe tbody tr th:only-of-type {\n",
       "        vertical-align: middle;\n",
       "    }\n",
       "\n",
       "    .dataframe tbody tr th {\n",
       "        vertical-align: top;\n",
       "    }\n",
       "\n",
       "    .dataframe thead th {\n",
       "        text-align: right;\n",
       "    }\n",
       "</style>\n",
       "<table border=\"1\" class=\"dataframe\">\n",
       "  <thead>\n",
       "    <tr style=\"text-align: right;\">\n",
       "      <th></th>\n",
       "      <th>fQ</th>\n",
       "      <th>EC</th>\n",
       "      <th>EJ</th>\n",
       "      <th>alpha</th>\n",
       "      <th>dispersion</th>\n",
       "      <th>gbus</th>\n",
       "      <th>chi_in_MHz</th>\n",
       "      <th>χr MHz</th>\n",
       "      <th>gr MHz</th>\n",
       "    </tr>\n",
       "  </thead>\n",
       "  <tbody>\n",
       "    <tr>\n",
       "      <th>1</th>\n",
       "      <td>5.895078</td>\n",
       "      <td>362.154988</td>\n",
       "      <td>13.6163</td>\n",
       "      <td>-427.893368</td>\n",
       "      <td>138.063873</td>\n",
       "      <td>[-85.51695751006702]</td>\n",
       "      <td>[-3.7342197064828846]</td>\n",
       "      <td>3.734220</td>\n",
       "      <td>85.516958</td>\n",
       "    </tr>\n",
       "    <tr>\n",
       "      <th>2</th>\n",
       "      <td>5.877857</td>\n",
       "      <td>359.882014</td>\n",
       "      <td>13.6163</td>\n",
       "      <td>-424.90759</td>\n",
       "      <td>131.015574</td>\n",
       "      <td>[-104.45262530564528]</td>\n",
       "      <td>[-5.3986633142110865]</td>\n",
       "      <td>5.398663</td>\n",
       "      <td>104.452625</td>\n",
       "    </tr>\n",
       "    <tr>\n",
       "      <th>3</th>\n",
       "      <td>5.796115</td>\n",
       "      <td>349.20678</td>\n",
       "      <td>13.6163</td>\n",
       "      <td>-410.936506</td>\n",
       "      <td>101.724384</td>\n",
       "      <td>[-103.07416171820387]</td>\n",
       "      <td>[-4.5466323494986325]</td>\n",
       "      <td>4.546632</td>\n",
       "      <td>103.074162</td>\n",
       "    </tr>\n",
       "    <tr>\n",
       "      <th>4</th>\n",
       "      <td>5.693767</td>\n",
       "      <td>336.10275</td>\n",
       "      <td>13.6163</td>\n",
       "      <td>-393.902726</td>\n",
       "      <td>73.330474</td>\n",
       "      <td>[-108.81013218400939]</td>\n",
       "      <td>[-4.25977919668607]</td>\n",
       "      <td>4.259779</td>\n",
       "      <td>108.810132</td>\n",
       "    </tr>\n",
       "    <tr>\n",
       "      <th>5</th>\n",
       "      <td>5.60788</td>\n",
       "      <td>325.329576</td>\n",
       "      <td>13.6163</td>\n",
       "      <td>-379.993453</td>\n",
       "      <td>55.198078</td>\n",
       "      <td>[-108.90652952042984]</td>\n",
       "      <td>[-3.7122779108188353]</td>\n",
       "      <td>3.712278</td>\n",
       "      <td>108.906530</td>\n",
       "    </tr>\n",
       "    <tr>\n",
       "      <th>6</th>\n",
       "      <td>5.564683</td>\n",
       "      <td>319.987593</td>\n",
       "      <td>13.6163</td>\n",
       "      <td>-373.127803</td>\n",
       "      <td>47.688402</td>\n",
       "      <td>[-109.92921895509564]</td>\n",
       "      <td>[-3.5331208799408955]</td>\n",
       "      <td>3.533121</td>\n",
       "      <td>109.929219</td>\n",
       "    </tr>\n",
       "    <tr>\n",
       "      <th>7</th>\n",
       "      <td>5.528434</td>\n",
       "      <td>315.54398</td>\n",
       "      <td>13.6163</td>\n",
       "      <td>-367.432529</td>\n",
       "      <td>42.105162</td>\n",
       "      <td>[-109.97606316040506]</td>\n",
       "      <td>[-3.34263410978573]</td>\n",
       "      <td>3.342634</td>\n",
       "      <td>109.976063</td>\n",
       "    </tr>\n",
       "    <tr>\n",
       "      <th>8</th>\n",
       "      <td>5.503867</td>\n",
       "      <td>312.552795</td>\n",
       "      <td>13.6163</td>\n",
       "      <td>-363.606833</td>\n",
       "      <td>38.66108</td>\n",
       "      <td>[-110.65120997040441]</td>\n",
       "      <td>[-3.2586675261780256]</td>\n",
       "      <td>3.258668</td>\n",
       "      <td>110.651210</td>\n",
       "    </tr>\n",
       "    <tr>\n",
       "      <th>9</th>\n",
       "      <td>5.488806</td>\n",
       "      <td>310.727193</td>\n",
       "      <td>13.6163</td>\n",
       "      <td>-361.275078</td>\n",
       "      <td>36.676438</td>\n",
       "      <td>[-111.13925770670205]</td>\n",
       "      <td>[-3.212973776197271]</td>\n",
       "      <td>3.212974</td>\n",
       "      <td>111.139258</td>\n",
       "    </tr>\n",
       "  </tbody>\n",
       "</table>\n",
       "</div>"
      ],
      "text/plain": [
       "         fQ          EC       EJ       alpha  dispersion  \\\n",
       "1  5.895078  362.154988  13.6163 -427.893368  138.063873   \n",
       "2  5.877857  359.882014  13.6163  -424.90759  131.015574   \n",
       "3  5.796115   349.20678  13.6163 -410.936506  101.724384   \n",
       "4  5.693767   336.10275  13.6163 -393.902726   73.330474   \n",
       "5   5.60788  325.329576  13.6163 -379.993453   55.198078   \n",
       "6  5.564683  319.987593  13.6163 -373.127803   47.688402   \n",
       "7  5.528434   315.54398  13.6163 -367.432529   42.105162   \n",
       "8  5.503867  312.552795  13.6163 -363.606833    38.66108   \n",
       "9  5.488806  310.727193  13.6163 -361.275078   36.676438   \n",
       "\n",
       "                    gbus             chi_in_MHz    χr MHz      gr MHz  \n",
       "1   [-85.51695751006702]  [-3.7342197064828846]  3.734220   85.516958  \n",
       "2  [-104.45262530564528]  [-5.3986633142110865]  5.398663  104.452625  \n",
       "3  [-103.07416171820387]  [-4.5466323494986325]  4.546632  103.074162  \n",
       "4  [-108.81013218400939]    [-4.25977919668607]  4.259779  108.810132  \n",
       "5  [-108.90652952042984]  [-3.7122779108188353]  3.712278  108.906530  \n",
       "6  [-109.92921895509564]  [-3.5331208799408955]  3.533121  109.929219  \n",
       "7  [-109.97606316040506]    [-3.34263410978573]  3.342634  109.976063  \n",
       "8  [-110.65120997040441]  [-3.2586675261780256]  3.258668  110.651210  \n",
       "9  [-111.13925770670205]   [-3.212973776197271]  3.212974  111.139258  "
      ]
     },
     "execution_count": 63,
     "metadata": {},
     "output_type": "execute_result"
    }
   ],
   "source": [
    "c1.setup.junctions = Dict({'Lj': 12,'Cj': 2})\n",
    "c1.setup.freq_readout = 7.00\n",
    "c1.setup.freq_bus = []\n",
    "c1.run_lom()\n",
    "c1.lumped_oscillator_all"
   ]
  },
  {
   "cell_type": "code",
   "execution_count": 54,
   "metadata": {},
   "outputs": [],
   "source": [
    "c1.sim.close()"
   ]
  },
  {
   "cell_type": "code",
   "execution_count": null,
   "metadata": {},
   "outputs": [],
   "source": []
  }
 ],
 "metadata": {
  "kernelspec": {
   "display_name": "Python 3.9.10 ('metal')",
   "language": "python",
   "name": "python3"
  },
  "language_info": {
   "codemirror_mode": {
    "name": "ipython",
    "version": 3
   },
   "file_extension": ".py",
   "mimetype": "text/x-python",
   "name": "python",
   "nbconvert_exporter": "python",
   "pygments_lexer": "ipython3",
   "version": "3.9.10"
  },
  "orig_nbformat": 4,
  "vscode": {
   "interpreter": {
    "hash": "ac951534856e2c23f9f162419ca8ae29ffbc7967cf243c458d1cebaa12df0b5c"
   }
  }
 },
 "nbformat": 4,
 "nbformat_minor": 2
}
