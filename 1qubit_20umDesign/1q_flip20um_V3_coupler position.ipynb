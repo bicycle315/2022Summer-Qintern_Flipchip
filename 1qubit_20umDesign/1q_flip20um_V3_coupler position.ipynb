{
 "cells": [
  {
   "cell_type": "code",
   "execution_count": 1,
   "metadata": {},
   "outputs": [],
   "source": [
    "import warnings\n",
    "warnings.filterwarnings(\"ignore\")\n",
    "%load_ext autoreload\n",
    "%autoreload 2\n",
    "from qiskit_metal import Dict, MetalGUI, designs\n",
    "from qiskit_metal.qlibrary.qubits.transmon_pocket import TransmonPocket\n",
    "from qiskit_metal.qlibrary.qubits.transmon_pocket_6 import TransmonPocket6\n",
    "from qiskit_metal.qlibrary.tlines.meandered import RouteMeander\n",
    "from qiskit_metal.qlibrary.tlines.straight_path import RouteStraight\n",
    "from qiskit_metal.qlibrary.terminations.launchpad_wb_coupled import LaunchpadWirebondCoupled\n",
    "from qiskit_metal.qlibrary.couplers.coupled_line_tee import CoupledLineTee\n",
    "from qiskit_metal.qlibrary.user_components.left_coupler import LeftCoupler\n",
    "from qiskit_metal.qlibrary.user_components.right_coupler import RightCoupler\n",
    "from qiskit_metal.qlibrary.user_components.straightdown_coupler import StraightDownCoupler\n",
    "from qiskit_metal.qlibrary.user_components.straightup_coupler import StraightUpCoupler"
   ]
  },
  {
   "cell_type": "code",
   "execution_count": 2,
   "metadata": {},
   "outputs": [],
   "source": [
    "design = designs.DesignFlipChip({}, overwrite_enabled=True)\n",
    "gui = MetalGUI(design)"
   ]
  },
  {
   "cell_type": "code",
   "execution_count": 3,
   "metadata": {},
   "outputs": [],
   "source": [
    "design.delete_all_components()"
   ]
  },
  {
   "cell_type": "code",
   "execution_count": 30,
   "metadata": {},
   "outputs": [
    {
     "data": {
      "text/plain": [
       "'5um'"
      ]
     },
     "execution_count": 30,
     "metadata": {},
     "output_type": "execute_result"
    }
   ],
   "source": [
    "design.get_chip_z('Q_chip')"
   ]
  },
  {
   "cell_type": "code",
   "execution_count": 3,
   "metadata": {},
   "outputs": [],
   "source": [
    "design.chips['C_chip'].size['size_x']='8mm'\n",
    "design.chips['C_chip'].size['size_y']='8mm'\n",
    "design.chips['Q_chip'].size['size_x']='8mm'\n",
    "design.chips['Q_chip'].size['size_y']='8mm'\n",
    "design.chips['Q_chip'].size['center_z']='20um'"
   ]
  },
  {
   "cell_type": "markdown",
   "metadata": {},
   "source": [
    "# Resonator length"
   ]
  },
  {
   "cell_type": "code",
   "execution_count": 4,
   "metadata": {},
   "outputs": [],
   "source": [
    "from qiskit_metal.analyses.em.cpw_calculations import guided_wavelength\n",
    "\n",
    "def find_resonator_length(frequency, line_width, line_gap, N): \n",
    "    #frequency in GHz\n",
    "    #line_width/line_gap in um\n",
    "    #N -> 2 for lambda/2, 4 for lambda/4\n",
    "    \n",
    "    [lambdaG, etfSqrt, q] = guided_wavelength(frequency*10**9, line_width*10**-6,\n",
    "                                              line_gap*10**-6, 750*10**-6, 200*10**-9)\n",
    "    return str(lambdaG/N*10**3)+\" mm\""
   ]
  },
  {
   "cell_type": "code",
   "execution_count": 5,
   "metadata": {},
   "outputs": [
    {
     "name": "stdout",
     "output_type": "stream",
     "text": [
      "[7.653254683870284, 7.424788339841421, 7.2083465402091305]\n"
     ]
    }
   ],
   "source": [
    "resonator_length_2=[]\n",
    "for i in range(3):\n",
    "    a=find_resonator_length(7.2+i*0.2,10,6,2)\n",
    "    a=a.strip('mm')\n",
    "    a=float(a)-0.8 \n",
    "    resonator_length_2.append(a)\n",
    "print(resonator_length_2)\n"
   ]
  },
  {
   "cell_type": "markdown",
   "metadata": {},
   "source": [
    "# Flipchip"
   ]
  },
  {
   "cell_type": "code",
   "execution_count": 6,
   "metadata": {},
   "outputs": [],
   "source": [
    "cp0 = dict(down = dict(loc_W=1, loc_H=-1, pad_width='120um'))\n",
    "\n",
    "# q0=[TransmonPocket6(design, 'Q0', options=dict(pos_x='-2000um',\n",
    "#                                             pos_y='-2000um',\n",
    "#                                             chip='Q_chip',\n",
    "#                                             connection_pads=cp0))]\n",
    "q0=[TransmonPocket6(design, 'Q0', options=dict(pos_x='-2000um',\n",
    "                                            pos_y='-2000um',\n",
    "                                            chip='Q_chip'))]\n",
    "\n",
    "qubits=q0\n",
    "\n",
    "q0x=float(qubits[0].options.pos_x.strip('um'))\n",
    "q0y=float(qubits[0].options.pos_y.strip('um'))\n",
    "\n",
    "\n",
    "c0 = LeftCoupler(design, \"c0\", options=dict(pos_x=f\"{q0x-100}um\",\n",
    "                                              pos_y=f\"{q0y+100}um\",\n",
    "                                              pad_width=\"150um\",\n",
    "                                              pad_height=\"60um\",\n",
    "                                              cpw_stub_height=\"200um\",\n",
    "                                              chip=\"C_chip\"))\n",
    "\n",
    "design.rebuild()\n",
    "gui.rebuild()\n",
    "gui.autoscale()"
   ]
  },
  {
   "cell_type": "code",
   "execution_count": 7,
   "metadata": {},
   "outputs": [],
   "source": [
    "lpL=LaunchpadWirebondCoupled(design, 'lpL',\n",
    "                                         options = dict(chip=\"C_chip\",\n",
    "                                         pos_x = '-3000um',\n",
    "                                         pos_y = '2000um',\n",
    "                                         lead_length = '30um'))\n",
    "lpR=LaunchpadWirebondCoupled(design, 'lpR',\n",
    "                                         options = dict(chip=\"C_chip\",\n",
    "                                         pos_x = '3000um',\n",
    "                                         pos_y = '2000um',\n",
    "                                         orientation='180',\n",
    "                                         lead_length = '30um'))"
   ]
  },
  {
   "cell_type": "code",
   "execution_count": 8,
   "metadata": {},
   "outputs": [],
   "source": [
    "clt0 = CoupledLineTee(design, \"clt0\", \n",
    "                        options=dict(pos_x='-2000um',\n",
    "                                    pos_y='2000um', \n",
    "                                    coupling_length='300um',\n",
    "                                    chip=\"C_chip\",\n",
    "                                    down_length='300um',\n",
    "                                    fillet='99um',\n",
    "                                    coupling_space='5um',\n",
    "                                    mirror=True,\n",
    "                                    open_termination=True))\n",
    "\n"
   ]
  },
  {
   "cell_type": "code",
   "execution_count": 9,
   "metadata": {},
   "outputs": [],
   "source": [
    "fl0=RouteStraight(design, 'fl0',options=Dict(chip=\"C_chip\", pin_inputs=Dict(start_pin=Dict(\n",
    "                                                            component='lpL',\n",
    "                                                            pin='tie'),\n",
    "                                                            end_pin=Dict(\n",
    "                                                            component='clt0',\n",
    "                                                            pin='prime_start'))))\n",
    "fl1=RouteStraight(design, 'fl1',options=Dict(chip=\"C_chip\",pin_inputs=Dict(start_pin=Dict(\n",
    "                                                            component='clt0',\n",
    "                                                            pin='prime_end'),\n",
    "                                                            end_pin=Dict(\n",
    "                                                            component='lpR',\n",
    "                                                            pin='tie'))))\n"
   ]
  },
  {
   "cell_type": "markdown",
   "metadata": {},
   "source": [
    "# Readout resonator"
   ]
  },
  {
   "cell_type": "code",
   "execution_count": 10,
   "metadata": {},
   "outputs": [],
   "source": [
    "from collections import OrderedDict\n",
    "jogs=OrderedDict()\n",
    "def connect(component_name: str, component1: str, pin1: str, component2: str, pin2: str,\n",
    "            length: str, start_jogged_extension: OrderedDict, end_jogged_extension: OrderedDict,\n",
    "            spacing: str, asymmetry='0 um',  start_straight='0 um', end_straight='0 um', flip=False):\n",
    "    \"\"\"Connect two pins with a CPW.\"\"\"\n",
    "    myoptions = Dict(\n",
    "        chip=\"C_chip\",\n",
    "        pin_inputs=Dict(\n",
    "            start_pin=Dict(\n",
    "                component=component1,\n",
    "                pin=pin1),\n",
    "            end_pin=Dict(\n",
    "                component=component2,\n",
    "                pin=pin2)),\n",
    "        lead=Dict(\n",
    "            start_straight=start_straight,\n",
    "            end_straight=end_straight,\n",
    "            start_jogged_extension=start_jogged_extension,\n",
    "            end_jogged_extension=end_jogged_extension),\n",
    "        total_length=length,\n",
    "        fillet = '99.9um',\n",
    "        meander=dict(asymmetry=asymmetry,\n",
    "                     spacing=spacing))\n",
    "    myoptions.meander.lead_direction_inverted = 'true' if flip else 'false'\n",
    "    return RouteMeander(design, component_name, myoptions)"
   ]
  },
  {
   "cell_type": "code",
   "execution_count": 11,
   "metadata": {},
   "outputs": [],
   "source": [
    "rr0=connect('rr0', 'clt0', 'second_end', 'c0', 'in',\n",
    "            resonator_length_2[1],jogs,jogs, \n",
    "            '400um','0um', '100um', '100um')"
   ]
  },
  {
   "cell_type": "markdown",
   "metadata": {},
   "source": [
    "# EPR Analysis"
   ]
  },
  {
   "cell_type": "code",
   "execution_count": 19,
   "metadata": {},
   "outputs": [],
   "source": [
    "from qiskit_metal.analyses.quantization import EPRanalysis\n",
    "eig_rd = EPRanalysis(design, \"hfss\")\n",
    "hfss = eig_rd.sim.renderer"
   ]
  },
  {
   "cell_type": "code",
   "execution_count": 20,
   "metadata": {},
   "outputs": [
    {
     "name": "stderr",
     "output_type": "stream",
     "text": [
      "INFO 12:54PM [connect_project]: Connecting to Ansys Desktop API...\n",
      "INFO 12:54PM [load_ansys_project]: \tOpened Ansys App\n",
      "INFO 12:54PM [load_ansys_project]: \tOpened Ansys Desktop v2018.0.0\n",
      "INFO 12:54PM [load_ansys_project]: \tOpened Ansys Project\n",
      "\tFolder:    C:/Users/kimje/Documents/Ansoft/\n",
      "\tProject:   Project23\n",
      "INFO 12:54PM [connect_design]: No active design found (or error getting active design).\n",
      "INFO 12:54PM [connect]: \t Connected to project \"Project23\". No design detected\n"
     ]
    },
    {
     "data": {
      "text/plain": [
       "True"
      ]
     },
     "execution_count": 20,
     "metadata": {},
     "output_type": "execute_result"
    }
   ],
   "source": [
    "hfss.start()"
   ]
  },
  {
   "cell_type": "code",
   "execution_count": 21,
   "metadata": {},
   "outputs": [
    {
     "name": "stderr",
     "output_type": "stream",
     "text": [
      "12:54PM 51s WARNING [activate_ansys_design]: The design_name=flip20_res7.4_coupler was not in active project.  Designs in active project are: \n",
      "[].  A new design will be added to the project.  \n",
      "INFO 12:54PM [connect_design]: \tOpened active design\n",
      "\tDesign:    flip20_res7.4_coupler [Solution type: Eigenmode]\n",
      "WARNING 12:54PM [connect_setup]: \tNo design setup detected.\n",
      "WARNING 12:54PM [connect_setup]: \tCreating eigenmode default setup.\n",
      "INFO 12:54PM [get_setup]: \tOpened setup `Setup`  (<class 'pyEPR.ansys.HfssEMSetup'>)\n"
     ]
    }
   ],
   "source": [
    "hfss.activate_ansys_design(\"flip20_res7.4_coupler\", 'eigenmode')\n",
    "hfss.render_design(['Q0','c0','lpL','lpR','clt0','rr0','fl0','fl1'],\n",
    "                    [('clt0','prime_end')],\n",
    "                    box_plus_buffer=False)"
   ]
  },
  {
   "cell_type": "code",
   "execution_count": 28,
   "metadata": {},
   "outputs": [
    {
     "data": {
      "text/plain": [
       "True"
      ]
     },
     "execution_count": 28,
     "metadata": {},
     "output_type": "execute_result"
    }
   ],
   "source": [
    "hfss.close()"
   ]
  },
  {
   "cell_type": "markdown",
   "metadata": {},
   "source": [
    "# LOM Analysis"
   ]
  },
  {
   "cell_type": "code",
   "execution_count": 12,
   "metadata": {},
   "outputs": [],
   "source": [
    "from qiskit_metal.analyses.quantization import LOManalysis\n",
    "c1 = LOManalysis(design, \"q3d\")\n"
   ]
  },
  {
   "cell_type": "code",
   "execution_count": 13,
   "metadata": {},
   "outputs": [
    {
     "data": {
      "text/plain": [
       "{'name': 'Setup',\n",
       " 'reuse_selected_design': True,\n",
       " 'reuse_setup': True,\n",
       " 'freq_ghz': '5.44',\n",
       " 'save_fields': False,\n",
       " 'enabled': True,\n",
       " 'max_passes': 10,\n",
       " 'min_passes': 2,\n",
       " 'min_converged_passes': 2,\n",
       " 'percent_error': 0.5,\n",
       " 'percent_refinement': 30,\n",
       " 'auto_increase_solution_order': 'False',\n",
       " 'solution_order': 'Medium',\n",
       " 'solver_type': 'Iterative'}"
      ]
     },
     "execution_count": 13,
     "metadata": {},
     "output_type": "execute_result"
    }
   ],
   "source": [
    "c1.sim.setup.max_passes = 10\n",
    "c1.sim.setup_update(freq_ghz='5.44',solution_order = 'Medium', auto_increase_solution_order = 'False')\n",
    "c1.sim.setup"
   ]
  },
  {
   "cell_type": "code",
   "execution_count": 16,
   "metadata": {},
   "outputs": [
    {
     "name": "stderr",
     "output_type": "stream",
     "text": [
      "INFO 02:55PM [get_matrix]: Exporting matrix data to (C:\\Users\\kimje\\AppData\\Local\\Temp\\tmp8ey4fzc4.txt, C, , Setup:LastAdaptive, \"Original\", \"ohm\", \"nH\", \"fF\", \"mSie\", 5440000000, Maxwell, 1, False\n",
      "INFO 02:55PM [get_matrix]: Exporting matrix data to (C:\\Users\\kimje\\AppData\\Local\\Temp\\tmps9cg8be4.txt, C, , Setup:AdaptivePass, \"Original\", \"ohm\", \"nH\", \"fF\", \"mSie\", 5440000000, Maxwell, 1, False\n",
      "INFO 02:55PM [get_matrix]: Exporting matrix data to (C:\\Users\\kimje\\AppData\\Local\\Temp\\tmprexjr7v9.txt, C, , Setup:AdaptivePass, \"Original\", \"ohm\", \"nH\", \"fF\", \"mSie\", 5440000000, Maxwell, 2, False\n",
      "INFO 02:55PM [get_matrix]: Exporting matrix data to (C:\\Users\\kimje\\AppData\\Local\\Temp\\tmpoxqhw4t1.txt, C, , Setup:AdaptivePass, \"Original\", \"ohm\", \"nH\", \"fF\", \"mSie\", 5440000000, Maxwell, 3, False\n",
      "INFO 02:55PM [get_matrix]: Exporting matrix data to (C:\\Users\\kimje\\AppData\\Local\\Temp\\tmp09l67t__.txt, C, , Setup:AdaptivePass, \"Original\", \"ohm\", \"nH\", \"fF\", \"mSie\", 5440000000, Maxwell, 4, False\n",
      "INFO 02:55PM [get_matrix]: Exporting matrix data to (C:\\Users\\kimje\\AppData\\Local\\Temp\\tmpf8t73u58.txt, C, , Setup:AdaptivePass, \"Original\", \"ohm\", \"nH\", \"fF\", \"mSie\", 5440000000, Maxwell, 5, False\n",
      "INFO 02:55PM [get_matrix]: Exporting matrix data to (C:\\Users\\kimje\\AppData\\Local\\Temp\\tmp9ivfilxt.txt, C, , Setup:AdaptivePass, \"Original\", \"ohm\", \"nH\", \"fF\", \"mSie\", 5440000000, Maxwell, 6, False\n",
      "INFO 02:55PM [get_matrix]: Exporting matrix data to (C:\\Users\\kimje\\AppData\\Local\\Temp\\tmpmaerqqo_.txt, C, , Setup:AdaptivePass, \"Original\", \"ohm\", \"nH\", \"fF\", \"mSie\", 5440000000, Maxwell, 7, False\n",
      "INFO 02:55PM [get_matrix]: Exporting matrix data to (C:\\Users\\kimje\\AppData\\Local\\Temp\\tmpzm6aovp1.txt, C, , Setup:AdaptivePass, \"Original\", \"ohm\", \"nH\", \"fF\", \"mSie\", 5440000000, Maxwell, 8, False\n",
      "INFO 02:55PM [get_matrix]: Exporting matrix data to (C:\\Users\\kimje\\AppData\\Local\\Temp\\tmp4w42qx1r.txt, C, , Setup:AdaptivePass, \"Original\", \"ohm\", \"nH\", \"fF\", \"mSie\", 5440000000, Maxwell, 9, False\n",
      "INFO 02:55PM [get_matrix]: Exporting matrix data to (C:\\Users\\kimje\\AppData\\Local\\Temp\\tmpp74eg22k.txt, C, , Setup:AdaptivePass, \"Original\", \"ohm\", \"nH\", \"fF\", \"mSie\", 5440000000, Maxwell, 10, False\n",
      "INFO 02:55PM [get_matrix]: Exporting matrix data to (C:\\Users\\kimje\\AppData\\Local\\Temp\\tmpvyogns39.txt, C, , Setup:AdaptivePass, \"Original\", \"ohm\", \"nH\", \"fF\", \"mSie\", 5440000000, Maxwell, 11, False\n"
     ]
    },
    {
     "data": {
      "text/html": [
       "<div>\n",
       "<style scoped>\n",
       "    .dataframe tbody tr th:only-of-type {\n",
       "        vertical-align: middle;\n",
       "    }\n",
       "\n",
       "    .dataframe tbody tr th {\n",
       "        vertical-align: top;\n",
       "    }\n",
       "\n",
       "    .dataframe thead th {\n",
       "        text-align: right;\n",
       "    }\n",
       "</style>\n",
       "<table border=\"1\" class=\"dataframe\">\n",
       "  <thead>\n",
       "    <tr style=\"text-align: right;\">\n",
       "      <th></th>\n",
       "      <th>ground</th>\n",
       "      <th>pad_bot_Q0</th>\n",
       "      <th>pad_top_Q0</th>\n",
       "      <th>quad_coupler_c0</th>\n",
       "    </tr>\n",
       "  </thead>\n",
       "  <tbody>\n",
       "    <tr>\n",
       "      <th>ground</th>\n",
       "      <td>283.700</td>\n",
       "      <td>-74.136000</td>\n",
       "      <td>-69.5560</td>\n",
       "      <td>-79.261000</td>\n",
       "    </tr>\n",
       "    <tr>\n",
       "      <th>pad_bot_Q0</th>\n",
       "      <td>-74.136</td>\n",
       "      <td>107.710000</td>\n",
       "      <td>-31.7220</td>\n",
       "      <td>-0.095694</td>\n",
       "    </tr>\n",
       "    <tr>\n",
       "      <th>pad_top_Q0</th>\n",
       "      <td>-69.556</td>\n",
       "      <td>-31.722000</td>\n",
       "      <td>107.4800</td>\n",
       "      <td>-4.423200</td>\n",
       "    </tr>\n",
       "    <tr>\n",
       "      <th>quad_coupler_c0</th>\n",
       "      <td>-79.261</td>\n",
       "      <td>-0.095694</td>\n",
       "      <td>-4.4232</td>\n",
       "      <td>83.819000</td>\n",
       "    </tr>\n",
       "  </tbody>\n",
       "</table>\n",
       "</div>"
      ],
      "text/plain": [
       "                  ground  pad_bot_Q0  pad_top_Q0  quad_coupler_c0\n",
       "ground           283.700  -74.136000    -69.5560       -79.261000\n",
       "pad_bot_Q0       -74.136  107.710000    -31.7220        -0.095694\n",
       "pad_top_Q0       -69.556  -31.722000    107.4800        -4.423200\n",
       "quad_coupler_c0  -79.261   -0.095694     -4.4232        83.819000"
      ]
     },
     "execution_count": 16,
     "metadata": {},
     "output_type": "execute_result"
    }
   ],
   "source": [
    "#c1.sim.run(components=['Q0','c0'], open_terminations=[('c0', 'in')])\n",
    "c1.sim._get_results_from_renderer()\n",
    "c1.sim.capacitance_matrix"
   ]
  },
  {
   "cell_type": "code",
   "execution_count": 17,
   "metadata": {},
   "outputs": [
    {
     "name": "stdout",
     "output_type": "stream",
     "text": [
      "[1, 2] [3]\n",
      "Predicted Values\n",
      "\n",
      "Transmon Properties\n",
      "f_Q 5.415230 [GHz]\n",
      "EC 273.688919 [MHz]\n",
      "EJ 14.854145 [GHz]\n",
      "alpha -312.162928 [MHz]\n",
      "dispersion 5.202506 [KHz]\n",
      "Lq 10.995564 [nH]\n",
      "Cq 70.774616 [fF]\n",
      "T1 835.223940 [us]\n",
      "\n",
      "**Coupling Properties**\n",
      "\n",
      "tCqbus1 -2.167602 [fF]\n",
      "gbus1_in_MHz -31.701900 [MHz]\n",
      "χ_bus1 -0.192673 [MHz]\n",
      "1/T1bus1 190.553617 [Hz]\n",
      "T1bus1 835.223940 [us]\n",
      "Bus-Bus Couplings\n"
     ]
    },
    {
     "data": {
      "text/html": [
       "<div>\n",
       "<style scoped>\n",
       "    .dataframe tbody tr th:only-of-type {\n",
       "        vertical-align: middle;\n",
       "    }\n",
       "\n",
       "    .dataframe tbody tr th {\n",
       "        vertical-align: top;\n",
       "    }\n",
       "\n",
       "    .dataframe thead th {\n",
       "        text-align: right;\n",
       "    }\n",
       "</style>\n",
       "<table border=\"1\" class=\"dataframe\">\n",
       "  <thead>\n",
       "    <tr style=\"text-align: right;\">\n",
       "      <th></th>\n",
       "      <th>fQ</th>\n",
       "      <th>EC</th>\n",
       "      <th>EJ</th>\n",
       "      <th>alpha</th>\n",
       "      <th>dispersion</th>\n",
       "      <th>gbus</th>\n",
       "      <th>chi_in_MHz</th>\n",
       "      <th>χr MHz</th>\n",
       "      <th>gr MHz</th>\n",
       "    </tr>\n",
       "  </thead>\n",
       "  <tbody>\n",
       "    <tr>\n",
       "      <th>1</th>\n",
       "      <td>5.460843</td>\n",
       "      <td>278.600765</td>\n",
       "      <td>14.854145</td>\n",
       "      <td>-318.233174</td>\n",
       "      <td>6.218995</td>\n",
       "      <td>[-106.92811837182022]</td>\n",
       "      <td>[-2.3411352282720785]</td>\n",
       "      <td>2.341135</td>\n",
       "      <td>106.928118</td>\n",
       "    </tr>\n",
       "    <tr>\n",
       "      <th>2</th>\n",
       "      <td>5.706663</td>\n",
       "      <td>305.927223</td>\n",
       "      <td>14.854145</td>\n",
       "      <td>-352.287289</td>\n",
       "      <td>15.479624</td>\n",
       "      <td>[-76.65257841526184]</td>\n",
       "      <td>[-1.7502315761270781]</td>\n",
       "      <td>1.750232</td>\n",
       "      <td>76.652578</td>\n",
       "    </tr>\n",
       "    <tr>\n",
       "      <th>3</th>\n",
       "      <td>5.566585</td>\n",
       "      <td>290.177924</td>\n",
       "      <td>14.854145</td>\n",
       "      <td>-332.601895</td>\n",
       "      <td>9.299044</td>\n",
       "      <td>[-42.863733563102834]</td>\n",
       "      <td>[-0.4400848454301805]</td>\n",
       "      <td>0.440085</td>\n",
       "      <td>42.863734</td>\n",
       "    </tr>\n",
       "    <tr>\n",
       "      <th>4</th>\n",
       "      <td>5.582665</td>\n",
       "      <td>291.961852</td>\n",
       "      <td>14.854145</td>\n",
       "      <td>-334.823633</td>\n",
       "      <td>9.872299</td>\n",
       "      <td>[-39.23993636539207]</td>\n",
       "      <td>[-0.37792949609844245]</td>\n",
       "      <td>0.377929</td>\n",
       "      <td>39.239936</td>\n",
       "    </tr>\n",
       "    <tr>\n",
       "      <th>5</th>\n",
       "      <td>5.533205</td>\n",
       "      <td>286.494502</td>\n",
       "      <td>14.854145</td>\n",
       "      <td>-328.020964</td>\n",
       "      <td>8.203844</td>\n",
       "      <td>[-34.53133714563255]</td>\n",
       "      <td>[-0.2716389046489545]</td>\n",
       "      <td>0.271639</td>\n",
       "      <td>34.531337</td>\n",
       "    </tr>\n",
       "    <tr>\n",
       "      <th>6</th>\n",
       "      <td>5.481935</td>\n",
       "      <td>280.888746</td>\n",
       "      <td>14.854145</td>\n",
       "      <td>-321.066026</td>\n",
       "      <td>6.747105</td>\n",
       "      <td>[-31.83569302424489]</td>\n",
       "      <td>[-0.21401695810091773]</td>\n",
       "      <td>0.214017</td>\n",
       "      <td>31.835693</td>\n",
       "    </tr>\n",
       "    <tr>\n",
       "      <th>7</th>\n",
       "      <td>5.455855</td>\n",
       "      <td>278.061163</td>\n",
       "      <td>14.854145</td>\n",
       "      <td>-317.565557</td>\n",
       "      <td>6.099686</td>\n",
       "      <td>[-31.96335782548801]</td>\n",
       "      <td>[-0.20768165734041288]</td>\n",
       "      <td>0.207682</td>\n",
       "      <td>31.963358</td>\n",
       "    </tr>\n",
       "    <tr>\n",
       "      <th>8</th>\n",
       "      <td>5.43656</td>\n",
       "      <td>275.979664</td>\n",
       "      <td>14.854145</td>\n",
       "      <td>-314.991995</td>\n",
       "      <td>5.657457</td>\n",
       "      <td>[-31.889892908292836]</td>\n",
       "      <td>[-0.20103432568538962]</td>\n",
       "      <td>0.201034</td>\n",
       "      <td>31.889893</td>\n",
       "    </tr>\n",
       "    <tr>\n",
       "      <th>9</th>\n",
       "      <td>5.42308</td>\n",
       "      <td>274.530666</td>\n",
       "      <td>14.854145</td>\n",
       "      <td>-313.202095</td>\n",
       "      <td>5.365929</td>\n",
       "      <td>[-31.863542265884895]</td>\n",
       "      <td>[-0.19684572023177882]</td>\n",
       "      <td>0.196846</td>\n",
       "      <td>31.863542</td>\n",
       "    </tr>\n",
       "    <tr>\n",
       "      <th>10</th>\n",
       "      <td>5.41523</td>\n",
       "      <td>273.688919</td>\n",
       "      <td>14.854145</td>\n",
       "      <td>-312.162928</td>\n",
       "      <td>5.202506</td>\n",
       "      <td>[-31.701900491265057]</td>\n",
       "      <td>[-0.19267254482000615]</td>\n",
       "      <td>0.192673</td>\n",
       "      <td>31.701900</td>\n",
       "    </tr>\n",
       "  </tbody>\n",
       "</table>\n",
       "</div>"
      ],
      "text/plain": [
       "          fQ          EC         EJ       alpha dispersion  \\\n",
       "1   5.460843  278.600765  14.854145 -318.233174   6.218995   \n",
       "2   5.706663  305.927223  14.854145 -352.287289  15.479624   \n",
       "3   5.566585  290.177924  14.854145 -332.601895   9.299044   \n",
       "4   5.582665  291.961852  14.854145 -334.823633   9.872299   \n",
       "5   5.533205  286.494502  14.854145 -328.020964   8.203844   \n",
       "6   5.481935  280.888746  14.854145 -321.066026   6.747105   \n",
       "7   5.455855  278.061163  14.854145 -317.565557   6.099686   \n",
       "8    5.43656  275.979664  14.854145 -314.991995   5.657457   \n",
       "9    5.42308  274.530666  14.854145 -313.202095   5.365929   \n",
       "10   5.41523  273.688919  14.854145 -312.162928   5.202506   \n",
       "\n",
       "                     gbus              chi_in_MHz    χr MHz      gr MHz  \n",
       "1   [-106.92811837182022]   [-2.3411352282720785]  2.341135  106.928118  \n",
       "2    [-76.65257841526184]   [-1.7502315761270781]  1.750232   76.652578  \n",
       "3   [-42.863733563102834]   [-0.4400848454301805]  0.440085   42.863734  \n",
       "4    [-39.23993636539207]  [-0.37792949609844245]  0.377929   39.239936  \n",
       "5    [-34.53133714563255]   [-0.2716389046489545]  0.271639   34.531337  \n",
       "6    [-31.83569302424489]  [-0.21401695810091773]  0.214017   31.835693  \n",
       "7    [-31.96335782548801]  [-0.20768165734041288]  0.207682   31.963358  \n",
       "8   [-31.889892908292836]  [-0.20103432568538962]  0.201034   31.889893  \n",
       "9   [-31.863542265884895]  [-0.19684572023177882]  0.196846   31.863542  \n",
       "10  [-31.701900491265057]  [-0.19267254482000615]  0.192673   31.701900  "
      ]
     },
     "execution_count": 17,
     "metadata": {},
     "output_type": "execute_result"
    }
   ],
   "source": [
    "c1.setup.junctions = Dict({'Lj': 11, 'Cj': 2})\n",
    "c1.setup.freq_readout = 7.09\n",
    "c1.setup.freq_bus = []\n",
    "c1.run_lom()\n",
    "c1.lumped_oscillator_all"
   ]
  },
  {
   "cell_type": "code",
   "execution_count": 17,
   "metadata": {},
   "outputs": [
    {
     "name": "stdout",
     "output_type": "stream",
     "text": [
      "Warning! 3 COM references still alive\n",
      "Ansys will likely refuse to shut down\n"
     ]
    }
   ],
   "source": [
    "c1.sim.close()"
   ]
  },
  {
   "cell_type": "code",
   "execution_count": null,
   "metadata": {},
   "outputs": [],
   "source": []
  }
 ],
 "metadata": {
  "kernelspec": {
   "display_name": "Python 3.9.10 ('metal')",
   "language": "python",
   "name": "python3"
  },
  "language_info": {
   "codemirror_mode": {
    "name": "ipython",
    "version": 3
   },
   "file_extension": ".py",
   "mimetype": "text/x-python",
   "name": "python",
   "nbconvert_exporter": "python",
   "pygments_lexer": "ipython3",
   "version": "3.9.10"
  },
  "orig_nbformat": 4,
  "vscode": {
   "interpreter": {
    "hash": "ac951534856e2c23f9f162419ca8ae29ffbc7967cf243c458d1cebaa12df0b5c"
   }
  }
 },
 "nbformat": 4,
 "nbformat_minor": 2
}
