{
 "cells": [
  {
   "cell_type": "code",
   "execution_count": 1,
   "metadata": {},
   "outputs": [],
   "source": [
    "import warnings\n",
    "warnings.filterwarnings(\"ignore\")\n",
    "%load_ext autoreload\n",
    "%autoreload 2\n",
    "from qiskit_metal import Dict, MetalGUI, designs\n",
    "from qiskit_metal.qlibrary.qubits.transmon_pocket import TransmonPocket\n",
    "from qiskit_metal.qlibrary.qubits.transmon_pocket_6 import TransmonPocket6\n",
    "from qiskit_metal.qlibrary.tlines.meandered import RouteMeander\n",
    "from qiskit_metal.qlibrary.tlines.straight_path import RouteStraight\n",
    "from qiskit_metal.qlibrary.terminations.launchpad_wb_coupled import LaunchpadWirebondCoupled\n",
    "from qiskit_metal.qlibrary.terminations.short_to_ground import ShortToGround\n",
    "from qiskit_metal.qlibrary.couplers.coupled_line_tee import CoupledLineTee\n",
    "from qiskit_metal.qlibrary.user_components.left_coupler import LeftCoupler\n",
    "from qiskit_metal.qlibrary.user_components.right_coupler import RightCoupler\n",
    "from qiskit_metal.qlibrary.user_components.straightdown_coupler import StraightDownCoupler\n",
    "from qiskit_metal.qlibrary.user_components.straightup_coupler import StraightUpCoupler"
   ]
  },
  {
   "cell_type": "code",
   "execution_count": 2,
   "metadata": {},
   "outputs": [],
   "source": [
    "design = designs.DesignFlipChip({}, overwrite_enabled=True)\n",
    "gui = MetalGUI(design)"
   ]
  },
  {
   "cell_type": "code",
   "execution_count": 5,
   "metadata": {},
   "outputs": [],
   "source": [
    "design.delete_all_components()"
   ]
  },
  {
   "cell_type": "code",
   "execution_count": 25,
   "metadata": {},
   "outputs": [
    {
     "data": {
      "text/plain": [
       "'7um'"
      ]
     },
     "execution_count": 25,
     "metadata": {},
     "output_type": "execute_result"
    }
   ],
   "source": [
    "design.get_chip_z('Q_chip')"
   ]
  },
  {
   "cell_type": "code",
   "execution_count": 3,
   "metadata": {},
   "outputs": [],
   "source": [
    "design.chips['C_chip'].size['size_x']='6mm'\n",
    "design.chips['C_chip'].size['size_y']='6mm'\n",
    "design.chips['Q_chip'].size['size_x']='4mm'\n",
    "design.chips['Q_chip'].size['size_y']='4mm'\n",
    "design.chips['Q_chip'].size['center_z']='7um'"
   ]
  },
  {
   "cell_type": "markdown",
   "metadata": {},
   "source": [
    "# Resonator length"
   ]
  },
  {
   "cell_type": "code",
   "execution_count": 4,
   "metadata": {},
   "outputs": [],
   "source": [
    "from qiskit_metal.analyses.em.cpw_calculations import guided_wavelength\n",
    "\n",
    "def find_resonator_length(frequency, line_width, line_gap, N): \n",
    "    #frequency in GHz\n",
    "    #line_width/line_gap in um\n",
    "    #N -> 2 for lambda/2, 4 for lambda/4\n",
    "    \n",
    "    [lambdaG, etfSqrt, q] = guided_wavelength(frequency*10**9, line_width*10**-6,\n",
    "                                              line_gap*10**-6, 750*10**-6, 200*10**-9)\n",
    "    return str(lambdaG/N*10**3)+\" mm\""
   ]
  },
  {
   "cell_type": "code",
   "execution_count": 5,
   "metadata": {},
   "outputs": [
    {
     "name": "stdout",
     "output_type": "stream",
     "text": [
      "[4.486627341935143, 4.372394169920711, 4.264173270104566]\n"
     ]
    }
   ],
   "source": [
    "resonator_length_4=[]\n",
    "for i in range(3):\n",
    "    a=find_resonator_length(7.2+i*0.2,10,6,4)\n",
    "    a=a.strip('mm')\n",
    "    a=float(a)-0.35+0.51-0.1+0.4-0.2\n",
    "    \n",
    "    resonator_length_4.append(a)\n",
    "print(resonator_length_4)\n"
   ]
  },
  {
   "cell_type": "markdown",
   "metadata": {},
   "source": [
    "# Flipchip"
   ]
  },
  {
   "cell_type": "code",
   "execution_count": 22,
   "metadata": {},
   "outputs": [],
   "source": [
    "cp0 = dict(down = dict(loc_W=1, loc_H=-1, pad_width='120um'))\n",
    "\n",
    "# q0=[TransmonPocket6(design, 'Q0', options=dict(pos_x='-2000um',\n",
    "#                                             pos_y='-2000um',\n",
    "#                                             chip='Q_chip',\n",
    "#                                             connection_pads=cp0))]\n",
    "q0=[TransmonPocket6(design, 'Q0', options=dict(pos_x='-1300um',\n",
    "                                            pos_y='-470um',\n",
    "                                            chip='Q_chip',\n",
    "                                            pad_width='355um',\n",
    "                                            pad_height='80um',\n",
    "                                            pad_gap='50um',\n",
    "                                            pocket_width='650um',\n",
    "                                            pocket_height='650um'))]\n",
    "\n",
    "qubits=q0\n",
    "\n",
    "q0x=float(qubits[0].options.pos_x.strip('um'))\n",
    "q0y=float(qubits[0].options.pos_y.strip('um'))\n",
    "\n",
    "\n",
    "c0 = StraightUpCoupler(design, \"c0\", options=dict(pos_x=f\"{q0x-100}um\",\n",
    "                                              pos_y=f\"{q0y+65}um\",\n",
    "                                              pad_width=\"150um\",\n",
    "                                              pad_height=\"80um\",\n",
    "                                              cpw_stub_height=\"200um\",\n",
    "                                              chip=\"C_chip\"))\n",
    "\n",
    "design.rebuild()\n",
    "gui.rebuild()\n",
    "gui.autoscale()"
   ]
  },
  {
   "cell_type": "code",
   "execution_count": 8,
   "metadata": {},
   "outputs": [],
   "source": [
    "lpL=LaunchpadWirebondCoupled(design, 'lpL',\n",
    "                                         options = dict(chip=\"C_chip\",\n",
    "                                         pos_x = '-1700um',\n",
    "                                         pos_y = '1300um',\n",
    "                                         lead_length = '30um'))\n",
    "lpR=LaunchpadWirebondCoupled(design, 'lpR',\n",
    "                                         options = dict(chip=\"C_chip\",\n",
    "                                         pos_x = '1700um',\n",
    "                                         pos_y = '1300um',\n",
    "                                         orientation='180',\n",
    "                                         lead_length = '30um'))"
   ]
  },
  {
   "cell_type": "code",
   "execution_count": 9,
   "metadata": {},
   "outputs": [],
   "source": [
    "\n",
    "\n",
    "stg=ShortToGround(design, 'stg', options=Dict(chip=\"C_chip\",\n",
    "                                                pos_x='-0.585mm',\n",
    "                                                pos_y='0mm',\n",
    "                                                orientation='270'))"
   ]
  },
  {
   "cell_type": "code",
   "execution_count": 10,
   "metadata": {},
   "outputs": [],
   "source": [
    "fl0=RouteStraight(design, 'fl0',options=Dict(chip=\"C_chip\", pin_inputs=Dict(start_pin=Dict(\n",
    "                                                            component='lpL',\n",
    "                                                            pin='tie'),\n",
    "                                                            end_pin=Dict(\n",
    "                                                            component='lpR',\n",
    "                                                            pin='tie'))))\n"
   ]
  },
  {
   "cell_type": "markdown",
   "metadata": {},
   "source": [
    "# Readout resonator"
   ]
  },
  {
   "cell_type": "code",
   "execution_count": 11,
   "metadata": {},
   "outputs": [],
   "source": [
    "from collections import OrderedDict\n",
    "jogs=OrderedDict()\n",
    "def connect(component_name: str, component1: str, pin1: str, component2: str, pin2: str,\n",
    "            length: str, start_jogged_extension: OrderedDict, end_jogged_extension: OrderedDict,\n",
    "            spacing: str, asymmetry='0 um',  start_straight='0 um', end_straight='0 um', flip=False):\n",
    "    \"\"\"Connect two pins with a CPW.\"\"\"\n",
    "    myoptions = Dict(\n",
    "        chip=\"C_chip\",\n",
    "        pin_inputs=Dict(\n",
    "            start_pin=Dict(\n",
    "                component=component1,\n",
    "                pin=pin1),\n",
    "            end_pin=Dict(\n",
    "                component=component2,\n",
    "                pin=pin2)),\n",
    "        lead=Dict(\n",
    "            start_straight=start_straight,\n",
    "            end_straight=end_straight,\n",
    "            start_jogged_extension=start_jogged_extension,\n",
    "            end_jogged_extension=end_jogged_extension),\n",
    "        total_length=length,\n",
    "        fillet = '99.9um',\n",
    "        meander=dict(asymmetry=asymmetry,\n",
    "                     spacing=spacing))\n",
    "    myoptions.meander.lead_direction_inverted = 'true' if flip else 'false'\n",
    "    return RouteMeander(design, component_name, myoptions)"
   ]
  },
  {
   "cell_type": "code",
   "execution_count": 12,
   "metadata": {},
   "outputs": [],
   "source": [
    "jogs1=OrderedDict()\n",
    "jogs1[0]=['R','350um']\n",
    "jogs1[1]=['R', '400um']\n",
    "jogs1[2]=['L','465um']\n"
   ]
  },
  {
   "cell_type": "code",
   "execution_count": 21,
   "metadata": {},
   "outputs": [],
   "source": [
    "#3.91mm\n",
    "rr0=connect('rr0', 'c0', 'in','stg', 'short', \n",
    "            resonator_length_4[1],jogs1,jogs, \n",
    "            '400um','0um', '1448um', '100um')"
   ]
  },
  {
   "cell_type": "markdown",
   "metadata": {},
   "source": [
    "# EPR Analysis"
   ]
  },
  {
   "cell_type": "code",
   "execution_count": 23,
   "metadata": {},
   "outputs": [],
   "source": [
    "from qiskit_metal.analyses.quantization import EPRanalysis\n",
    "eig_rd = EPRanalysis(design, \"hfss\")\n",
    "hfss = eig_rd.sim.renderer"
   ]
  },
  {
   "cell_type": "code",
   "execution_count": 24,
   "metadata": {},
   "outputs": [
    {
     "name": "stderr",
     "output_type": "stream",
     "text": [
      "INFO 04:48PM [connect_project]: Connecting to Ansys Desktop API...\n",
      "INFO 04:48PM [load_ansys_project]: \tOpened Ansys App\n",
      "INFO 04:48PM [load_ansys_project]: \tOpened Ansys Desktop v2018.0.0\n",
      "INFO 04:48PM [load_ansys_project]: \tOpened Ansys Project\n",
      "\tFolder:    C:/Users/kimje/Documents/Ansoft/\n",
      "\tProject:   flip7um_V4_2\n",
      "INFO 04:48PM [connect_design]: \tOpened active design\n",
      "\tDesign:    flip7um_V4-10 [Solution type: Eigenmode]\n",
      "INFO 04:48PM [get_setup]: \tOpened setup `Setup`  (<class 'pyEPR.ansys.HfssEMSetup'>)\n",
      "INFO 04:48PM [connect]: \tConnected to project \"flip7um_V4_2\" and design \"flip7um_V4-10\" 😀 \n",
      "\n"
     ]
    },
    {
     "data": {
      "text/plain": [
       "True"
      ]
     },
     "execution_count": 24,
     "metadata": {},
     "output_type": "execute_result"
    }
   ],
   "source": [
    "hfss.start()"
   ]
  },
  {
   "cell_type": "code",
   "execution_count": 25,
   "metadata": {},
   "outputs": [
    {
     "name": "stderr",
     "output_type": "stream",
     "text": [
      "04:48PM 40s WARNING [activate_ansys_design]: The design_name=flip7um_V5 was not in active project.  Designs in active project are: \n",
      "['flip7um_V4-9', 'flip7um_V4-10'].  A new design will be added to the project.  \n",
      "INFO 04:48PM [connect_design]: \tOpened active design\n",
      "\tDesign:    flip7um_V5 [Solution type: Eigenmode]\n",
      "WARNING 04:48PM [connect_setup]: \tNo design setup detected.\n",
      "WARNING 04:48PM [connect_setup]: \tCreating eigenmode default setup.\n",
      "INFO 04:48PM [get_setup]: \tOpened setup `Setup`  (<class 'pyEPR.ansys.HfssEMSetup'>)\n"
     ]
    }
   ],
   "source": [
    "hfss.activate_ansys_design(\"flip7um_V5\", 'eigenmode')\n",
    "hfss.render_design(['Q0','c0','lpL','lpR','stg','rr0','fl0'],[],\n",
    "                    box_plus_buffer=False)"
   ]
  },
  {
   "cell_type": "code",
   "execution_count": 43,
   "metadata": {},
   "outputs": [
    {
     "data": {
      "text/plain": [
       "True"
      ]
     },
     "execution_count": 43,
     "metadata": {},
     "output_type": "execute_result"
    }
   ],
   "source": [
    "hfss.close()"
   ]
  },
  {
   "cell_type": "markdown",
   "metadata": {},
   "source": [
    "# LOM Analysis"
   ]
  },
  {
   "cell_type": "code",
   "execution_count": 26,
   "metadata": {},
   "outputs": [],
   "source": [
    "from qiskit_metal.analyses.quantization import LOManalysis\n",
    "c1 = LOManalysis(design, \"q3d\")\n"
   ]
  },
  {
   "cell_type": "code",
   "execution_count": 27,
   "metadata": {},
   "outputs": [
    {
     "data": {
      "text/plain": [
       "{'name': 'Setup',\n",
       " 'reuse_selected_design': True,\n",
       " 'reuse_setup': True,\n",
       " 'freq_ghz': '5.23',\n",
       " 'save_fields': False,\n",
       " 'enabled': True,\n",
       " 'max_passes': 10,\n",
       " 'min_passes': 2,\n",
       " 'min_converged_passes': 2,\n",
       " 'percent_error': 0.5,\n",
       " 'percent_refinement': 30,\n",
       " 'auto_increase_solution_order': 'False',\n",
       " 'solution_order': 'Medium',\n",
       " 'solver_type': 'Iterative'}"
      ]
     },
     "execution_count": 27,
     "metadata": {},
     "output_type": "execute_result"
    }
   ],
   "source": [
    "c1.sim.setup.max_passes = 10\n",
    "c1.sim.setup_update(freq_ghz='5.23',solution_order = 'Medium', auto_increase_solution_order = 'False')\n",
    "c1.sim.setup"
   ]
  },
  {
   "cell_type": "code",
   "execution_count": 29,
   "metadata": {},
   "outputs": [
    {
     "name": "stderr",
     "output_type": "stream",
     "text": [
      "INFO 04:59PM [get_matrix]: Exporting matrix data to (C:\\Users\\kimje\\AppData\\Local\\Temp\\tmp961jqpmh.txt, C, , Setup:LastAdaptive, \"Original\", \"ohm\", \"nH\", \"fF\", \"mSie\", 5230000000, Maxwell, 1, False\n",
      "INFO 04:59PM [get_matrix]: Exporting matrix data to (C:\\Users\\kimje\\AppData\\Local\\Temp\\tmpwbsvxopk.txt, C, , Setup:AdaptivePass, \"Original\", \"ohm\", \"nH\", \"fF\", \"mSie\", 5230000000, Maxwell, 1, False\n",
      "INFO 04:59PM [get_matrix]: Exporting matrix data to (C:\\Users\\kimje\\AppData\\Local\\Temp\\tmpy797gg01.txt, C, , Setup:AdaptivePass, \"Original\", \"ohm\", \"nH\", \"fF\", \"mSie\", 5230000000, Maxwell, 2, False\n",
      "INFO 04:59PM [get_matrix]: Exporting matrix data to (C:\\Users\\kimje\\AppData\\Local\\Temp\\tmpn5rbn4_j.txt, C, , Setup:AdaptivePass, \"Original\", \"ohm\", \"nH\", \"fF\", \"mSie\", 5230000000, Maxwell, 3, False\n",
      "INFO 04:59PM [get_matrix]: Exporting matrix data to (C:\\Users\\kimje\\AppData\\Local\\Temp\\tmp2w05p6it.txt, C, , Setup:AdaptivePass, \"Original\", \"ohm\", \"nH\", \"fF\", \"mSie\", 5230000000, Maxwell, 4, False\n",
      "INFO 04:59PM [get_matrix]: Exporting matrix data to (C:\\Users\\kimje\\AppData\\Local\\Temp\\tmpjqd3tv9f.txt, C, , Setup:AdaptivePass, \"Original\", \"ohm\", \"nH\", \"fF\", \"mSie\", 5230000000, Maxwell, 5, False\n",
      "INFO 04:59PM [get_matrix]: Exporting matrix data to (C:\\Users\\kimje\\AppData\\Local\\Temp\\tmpnuqij7x8.txt, C, , Setup:AdaptivePass, \"Original\", \"ohm\", \"nH\", \"fF\", \"mSie\", 5230000000, Maxwell, 6, False\n",
      "INFO 04:59PM [get_matrix]: Exporting matrix data to (C:\\Users\\kimje\\AppData\\Local\\Temp\\tmpvgo1dr66.txt, C, , Setup:AdaptivePass, \"Original\", \"ohm\", \"nH\", \"fF\", \"mSie\", 5230000000, Maxwell, 7, False\n",
      "INFO 04:59PM [get_matrix]: Exporting matrix data to (C:\\Users\\kimje\\AppData\\Local\\Temp\\tmp_32p30oq.txt, C, , Setup:AdaptivePass, \"Original\", \"ohm\", \"nH\", \"fF\", \"mSie\", 5230000000, Maxwell, 8, False\n",
      "INFO 04:59PM [get_matrix]: Exporting matrix data to (C:\\Users\\kimje\\AppData\\Local\\Temp\\tmplyehg95x.txt, C, , Setup:AdaptivePass, \"Original\", \"ohm\", \"nH\", \"fF\", \"mSie\", 5230000000, Maxwell, 9, False\n"
     ]
    },
    {
     "data": {
      "text/html": [
       "<div>\n",
       "<style scoped>\n",
       "    .dataframe tbody tr th:only-of-type {\n",
       "        vertical-align: middle;\n",
       "    }\n",
       "\n",
       "    .dataframe tbody tr th {\n",
       "        vertical-align: top;\n",
       "    }\n",
       "\n",
       "    .dataframe thead th {\n",
       "        text-align: right;\n",
       "    }\n",
       "</style>\n",
       "<table border=\"1\" class=\"dataframe\">\n",
       "  <thead>\n",
       "    <tr style=\"text-align: right;\">\n",
       "      <th></th>\n",
       "      <th>ground</th>\n",
       "      <th>pad_bot_Q0</th>\n",
       "      <th>pad_top_Q0</th>\n",
       "      <th>quad_coupler_c0</th>\n",
       "    </tr>\n",
       "  </thead>\n",
       "  <tbody>\n",
       "    <tr>\n",
       "      <th>ground</th>\n",
       "      <td>317.200</td>\n",
       "      <td>-94.94700</td>\n",
       "      <td>-77.435</td>\n",
       "      <td>-81.87800</td>\n",
       "    </tr>\n",
       "    <tr>\n",
       "      <th>pad_bot_Q0</th>\n",
       "      <td>-94.947</td>\n",
       "      <td>110.74000</td>\n",
       "      <td>-14.844</td>\n",
       "      <td>-0.12031</td>\n",
       "    </tr>\n",
       "    <tr>\n",
       "      <th>pad_top_Q0</th>\n",
       "      <td>-77.435</td>\n",
       "      <td>-14.84400</td>\n",
       "      <td>110.760</td>\n",
       "      <td>-17.56900</td>\n",
       "    </tr>\n",
       "    <tr>\n",
       "      <th>quad_coupler_c0</th>\n",
       "      <td>-81.878</td>\n",
       "      <td>-0.12031</td>\n",
       "      <td>-17.569</td>\n",
       "      <td>99.76100</td>\n",
       "    </tr>\n",
       "  </tbody>\n",
       "</table>\n",
       "</div>"
      ],
      "text/plain": [
       "                  ground  pad_bot_Q0  pad_top_Q0  quad_coupler_c0\n",
       "ground           317.200   -94.94700     -77.435        -81.87800\n",
       "pad_bot_Q0       -94.947   110.74000     -14.844         -0.12031\n",
       "pad_top_Q0       -77.435   -14.84400     110.760        -17.56900\n",
       "quad_coupler_c0  -81.878    -0.12031     -17.569         99.76100"
      ]
     },
     "execution_count": 29,
     "metadata": {},
     "output_type": "execute_result"
    }
   ],
   "source": [
    "#c1.sim.run(components=['Q0','c0'], open_terminations=[('c0', 'in')])\n",
    "c1.sim._get_results_from_renderer()\n",
    "c1.sim.capacitance_matrix"
   ]
  },
  {
   "cell_type": "code",
   "execution_count": 30,
   "metadata": {},
   "outputs": [
    {
     "name": "stdout",
     "output_type": "stream",
     "text": [
      "[1, 2] [3]\n",
      "Predicted Values\n",
      "\n",
      "Transmon Properties\n",
      "f_Q 5.662920 [GHz]\n",
      "EC 300.958354 [MHz]\n",
      "EJ 14.854145 [GHz]\n",
      "alpha -346.059301 [MHz]\n",
      "dispersion 13.238628 [KHz]\n",
      "Lq 10.995564 [nH]\n",
      "Cq 64.361822 [fF]\n",
      "T1 21.244387 [us]\n",
      "\n",
      "**Coupling Properties**\n",
      "\n",
      "tCqbus1 -8.727291 [fF]\n",
      "gbus1_in_MHz -131.333012 [MHz]\n",
      "χ_bus1 -7.157784 [MHz]\n",
      "1/T1bus1 7491.623252 [Hz]\n",
      "T1bus1 21.244387 [us]\n",
      "Bus-Bus Couplings\n"
     ]
    },
    {
     "data": {
      "text/html": [
       "<div>\n",
       "<style scoped>\n",
       "    .dataframe tbody tr th:only-of-type {\n",
       "        vertical-align: middle;\n",
       "    }\n",
       "\n",
       "    .dataframe tbody tr th {\n",
       "        vertical-align: top;\n",
       "    }\n",
       "\n",
       "    .dataframe thead th {\n",
       "        text-align: right;\n",
       "    }\n",
       "</style>\n",
       "<table border=\"1\" class=\"dataframe\">\n",
       "  <thead>\n",
       "    <tr style=\"text-align: right;\">\n",
       "      <th></th>\n",
       "      <th>fQ</th>\n",
       "      <th>EC</th>\n",
       "      <th>EJ</th>\n",
       "      <th>alpha</th>\n",
       "      <th>dispersion</th>\n",
       "      <th>gbus</th>\n",
       "      <th>chi_in_MHz</th>\n",
       "      <th>χr MHz</th>\n",
       "      <th>gr MHz</th>\n",
       "    </tr>\n",
       "  </thead>\n",
       "  <tbody>\n",
       "    <tr>\n",
       "      <th>1</th>\n",
       "      <td>6.080388</td>\n",
       "      <td>350.287753</td>\n",
       "      <td>14.854145</td>\n",
       "      <td>-408.602261</td>\n",
       "      <td>53.644493</td>\n",
       "      <td>[-138.26639623293073]</td>\n",
       "      <td>[-19.340323244141885]</td>\n",
       "      <td>19.340323</td>\n",
       "      <td>138.266396</td>\n",
       "    </tr>\n",
       "    <tr>\n",
       "      <th>2</th>\n",
       "      <td>5.779294</td>\n",
       "      <td>314.280222</td>\n",
       "      <td>14.854145</td>\n",
       "      <td>-362.792991</td>\n",
       "      <td>19.962924</td>\n",
       "      <td>[-147.6455537380849]</td>\n",
       "      <td>[-11.303762790078409]</td>\n",
       "      <td>11.303763</td>\n",
       "      <td>147.645554</td>\n",
       "    </tr>\n",
       "    <tr>\n",
       "      <th>3</th>\n",
       "      <td>5.691776</td>\n",
       "      <td>304.231009</td>\n",
       "      <td>14.854145</td>\n",
       "      <td>-350.159456</td>\n",
       "      <td>14.681341</td>\n",
       "      <td>[-141.08400965041196]</td>\n",
       "      <td>[-8.716769286220696]</td>\n",
       "      <td>8.716769</td>\n",
       "      <td>141.084010</td>\n",
       "    </tr>\n",
       "    <tr>\n",
       "      <th>4</th>\n",
       "      <td>5.676364</td>\n",
       "      <td>302.480589</td>\n",
       "      <td>14.854145</td>\n",
       "      <td>-347.965577</td>\n",
       "      <td>13.894099</td>\n",
       "      <td>[-137.17621228344476]</td>\n",
       "      <td>[-8.006230996147968]</td>\n",
       "      <td>8.006231</td>\n",
       "      <td>137.176212</td>\n",
       "    </tr>\n",
       "    <tr>\n",
       "      <th>5</th>\n",
       "      <td>5.665096</td>\n",
       "      <td>301.204411</td>\n",
       "      <td>14.854145</td>\n",
       "      <td>-346.367333</td>\n",
       "      <td>13.342781</td>\n",
       "      <td>[-135.19164736284358]</td>\n",
       "      <td>[-7.615161851852517]</td>\n",
       "      <td>7.615162</td>\n",
       "      <td>135.191647</td>\n",
       "    </tr>\n",
       "    <tr>\n",
       "      <th>6</th>\n",
       "      <td>5.655525</td>\n",
       "      <td>300.122849</td>\n",
       "      <td>14.854145</td>\n",
       "      <td>-345.013646</td>\n",
       "      <td>12.890054</td>\n",
       "      <td>[-133.10632422317553]</td>\n",
       "      <td>[-7.252710234749242]</td>\n",
       "      <td>7.252710</td>\n",
       "      <td>133.106324</td>\n",
       "    </tr>\n",
       "    <tr>\n",
       "      <th>7</th>\n",
       "      <td>5.660932</td>\n",
       "      <td>300.733668</td>\n",
       "      <td>14.854145</td>\n",
       "      <td>-345.778057</td>\n",
       "      <td>13.144118</td>\n",
       "      <td>[-131.9146959157625]</td>\n",
       "      <td>[-7.194845873192348]</td>\n",
       "      <td>7.194846</td>\n",
       "      <td>131.914696</td>\n",
       "    </tr>\n",
       "    <tr>\n",
       "      <th>8</th>\n",
       "      <td>5.66292</td>\n",
       "      <td>300.958354</td>\n",
       "      <td>14.854145</td>\n",
       "      <td>-346.059301</td>\n",
       "      <td>13.238628</td>\n",
       "      <td>[-131.3330115473295]</td>\n",
       "      <td>[-7.157783569168562]</td>\n",
       "      <td>7.157784</td>\n",
       "      <td>131.333012</td>\n",
       "    </tr>\n",
       "  </tbody>\n",
       "</table>\n",
       "</div>"
      ],
      "text/plain": [
       "         fQ          EC         EJ       alpha dispersion  \\\n",
       "1  6.080388  350.287753  14.854145 -408.602261  53.644493   \n",
       "2  5.779294  314.280222  14.854145 -362.792991  19.962924   \n",
       "3  5.691776  304.231009  14.854145 -350.159456  14.681341   \n",
       "4  5.676364  302.480589  14.854145 -347.965577  13.894099   \n",
       "5  5.665096  301.204411  14.854145 -346.367333  13.342781   \n",
       "6  5.655525  300.122849  14.854145 -345.013646  12.890054   \n",
       "7  5.660932  300.733668  14.854145 -345.778057  13.144118   \n",
       "8   5.66292  300.958354  14.854145 -346.059301  13.238628   \n",
       "\n",
       "                    gbus             chi_in_MHz     χr MHz      gr MHz  \n",
       "1  [-138.26639623293073]  [-19.340323244141885]  19.340323  138.266396  \n",
       "2   [-147.6455537380849]  [-11.303762790078409]  11.303763  147.645554  \n",
       "3  [-141.08400965041196]   [-8.716769286220696]   8.716769  141.084010  \n",
       "4  [-137.17621228344476]   [-8.006230996147968]   8.006231  137.176212  \n",
       "5  [-135.19164736284358]   [-7.615161851852517]   7.615162  135.191647  \n",
       "6  [-133.10632422317553]   [-7.252710234749242]   7.252710  133.106324  \n",
       "7   [-131.9146959157625]   [-7.194845873192348]   7.194846  131.914696  \n",
       "8   [-131.3330115473295]   [-7.157783569168562]   7.157784  131.333012  "
      ]
     },
     "execution_count": 30,
     "metadata": {},
     "output_type": "execute_result"
    }
   ],
   "source": [
    "c1.setup.junctions = Dict({'Lj': 11, 'Cj': 2})\n",
    "c1.setup.freq_readout = 6.80\n",
    "c1.setup.freq_bus = []\n",
    "c1.run_lom()\n",
    "c1.lumped_oscillator_all"
   ]
  },
  {
   "cell_type": "code",
   "execution_count": 25,
   "metadata": {},
   "outputs": [
    {
     "name": "stdout",
     "output_type": "stream",
     "text": [
      "Warning! 3 COM references still alive\n",
      "Ansys will likely refuse to shut down\n"
     ]
    }
   ],
   "source": [
    "c1.sim.close()"
   ]
  },
  {
   "cell_type": "code",
   "execution_count": null,
   "metadata": {},
   "outputs": [],
   "source": []
  }
 ],
 "metadata": {
  "kernelspec": {
   "display_name": "Python 3.9.10 ('metal')",
   "language": "python",
   "name": "python3"
  },
  "language_info": {
   "codemirror_mode": {
    "name": "ipython",
    "version": 3
   },
   "file_extension": ".py",
   "mimetype": "text/x-python",
   "name": "python",
   "nbconvert_exporter": "python",
   "pygments_lexer": "ipython3",
   "version": "3.9.10"
  },
  "orig_nbformat": 4,
  "vscode": {
   "interpreter": {
    "hash": "ac951534856e2c23f9f162419ca8ae29ffbc7967cf243c458d1cebaa12df0b5c"
   }
  }
 },
 "nbformat": 4,
 "nbformat_minor": 2
}
