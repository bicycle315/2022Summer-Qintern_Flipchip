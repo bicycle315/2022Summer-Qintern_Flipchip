{
 "cells": [
  {
   "cell_type": "code",
   "execution_count": 1,
   "metadata": {},
   "outputs": [],
   "source": [
    "import warnings\n",
    "warnings.filterwarnings(\"ignore\")\n",
    "%load_ext autoreload\n",
    "%autoreload 2\n",
    "from qiskit_metal import Dict, MetalGUI, designs\n",
    "from qiskit_metal.qlibrary.qubits.transmon_pocket import TransmonPocket\n",
    "from qiskit_metal.qlibrary.qubits.transmon_pocket_6 import TransmonPocket6\n",
    "from qiskit_metal.qlibrary.tlines.meandered import RouteMeander\n",
    "from qiskit_metal.qlibrary.tlines.straight_path import RouteStraight\n",
    "from qiskit_metal.qlibrary.terminations.launchpad_wb_coupled import LaunchpadWirebondCoupled\n",
    "from qiskit_metal.qlibrary.couplers.coupled_line_tee import CoupledLineTee\n",
    "from qiskit_metal.qlibrary.user_components.left_coupler import LeftCoupler\n",
    "from qiskit_metal.qlibrary.user_components.right_coupler import RightCoupler\n",
    "from qiskit_metal.qlibrary.user_components.straightdown_coupler import StraightDownCoupler\n",
    "from qiskit_metal.qlibrary.user_components.straightup_coupler import StraightUpCoupler"
   ]
  },
  {
   "cell_type": "code",
   "execution_count": 2,
   "metadata": {},
   "outputs": [],
   "source": [
    "design = designs.DesignFlipChip({}, overwrite_enabled=True)\n",
    "gui = MetalGUI(design)"
   ]
  },
  {
   "cell_type": "code",
   "execution_count": 3,
   "metadata": {},
   "outputs": [],
   "source": [
    "design.delete_all_components()"
   ]
  },
  {
   "cell_type": "code",
   "execution_count": 30,
   "metadata": {},
   "outputs": [
    {
     "data": {
      "text/plain": [
       "'5um'"
      ]
     },
     "execution_count": 30,
     "metadata": {},
     "output_type": "execute_result"
    }
   ],
   "source": [
    "design.get_chip_z('Q_chip')"
   ]
  },
  {
   "cell_type": "code",
   "execution_count": 30,
   "metadata": {},
   "outputs": [],
   "source": [
    "design.chips['C_chip'].size['size_x']='8mm'\n",
    "design.chips['C_chip'].size['size_y']='8mm'\n",
    "design.chips['Q_chip'].size['size_x']='8mm'\n",
    "design.chips['Q_chip'].size['size_y']='8mm'\n",
    "design.chips['Q_chip'].size['center_z']='20um'"
   ]
  },
  {
   "cell_type": "markdown",
   "metadata": {},
   "source": [
    "# Resonator length"
   ]
  },
  {
   "cell_type": "code",
   "execution_count": 4,
   "metadata": {},
   "outputs": [],
   "source": [
    "from qiskit_metal.analyses.em.cpw_calculations import guided_wavelength\n",
    "\n",
    "def find_resonator_length(frequency, line_width, line_gap, N): \n",
    "    #frequency in GHz\n",
    "    #line_width/line_gap in um\n",
    "    #N -> 2 for lambda/2, 4 for lambda/4\n",
    "    \n",
    "    [lambdaG, etfSqrt, q] = guided_wavelength(frequency*10**9, line_width*10**-6,\n",
    "                                              line_gap*10**-6, 750*10**-6, 200*10**-9)\n",
    "    return str(lambdaG/N*10**3)+\" mm\""
   ]
  },
  {
   "cell_type": "code",
   "execution_count": 5,
   "metadata": {},
   "outputs": [
    {
     "name": "stdout",
     "output_type": "stream",
     "text": [
      "[7.653254683870284, 7.424788339841421, 7.2083465402091305]\n"
     ]
    }
   ],
   "source": [
    "resonator_length_2=[]\n",
    "for i in range(3):\n",
    "    a=find_resonator_length(7.2+i*0.2,10,6,2)\n",
    "    a=a.strip('mm')\n",
    "    a=float(a)-0.8 \n",
    "    resonator_length_2.append(a)\n",
    "print(resonator_length_2)\n"
   ]
  },
  {
   "cell_type": "markdown",
   "metadata": {},
   "source": [
    "# Flipchip"
   ]
  },
  {
   "cell_type": "code",
   "execution_count": 31,
   "metadata": {},
   "outputs": [],
   "source": [
    "cp0 = dict(down = dict(loc_W=1, loc_H=-1, pad_width='120um'))\n",
    "\n",
    "# q0=[TransmonPocket6(design, 'Q0', options=dict(pos_x='-2000um',\n",
    "#                                             pos_y='-2000um',\n",
    "#                                             chip='Q_chip',\n",
    "#                                             connection_pads=cp0))]\n",
    "q0=[TransmonPocket6(design, 'Q0', options=dict(pos_x='-2000um',\n",
    "                                            pos_y='-2000um',\n",
    "                                            chip='Q_chip'))]\n",
    "\n",
    "qubits=q0\n",
    "\n",
    "q0x=float(qubits[0].options.pos_x.strip('um'))\n",
    "q0y=float(qubits[0].options.pos_y.strip('um'))\n",
    "\n",
    "\n",
    "c0 = LeftCoupler(design, \"c0\", options=dict(pos_x=f\"{q0x-130}um\",\n",
    "                                              pos_y=f\"{q0y+100}um\",\n",
    "                                              pad_width=\"100um\",\n",
    "                                              pad_height=\"200um\",\n",
    "                                              cpw_stub_height=\"200um\",\n",
    "                                              orientation='270',                                            \n",
    "                                              chip=\"C_chip\"))\n",
    "\n",
    "design.rebuild()\n",
    "gui.rebuild()\n",
    "gui.autoscale()"
   ]
  },
  {
   "cell_type": "code",
   "execution_count": 32,
   "metadata": {},
   "outputs": [],
   "source": [
    "lpL=LaunchpadWirebondCoupled(design, 'lpL',\n",
    "                                         options = dict(chip=\"C_chip\",\n",
    "                                         pos_x = '-3000um',\n",
    "                                         pos_y = '2000um',\n",
    "                                         lead_length = '30um'))\n",
    "lpR=LaunchpadWirebondCoupled(design, 'lpR',\n",
    "                                         options = dict(chip=\"C_chip\",\n",
    "                                         pos_x = '3000um',\n",
    "                                         pos_y = '2000um',\n",
    "                                         orientation='180',\n",
    "                                         lead_length = '30um'))"
   ]
  },
  {
   "cell_type": "code",
   "execution_count": 33,
   "metadata": {},
   "outputs": [],
   "source": [
    "clt0 = CoupledLineTee(design, \"clt0\", \n",
    "                        options=dict(pos_x='-2000um',\n",
    "                                    pos_y='2000um', \n",
    "                                    coupling_length='300um',\n",
    "                                    chip=\"C_chip\",\n",
    "                                    down_length='300um',\n",
    "                                    fillet='99um',\n",
    "                                    coupling_space='5um',\n",
    "                                    mirror=True,\n",
    "                                    open_termination=True))\n",
    "\n"
   ]
  },
  {
   "cell_type": "code",
   "execution_count": 34,
   "metadata": {},
   "outputs": [],
   "source": [
    "fl0=RouteStraight(design, 'fl0',options=Dict(chip=\"C_chip\", pin_inputs=Dict(start_pin=Dict(\n",
    "                                                            component='lpL',\n",
    "                                                            pin='tie'),\n",
    "                                                            end_pin=Dict(\n",
    "                                                            component='clt0',\n",
    "                                                            pin='prime_start'))))\n",
    "fl1=RouteStraight(design, 'fl1',options=Dict(chip=\"C_chip\",pin_inputs=Dict(start_pin=Dict(\n",
    "                                                            component='clt0',\n",
    "                                                            pin='prime_end'),\n",
    "                                                            end_pin=Dict(\n",
    "                                                            component='lpR',\n",
    "                                                            pin='tie'))))\n"
   ]
  },
  {
   "cell_type": "markdown",
   "metadata": {},
   "source": [
    "# Readout resonator"
   ]
  },
  {
   "cell_type": "code",
   "execution_count": 10,
   "metadata": {},
   "outputs": [],
   "source": [
    "from collections import OrderedDict\n",
    "jogs=OrderedDict()\n",
    "def connect(component_name: str, component1: str, pin1: str, component2: str, pin2: str,\n",
    "            length: str, start_jogged_extension: OrderedDict, end_jogged_extension: OrderedDict,\n",
    "            spacing: str, asymmetry='0 um',  start_straight='0 um', end_straight='0 um', flip=False):\n",
    "    \"\"\"Connect two pins with a CPW.\"\"\"\n",
    "    myoptions = Dict(\n",
    "        chip=\"C_chip\",\n",
    "        pin_inputs=Dict(\n",
    "            start_pin=Dict(\n",
    "                component=component1,\n",
    "                pin=pin1),\n",
    "            end_pin=Dict(\n",
    "                component=component2,\n",
    "                pin=pin2)),\n",
    "        lead=Dict(\n",
    "            start_straight=start_straight,\n",
    "            end_straight=end_straight,\n",
    "            start_jogged_extension=start_jogged_extension,\n",
    "            end_jogged_extension=end_jogged_extension),\n",
    "        total_length=length,\n",
    "        fillet = '99.9um',\n",
    "        meander=dict(asymmetry=asymmetry,\n",
    "                     spacing=spacing))\n",
    "    myoptions.meander.lead_direction_inverted = 'true' if flip else 'false'\n",
    "    return RouteMeander(design, component_name, myoptions)"
   ]
  },
  {
   "cell_type": "code",
   "execution_count": 35,
   "metadata": {},
   "outputs": [],
   "source": [
    "rr0=connect('rr0', 'clt0', 'second_end', 'c0', 'in',\n",
    "            resonator_length_2[1],jogs,jogs, \n",
    "            '400um','0um', '100um', '100um')"
   ]
  },
  {
   "cell_type": "markdown",
   "metadata": {},
   "source": [
    "# EPR Analysis"
   ]
  },
  {
   "cell_type": "code",
   "execution_count": 27,
   "metadata": {},
   "outputs": [],
   "source": [
    "from qiskit_metal.analyses.quantization import EPRanalysis\n",
    "eig_rd = EPRanalysis(design, \"hfss\")\n",
    "hfss = eig_rd.sim.renderer"
   ]
  },
  {
   "cell_type": "code",
   "execution_count": 28,
   "metadata": {},
   "outputs": [
    {
     "name": "stderr",
     "output_type": "stream",
     "text": [
      "INFO 09:38PM [connect_project]: Connecting to Ansys Desktop API...\n",
      "INFO 09:38PM [load_ansys_project]: \tOpened Ansys App\n",
      "INFO 09:38PM [load_ansys_project]: \tOpened Ansys Desktop v2018.0.0\n",
      "INFO 09:38PM [load_ansys_project]: \tOpened Ansys Project\n",
      "\tFolder:    C:/Users/kimje/Documents/Ansoft/\n",
      "\tProject:   Project23\n",
      "INFO 09:38PM [connect_design]: No active design found (or error getting active design).\n",
      "INFO 09:38PM [connect]: \t Connected to project \"Project23\". No design detected\n"
     ]
    },
    {
     "data": {
      "text/plain": [
       "True"
      ]
     },
     "execution_count": 28,
     "metadata": {},
     "output_type": "execute_result"
    }
   ],
   "source": [
    "hfss.start()"
   ]
  },
  {
   "cell_type": "code",
   "execution_count": 36,
   "metadata": {},
   "outputs": [
    {
     "name": "stderr",
     "output_type": "stream",
     "text": [
      "09:41PM 20s WARNING [activate_ansys_design]: The design_name=flip_V4 was not in active project.  Designs in active project are: \n",
      "[].  A new design will be added to the project.  \n",
      "INFO 09:41PM [connect_design]: \tOpened active design\n",
      "\tDesign:    flip_V4 [Solution type: Eigenmode]\n",
      "WARNING 09:41PM [connect_setup]: \tNo design setup detected.\n",
      "WARNING 09:41PM [connect_setup]: \tCreating eigenmode default setup.\n",
      "INFO 09:41PM [get_setup]: \tOpened setup `Setup`  (<class 'pyEPR.ansys.HfssEMSetup'>)\n"
     ]
    }
   ],
   "source": [
    "hfss.activate_ansys_design(\"flip_V4\", 'eigenmode')\n",
    "hfss.render_design(['Q0','c0','lpL','lpR','clt0','rr0','fl0','fl1'],\n",
    "                    [('clt0','prime_end')],\n",
    "                    box_plus_buffer=False)"
   ]
  },
  {
   "cell_type": "code",
   "execution_count": 28,
   "metadata": {},
   "outputs": [
    {
     "data": {
      "text/plain": [
       "True"
      ]
     },
     "execution_count": 28,
     "metadata": {},
     "output_type": "execute_result"
    }
   ],
   "source": [
    "hfss.close()"
   ]
  },
  {
   "cell_type": "markdown",
   "metadata": {},
   "source": [
    "# LOM Analysis"
   ]
  },
  {
   "cell_type": "code",
   "execution_count": 37,
   "metadata": {},
   "outputs": [],
   "source": [
    "from qiskit_metal.analyses.quantization import LOManalysis\n",
    "c1 = LOManalysis(design, \"q3d\")\n"
   ]
  },
  {
   "cell_type": "code",
   "execution_count": 38,
   "metadata": {},
   "outputs": [
    {
     "data": {
      "text/plain": [
       "{'name': 'Setup',\n",
       " 'reuse_selected_design': True,\n",
       " 'reuse_setup': True,\n",
       " 'freq_ghz': '5.74',\n",
       " 'save_fields': False,\n",
       " 'enabled': True,\n",
       " 'max_passes': 10,\n",
       " 'min_passes': 2,\n",
       " 'min_converged_passes': 2,\n",
       " 'percent_error': 0.5,\n",
       " 'percent_refinement': 30,\n",
       " 'auto_increase_solution_order': 'False',\n",
       " 'solution_order': 'Medium',\n",
       " 'solver_type': 'Iterative'}"
      ]
     },
     "execution_count": 38,
     "metadata": {},
     "output_type": "execute_result"
    }
   ],
   "source": [
    "c1.sim.setup.max_passes = 10\n",
    "c1.sim.setup_update(freq_ghz='5.74',solution_order = 'Medium', auto_increase_solution_order = 'False')\n",
    "c1.sim.setup"
   ]
  },
  {
   "cell_type": "code",
   "execution_count": 40,
   "metadata": {},
   "outputs": [
    {
     "name": "stderr",
     "output_type": "stream",
     "text": [
      "INFO 10:56PM [get_matrix]: Exporting matrix data to (C:\\Users\\kimje\\AppData\\Local\\Temp\\tmpi574kpj4.txt, C, , Setup:LastAdaptive, \"Original\", \"ohm\", \"nH\", \"fF\", \"mSie\", 5740000000, Maxwell, 1, False\n",
      "INFO 10:56PM [get_matrix]: Exporting matrix data to (C:\\Users\\kimje\\AppData\\Local\\Temp\\tmp352zuxlt.txt, C, , Setup:AdaptivePass, \"Original\", \"ohm\", \"nH\", \"fF\", \"mSie\", 5740000000, Maxwell, 1, False\n",
      "INFO 10:56PM [get_matrix]: Exporting matrix data to (C:\\Users\\kimje\\AppData\\Local\\Temp\\tmp3gsmgy7z.txt, C, , Setup:AdaptivePass, \"Original\", \"ohm\", \"nH\", \"fF\", \"mSie\", 5740000000, Maxwell, 2, False\n",
      "INFO 10:56PM [get_matrix]: Exporting matrix data to (C:\\Users\\kimje\\AppData\\Local\\Temp\\tmpf9nv7dxb.txt, C, , Setup:AdaptivePass, \"Original\", \"ohm\", \"nH\", \"fF\", \"mSie\", 5740000000, Maxwell, 3, False\n",
      "INFO 10:56PM [get_matrix]: Exporting matrix data to (C:\\Users\\kimje\\AppData\\Local\\Temp\\tmpcwnh87lm.txt, C, , Setup:AdaptivePass, \"Original\", \"ohm\", \"nH\", \"fF\", \"mSie\", 5740000000, Maxwell, 4, False\n",
      "INFO 10:56PM [get_matrix]: Exporting matrix data to (C:\\Users\\kimje\\AppData\\Local\\Temp\\tmpz35d_n3a.txt, C, , Setup:AdaptivePass, \"Original\", \"ohm\", \"nH\", \"fF\", \"mSie\", 5740000000, Maxwell, 5, False\n",
      "INFO 10:56PM [get_matrix]: Exporting matrix data to (C:\\Users\\kimje\\AppData\\Local\\Temp\\tmprqgeliv9.txt, C, , Setup:AdaptivePass, \"Original\", \"ohm\", \"nH\", \"fF\", \"mSie\", 5740000000, Maxwell, 6, False\n",
      "INFO 10:56PM [get_matrix]: Exporting matrix data to (C:\\Users\\kimje\\AppData\\Local\\Temp\\tmpbtoyj40_.txt, C, , Setup:AdaptivePass, \"Original\", \"ohm\", \"nH\", \"fF\", \"mSie\", 5740000000, Maxwell, 7, False\n",
      "INFO 10:56PM [get_matrix]: Exporting matrix data to (C:\\Users\\kimje\\AppData\\Local\\Temp\\tmp_h7vu571.txt, C, , Setup:AdaptivePass, \"Original\", \"ohm\", \"nH\", \"fF\", \"mSie\", 5740000000, Maxwell, 8, False\n",
      "INFO 10:56PM [get_matrix]: Exporting matrix data to (C:\\Users\\kimje\\AppData\\Local\\Temp\\tmp9nkdet7m.txt, C, , Setup:AdaptivePass, \"Original\", \"ohm\", \"nH\", \"fF\", \"mSie\", 5740000000, Maxwell, 9, False\n",
      "INFO 10:56PM [get_matrix]: Exporting matrix data to (C:\\Users\\kimje\\AppData\\Local\\Temp\\tmpx33nbce8.txt, C, , Setup:AdaptivePass, \"Original\", \"ohm\", \"nH\", \"fF\", \"mSie\", 5740000000, Maxwell, 10, False\n",
      "INFO 10:56PM [get_matrix]: Exporting matrix data to (C:\\Users\\kimje\\AppData\\Local\\Temp\\tmpu1m27jp0.txt, C, , Setup:AdaptivePass, \"Original\", \"ohm\", \"nH\", \"fF\", \"mSie\", 5740000000, Maxwell, 11, False\n"
     ]
    },
    {
     "data": {
      "text/html": [
       "<div>\n",
       "<style scoped>\n",
       "    .dataframe tbody tr th:only-of-type {\n",
       "        vertical-align: middle;\n",
       "    }\n",
       "\n",
       "    .dataframe tbody tr th {\n",
       "        vertical-align: top;\n",
       "    }\n",
       "\n",
       "    .dataframe thead th {\n",
       "        text-align: right;\n",
       "    }\n",
       "</style>\n",
       "<table border=\"1\" class=\"dataframe\">\n",
       "  <thead>\n",
       "    <tr style=\"text-align: right;\">\n",
       "      <th></th>\n",
       "      <th>ground</th>\n",
       "      <th>pad_bot_Q0</th>\n",
       "      <th>pad_top_Q0</th>\n",
       "      <th>quad_coupler_c0</th>\n",
       "    </tr>\n",
       "  </thead>\n",
       "  <tbody>\n",
       "    <tr>\n",
       "      <th>ground</th>\n",
       "      <td>308.280</td>\n",
       "      <td>-74.60300</td>\n",
       "      <td>-66.710</td>\n",
       "      <td>-106.38000</td>\n",
       "    </tr>\n",
       "    <tr>\n",
       "      <th>pad_bot_Q0</th>\n",
       "      <td>-74.603</td>\n",
       "      <td>107.55000</td>\n",
       "      <td>-31.574</td>\n",
       "      <td>-0.21393</td>\n",
       "    </tr>\n",
       "    <tr>\n",
       "      <th>pad_top_Q0</th>\n",
       "      <td>-66.710</td>\n",
       "      <td>-31.57400</td>\n",
       "      <td>107.130</td>\n",
       "      <td>-7.76200</td>\n",
       "    </tr>\n",
       "    <tr>\n",
       "      <th>quad_coupler_c0</th>\n",
       "      <td>-106.380</td>\n",
       "      <td>-0.21393</td>\n",
       "      <td>-7.762</td>\n",
       "      <td>114.89000</td>\n",
       "    </tr>\n",
       "  </tbody>\n",
       "</table>\n",
       "</div>"
      ],
      "text/plain": [
       "                  ground  pad_bot_Q0  pad_top_Q0  quad_coupler_c0\n",
       "ground           308.280   -74.60300     -66.710       -106.38000\n",
       "pad_bot_Q0       -74.603   107.55000     -31.574         -0.21393\n",
       "pad_top_Q0       -66.710   -31.57400     107.130         -7.76200\n",
       "quad_coupler_c0 -106.380    -0.21393      -7.762        114.89000"
      ]
     },
     "execution_count": 40,
     "metadata": {},
     "output_type": "execute_result"
    }
   ],
   "source": [
    "#c1.sim.run(components=['Q0','c0'], open_terminations=[('c0', 'in')])\n",
    "c1.sim._get_results_from_renderer()\n",
    "c1.sim.capacitance_matrix"
   ]
  },
  {
   "cell_type": "code",
   "execution_count": 41,
   "metadata": {},
   "outputs": [
    {
     "name": "stdout",
     "output_type": "stream",
     "text": [
      "[1, 2] [3]\n",
      "Predicted Values\n",
      "\n",
      "Transmon Properties\n",
      "f_Q 5.410854 [GHz]\n",
      "EC 273.220196 [MHz]\n",
      "EJ 14.854145 [GHz]\n",
      "alpha -311.584471 [MHz]\n",
      "dispersion 5.113350 [KHz]\n",
      "Lq 10.995564 [nH]\n",
      "Cq 70.896033 [fF]\n",
      "T1 241.748625 [us]\n",
      "\n",
      "**Coupling Properties**\n",
      "\n",
      "tCqbus1 -3.783249 [fF]\n",
      "gbus1_in_MHz -54.108842 [MHz]\n",
      "χ_bus1 -0.652750 [MHz]\n",
      "1/T1bus1 658.348906 [Hz]\n",
      "T1bus1 241.748625 [us]\n",
      "Bus-Bus Couplings\n"
     ]
    },
    {
     "data": {
      "text/html": [
       "<div>\n",
       "<style scoped>\n",
       "    .dataframe tbody tr th:only-of-type {\n",
       "        vertical-align: middle;\n",
       "    }\n",
       "\n",
       "    .dataframe tbody tr th {\n",
       "        vertical-align: top;\n",
       "    }\n",
       "\n",
       "    .dataframe thead th {\n",
       "        text-align: right;\n",
       "    }\n",
       "</style>\n",
       "<table border=\"1\" class=\"dataframe\">\n",
       "  <thead>\n",
       "    <tr style=\"text-align: right;\">\n",
       "      <th></th>\n",
       "      <th>fQ</th>\n",
       "      <th>EC</th>\n",
       "      <th>EJ</th>\n",
       "      <th>alpha</th>\n",
       "      <th>dispersion</th>\n",
       "      <th>gbus</th>\n",
       "      <th>chi_in_MHz</th>\n",
       "      <th>χr MHz</th>\n",
       "      <th>gr MHz</th>\n",
       "    </tr>\n",
       "  </thead>\n",
       "  <tbody>\n",
       "    <tr>\n",
       "      <th>1</th>\n",
       "      <td>5.550924</td>\n",
       "      <td>288.446492</td>\n",
       "      <td>14.854145</td>\n",
       "      <td>-330.447492</td>\n",
       "      <td>8.769787</td>\n",
       "      <td>[-91.93883120859066]</td>\n",
       "      <td>[-2.345392714900228]</td>\n",
       "      <td>2.345393</td>\n",
       "      <td>91.938831</td>\n",
       "    </tr>\n",
       "    <tr>\n",
       "      <th>2</th>\n",
       "      <td>5.940177</td>\n",
       "      <td>333.241528</td>\n",
       "      <td>14.854145</td>\n",
       "      <td>-386.809618</td>\n",
       "      <td>34.28653</td>\n",
       "      <td>[-122.91401047999568]</td>\n",
       "      <td>[-8.359624677302707]</td>\n",
       "      <td>8.359625</td>\n",
       "      <td>122.914010</td>\n",
       "    </tr>\n",
       "    <tr>\n",
       "      <th>3</th>\n",
       "      <td>5.597517</td>\n",
       "      <td>293.615125</td>\n",
       "      <td>14.854145</td>\n",
       "      <td>-336.884482</td>\n",
       "      <td>10.429908</td>\n",
       "      <td>[-84.29143463937032]</td>\n",
       "      <td>[-2.1264284583015245]</td>\n",
       "      <td>2.126428</td>\n",
       "      <td>84.291435</td>\n",
       "    </tr>\n",
       "    <tr>\n",
       "      <th>4</th>\n",
       "      <td>5.59453</td>\n",
       "      <td>293.282243</td>\n",
       "      <td>14.854145</td>\n",
       "      <td>-336.469394</td>\n",
       "      <td>10.31555</td>\n",
       "      <td>[-68.27761713881148]</td>\n",
       "      <td>[-1.388395694374392]</td>\n",
       "      <td>1.388396</td>\n",
       "      <td>68.277617</td>\n",
       "    </tr>\n",
       "    <tr>\n",
       "      <th>5</th>\n",
       "      <td>5.536184</td>\n",
       "      <td>286.822207</td>\n",
       "      <td>14.854145</td>\n",
       "      <td>-328.428164</td>\n",
       "      <td>8.296639</td>\n",
       "      <td>[-61.38828197107495]</td>\n",
       "      <td>[-1.021245244743096]</td>\n",
       "      <td>1.021245</td>\n",
       "      <td>61.388282</td>\n",
       "    </tr>\n",
       "    <tr>\n",
       "      <th>6</th>\n",
       "      <td>5.482046</td>\n",
       "      <td>280.900832</td>\n",
       "      <td>14.854145</td>\n",
       "      <td>-321.081</td>\n",
       "      <td>6.749993</td>\n",
       "      <td>[-55.65009143081246]</td>\n",
       "      <td>[-0.7704688916288827]</td>\n",
       "      <td>0.770469</td>\n",
       "      <td>55.650091</td>\n",
       "    </tr>\n",
       "    <tr>\n",
       "      <th>7</th>\n",
       "      <td>5.455893</td>\n",
       "      <td>278.065302</td>\n",
       "      <td>14.854145</td>\n",
       "      <td>-317.570677</td>\n",
       "      <td>6.100594</td>\n",
       "      <td>[-54.69336907388012]</td>\n",
       "      <td>[-0.7145720867555394]</td>\n",
       "      <td>0.714572</td>\n",
       "      <td>54.693369</td>\n",
       "    </tr>\n",
       "    <tr>\n",
       "      <th>8</th>\n",
       "      <td>5.427878</td>\n",
       "      <td>275.045976</td>\n",
       "      <td>14.854145</td>\n",
       "      <td>-313.838486</td>\n",
       "      <td>5.468109</td>\n",
       "      <td>[-54.87543516885564]</td>\n",
       "      <td>[-0.6890201831429164]</td>\n",
       "      <td>0.689020</td>\n",
       "      <td>54.875435</td>\n",
       "    </tr>\n",
       "    <tr>\n",
       "      <th>9</th>\n",
       "      <td>5.419562</td>\n",
       "      <td>274.153293</td>\n",
       "      <td>14.854145</td>\n",
       "      <td>-312.736158</td>\n",
       "      <td>5.292132</td>\n",
       "      <td>[-54.44216123251773]</td>\n",
       "      <td>[-0.6696296210651262]</td>\n",
       "      <td>0.669630</td>\n",
       "      <td>54.442161</td>\n",
       "    </tr>\n",
       "    <tr>\n",
       "      <th>10</th>\n",
       "      <td>5.410854</td>\n",
       "      <td>273.220196</td>\n",
       "      <td>14.854145</td>\n",
       "      <td>-311.584471</td>\n",
       "      <td>5.11335</td>\n",
       "      <td>[-54.10884212120669]</td>\n",
       "      <td>[-0.6527499099060653]</td>\n",
       "      <td>0.652750</td>\n",
       "      <td>54.108842</td>\n",
       "    </tr>\n",
       "  </tbody>\n",
       "</table>\n",
       "</div>"
      ],
      "text/plain": [
       "          fQ          EC         EJ       alpha dispersion  \\\n",
       "1   5.550924  288.446492  14.854145 -330.447492   8.769787   \n",
       "2   5.940177  333.241528  14.854145 -386.809618   34.28653   \n",
       "3   5.597517  293.615125  14.854145 -336.884482  10.429908   \n",
       "4    5.59453  293.282243  14.854145 -336.469394   10.31555   \n",
       "5   5.536184  286.822207  14.854145 -328.428164   8.296639   \n",
       "6   5.482046  280.900832  14.854145    -321.081   6.749993   \n",
       "7   5.455893  278.065302  14.854145 -317.570677   6.100594   \n",
       "8   5.427878  275.045976  14.854145 -313.838486   5.468109   \n",
       "9   5.419562  274.153293  14.854145 -312.736158   5.292132   \n",
       "10  5.410854  273.220196  14.854145 -311.584471    5.11335   \n",
       "\n",
       "                     gbus             chi_in_MHz    χr MHz      gr MHz  \n",
       "1    [-91.93883120859066]   [-2.345392714900228]  2.345393   91.938831  \n",
       "2   [-122.91401047999568]   [-8.359624677302707]  8.359625  122.914010  \n",
       "3    [-84.29143463937032]  [-2.1264284583015245]  2.126428   84.291435  \n",
       "4    [-68.27761713881148]   [-1.388395694374392]  1.388396   68.277617  \n",
       "5    [-61.38828197107495]   [-1.021245244743096]  1.021245   61.388282  \n",
       "6    [-55.65009143081246]  [-0.7704688916288827]  0.770469   55.650091  \n",
       "7    [-54.69336907388012]  [-0.7145720867555394]  0.714572   54.693369  \n",
       "8    [-54.87543516885564]  [-0.6890201831429164]  0.689020   54.875435  \n",
       "9    [-54.44216123251773]  [-0.6696296210651262]  0.669630   54.442161  \n",
       "10   [-54.10884212120669]  [-0.6527499099060653]  0.652750   54.108842  "
      ]
     },
     "execution_count": 41,
     "metadata": {},
     "output_type": "execute_result"
    }
   ],
   "source": [
    "c1.setup.junctions = Dict({'Lj': 11, 'Cj': 2})\n",
    "c1.setup.freq_readout = 6.95\n",
    "c1.setup.freq_bus = []\n",
    "c1.run_lom()\n",
    "c1.lumped_oscillator_all"
   ]
  },
  {
   "cell_type": "code",
   "execution_count": 17,
   "metadata": {},
   "outputs": [
    {
     "name": "stdout",
     "output_type": "stream",
     "text": [
      "Warning! 3 COM references still alive\n",
      "Ansys will likely refuse to shut down\n"
     ]
    }
   ],
   "source": [
    "c1.sim.close()"
   ]
  },
  {
   "cell_type": "code",
   "execution_count": null,
   "metadata": {},
   "outputs": [],
   "source": []
  }
 ],
 "metadata": {
  "kernelspec": {
   "display_name": "Python 3.9.10 ('metal')",
   "language": "python",
   "name": "python3"
  },
  "language_info": {
   "codemirror_mode": {
    "name": "ipython",
    "version": 3
   },
   "file_extension": ".py",
   "mimetype": "text/x-python",
   "name": "python",
   "nbconvert_exporter": "python",
   "pygments_lexer": "ipython3",
   "version": "3.9.10"
  },
  "orig_nbformat": 4,
  "vscode": {
   "interpreter": {
    "hash": "ac951534856e2c23f9f162419ca8ae29ffbc7967cf243c458d1cebaa12df0b5c"
   }
  }
 },
 "nbformat": 4,
 "nbformat_minor": 2
}
