{
 "cells": [
  {
   "cell_type": "code",
   "execution_count": 1,
   "metadata": {},
   "outputs": [],
   "source": [
    "import warnings\n",
    "warnings.filterwarnings(\"ignore\")\n",
    "%load_ext autoreload\n",
    "%autoreload 2\n",
    "from qiskit_metal import Dict, MetalGUI, designs\n",
    "\n",
    "from qiskit_metal.qlibrary.qubits.transmon_pocket import TransmonPocket\n",
    "from qiskit_metal.qlibrary.qubits.transmon_pocket_6 import TransmonPocket6\n",
    "from qiskit_metal.qlibrary.tlines.meandered import RouteMeander\n",
    "from qiskit_metal.qlibrary.tlines.straight_path import RouteStraight\n",
    "from qiskit_metal.qlibrary.terminations.launchpad_wb_coupled import LaunchpadWirebondCoupled\n",
    "from qiskit_metal.qlibrary.terminations.short_to_ground import ShortToGround\n",
    "from qiskit_metal.qlibrary.couplers.coupled_line_tee import CoupledLineTee\n",
    "from qiskit_metal.qlibrary.user_components.left_coupler import LeftCoupler\n",
    "from qiskit_metal.qlibrary.user_components.right_coupler import RightCoupler\n",
    "from qiskit_metal.qlibrary.user_components.straightdown_coupler import StraightDownCoupler\n",
    "from qiskit_metal.qlibrary.user_components.straightup_coupler import StraightUpCoupler"
   ]
  },
  {
   "cell_type": "code",
   "execution_count": 2,
   "metadata": {},
   "outputs": [],
   "source": [
    "design = designs.DesignFlipChip({}, overwrite_enabled=True)\n",
    "gui = MetalGUI(design)"
   ]
  },
  {
   "cell_type": "code",
   "execution_count": 3,
   "metadata": {},
   "outputs": [],
   "source": [
    "design.chips['C_chip'].size['size_x']='3mm'\n",
    "design.chips['C_chip'].size['size_y']='3mm'\n",
    "design.chips['Q_chip'].size['size_x']='2mm'\n",
    "design.chips['Q_chip'].size['size_y']='2mm'\n",
    "design.chips['Q_chip'].size['center_z']='7um'"
   ]
  },
  {
   "cell_type": "code",
   "execution_count": null,
   "metadata": {},
   "outputs": [
    {
     "data": {
      "text/plain": [
       "'7um'"
      ]
     },
     "metadata": {},
     "output_type": "display_data"
    }
   ],
   "source": [
    "design.get_chip_z('Q_chip')"
   ]
  },
  {
   "cell_type": "code",
   "execution_count": 26,
   "metadata": {},
   "outputs": [
    {
     "data": {
      "text/plain": [
       "[\u001b[95m\u001b[1mname:    \u001b[94m\u001b[1mQ0\u001b[0m\n",
       " \u001b[95m\u001b[1mclass:   \u001b[94m\u001b[1mTransmonPocket6       \u001b[0m\n",
       " \u001b[95m\u001b[1moptions: \u001b[0m\n",
       "   'pos_x'             : '-300um',                     \n",
       "   'pos_y'             : '-500um',                     \n",
       "   'orientation'       : '0.0',                        \n",
       "   'chip'              : 'Q_chip',                     \n",
       "   'layer'             : '1',                          \n",
       "   \u001b[1m'connection_pads'   \u001b[0m: {\n",
       "                         },\n",
       "   'pad_gap'           : '30um',                       \n",
       "   'inductor_width'    : '20um',                       \n",
       "   'pad_width'         : '455um',                      \n",
       "   'pad_height'        : '90um',                       \n",
       "   'pocket_width'      : '650um',                      \n",
       "   'pocket_height'     : '650um',                      \n",
       "   'hfss_wire_bonds'   : False,                        \n",
       "   'q3d_wire_bonds'    : False,                        \n",
       "   'hfss_inductance'   : '10nH',                       \n",
       "   'hfss_capacitance'  : 0,                            \n",
       "   'hfss_resistance'   : 0,                            \n",
       "   'hfss_mesh_kw_jj'   : 7e-06,                        \n",
       "   'q3d_inductance'    : '10nH',                       \n",
       "   'q3d_capacitance'   : 0,                            \n",
       "   'q3d_resistance'    : 0,                            \n",
       "   'q3d_mesh_kw_jj'    : 7e-06,                        \n",
       "   'gds_cell_name'     : 'my_other_junction',          \n",
       " \u001b[95m\u001b[1mmodule:  \u001b[94m\u001b[1mqiskit_metal.qlibrary.qubits.transmon_pocket_6\u001b[0m\n",
       " \u001b[95m\u001b[1mid:      \u001b[94m\u001b[1m7\u001b[0m]"
      ]
     },
     "execution_count": 26,
     "metadata": {},
     "output_type": "execute_result"
    }
   ],
   "source": [
    "q0"
   ]
  },
  {
   "cell_type": "code",
   "execution_count": 48,
   "metadata": {},
   "outputs": [],
   "source": [
    "\n",
    "cp0 = dict(down = dict(loc_W=1, loc_H=-1, pad_width='120um'))\n",
    "q0=[TransmonPocket6(design, 'Q0', options=dict(pos_x='-300um',\n",
    "                                            pos_y='-500um',\n",
    "                                            chip='Q_chip',\n",
    "                                            pad_width='400um',\n",
    "                                            pad_height='70um',\n",
    "                                            pad_gap='70um'))]\n",
    "                                            \n",
    "qubits=q0\n",
    "q0x=float(qubits[0].options.pos_x.strip('um'))\n",
    "q0y=float(qubits[0].options.pos_y.strip('um'))\n",
    "\n",
    "\n",
    "c0 = StraightUpCoupler(design, \"c0\", options=dict(pos_x=f\"{q0x-150}um\",\n",
    "                                              pos_y=f\"{q0y+65}um\",\n",
    "                                              pad_width=\"110um\",\n",
    "                                              pad_height=\"65um\",\n",
    "                                              cpw_stub_height=\"200um\",\n",
    "                                              chip=\"C_chip\"))\n",
    "design.rebuild()\n",
    "gui.rebuild()\n",
    "gui.autoscale()"
   ]
  },
  {
   "cell_type": "code",
   "execution_count": 5,
   "metadata": {},
   "outputs": [],
   "source": [
    "lpL=LaunchpadWirebondCoupled(design, 'lpL',\n",
    "                                         options = dict(chip=\"C_chip\",\n",
    "                                         pos_x = '-700um',\n",
    "                                         pos_y = '800um',\n",
    "                                         lead_length = '30um'))\n",
    "lpR=LaunchpadWirebondCoupled(design, 'lpR',\n",
    "                                         options = dict(chip=\"C_chip\",\n",
    "                                         pos_x = '700um',\n",
    "                                         pos_y = '800um',\n",
    "                                         orientation='180',\n",
    "                                         lead_length = '30um'))                                        "
   ]
  },
  {
   "cell_type": "code",
   "execution_count": 8,
   "metadata": {},
   "outputs": [],
   "source": [
    "stg=ShortToGround(design, 'stg', options=Dict(chip=\"C_chip\",\n",
    "                                                pos_x='0.65mm',\n",
    "                                                pos_y='-0.2mm',\n",
    "                                                orientation='270'))"
   ]
  },
  {
   "cell_type": "code",
   "execution_count": 9,
   "metadata": {},
   "outputs": [],
   "source": [
    "fl0=RouteStraight(design, 'fl0',options=Dict(chip=\"C_chip\", pin_inputs=Dict(start_pin=Dict(\n",
    "                                                            component='lpL',\n",
    "                                                            pin='tie'),\n",
    "                                                            end_pin=Dict(\n",
    "                                                            component='lpR',\n",
    "                                                            pin='tie'))))\n"
   ]
  },
  {
   "cell_type": "markdown",
   "metadata": {},
   "source": [
    "# Readout resonator"
   ]
  },
  {
   "cell_type": "code",
   "execution_count": 10,
   "metadata": {},
   "outputs": [],
   "source": [
    "from collections import OrderedDict\n",
    "jogs=OrderedDict()\n",
    "def connect(component_name: str, component1: str, pin1: str, component2: str, pin2: str,\n",
    "            length: str, start_jogged_extension: OrderedDict, end_jogged_extension: OrderedDict,\n",
    "            spacing: str, asymmetry='0 um',  start_straight='0 um', end_straight='0 um', flip=False):\n",
    "    \"\"\"Connect two pins with a CPW.\"\"\"\n",
    "    myoptions = Dict(\n",
    "        chip=\"C_chip\",\n",
    "        pin_inputs=Dict(\n",
    "            start_pin=Dict(\n",
    "                component=component1,\n",
    "                pin=pin1),\n",
    "            end_pin=Dict(\n",
    "                component=component2,\n",
    "                pin=pin2)),\n",
    "        lead=Dict(\n",
    "            start_straight=start_straight,\n",
    "            end_straight=end_straight,\n",
    "            start_jogged_extension=start_jogged_extension,\n",
    "            end_jogged_extension=end_jogged_extension),\n",
    "        total_length=length,\n",
    "        fillet = '99.9um',\n",
    "        meander=dict(asymmetry=asymmetry,\n",
    "                     spacing=spacing))\n",
    "    myoptions.meander.lead_direction_inverted = 'true' if flip else 'false'\n",
    "    return RouteMeander(design, component_name, myoptions)"
   ]
  },
  {
   "cell_type": "markdown",
   "metadata": {},
   "source": [
    "# Resonator length\n",
    "4.32mm"
   ]
  },
  {
   "cell_type": "code",
   "execution_count": 11,
   "metadata": {},
   "outputs": [],
   "source": [
    "from qiskit_metal.analyses.em.cpw_calculations import guided_wavelength\n",
    "\n",
    "def find_resonator_length(frequency, line_width, line_gap, N): \n",
    "    [lambdaG, etfSqrt, q] = guided_wavelength(frequency*10**9, line_width*10**-6,\n",
    "                                              line_gap*10**-6, 750*10**-6, 200*10**-9)\n",
    "    return str(lambdaG/N*10**3)+\" mm\""
   ]
  },
  {
   "cell_type": "code",
   "execution_count": 12,
   "metadata": {},
   "outputs": [
    {
     "name": "stdout",
     "output_type": "stream",
     "text": [
      "[4.307562247348839]\n"
     ]
    }
   ],
   "source": [
    "resonator_length_4=[]\n",
    "a=find_resonator_length(7.5,10,6,4)\n",
    "a=a.strip('mm')\n",
    "a=float(a)-0.25 +0.5 # subtract coupler length, for +0.5Ghz\n",
    "resonator_length_4.append(a)\n",
    "print(resonator_length_4)\n"
   ]
  },
  {
   "cell_type": "code",
   "execution_count": 24,
   "metadata": {},
   "outputs": [],
   "source": [
    "jogs1=OrderedDict()\n",
    "jogs1[0]=['R','300um']\n",
    "jogs1[1]=['R', '300um']\n",
    "jogs1[2]=['L','800um']\n",
    "jogs1[3]=['R','200um']\n",
    "jogs1[4]=['R','800um']\n",
    "jogs1[5]=['L','200um']\n",
    "jogs1[6]=['L','800um']\n"
   ]
  },
  {
   "cell_type": "code",
   "execution_count": 55,
   "metadata": {},
   "outputs": [],
   "source": [
    "rr0=connect('rr0', 'c0', 'in','stg', 'short',\n",
    "            resonator_length_4[0],jogs1,jogs, \n",
    "            '100um','0um', '986um', '100um')\n",
    "            "
   ]
  },
  {
   "cell_type": "markdown",
   "metadata": {},
   "source": [
    "# EPR Analysis"
   ]
  },
  {
   "cell_type": "code",
   "execution_count": 56,
   "metadata": {},
   "outputs": [],
   "source": [
    "from qiskit_metal.analyses.quantization import EPRanalysis\n",
    "eig_rd = EPRanalysis(design, \"hfss\")\n",
    "hfss = eig_rd.sim.renderer"
   ]
  },
  {
   "cell_type": "code",
   "execution_count": 57,
   "metadata": {},
   "outputs": [
    {
     "name": "stderr",
     "output_type": "stream",
     "text": [
      "INFO 03:33PM [connect_project]: Connecting to Ansys Desktop API...\n",
      "INFO 03:33PM [load_ansys_project]: \tOpened Ansys App\n",
      "INFO 03:33PM [load_ansys_project]: \tOpened Ansys Desktop v2018.0.0\n",
      "INFO 03:33PM [load_ansys_project]: \tOpened Ansys Project\n",
      "\tFolder:    C:/Users/kimje/Documents/Ansoft/\n",
      "\tProject:   KPS\n",
      "INFO 03:33PM [connect_design]: \tOpened active design\n",
      "\tDesign:    bump [Solution type: Eigenmode]\n",
      "INFO 03:33PM [get_setup]: \tOpened setup `Setup`  (<class 'pyEPR.ansys.HfssEMSetup'>)\n",
      "INFO 03:33PM [connect]: \tConnected to project \"KPS\" and design \"bump\" 😀 \n",
      "\n"
     ]
    },
    {
     "data": {
      "text/plain": [
       "True"
      ]
     },
     "execution_count": 57,
     "metadata": {},
     "output_type": "execute_result"
    }
   ],
   "source": [
    "hfss.start()"
   ]
  },
  {
   "cell_type": "code",
   "execution_count": 58,
   "metadata": {},
   "outputs": [
    {
     "name": "stderr",
     "output_type": "stream",
     "text": [
      "03:33PM 57s WARNING [activate_ansys_design]: The design_name=flip7um_V2 was not in active project.  Designs in active project are: \n",
      "['Planar', 'Design_q3d', 'flip7um_PlanarDesign', 'bump'].  A new design will be added to the project.  \n",
      "INFO 03:33PM [connect_design]: \tOpened active design\n",
      "\tDesign:    flip7um_V2 [Solution type: Eigenmode]\n",
      "WARNING 03:33PM [connect_setup]: \tNo design setup detected.\n",
      "WARNING 03:33PM [connect_setup]: \tCreating eigenmode default setup.\n",
      "INFO 03:33PM [get_setup]: \tOpened setup `Setup`  (<class 'pyEPR.ansys.HfssEMSetup'>)\n"
     ]
    }
   ],
   "source": [
    "hfss.activate_ansys_design(\"flip7um_V2\", 'eigenmode')\n",
    "hfss.render_design(['Q0','c0','lpL','lpR','stg','rr0','fl0'],[],\n",
    "                    box_plus_buffer=False)"
   ]
  },
  {
   "cell_type": "code",
   "execution_count": 59,
   "metadata": {},
   "outputs": [
    {
     "data": {
      "text/plain": [
       "True"
      ]
     },
     "execution_count": 59,
     "metadata": {},
     "output_type": "execute_result"
    }
   ],
   "source": [
    "hfss.close()\n"
   ]
  },
  {
   "cell_type": "markdown",
   "metadata": {},
   "source": [
    "# LOM Analysis"
   ]
  },
  {
   "cell_type": "code",
   "execution_count": 60,
   "metadata": {},
   "outputs": [],
   "source": [
    "from qiskit_metal.analyses.quantization import LOManalysis\n",
    "c1 = LOManalysis(design, \"q3d\")"
   ]
  },
  {
   "cell_type": "code",
   "execution_count": 61,
   "metadata": {},
   "outputs": [
    {
     "data": {
      "text/plain": [
       "{'name': 'Setup',\n",
       " 'reuse_selected_design': True,\n",
       " 'reuse_setup': True,\n",
       " 'freq_ghz': '5.47',\n",
       " 'save_fields': False,\n",
       " 'enabled': True,\n",
       " 'max_passes': 10,\n",
       " 'min_passes': 2,\n",
       " 'min_converged_passes': 2,\n",
       " 'percent_error': 0.5,\n",
       " 'percent_refinement': 30,\n",
       " 'auto_increase_solution_order': 'False',\n",
       " 'solution_order': 'Medium',\n",
       " 'solver_type': 'Iterative'}"
      ]
     },
     "execution_count": 61,
     "metadata": {},
     "output_type": "execute_result"
    }
   ],
   "source": [
    "c1.sim.setup.max_passes = 10\n",
    "c1.sim.setup_update(freq_ghz='5.47',solution_order = 'Medium', auto_increase_solution_order = 'False')\n",
    "c1.sim.setup"
   ]
  },
  {
   "cell_type": "code",
   "execution_count": 63,
   "metadata": {},
   "outputs": [
    {
     "name": "stderr",
     "output_type": "stream",
     "text": [
      "INFO 03:59PM [get_matrix]: Exporting matrix data to (C:\\Users\\kimje\\AppData\\Local\\Temp\\tmpqak62hm_.txt, C, , Setup:LastAdaptive, \"Original\", \"ohm\", \"nH\", \"fF\", \"mSie\", 5470000000, Maxwell, 1, False\n",
      "INFO 03:59PM [get_matrix]: Exporting matrix data to (C:\\Users\\kimje\\AppData\\Local\\Temp\\tmplg6errfb.txt, C, , Setup:AdaptivePass, \"Original\", \"ohm\", \"nH\", \"fF\", \"mSie\", 5470000000, Maxwell, 1, False\n",
      "INFO 03:59PM [get_matrix]: Exporting matrix data to (C:\\Users\\kimje\\AppData\\Local\\Temp\\tmpdyiw6ar5.txt, C, , Setup:AdaptivePass, \"Original\", \"ohm\", \"nH\", \"fF\", \"mSie\", 5470000000, Maxwell, 2, False\n",
      "INFO 03:59PM [get_matrix]: Exporting matrix data to (C:\\Users\\kimje\\AppData\\Local\\Temp\\tmp3k9qcm7d.txt, C, , Setup:AdaptivePass, \"Original\", \"ohm\", \"nH\", \"fF\", \"mSie\", 5470000000, Maxwell, 3, False\n",
      "INFO 03:59PM [get_matrix]: Exporting matrix data to (C:\\Users\\kimje\\AppData\\Local\\Temp\\tmpi8ek3jio.txt, C, , Setup:AdaptivePass, \"Original\", \"ohm\", \"nH\", \"fF\", \"mSie\", 5470000000, Maxwell, 4, False\n",
      "INFO 03:59PM [get_matrix]: Exporting matrix data to (C:\\Users\\kimje\\AppData\\Local\\Temp\\tmp__g4uf0d.txt, C, , Setup:AdaptivePass, \"Original\", \"ohm\", \"nH\", \"fF\", \"mSie\", 5470000000, Maxwell, 5, False\n",
      "INFO 03:59PM [get_matrix]: Exporting matrix data to (C:\\Users\\kimje\\AppData\\Local\\Temp\\tmpnbk39ivc.txt, C, , Setup:AdaptivePass, \"Original\", \"ohm\", \"nH\", \"fF\", \"mSie\", 5470000000, Maxwell, 6, False\n",
      "INFO 03:59PM [get_matrix]: Exporting matrix data to (C:\\Users\\kimje\\AppData\\Local\\Temp\\tmpr9vvineg.txt, C, , Setup:AdaptivePass, \"Original\", \"ohm\", \"nH\", \"fF\", \"mSie\", 5470000000, Maxwell, 7, False\n",
      "INFO 03:59PM [get_matrix]: Exporting matrix data to (C:\\Users\\kimje\\AppData\\Local\\Temp\\tmpr1m3gmgf.txt, C, , Setup:AdaptivePass, \"Original\", \"ohm\", \"nH\", \"fF\", \"mSie\", 5470000000, Maxwell, 8, False\n"
     ]
    },
    {
     "data": {
      "text/html": [
       "<div>\n",
       "<style scoped>\n",
       "    .dataframe tbody tr th:only-of-type {\n",
       "        vertical-align: middle;\n",
       "    }\n",
       "\n",
       "    .dataframe tbody tr th {\n",
       "        vertical-align: top;\n",
       "    }\n",
       "\n",
       "    .dataframe thead th {\n",
       "        text-align: right;\n",
       "    }\n",
       "</style>\n",
       "<table border=\"1\" class=\"dataframe\">\n",
       "  <thead>\n",
       "    <tr style=\"text-align: right;\">\n",
       "      <th></th>\n",
       "      <th>ground</th>\n",
       "      <th>pad_bot_Q0</th>\n",
       "      <th>pad_top_Q0</th>\n",
       "      <th>quad_coupler_c0</th>\n",
       "    </tr>\n",
       "  </thead>\n",
       "  <tbody>\n",
       "    <tr>\n",
       "      <th>ground</th>\n",
       "      <td>316.800</td>\n",
       "      <td>-99.339000</td>\n",
       "      <td>-88.533</td>\n",
       "      <td>-65.613000</td>\n",
       "    </tr>\n",
       "    <tr>\n",
       "      <th>pad_bot_Q0</th>\n",
       "      <td>-99.339</td>\n",
       "      <td>112.520000</td>\n",
       "      <td>-12.136</td>\n",
       "      <td>-0.090447</td>\n",
       "    </tr>\n",
       "    <tr>\n",
       "      <th>pad_top_Q0</th>\n",
       "      <td>-88.533</td>\n",
       "      <td>-12.136000</td>\n",
       "      <td>112.840</td>\n",
       "      <td>-11.184000</td>\n",
       "    </tr>\n",
       "    <tr>\n",
       "      <th>quad_coupler_c0</th>\n",
       "      <td>-65.613</td>\n",
       "      <td>-0.090447</td>\n",
       "      <td>-11.184</td>\n",
       "      <td>77.019000</td>\n",
       "    </tr>\n",
       "  </tbody>\n",
       "</table>\n",
       "</div>"
      ],
      "text/plain": [
       "                  ground  pad_bot_Q0  pad_top_Q0  quad_coupler_c0\n",
       "ground           316.800  -99.339000     -88.533       -65.613000\n",
       "pad_bot_Q0       -99.339  112.520000     -12.136        -0.090447\n",
       "pad_top_Q0       -88.533  -12.136000     112.840       -11.184000\n",
       "quad_coupler_c0  -65.613   -0.090447     -11.184        77.019000"
      ]
     },
     "execution_count": 63,
     "metadata": {},
     "output_type": "execute_result"
    }
   ],
   "source": [
    "#c1.sim.run(components=['Q0','c0'], open_terminations=[('c0', 'in')])\n",
    "c1.sim._get_results_from_renderer()\n",
    "c1.sim.capacitance_matrix"
   ]
  },
  {
   "cell_type": "code",
   "execution_count": 64,
   "metadata": {},
   "outputs": [
    {
     "name": "stdout",
     "output_type": "stream",
     "text": [
      "[1, 2] [3]\n",
      "Predicted Values\n",
      "\n",
      "Transmon Properties\n",
      "f_Q 5.681178 [GHz]\n",
      "EC 303.026723 [MHz]\n",
      "EJ 14.854145 [GHz]\n",
      "alpha -348.649858 [MHz]\n",
      "dispersion 14.135816 [KHz]\n",
      "Lq 10.995564 [nH]\n",
      "Cq 63.922508 [fF]\n",
      "T1 61.094014 [us]\n",
      "\n",
      "**Coupling Properties**\n",
      "\n",
      "tCqbus1 -5.538637 [fF]\n",
      "gbus1_in_MHz -85.669612 [MHz]\n",
      "χ_bus1 -2.562137 [MHz]\n",
      "1/T1bus1 2605.082427 [Hz]\n",
      "T1bus1 61.094014 [us]\n",
      "Bus-Bus Couplings\n"
     ]
    },
    {
     "data": {
      "text/html": [
       "<div>\n",
       "<style scoped>\n",
       "    .dataframe tbody tr th:only-of-type {\n",
       "        vertical-align: middle;\n",
       "    }\n",
       "\n",
       "    .dataframe tbody tr th {\n",
       "        vertical-align: top;\n",
       "    }\n",
       "\n",
       "    .dataframe thead th {\n",
       "        text-align: right;\n",
       "    }\n",
       "</style>\n",
       "<table border=\"1\" class=\"dataframe\">\n",
       "  <thead>\n",
       "    <tr style=\"text-align: right;\">\n",
       "      <th></th>\n",
       "      <th>fQ</th>\n",
       "      <th>EC</th>\n",
       "      <th>EJ</th>\n",
       "      <th>alpha</th>\n",
       "      <th>dispersion</th>\n",
       "      <th>gbus</th>\n",
       "      <th>chi_in_MHz</th>\n",
       "      <th>χr MHz</th>\n",
       "      <th>gr MHz</th>\n",
       "    </tr>\n",
       "  </thead>\n",
       "  <tbody>\n",
       "    <tr>\n",
       "      <th>1</th>\n",
       "      <td>6.144205</td>\n",
       "      <td>358.208829</td>\n",
       "      <td>14.854145</td>\n",
       "      <td>-418.794551</td>\n",
       "      <td>65.315399</td>\n",
       "      <td>[-143.89503260943877]</td>\n",
       "      <td>[-18.04753888434686]</td>\n",
       "      <td>18.047539</td>\n",
       "      <td>143.895033</td>\n",
       "    </tr>\n",
       "    <tr>\n",
       "      <th>2</th>\n",
       "      <td>5.833276</td>\n",
       "      <td>320.571594</td>\n",
       "      <td>14.854145</td>\n",
       "      <td>-370.735691</td>\n",
       "      <td>24.016541</td>\n",
       "      <td>[-93.01121773532144]</td>\n",
       "      <td>[-3.9634156139397456]</td>\n",
       "      <td>3.963416</td>\n",
       "      <td>93.011218</td>\n",
       "    </tr>\n",
       "    <tr>\n",
       "      <th>3</th>\n",
       "      <td>5.635121</td>\n",
       "      <td>297.824559</td>\n",
       "      <td>14.854145</td>\n",
       "      <td>-342.139601</td>\n",
       "      <td>11.97079</td>\n",
       "      <td>[-87.84337812056368]</td>\n",
       "      <td>[-2.4911967244340767]</td>\n",
       "      <td>2.491197</td>\n",
       "      <td>87.843378</td>\n",
       "    </tr>\n",
       "    <tr>\n",
       "      <th>4</th>\n",
       "      <td>5.634461</td>\n",
       "      <td>297.750402</td>\n",
       "      <td>14.854145</td>\n",
       "      <td>-342.046924</td>\n",
       "      <td>11.942074</td>\n",
       "      <td>[-88.60894799666488]</td>\n",
       "      <td>[-2.5320021654722633]</td>\n",
       "      <td>2.532002</td>\n",
       "      <td>88.608948</td>\n",
       "    </tr>\n",
       "    <tr>\n",
       "      <th>5</th>\n",
       "      <td>5.683596</td>\n",
       "      <td>303.301214</td>\n",
       "      <td>14.854145</td>\n",
       "      <td>-348.993856</td>\n",
       "      <td>14.258633</td>\n",
       "      <td>[-86.43000735566619]</td>\n",
       "      <td>[-2.6186749439593595]</td>\n",
       "      <td>2.618675</td>\n",
       "      <td>86.430007</td>\n",
       "    </tr>\n",
       "    <tr>\n",
       "      <th>6</th>\n",
       "      <td>5.688004</td>\n",
       "      <td>303.802058</td>\n",
       "      <td>14.854145</td>\n",
       "      <td>-349.62165</td>\n",
       "      <td>14.485039</td>\n",
       "      <td>[-85.90698974567495]</td>\n",
       "      <td>[-2.606777752110759]</td>\n",
       "      <td>2.606778</td>\n",
       "      <td>85.906990</td>\n",
       "    </tr>\n",
       "    <tr>\n",
       "      <th>7</th>\n",
       "      <td>5.681178</td>\n",
       "      <td>303.026723</td>\n",
       "      <td>14.854145</td>\n",
       "      <td>-348.649858</td>\n",
       "      <td>14.135816</td>\n",
       "      <td>[-85.66961223015257]</td>\n",
       "      <td>[-2.562136560834531]</td>\n",
       "      <td>2.562137</td>\n",
       "      <td>85.669612</td>\n",
       "    </tr>\n",
       "  </tbody>\n",
       "</table>\n",
       "</div>"
      ],
      "text/plain": [
       "         fQ          EC         EJ       alpha dispersion  \\\n",
       "1  6.144205  358.208829  14.854145 -418.794551  65.315399   \n",
       "2  5.833276  320.571594  14.854145 -370.735691  24.016541   \n",
       "3  5.635121  297.824559  14.854145 -342.139601   11.97079   \n",
       "4  5.634461  297.750402  14.854145 -342.046924  11.942074   \n",
       "5  5.683596  303.301214  14.854145 -348.993856  14.258633   \n",
       "6  5.688004  303.802058  14.854145  -349.62165  14.485039   \n",
       "7  5.681178  303.026723  14.854145 -348.649858  14.135816   \n",
       "\n",
       "                    gbus             chi_in_MHz     χr MHz      gr MHz  \n",
       "1  [-143.89503260943877]   [-18.04753888434686]  18.047539  143.895033  \n",
       "2   [-93.01121773532144]  [-3.9634156139397456]   3.963416   93.011218  \n",
       "3   [-87.84337812056368]  [-2.4911967244340767]   2.491197   87.843378  \n",
       "4   [-88.60894799666488]  [-2.5320021654722633]   2.532002   88.608948  \n",
       "5   [-86.43000735566619]  [-2.6186749439593595]   2.618675   86.430007  \n",
       "6   [-85.90698974567495]   [-2.606777752110759]   2.606778   85.906990  \n",
       "7   [-85.66961223015257]   [-2.562136560834531]   2.562137   85.669612  "
      ]
     },
     "execution_count": 64,
     "metadata": {},
     "output_type": "execute_result"
    }
   ],
   "source": [
    "c1.setup.junctions = Dict({'Lj': 11, 'Cj': 2})\n",
    "c1.setup.freq_readout = 6.94\n",
    "c1.setup.freq_bus = []\n",
    "c1.run_lom()\n",
    "c1.lumped_oscillator_all"
   ]
  },
  {
   "cell_type": "code",
   "execution_count": 66,
   "metadata": {},
   "outputs": [
    {
     "name": "stdout",
     "output_type": "stream",
     "text": [
      "Warning! 3 COM references still alive\n",
      "Ansys will likely refuse to shut down\n"
     ]
    }
   ],
   "source": [
    "c1.sim.close()"
   ]
  }
 ],
 "metadata": {
  "kernelspec": {
   "display_name": "Python 3.9.10 ('metal')",
   "language": "python",
   "name": "python3"
  },
  "language_info": {
   "codemirror_mode": {
    "name": "ipython",
    "version": 3
   },
   "file_extension": ".py",
   "mimetype": "text/x-python",
   "name": "python",
   "nbconvert_exporter": "python",
   "pygments_lexer": "ipython3",
   "version": "3.9.10"
  },
  "orig_nbformat": 4,
  "vscode": {
   "interpreter": {
    "hash": "ac951534856e2c23f9f162419ca8ae29ffbc7967cf243c458d1cebaa12df0b5c"
   }
  }
 },
 "nbformat": 4,
 "nbformat_minor": 2
}
